{
 "cells": [
  {
   "cell_type": "markdown",
   "metadata": {},
   "source": [
    " <div style=\"border-radius: 15px; box-shadow: 2px 2px 4px; border: 1px solid; background:#bdc3c7; position: relative; padding: 15px; padding-left: 80px;\">\n",
    "<img src=\"https://lh3.googleusercontent.com/a/AAcHTtc31jlywy-FMYxLAouSSqNAmm5NsrBvivwRIASNt7wihI2ClYdpAbzWNqcigfcR04LfvopHwsJrJpnVr4UXDkCHtWk=s432-c-no\" width=\"45\" height=\"45\" style=\"position: absolute; top: 15px; left: 15px; border-radius: 50%;\">\n",
    "<h7 style=\"color:black; margin-bottom:20px\"> Людмила, привет!\n",
    "\n",
    "Мои комментарии и замечания далее по тексту помечены различными цветами:\n",
    "\n",
    "---\n",
    "<div class=\"alert alert-block alert-danger\">\n",
    "⁉️ : Критическое замечание, которые следует исправить.\n",
    "</div>\n",
    "\n",
    "<div class=\"alert alert-block alert-warning\">\n",
    "✏️ : Рекомендация\\совет на будущее.\n",
    "</div>\n",
    "\n",
    "<div class=\"alert alert-block alert-success\">\n",
    "✔️ : Когда всё сделано правильно.\n",
    "</div>\n",
    "\n",
    "---\n",
    "\n",
    "Хорошей практикой является оставлять свои комментарии после исправлений замечаний или для вопросов, разъяснений. Для того чтобы мне было легче их найти, то выделяй, пожалуйста, с помощью цвета, например вот так:\n",
    "\n",
    "<div class=\"alert alert-info\" style=\"border-radius: 15px; box-shadow: 4px 4px 4px; border: 1px solid \" ><b> Комментарий студента : </b>\n",
    "\n",
    "Вопрос, который не останется незамеченным\n",
    "\n",
    "</div>\n",
    "\n",
    "---\n",
    "\n",
    "**В рамках финального спринта у вас есть лимит на количество итераций проверок. Я буду для информативности их отмечать в итоговом ревью:**\n",
    "\n",
    "<div class=\"alert alert-danger\" style=\"border-radius: 15px; box-shadow: 4px 4px 4px; border: 1px solid \">\n",
    "\n",
    "**`[1/6]`**\n",
    "\n",
    "Итог ревью - ...\n",
    "\n",
    "</div>\n",
    "\n",
    "p.s.: не удаляй мои замечания, если предстоит что-то доработать в проекте.</h7>"
   ]
  },
  {
   "cell_type": "markdown",
   "metadata": {},
   "source": [
    "---\n",
    "\n",
    "<div id=\"1\" class=\"alert alert-danger\" style=\"border-radius: 15px; box-shadow: 4px 4px 4px; border: 1px solid; position: relative; padding: 15px; padding-left: 80px;\">\n",
    "<img src=\"https://lh3.googleusercontent.com/a/AAcHTtc31jlywy-FMYxLAouSSqNAmm5NsrBvivwRIASNt7wihI2ClYdpAbzWNqcigfcR04LfvopHwsJrJpnVr4UXDkCHtWk=s432-c-no\" width=\"45\" height=\"45\" style=\"position: absolute; top: 15px; left: 15px; border-radius: 50%;\">\n",
    "<b> ⚠️ ИТОГИ РЕВЬЮ ⚠️ : </b>\n",
    "\n",
    "**`[1/6]`**\n",
    "\n",
    "<s>Большинство запросов выполнены корректно и возвращают правильные результаты. Однако есть одно задание, которое требует доработки:\n",
    "\n",
    " - [Ошибка №1](#div_id1)\n",
    "\n",
    "Пожалуйста, обрати внимание и внеси соответствующие изменения.\n",
    "\n",
    "</div>\n",
    "\n",
    "<div class=\"alert alert-success\" style=\"border-radius: 15px; box-shadow: 4px 4px 4px; border: 1px solid; position: relative; padding: 15px; padding-left: 80px;\">\n",
    "<img src=\"https://lh3.googleusercontent.com/a/AAcHTtc31jlywy-FMYxLAouSSqNAmm5NsrBvivwRIASNt7wihI2ClYdpAbzWNqcigfcR04LfvopHwsJrJpnVr4UXDkCHtWk=s432-c-no\" width=\"45\" height=\"45\" style=\"position: absolute; top: 15px; left: 15px; border-radius: 50%;\">\n",
    "<b> 🚀 ИТОГИ РЕВЬЮ 🚀 : </b>\n",
    "\n",
    "Все замечания учтены. Эта работа демонстрирует твоё умение формировать запросы SQL для решения подобных задач.\n",
    "\n",
    "Поздравляю с успешным завершением финального этапа. Особенно ценно, что все проекты выполнены в установленные сроки 👏\n",
    "\n",
    "---\n",
    "\n",
    "![](https://media.giphy.com/media/9hLq3XV0tykOINfyXc/giphy.gif)\n",
    "\n",
    "---\n",
    "\n",
    "После окончания дедлайнов представлю в канале Пачки дополнительные материалы для дальнейшего развития в этой области.\n",
    "\n",
    "Успехов тебе в дальнейших начинаниях!\n",
    "\n",
    "</div>\n",
    "\n",
    "---"
   ]
  },
  {
   "cell_type": "markdown",
   "metadata": {},
   "source": [
    "# Проект \"Анализ базы данных SQL\"\n",
    "\n",
    "**Описание проекта:**\n",
    "Коронавирус застал мир врасплох, изменив привычный порядок вещей. В свободное время жители городов больше не выходят на улицу, не посещают кафе и торговые центры. Зато стало больше времени для книг. Это заметили стартаперы — и бросились создавать приложения для тех, кто любит читать.\n",
    "\n",
    "Ваша компания решила быть на волне и купила крупный сервис для чтения книг по подписке. \n",
    "\n",
    "**Наша первая задача** — проанализировать базу данных. В ней — информация о книгах, издательствах, авторах, а также пользовательские обзоры книг. Эти данные помогут сформулировать ценностное предложение для нового продукта.\n",
    "\n",
    "**Цель исследования:** \n",
    "Проанализировать базу данных для разработки ценностного предложения для нового продукта\n",
    "\n",
    "**Описание даных:**\n",
    "\n",
    "Таблица **books** (содержит данные о книгах):\n",
    " - `book_id` — идентификатор книги;\n",
    " - `author_id` — идентификатор автора;\n",
    " - `title` — название книги;\n",
    " - `num_pages` — количество страниц;\n",
    " - `publication_date` — дата публикации книги;\n",
    " - `publisher_id` — идентификатор издателя.\n",
    "\n",
    "Таблица **authors** (содержит данные об авторах):\n",
    " - `author_id` — идентификатор автора;\n",
    " - `author` — имя автора.\n",
    "\n",
    "Таблица **publishers** (содержит данные об издательствах):\n",
    " - `publisher_id` — идентификатор издательства;\n",
    " - `publisher` — название издательства.\n",
    "\n",
    "Таблица **ratings** (содержит данные о пользовательских оценках книг):\n",
    " - `rating_id` — идентификатор оценки;\n",
    " - `book_id` — идентификатор книги;\n",
    "  - `username` — имя пользователя, оставившего оценку;\n",
    " - `rating` — оценка книги.\n",
    "\n",
    "Таблица **reviews** (содержит данные о пользовательских обзорах на книги):\n",
    " - `review_id` — идентификатор обзора;\n",
    " - `book_id` — идентификатор книги;\n",
    " - `username` — имя пользователя, написавшего обзор;\n",
    " - `text` — текст обзора.\n"
   ]
  },
  {
   "cell_type": "markdown",
   "metadata": {},
   "source": [
    "## Импорт библиотек. Установка параметров подключения. Функция запроса SQL"
   ]
  },
  {
   "cell_type": "code",
   "execution_count": 1,
   "metadata": {},
   "outputs": [],
   "source": [
    "# импортирт библиотек\n",
    "import pandas as pd\n",
    "import sqlalchemy as sa"
   ]
  },
  {
   "cell_type": "code",
   "execution_count": 2,
   "metadata": {},
   "outputs": [],
   "source": [
    "# устанавливаем параметры\n",
    "db_config = {\n",
    "'user': 'praktikum_student', # имя пользователя\n",
    "'pwd': 'Sdf4$2;d-d30pp', # пароль\n",
    "'host': 'rc1b-wcoijxj3yxfsf3fs.mdb.yandexcloud.net',\n",
    "'port': 6432, # порт подключения\n",
    "'db': 'data-analyst-final-project-db' # название базы данных\n",
    "}\n",
    "connection_string = 'postgresql://{user}:{pwd}@{host}:{port}/{db}'.format(**db_config)\n",
    "# сохраняем коннектор\n",
    "engine = sa.create_engine(connection_string, connect_args={'sslmode':'require'})"
   ]
  },
  {
   "cell_type": "code",
   "execution_count": 3,
   "metadata": {},
   "outputs": [],
   "source": [
    "# чтобы выполнить SQL-запрос, пишем функцию с использованием Pandas\n",
    "def get_sql_data(query:str, engine:sa.engine.base.Engine=engine) -> pd.DataFrame:\n",
    "    with engine.connect() as con:\n",
    "        return pd.read_sql(sql=sa.text(query), con = con)"
   ]
  },
  {
   "cell_type": "markdown",
   "metadata": {},
   "source": [
    "## Исследование таблиц базы данных"
   ]
  },
  {
   "cell_type": "markdown",
   "metadata": {},
   "source": [
    "### Таблица books (содержит данные о книгах)"
   ]
  },
  {
   "cell_type": "code",
   "execution_count": 4,
   "metadata": {},
   "outputs": [
    {
     "data": {
      "text/html": [
       "<div>\n",
       "<style scoped>\n",
       "    .dataframe tbody tr th:only-of-type {\n",
       "        vertical-align: middle;\n",
       "    }\n",
       "\n",
       "    .dataframe tbody tr th {\n",
       "        vertical-align: top;\n",
       "    }\n",
       "\n",
       "    .dataframe thead th {\n",
       "        text-align: right;\n",
       "    }\n",
       "</style>\n",
       "<table border=\"1\" class=\"dataframe\">\n",
       "  <thead>\n",
       "    <tr style=\"text-align: right;\">\n",
       "      <th></th>\n",
       "      <th>book_id</th>\n",
       "      <th>author_id</th>\n",
       "      <th>title</th>\n",
       "      <th>num_pages</th>\n",
       "      <th>publication_date</th>\n",
       "      <th>publisher_id</th>\n",
       "    </tr>\n",
       "  </thead>\n",
       "  <tbody>\n",
       "    <tr>\n",
       "      <th>0</th>\n",
       "      <td>1</td>\n",
       "      <td>546</td>\n",
       "      <td>'Salem's Lot</td>\n",
       "      <td>594</td>\n",
       "      <td>2005-11-01</td>\n",
       "      <td>93</td>\n",
       "    </tr>\n",
       "    <tr>\n",
       "      <th>1</th>\n",
       "      <td>2</td>\n",
       "      <td>465</td>\n",
       "      <td>1 000 Places to See Before You Die</td>\n",
       "      <td>992</td>\n",
       "      <td>2003-05-22</td>\n",
       "      <td>336</td>\n",
       "    </tr>\n",
       "    <tr>\n",
       "      <th>2</th>\n",
       "      <td>3</td>\n",
       "      <td>407</td>\n",
       "      <td>13 Little Blue Envelopes (Little Blue Envelope...</td>\n",
       "      <td>322</td>\n",
       "      <td>2010-12-21</td>\n",
       "      <td>135</td>\n",
       "    </tr>\n",
       "    <tr>\n",
       "      <th>3</th>\n",
       "      <td>4</td>\n",
       "      <td>82</td>\n",
       "      <td>1491: New Revelations of the Americas Before C...</td>\n",
       "      <td>541</td>\n",
       "      <td>2006-10-10</td>\n",
       "      <td>309</td>\n",
       "    </tr>\n",
       "    <tr>\n",
       "      <th>4</th>\n",
       "      <td>5</td>\n",
       "      <td>125</td>\n",
       "      <td>1776</td>\n",
       "      <td>386</td>\n",
       "      <td>2006-07-04</td>\n",
       "      <td>268</td>\n",
       "    </tr>\n",
       "  </tbody>\n",
       "</table>\n",
       "</div>"
      ],
      "text/plain": [
       "   book_id  author_id                                              title  \\\n",
       "0        1        546                                       'Salem's Lot   \n",
       "1        2        465                 1 000 Places to See Before You Die   \n",
       "2        3        407  13 Little Blue Envelopes (Little Blue Envelope...   \n",
       "3        4         82  1491: New Revelations of the Americas Before C...   \n",
       "4        5        125                                               1776   \n",
       "\n",
       "   num_pages publication_date  publisher_id  \n",
       "0        594       2005-11-01            93  \n",
       "1        992       2003-05-22           336  \n",
       "2        322       2010-12-21           135  \n",
       "3        541       2006-10-10           309  \n",
       "4        386       2006-07-04           268  "
      ]
     },
     "execution_count": 4,
     "metadata": {},
     "output_type": "execute_result"
    }
   ],
   "source": [
    "# Посмотрим на первые 5 строк таблицы\n",
    "query = '''\n",
    "SELECT *\n",
    "FROM books\n",
    "LIMIT 5\n",
    "'''\n",
    "get_sql_data(query)"
   ]
  },
  {
   "cell_type": "code",
   "execution_count": 5,
   "metadata": {},
   "outputs": [
    {
     "data": {
      "text/html": [
       "<div>\n",
       "<style scoped>\n",
       "    .dataframe tbody tr th:only-of-type {\n",
       "        vertical-align: middle;\n",
       "    }\n",
       "\n",
       "    .dataframe tbody tr th {\n",
       "        vertical-align: top;\n",
       "    }\n",
       "\n",
       "    .dataframe thead th {\n",
       "        text-align: right;\n",
       "    }\n",
       "</style>\n",
       "<table border=\"1\" class=\"dataframe\">\n",
       "  <thead>\n",
       "    <tr style=\"text-align: right;\">\n",
       "      <th></th>\n",
       "      <th>count</th>\n",
       "    </tr>\n",
       "  </thead>\n",
       "  <tbody>\n",
       "    <tr>\n",
       "      <th>0</th>\n",
       "      <td>1000</td>\n",
       "    </tr>\n",
       "  </tbody>\n",
       "</table>\n",
       "</div>"
      ],
      "text/plain": [
       "   count\n",
       "0   1000"
      ]
     },
     "execution_count": 5,
     "metadata": {},
     "output_type": "execute_result"
    }
   ],
   "source": [
    "# Подсчитаем общее количество книг\n",
    "query = 'SELECT COUNT(*) FROM books';\n",
    "get_sql_data(query)"
   ]
  },
  {
   "cell_type": "markdown",
   "metadata": {},
   "source": [
    "### Таблица authors (содержит данные о книгах)"
   ]
  },
  {
   "cell_type": "code",
   "execution_count": 6,
   "metadata": {},
   "outputs": [
    {
     "data": {
      "text/html": [
       "<div>\n",
       "<style scoped>\n",
       "    .dataframe tbody tr th:only-of-type {\n",
       "        vertical-align: middle;\n",
       "    }\n",
       "\n",
       "    .dataframe tbody tr th {\n",
       "        vertical-align: top;\n",
       "    }\n",
       "\n",
       "    .dataframe thead th {\n",
       "        text-align: right;\n",
       "    }\n",
       "</style>\n",
       "<table border=\"1\" class=\"dataframe\">\n",
       "  <thead>\n",
       "    <tr style=\"text-align: right;\">\n",
       "      <th></th>\n",
       "      <th>author_id</th>\n",
       "      <th>author</th>\n",
       "    </tr>\n",
       "  </thead>\n",
       "  <tbody>\n",
       "    <tr>\n",
       "      <th>0</th>\n",
       "      <td>1</td>\n",
       "      <td>A.S. Byatt</td>\n",
       "    </tr>\n",
       "    <tr>\n",
       "      <th>1</th>\n",
       "      <td>2</td>\n",
       "      <td>Aesop/Laura Harris/Laura Gibbs</td>\n",
       "    </tr>\n",
       "    <tr>\n",
       "      <th>2</th>\n",
       "      <td>3</td>\n",
       "      <td>Agatha Christie</td>\n",
       "    </tr>\n",
       "    <tr>\n",
       "      <th>3</th>\n",
       "      <td>4</td>\n",
       "      <td>Alan Brennert</td>\n",
       "    </tr>\n",
       "    <tr>\n",
       "      <th>4</th>\n",
       "      <td>5</td>\n",
       "      <td>Alan Moore/David   Lloyd</td>\n",
       "    </tr>\n",
       "  </tbody>\n",
       "</table>\n",
       "</div>"
      ],
      "text/plain": [
       "   author_id                          author\n",
       "0          1                      A.S. Byatt\n",
       "1          2  Aesop/Laura Harris/Laura Gibbs\n",
       "2          3                 Agatha Christie\n",
       "3          4                   Alan Brennert\n",
       "4          5        Alan Moore/David   Lloyd"
      ]
     },
     "execution_count": 6,
     "metadata": {},
     "output_type": "execute_result"
    }
   ],
   "source": [
    "# Посмотрим на первые 5 строк таблицы\n",
    "query = '''\n",
    "SELECT *\n",
    "FROM authors\n",
    "LIMIT 5\n",
    "'''\n",
    "get_sql_data(query)"
   ]
  },
  {
   "cell_type": "code",
   "execution_count": 7,
   "metadata": {},
   "outputs": [
    {
     "data": {
      "text/html": [
       "<div>\n",
       "<style scoped>\n",
       "    .dataframe tbody tr th:only-of-type {\n",
       "        vertical-align: middle;\n",
       "    }\n",
       "\n",
       "    .dataframe tbody tr th {\n",
       "        vertical-align: top;\n",
       "    }\n",
       "\n",
       "    .dataframe thead th {\n",
       "        text-align: right;\n",
       "    }\n",
       "</style>\n",
       "<table border=\"1\" class=\"dataframe\">\n",
       "  <thead>\n",
       "    <tr style=\"text-align: right;\">\n",
       "      <th></th>\n",
       "      <th>count</th>\n",
       "    </tr>\n",
       "  </thead>\n",
       "  <tbody>\n",
       "    <tr>\n",
       "      <th>0</th>\n",
       "      <td>636</td>\n",
       "    </tr>\n",
       "  </tbody>\n",
       "</table>\n",
       "</div>"
      ],
      "text/plain": [
       "   count\n",
       "0    636"
      ]
     },
     "execution_count": 7,
     "metadata": {},
     "output_type": "execute_result"
    }
   ],
   "source": [
    "# Подсчитаем общее количество строк\n",
    "query = 'SELECT COUNT(*) FROM authors';\n",
    "get_sql_data(query)"
   ]
  },
  {
   "cell_type": "markdown",
   "metadata": {},
   "source": [
    "### Таблица publishers (содержит данные об издательствах)"
   ]
  },
  {
   "cell_type": "code",
   "execution_count": 8,
   "metadata": {},
   "outputs": [
    {
     "data": {
      "text/html": [
       "<div>\n",
       "<style scoped>\n",
       "    .dataframe tbody tr th:only-of-type {\n",
       "        vertical-align: middle;\n",
       "    }\n",
       "\n",
       "    .dataframe tbody tr th {\n",
       "        vertical-align: top;\n",
       "    }\n",
       "\n",
       "    .dataframe thead th {\n",
       "        text-align: right;\n",
       "    }\n",
       "</style>\n",
       "<table border=\"1\" class=\"dataframe\">\n",
       "  <thead>\n",
       "    <tr style=\"text-align: right;\">\n",
       "      <th></th>\n",
       "      <th>publisher_id</th>\n",
       "      <th>publisher</th>\n",
       "    </tr>\n",
       "  </thead>\n",
       "  <tbody>\n",
       "    <tr>\n",
       "      <th>0</th>\n",
       "      <td>1</td>\n",
       "      <td>Ace</td>\n",
       "    </tr>\n",
       "    <tr>\n",
       "      <th>1</th>\n",
       "      <td>2</td>\n",
       "      <td>Ace Book</td>\n",
       "    </tr>\n",
       "    <tr>\n",
       "      <th>2</th>\n",
       "      <td>3</td>\n",
       "      <td>Ace Books</td>\n",
       "    </tr>\n",
       "    <tr>\n",
       "      <th>3</th>\n",
       "      <td>4</td>\n",
       "      <td>Ace Hardcover</td>\n",
       "    </tr>\n",
       "    <tr>\n",
       "      <th>4</th>\n",
       "      <td>5</td>\n",
       "      <td>Addison Wesley Publishing Company</td>\n",
       "    </tr>\n",
       "  </tbody>\n",
       "</table>\n",
       "</div>"
      ],
      "text/plain": [
       "   publisher_id                          publisher\n",
       "0             1                                Ace\n",
       "1             2                           Ace Book\n",
       "2             3                          Ace Books\n",
       "3             4                      Ace Hardcover\n",
       "4             5  Addison Wesley Publishing Company"
      ]
     },
     "execution_count": 8,
     "metadata": {},
     "output_type": "execute_result"
    }
   ],
   "source": [
    "# Посмотрим на первые 5 строк таблицы\n",
    "query = '''\n",
    "SELECT *\n",
    "FROM publishers\n",
    "LIMIT 5\n",
    "'''\n",
    "get_sql_data(query)"
   ]
  },
  {
   "cell_type": "code",
   "execution_count": 9,
   "metadata": {},
   "outputs": [
    {
     "data": {
      "text/html": [
       "<div>\n",
       "<style scoped>\n",
       "    .dataframe tbody tr th:only-of-type {\n",
       "        vertical-align: middle;\n",
       "    }\n",
       "\n",
       "    .dataframe tbody tr th {\n",
       "        vertical-align: top;\n",
       "    }\n",
       "\n",
       "    .dataframe thead th {\n",
       "        text-align: right;\n",
       "    }\n",
       "</style>\n",
       "<table border=\"1\" class=\"dataframe\">\n",
       "  <thead>\n",
       "    <tr style=\"text-align: right;\">\n",
       "      <th></th>\n",
       "      <th>count</th>\n",
       "    </tr>\n",
       "  </thead>\n",
       "  <tbody>\n",
       "    <tr>\n",
       "      <th>0</th>\n",
       "      <td>340</td>\n",
       "    </tr>\n",
       "  </tbody>\n",
       "</table>\n",
       "</div>"
      ],
      "text/plain": [
       "   count\n",
       "0    340"
      ]
     },
     "execution_count": 9,
     "metadata": {},
     "output_type": "execute_result"
    }
   ],
   "source": [
    "# Подсчитаем общее количество строк\n",
    "query = 'SELECT COUNT(*) FROM publishers';\n",
    "get_sql_data(query)"
   ]
  },
  {
   "cell_type": "markdown",
   "metadata": {},
   "source": [
    "### Таблица ratings (содержит данные о пользовательских оценках книг)"
   ]
  },
  {
   "cell_type": "code",
   "execution_count": 10,
   "metadata": {},
   "outputs": [
    {
     "data": {
      "text/html": [
       "<div>\n",
       "<style scoped>\n",
       "    .dataframe tbody tr th:only-of-type {\n",
       "        vertical-align: middle;\n",
       "    }\n",
       "\n",
       "    .dataframe tbody tr th {\n",
       "        vertical-align: top;\n",
       "    }\n",
       "\n",
       "    .dataframe thead th {\n",
       "        text-align: right;\n",
       "    }\n",
       "</style>\n",
       "<table border=\"1\" class=\"dataframe\">\n",
       "  <thead>\n",
       "    <tr style=\"text-align: right;\">\n",
       "      <th></th>\n",
       "      <th>rating_id</th>\n",
       "      <th>book_id</th>\n",
       "      <th>username</th>\n",
       "      <th>rating</th>\n",
       "    </tr>\n",
       "  </thead>\n",
       "  <tbody>\n",
       "    <tr>\n",
       "      <th>0</th>\n",
       "      <td>1</td>\n",
       "      <td>1</td>\n",
       "      <td>ryanfranco</td>\n",
       "      <td>4</td>\n",
       "    </tr>\n",
       "    <tr>\n",
       "      <th>1</th>\n",
       "      <td>2</td>\n",
       "      <td>1</td>\n",
       "      <td>grantpatricia</td>\n",
       "      <td>2</td>\n",
       "    </tr>\n",
       "    <tr>\n",
       "      <th>2</th>\n",
       "      <td>3</td>\n",
       "      <td>1</td>\n",
       "      <td>brandtandrea</td>\n",
       "      <td>5</td>\n",
       "    </tr>\n",
       "    <tr>\n",
       "      <th>3</th>\n",
       "      <td>4</td>\n",
       "      <td>2</td>\n",
       "      <td>lorichen</td>\n",
       "      <td>3</td>\n",
       "    </tr>\n",
       "    <tr>\n",
       "      <th>4</th>\n",
       "      <td>5</td>\n",
       "      <td>2</td>\n",
       "      <td>mariokeller</td>\n",
       "      <td>2</td>\n",
       "    </tr>\n",
       "  </tbody>\n",
       "</table>\n",
       "</div>"
      ],
      "text/plain": [
       "   rating_id  book_id       username  rating\n",
       "0          1        1     ryanfranco       4\n",
       "1          2        1  grantpatricia       2\n",
       "2          3        1   brandtandrea       5\n",
       "3          4        2       lorichen       3\n",
       "4          5        2    mariokeller       2"
      ]
     },
     "execution_count": 10,
     "metadata": {},
     "output_type": "execute_result"
    }
   ],
   "source": [
    "# Посмотрим на первые 5 строк таблицы\n",
    "query = '''\n",
    "SELECT *\n",
    "FROM ratings\n",
    "LIMIT 5\n",
    "'''\n",
    "get_sql_data(query)"
   ]
  },
  {
   "cell_type": "code",
   "execution_count": 11,
   "metadata": {},
   "outputs": [
    {
     "data": {
      "text/html": [
       "<div>\n",
       "<style scoped>\n",
       "    .dataframe tbody tr th:only-of-type {\n",
       "        vertical-align: middle;\n",
       "    }\n",
       "\n",
       "    .dataframe tbody tr th {\n",
       "        vertical-align: top;\n",
       "    }\n",
       "\n",
       "    .dataframe thead th {\n",
       "        text-align: right;\n",
       "    }\n",
       "</style>\n",
       "<table border=\"1\" class=\"dataframe\">\n",
       "  <thead>\n",
       "    <tr style=\"text-align: right;\">\n",
       "      <th></th>\n",
       "      <th>count</th>\n",
       "    </tr>\n",
       "  </thead>\n",
       "  <tbody>\n",
       "    <tr>\n",
       "      <th>0</th>\n",
       "      <td>6456</td>\n",
       "    </tr>\n",
       "  </tbody>\n",
       "</table>\n",
       "</div>"
      ],
      "text/plain": [
       "   count\n",
       "0   6456"
      ]
     },
     "execution_count": 11,
     "metadata": {},
     "output_type": "execute_result"
    }
   ],
   "source": [
    "# Подсчитаем общее количество строк\n",
    "query = 'SELECT COUNT(*) FROM ratings';\n",
    "get_sql_data(query)"
   ]
  },
  {
   "cell_type": "markdown",
   "metadata": {},
   "source": [
    "### Таблица reviews (содержит данные о пользовательских обзорах на книги)"
   ]
  },
  {
   "cell_type": "code",
   "execution_count": 12,
   "metadata": {},
   "outputs": [
    {
     "data": {
      "text/html": [
       "<div>\n",
       "<style scoped>\n",
       "    .dataframe tbody tr th:only-of-type {\n",
       "        vertical-align: middle;\n",
       "    }\n",
       "\n",
       "    .dataframe tbody tr th {\n",
       "        vertical-align: top;\n",
       "    }\n",
       "\n",
       "    .dataframe thead th {\n",
       "        text-align: right;\n",
       "    }\n",
       "</style>\n",
       "<table border=\"1\" class=\"dataframe\">\n",
       "  <thead>\n",
       "    <tr style=\"text-align: right;\">\n",
       "      <th></th>\n",
       "      <th>review_id</th>\n",
       "      <th>book_id</th>\n",
       "      <th>username</th>\n",
       "      <th>text</th>\n",
       "    </tr>\n",
       "  </thead>\n",
       "  <tbody>\n",
       "    <tr>\n",
       "      <th>0</th>\n",
       "      <td>1</td>\n",
       "      <td>1</td>\n",
       "      <td>brandtandrea</td>\n",
       "      <td>Mention society tell send professor analysis. ...</td>\n",
       "    </tr>\n",
       "    <tr>\n",
       "      <th>1</th>\n",
       "      <td>2</td>\n",
       "      <td>1</td>\n",
       "      <td>ryanfranco</td>\n",
       "      <td>Foot glass pretty audience hit themselves. Amo...</td>\n",
       "    </tr>\n",
       "    <tr>\n",
       "      <th>2</th>\n",
       "      <td>3</td>\n",
       "      <td>2</td>\n",
       "      <td>lorichen</td>\n",
       "      <td>Listen treat keep worry. Miss husband tax but ...</td>\n",
       "    </tr>\n",
       "    <tr>\n",
       "      <th>3</th>\n",
       "      <td>4</td>\n",
       "      <td>3</td>\n",
       "      <td>johnsonamanda</td>\n",
       "      <td>Finally month interesting blue could nature cu...</td>\n",
       "    </tr>\n",
       "    <tr>\n",
       "      <th>4</th>\n",
       "      <td>5</td>\n",
       "      <td>3</td>\n",
       "      <td>scotttamara</td>\n",
       "      <td>Nation purpose heavy give wait song will. List...</td>\n",
       "    </tr>\n",
       "  </tbody>\n",
       "</table>\n",
       "</div>"
      ],
      "text/plain": [
       "   review_id  book_id       username  \\\n",
       "0          1        1   brandtandrea   \n",
       "1          2        1     ryanfranco   \n",
       "2          3        2       lorichen   \n",
       "3          4        3  johnsonamanda   \n",
       "4          5        3    scotttamara   \n",
       "\n",
       "                                                text  \n",
       "0  Mention society tell send professor analysis. ...  \n",
       "1  Foot glass pretty audience hit themselves. Amo...  \n",
       "2  Listen treat keep worry. Miss husband tax but ...  \n",
       "3  Finally month interesting blue could nature cu...  \n",
       "4  Nation purpose heavy give wait song will. List...  "
      ]
     },
     "execution_count": 12,
     "metadata": {},
     "output_type": "execute_result"
    }
   ],
   "source": [
    "# Посмотрим на первые 5 строк таблицы\n",
    "query = '''\n",
    "SELECT *\n",
    "FROM reviews\n",
    "LIMIT 5\n",
    "'''\n",
    "get_sql_data(query)"
   ]
  },
  {
   "cell_type": "code",
   "execution_count": 13,
   "metadata": {},
   "outputs": [
    {
     "data": {
      "text/html": [
       "<div>\n",
       "<style scoped>\n",
       "    .dataframe tbody tr th:only-of-type {\n",
       "        vertical-align: middle;\n",
       "    }\n",
       "\n",
       "    .dataframe tbody tr th {\n",
       "        vertical-align: top;\n",
       "    }\n",
       "\n",
       "    .dataframe thead th {\n",
       "        text-align: right;\n",
       "    }\n",
       "</style>\n",
       "<table border=\"1\" class=\"dataframe\">\n",
       "  <thead>\n",
       "    <tr style=\"text-align: right;\">\n",
       "      <th></th>\n",
       "      <th>count</th>\n",
       "    </tr>\n",
       "  </thead>\n",
       "  <tbody>\n",
       "    <tr>\n",
       "      <th>0</th>\n",
       "      <td>2793</td>\n",
       "    </tr>\n",
       "  </tbody>\n",
       "</table>\n",
       "</div>"
      ],
      "text/plain": [
       "   count\n",
       "0   2793"
      ]
     },
     "execution_count": 13,
     "metadata": {},
     "output_type": "execute_result"
    }
   ],
   "source": [
    "# Подсчитаем общее количество строк\n",
    "query = 'SELECT COUNT(*) FROM reviews';\n",
    "get_sql_data(query)"
   ]
  },
  {
   "cell_type": "markdown",
   "metadata": {},
   "source": [
    "### Выводы\n",
    "\n",
    "В процессе знакомства с данными, мы выяснили, что в базе данных находятся сведения о 1000 книг. \n",
    "\n",
    "В базе данных представлено 636 авторов и 340 издательств.\n",
    "\n",
    "Кроме того, есть данные, по отзывам пользователей на книги. Всего мы располагаем 2793 отзывами.\n",
    "Кроме этого есть данные о 6456 пользовательских оценках."
   ]
  },
  {
   "cell_type": "markdown",
   "metadata": {},
   "source": [
    "<div class=\"alert alert-success\" style=\"border-radius: 15px; box-shadow: 4px 4px 4px; border: 1px solid; position: relative; padding: 15px; padding-left: 80px;\">\n",
    "<img src=\"https://lh3.googleusercontent.com/a/AAcHTtc31jlywy-FMYxLAouSSqNAmm5NsrBvivwRIASNt7wihI2ClYdpAbzWNqcigfcR04LfvopHwsJrJpnVr4UXDkCHtWk=s432-c-no\" width=\"45\" height=\"45\" style=\"position: absolute; top: 15px; left: 15px; border-radius: 50%;\">\n",
    "<b> ✔️ Комментарий тимлида : </b>\n",
    "\n",
    "Данные успешно загружены и проанализированы.\n",
    "\n",
    "Теперь всё готово для дальнейшего выполнения заданий.\n",
    "\n",
    "</div>"
   ]
  },
  {
   "cell_type": "markdown",
   "metadata": {},
   "source": [
    "## Задания проекта"
   ]
  },
  {
   "cell_type": "markdown",
   "metadata": {},
   "source": [
    "### Посчитайте, сколько книг вышло после 1 января 2000 года"
   ]
  },
  {
   "cell_type": "code",
   "execution_count": 14,
   "metadata": {},
   "outputs": [
    {
     "data": {
      "text/html": [
       "<div>\n",
       "<style scoped>\n",
       "    .dataframe tbody tr th:only-of-type {\n",
       "        vertical-align: middle;\n",
       "    }\n",
       "\n",
       "    .dataframe tbody tr th {\n",
       "        vertical-align: top;\n",
       "    }\n",
       "\n",
       "    .dataframe thead th {\n",
       "        text-align: right;\n",
       "    }\n",
       "</style>\n",
       "<table border=\"1\" class=\"dataframe\">\n",
       "  <thead>\n",
       "    <tr style=\"text-align: right;\">\n",
       "      <th></th>\n",
       "      <th>cnt</th>\n",
       "    </tr>\n",
       "  </thead>\n",
       "  <tbody>\n",
       "    <tr>\n",
       "      <th>0</th>\n",
       "      <td>819</td>\n",
       "    </tr>\n",
       "  </tbody>\n",
       "</table>\n",
       "</div>"
      ],
      "text/plain": [
       "   cnt\n",
       "0  819"
      ]
     },
     "execution_count": 14,
     "metadata": {},
     "output_type": "execute_result"
    }
   ],
   "source": [
    "query = '''\n",
    "SELECT \n",
    "    COUNT(*) AS cnt\n",
    "FROM \n",
    "    books\n",
    "WHERE\n",
    "    publication_date > '2000-01-01'\n",
    "'''\n",
    "get_sql_data(query)"
   ]
  },
  {
   "cell_type": "markdown",
   "metadata": {},
   "source": [
    "<div class=\"alert alert-success\" style=\"border-radius: 15px; box-shadow: 4px 4px 4px; border: 1px solid; position: relative; padding: 15px; padding-left: 80px;\">\n",
    "<img src=\"https://lh3.googleusercontent.com/a/AAcHTtc31jlywy-FMYxLAouSSqNAmm5NsrBvivwRIASNt7wihI2ClYdpAbzWNqcigfcR04LfvopHwsJrJpnVr4UXDkCHtWk=s432-c-no\" width=\"45\" height=\"45\" style=\"position: absolute; top: 15px; left: 15px; border-radius: 50%;\">\n",
    "<b> ✔️ Комментарий тимлида : </b>\n",
    "\n",
    "Подход корректный и ответ верный\n",
    "\n",
    "</div>"
   ]
  },
  {
   "cell_type": "markdown",
   "metadata": {},
   "source": [
    "**Вывод.**\n",
    "Всего, после 1 января 2000 года вышло 819 книг."
   ]
  },
  {
   "cell_type": "markdown",
   "metadata": {},
   "source": [
    "### Для каждой книги посчитайте количество обзоров и среднюю оценку"
   ]
  },
  {
   "cell_type": "code",
   "execution_count": 15,
   "metadata": {},
   "outputs": [
    {
     "data": {
      "text/html": [
       "<div>\n",
       "<style scoped>\n",
       "    .dataframe tbody tr th:only-of-type {\n",
       "        vertical-align: middle;\n",
       "    }\n",
       "\n",
       "    .dataframe tbody tr th {\n",
       "        vertical-align: top;\n",
       "    }\n",
       "\n",
       "    .dataframe thead th {\n",
       "        text-align: right;\n",
       "    }\n",
       "</style>\n",
       "<table border=\"1\" class=\"dataframe\">\n",
       "  <thead>\n",
       "    <tr style=\"text-align: right;\">\n",
       "      <th></th>\n",
       "      <th>book_name</th>\n",
       "      <th>reviews_qty</th>\n",
       "      <th>avg_rating</th>\n",
       "    </tr>\n",
       "  </thead>\n",
       "  <tbody>\n",
       "    <tr>\n",
       "      <th>0</th>\n",
       "      <td>Homage to Catalonia</td>\n",
       "      <td>2.0</td>\n",
       "      <td>5.00</td>\n",
       "    </tr>\n",
       "    <tr>\n",
       "      <th>1</th>\n",
       "      <td>March</td>\n",
       "      <td>2.0</td>\n",
       "      <td>5.00</td>\n",
       "    </tr>\n",
       "    <tr>\n",
       "      <th>2</th>\n",
       "      <td>In the Hand of the Goddess (Song of the Liones...</td>\n",
       "      <td>2.0</td>\n",
       "      <td>5.00</td>\n",
       "    </tr>\n",
       "    <tr>\n",
       "      <th>3</th>\n",
       "      <td>Welcome to Temptation (Dempseys  #1)</td>\n",
       "      <td>2.0</td>\n",
       "      <td>5.00</td>\n",
       "    </tr>\n",
       "    <tr>\n",
       "      <th>4</th>\n",
       "      <td>Stone of Farewell (Memory  Sorrow  and Thorn  #2)</td>\n",
       "      <td>1.0</td>\n",
       "      <td>5.00</td>\n",
       "    </tr>\n",
       "    <tr>\n",
       "      <th>...</th>\n",
       "      <td>...</td>\n",
       "      <td>...</td>\n",
       "      <td>...</td>\n",
       "    </tr>\n",
       "    <tr>\n",
       "      <th>995</th>\n",
       "      <td>The World Is Flat: A Brief History of the Twen...</td>\n",
       "      <td>3.0</td>\n",
       "      <td>2.25</td>\n",
       "    </tr>\n",
       "    <tr>\n",
       "      <th>996</th>\n",
       "      <td>Junky</td>\n",
       "      <td>2.0</td>\n",
       "      <td>2.00</td>\n",
       "    </tr>\n",
       "    <tr>\n",
       "      <th>997</th>\n",
       "      <td>His Excellency: George Washington</td>\n",
       "      <td>2.0</td>\n",
       "      <td>2.00</td>\n",
       "    </tr>\n",
       "    <tr>\n",
       "      <th>998</th>\n",
       "      <td>Drowning Ruth</td>\n",
       "      <td>3.0</td>\n",
       "      <td>2.00</td>\n",
       "    </tr>\n",
       "    <tr>\n",
       "      <th>999</th>\n",
       "      <td>Harvesting the Heart</td>\n",
       "      <td>2.0</td>\n",
       "      <td>1.50</td>\n",
       "    </tr>\n",
       "  </tbody>\n",
       "</table>\n",
       "<p>1000 rows × 3 columns</p>\n",
       "</div>"
      ],
      "text/plain": [
       "                                             book_name  reviews_qty  \\\n",
       "0                                  Homage to Catalonia          2.0   \n",
       "1                                                March          2.0   \n",
       "2    In the Hand of the Goddess (Song of the Liones...          2.0   \n",
       "3                 Welcome to Temptation (Dempseys  #1)          2.0   \n",
       "4    Stone of Farewell (Memory  Sorrow  and Thorn  #2)          1.0   \n",
       "..                                                 ...          ...   \n",
       "995  The World Is Flat: A Brief History of the Twen...          3.0   \n",
       "996                                              Junky          2.0   \n",
       "997                  His Excellency: George Washington          2.0   \n",
       "998                                      Drowning Ruth          3.0   \n",
       "999                               Harvesting the Heart          2.0   \n",
       "\n",
       "     avg_rating  \n",
       "0          5.00  \n",
       "1          5.00  \n",
       "2          5.00  \n",
       "3          5.00  \n",
       "4          5.00  \n",
       "..          ...  \n",
       "995        2.25  \n",
       "996        2.00  \n",
       "997        2.00  \n",
       "998        2.00  \n",
       "999        1.50  \n",
       "\n",
       "[1000 rows x 3 columns]"
      ]
     },
     "execution_count": 15,
     "metadata": {},
     "output_type": "execute_result"
    }
   ],
   "source": [
    "query = '''\n",
    "SELECT\n",
    "    books.title AS book_name,\n",
    "    subquery_reviews.reviews_qty AS reviews_qty,\n",
    "    AVG(ratings.rating) AS avg_rating\n",
    "FROM \n",
    "    books\n",
    "    LEFT JOIN (\n",
    "        SELECT\n",
    "            book_id,\n",
    "            COUNT(username) AS reviews_qty\n",
    "        FROM\n",
    "            reviews\n",
    "        GROUP BY\n",
    "            book_id\n",
    "        ) AS subquery_reviews ON subquery_reviews.book_id = books.book_id\n",
    "    LEFT JOIN ratings ON ratings.book_id = books.book_id\n",
    "GROUP BY\n",
    "    books.title,\n",
    "    subquery_reviews.reviews_qty\n",
    "ORDER BY\n",
    "    avg_rating DESC\n",
    "'''\n",
    "get_sql_data(query)"
   ]
  },
  {
   "cell_type": "markdown",
   "metadata": {},
   "source": [
    "<div class=\"alert alert-success\" style=\"border-radius: 15px; box-shadow: 4px 4px 4px; border: 1px solid; position: relative; padding: 15px; padding-left: 80px;\">\n",
    "<img src=\"https://lh3.googleusercontent.com/a/AAcHTtc31jlywy-FMYxLAouSSqNAmm5NsrBvivwRIASNt7wihI2ClYdpAbzWNqcigfcR04LfvopHwsJrJpnVr4UXDkCHtWk=s432-c-no\" width=\"45\" height=\"45\" style=\"position: absolute; top: 15px; left: 15px; border-radius: 50%;\">\n",
    "<b> ✔️ Комментарий тимлида : </b>\n",
    "\n",
    "Этот запрос считается одним из самых сложных в этом проекте, но результат получен правильно\n",
    "\n",
    "</div>"
   ]
  },
  {
   "cell_type": "markdown",
   "metadata": {},
   "source": [
    "**Вывод:**\n",
    "Посмотрели рейтинги и количество обзоров для каждой книги, обзоров немного."
   ]
  },
  {
   "cell_type": "markdown",
   "metadata": {},
   "source": [
    "### Определите издательство, которое выпустило наибольшее число книг толще 50 страниц — так вы исключите из анализа брошюры"
   ]
  },
  {
   "cell_type": "code",
   "execution_count": 16,
   "metadata": {},
   "outputs": [
    {
     "data": {
      "text/html": [
       "<div>\n",
       "<style scoped>\n",
       "    .dataframe tbody tr th:only-of-type {\n",
       "        vertical-align: middle;\n",
       "    }\n",
       "\n",
       "    .dataframe tbody tr th {\n",
       "        vertical-align: top;\n",
       "    }\n",
       "\n",
       "    .dataframe thead th {\n",
       "        text-align: right;\n",
       "    }\n",
       "</style>\n",
       "<table border=\"1\" class=\"dataframe\">\n",
       "  <thead>\n",
       "    <tr style=\"text-align: right;\">\n",
       "      <th></th>\n",
       "      <th>publisher</th>\n",
       "      <th>cnt</th>\n",
       "    </tr>\n",
       "  </thead>\n",
       "  <tbody>\n",
       "    <tr>\n",
       "      <th>0</th>\n",
       "      <td>Penguin Books</td>\n",
       "      <td>42</td>\n",
       "    </tr>\n",
       "  </tbody>\n",
       "</table>\n",
       "</div>"
      ],
      "text/plain": [
       "       publisher  cnt\n",
       "0  Penguin Books   42"
      ]
     },
     "execution_count": 16,
     "metadata": {},
     "output_type": "execute_result"
    }
   ],
   "source": [
    "query = ''' WITH \n",
    "            search_over50 AS (SELECT book_id, publisher_id FROM books WHERE num_pages > 50)\n",
    "            SELECT pb.publisher, \n",
    "                   COUNT(*) AS cnt\n",
    "            FROM search_over50 AS s50 \n",
    "            INNER JOIN  publishers AS pb ON s50.publisher_id=pb.publisher_id\n",
    "            GROUP BY \n",
    "                pb.publisher\n",
    "            ORDER BY \n",
    "                cnt DESC\n",
    "            LIMIT 1;\n",
    "        '''\n",
    "get_sql_data(query)"
   ]
  },
  {
   "cell_type": "markdown",
   "metadata": {},
   "source": [
    "<div class=\"alert alert-success\" style=\"border-radius: 15px; box-shadow: 4px 4px 4px; border: 1px solid; position: relative; padding: 15px; padding-left: 80px;\">\n",
    "<img src=\"https://lh3.googleusercontent.com/a/AAcHTtc31jlywy-FMYxLAouSSqNAmm5NsrBvivwRIASNt7wihI2ClYdpAbzWNqcigfcR04LfvopHwsJrJpnVr4UXDkCHtWk=s432-c-no\" width=\"45\" height=\"45\" style=\"position: absolute; top: 15px; left: 15px; border-radius: 50%;\">\n",
    "<b> ✔️ Комментарий тимлида : </b>\n",
    "\n",
    "Согласен с результатом. Действительно, выбранное издательство является лидером по числу выпущенных книг.\n",
    "\n",
    "</div>"
   ]
  },
  {
   "cell_type": "markdown",
   "metadata": {},
   "source": [
    "**Вывод:**\n",
    "Наибольшее количество книг в нашей библиотеке было выпущено издательством \"Penguin Books\" - 42 книги."
   ]
  },
  {
   "cell_type": "markdown",
   "metadata": {},
   "source": [
    "### Определите автора с самой высокой средней оценкой книг — учитывайте только книги с 50 и более оценками"
   ]
  },
  {
   "cell_type": "code",
   "execution_count": 20,
   "metadata": {},
   "outputs": [
    {
     "data": {
      "text/html": [
       "<div>\n",
       "<style scoped>\n",
       "    .dataframe tbody tr th:only-of-type {\n",
       "        vertical-align: middle;\n",
       "    }\n",
       "\n",
       "    .dataframe tbody tr th {\n",
       "        vertical-align: top;\n",
       "    }\n",
       "\n",
       "    .dataframe thead th {\n",
       "        text-align: right;\n",
       "    }\n",
       "</style>\n",
       "<table border=\"1\" class=\"dataframe\">\n",
       "  <thead>\n",
       "    <tr style=\"text-align: right;\">\n",
       "      <th></th>\n",
       "      <th>author</th>\n",
       "      <th>average_rating</th>\n",
       "    </tr>\n",
       "  </thead>\n",
       "  <tbody>\n",
       "    <tr>\n",
       "      <th>0</th>\n",
       "      <td>J.K. Rowling/Mary GrandPré</td>\n",
       "      <td>4.283844</td>\n",
       "    </tr>\n",
       "  </tbody>\n",
       "</table>\n",
       "</div>"
      ],
      "text/plain": [
       "                       author  average_rating\n",
       "0  J.K. Rowling/Mary GrandPré        4.283844"
      ]
     },
     "execution_count": 20,
     "metadata": {},
     "output_type": "execute_result"
    }
   ],
   "source": [
    "query = '''\n",
    "SELECT\n",
    "    authors.author,\n",
    "    AVG(subquery_ratings.avg_rating) AS average_rating\n",
    "FROM\n",
    "    books\n",
    "    LEFT JOIN (\n",
    "        SELECT \n",
    "            book_id,\n",
    "            AVG(rating) AS avg_rating,\n",
    "            COUNT(rating) AS rating_qty\n",
    "        FROM\n",
    "            ratings\n",
    "        GROUP BY\n",
    "            book_id\n",
    "    ) AS subquery_ratings ON subquery_ratings.book_id = books.book_id\n",
    "    LEFT JOIN authors ON authors.author_id = books.author_id\n",
    "WHERE\n",
    "    rating_qty >= 50\n",
    "GROUP BY\n",
    "    author\n",
    "ORDER BY\n",
    "    average_rating DESC\n",
    "LIMIT 1\n",
    "'''\n",
    "get_sql_data(query)"
   ]
  },
  {
   "cell_type": "markdown",
   "metadata": {},
   "source": [
    "<div id=\"div_id1\" class=\"alert alert-danger\" style=\"border-radius: 15px; box-shadow: 4px 4px 4px; border: 1px solid; position: relative; padding: 15px; padding-left: 80px;\">\n",
    "<img src=\"https://lh3.googleusercontent.com/a/AAcHTtc31jlywy-FMYxLAouSSqNAmm5NsrBvivwRIASNt7wihI2ClYdpAbzWNqcigfcR04LfvopHwsJrJpnVr4UXDkCHtWk=s432-c-no\" width=\"45\" height=\"45\" style=\"position: absolute; top: 15px; left: 15px; border-radius: 50%;\">\n",
    "<b> ⁉️ Критическое замечание тимлида : </b>\n",
    "\n",
    "<s>[⬆ Ошибка №1](#1)\n",
    "\n",
    "\n",
    "Ты используешь `WHERE rating_qty > 50`, когда по условию задачи, это должно быть нестрогое неравенство `>=`.\n",
    "\n",
    "Сейчас на результат это не повлияет, но в будущем - по другим задачам такие нюансы могут првиести к неверным результатам\n",
    "\n",
    "\n",
    "</div>"
   ]
  },
  {
   "cell_type": "markdown",
   "metadata": {},
   "source": [
    "<div class=\"alert alert-info\" style=\"border-radius: 15px; box-shadow: 4px 4px 4px; border: 1px solid \" ><b> Комментарий студента : </b>\n",
    "\n",
    "Ой, как невнимательно я. Спасибо!\n",
    "\n",
    "</div>\n"
   ]
  },
  {
   "cell_type": "markdown",
   "metadata": {},
   "source": [
    "**Вывод:**\n",
    "Самая высокая средняя оценка книг у Д. Роулинг. Средняя оценка ее книг в нашем датасете - 4.28 балла."
   ]
  },
  {
   "cell_type": "markdown",
   "metadata": {},
   "source": [
    "### Посчитайте среднее количество обзоров от пользователей, которые поставили больше 48 оценок"
   ]
  },
  {
   "cell_type": "code",
   "execution_count": 18,
   "metadata": {},
   "outputs": [
    {
     "data": {
      "text/html": [
       "<div>\n",
       "<style scoped>\n",
       "    .dataframe tbody tr th:only-of-type {\n",
       "        vertical-align: middle;\n",
       "    }\n",
       "\n",
       "    .dataframe tbody tr th {\n",
       "        vertical-align: top;\n",
       "    }\n",
       "\n",
       "    .dataframe thead th {\n",
       "        text-align: right;\n",
       "    }\n",
       "</style>\n",
       "<table border=\"1\" class=\"dataframe\">\n",
       "  <thead>\n",
       "    <tr style=\"text-align: right;\">\n",
       "      <th></th>\n",
       "      <th>avg_reviews</th>\n",
       "    </tr>\n",
       "  </thead>\n",
       "  <tbody>\n",
       "    <tr>\n",
       "      <th>0</th>\n",
       "      <td>24.0</td>\n",
       "    </tr>\n",
       "  </tbody>\n",
       "</table>\n",
       "</div>"
      ],
      "text/plain": [
       "   avg_reviews\n",
       "0         24.0"
      ]
     },
     "execution_count": 18,
     "metadata": {},
     "output_type": "execute_result"
    }
   ],
   "source": [
    "query = '''\n",
    "WITH user_ratings AS (\n",
    "                    SELECT rt.username, \n",
    "                           COUNT(rt.rating_id) AS rating_count\n",
    "                    FROM ratings AS rt\n",
    "                    GROUP BY rt.username\n",
    "                    HAVING COUNT(rt.rating_id) > 48\n",
    "                ),\n",
    "user_reviews AS (\n",
    "                SELECT rw.username, \n",
    "                       COUNT(rw.review_id) AS review_count\n",
    "                FROM reviews AS rw\n",
    "                WHERE rw.username IN (SELECT username FROM user_ratings)\n",
    "                GROUP BY rw.username\n",
    "            )\n",
    "SELECT AVG(review_count) AS avg_reviews\n",
    "FROM user_reviews;\n",
    "'''\n",
    "get_sql_data(query)"
   ]
  },
  {
   "cell_type": "markdown",
   "metadata": {},
   "source": [
    "<div class=\"alert alert-success\" style=\"border-radius: 15px; box-shadow: 4px 4px 4px; border: 1px solid; position: relative; padding: 15px; padding-left: 80px;\">\n",
    "<img src=\"https://lh3.googleusercontent.com/a/AAcHTtc31jlywy-FMYxLAouSSqNAmm5NsrBvivwRIASNt7wihI2ClYdpAbzWNqcigfcR04LfvopHwsJrJpnVr4UXDkCHtWk=s432-c-no\" width=\"45\" height=\"45\" style=\"position: absolute; top: 15px; left: 15px; border-radius: 50%;\">\n",
    "<b> ✔️ Комментарий тимлида : </b>\n",
    "\n",
    "Это верный ответ. Пользователи корректно отобраны, а их показатели правильно рассчитаны.\n",
    "\n",
    "</div>"
   ]
  },
  {
   "cell_type": "markdown",
   "metadata": {},
   "source": [
    "**Вывод:** Пользователи, которые поставили больше 48 оценок, в среднем пишут 24 обзора."
   ]
  },
  {
   "cell_type": "markdown",
   "metadata": {},
   "source": [
    "## Общий вывод"
   ]
  },
  {
   "cell_type": "markdown",
   "metadata": {},
   "source": [
    "1. В процессе знакомства с данными, мы выяснили, что в базе данных находятся сведения о **1000 книг.** \n",
    "В базе данных представлено **636 авторов** и **340 издательств**.\n",
    "Кроме того, есть данные, по отзывам пользователей на книги. Всего мы располагаем **2793 отзывами**.\n",
    "Кроме этого есть данные о **6456 пользовательских оценках**.\n",
    "\n",
    "2. Всего, после 1 января 2000 года вышло **819 книг**.\n",
    "Посмотрели **рейтинги и количество обзоров** для каждой книги, обзоров немного.\n",
    "Наибольшее количество книг в нашей библиотеке было выпущено издательством **\"Penguin Books\" - 42 книги**.\n",
    "Самая высокая средняя оценка книг у **Д. Роулинг. Средняя оценка ее книг в нашем датасете - 4.28 балла**.\n",
    "Пользователи, которые поставили больше 48 оценок, в среднем пишут **24 обзора**.\n",
    "\n",
    "**Рекомендации:**\n",
    "Для клиентов важно найти информацию о книге на сайте, особенно, если они ее не читали. Чем больше будет рейтингов и ревью, тем интереснее, будет ощущение не только ресурса по скачиванию книг, а целое комьюнити. Я бы рекомендовала поощрять за оценки и отзывы о книгах, предоставляя скидки на следующие покупки."
   ]
  },
  {
   "cell_type": "markdown",
   "metadata": {},
   "source": [
    "<div class=\"alert alert-warning\" style=\"border-radius: 15px; box-shadow: 4px 4px 4px; border: 1px solid; position: relative; padding: 15px; padding-left: 80px;\">\n",
    "<img src=\"https://lh3.googleusercontent.com/a/AAcHTtc31jlywy-FMYxLAouSSqNAmm5NsrBvivwRIASNt7wihI2ClYdpAbzWNqcigfcR04LfvopHwsJrJpnVr4UXDkCHtWk=s432-c-no\" width=\"45\" height=\"45\" style=\"position: absolute; top: 15px; left: 15px; border-radius: 50%;\">\n",
    "<b> ✏️ Рекомендация тимлида : </b>\n",
    "\n",
    "Для полноты картины и большей практической ценности результатов, можно было добавить некоторые рекомендации для бизнеса.\n",
    "\n",
    "</div>"
   ]
  },
  {
   "cell_type": "markdown",
   "metadata": {},
   "source": [
    "<div class=\"alert alert-info\" style=\"border-radius: 15px; box-shadow: 4px 4px 4px; border: 1px solid \" ><b> Комментарий студента : </b>\n",
    "\n",
    "Дописала. Спасибо!\n",
    "\n",
    "</div>\n"
   ]
  },
  {
   "cell_type": "code",
   "execution_count": null,
   "metadata": {},
   "outputs": [],
   "source": []
  }
 ],
 "metadata": {
  "ExecuteTimeLog": [
   {
    "duration": 546,
    "start_time": "2025-02-27T09:45:49.334Z"
   },
   {
    "duration": 9526,
    "start_time": "2025-02-27T09:45:59.532Z"
   },
   {
    "duration": 3,
    "start_time": "2025-02-27T09:46:09.649Z"
   },
   {
    "duration": 250,
    "start_time": "2025-02-27T09:47:27.349Z"
   },
   {
    "duration": 54,
    "start_time": "2025-02-27T09:47:41.632Z"
   },
   {
    "duration": 157,
    "start_time": "2025-02-27T09:47:55.399Z"
   },
   {
    "duration": 204,
    "start_time": "2025-02-27T09:48:08.249Z"
   },
   {
    "duration": 54,
    "start_time": "2025-02-27T09:48:40.426Z"
   },
   {
    "duration": 53,
    "start_time": "2025-02-27T09:48:51.017Z"
   },
   {
    "duration": 55,
    "start_time": "2025-02-27T09:49:20.749Z"
   },
   {
    "duration": 54,
    "start_time": "2025-02-27T09:49:31.500Z"
   },
   {
    "duration": 55,
    "start_time": "2025-02-27T09:50:41.166Z"
   },
   {
    "duration": 55,
    "start_time": "2025-02-27T09:51:03.567Z"
   },
   {
    "duration": 54,
    "start_time": "2025-02-27T09:51:14.565Z"
   },
   {
    "duration": 56,
    "start_time": "2025-02-27T09:51:42.700Z"
   },
   {
    "duration": 52,
    "start_time": "2025-02-27T09:51:54.349Z"
   },
   {
    "duration": 54,
    "start_time": "2025-02-27T09:52:05.766Z"
   },
   {
    "duration": 56,
    "start_time": "2025-02-27T09:52:18.818Z"
   },
   {
    "duration": 56,
    "start_time": "2025-02-27T10:00:42.420Z"
   },
   {
    "duration": 81,
    "start_time": "2025-02-27T10:12:04.105Z"
   },
   {
    "duration": 8,
    "start_time": "2025-02-27T10:14:40.455Z"
   },
   {
    "duration": 56,
    "start_time": "2025-02-27T10:15:04.662Z"
   },
   {
    "duration": 57,
    "start_time": "2025-02-27T10:15:51.053Z"
   },
   {
    "duration": 54,
    "start_time": "2025-02-27T10:17:09.495Z"
   },
   {
    "duration": 54,
    "start_time": "2025-02-27T10:17:30.656Z"
   },
   {
    "duration": 53,
    "start_time": "2025-02-27T10:17:44.554Z"
   },
   {
    "duration": 53,
    "start_time": "2025-02-27T10:20:46.172Z"
   },
   {
    "duration": 89,
    "start_time": "2025-02-27T10:22:15.156Z"
   },
   {
    "duration": 77,
    "start_time": "2025-02-27T10:22:35.574Z"
   },
   {
    "duration": 90,
    "start_time": "2025-02-27T10:22:53.422Z"
   },
   {
    "duration": 92,
    "start_time": "2025-02-27T10:27:14.180Z"
   },
   {
    "duration": 64,
    "start_time": "2025-02-27T10:31:59.590Z"
   },
   {
    "duration": 58,
    "start_time": "2025-02-27T10:33:37.954Z"
   },
   {
    "duration": 56,
    "start_time": "2025-02-27T10:36:07.979Z"
   },
   {
    "duration": 56,
    "start_time": "2025-02-27T10:38:42.688Z"
   },
   {
    "duration": 53,
    "start_time": "2025-02-27T10:38:46.534Z"
   },
   {
    "duration": 54,
    "start_time": "2025-02-27T10:38:48.711Z"
   },
   {
    "duration": 53,
    "start_time": "2025-02-27T10:38:52.595Z"
   },
   {
    "duration": 52,
    "start_time": "2025-02-27T10:38:54.095Z"
   },
   {
    "duration": 53,
    "start_time": "2025-02-27T10:38:55.941Z"
   },
   {
    "duration": 52,
    "start_time": "2025-02-27T10:38:57.843Z"
   },
   {
    "duration": 54,
    "start_time": "2025-02-27T10:39:00.525Z"
   },
   {
    "duration": 54,
    "start_time": "2025-02-27T10:39:01.311Z"
   },
   {
    "duration": 55,
    "start_time": "2025-02-27T10:39:02.944Z"
   },
   {
    "duration": 55,
    "start_time": "2025-02-27T10:39:03.794Z"
   },
   {
    "duration": 520,
    "start_time": "2025-02-28T04:29:21.563Z"
   },
   {
    "duration": 9287,
    "start_time": "2025-02-28T04:29:22.085Z"
   },
   {
    "duration": 4,
    "start_time": "2025-02-28T04:29:31.373Z"
   },
   {
    "duration": 268,
    "start_time": "2025-02-28T04:29:31.379Z"
   },
   {
    "duration": 52,
    "start_time": "2025-02-28T04:29:31.649Z"
   },
   {
    "duration": 52,
    "start_time": "2025-02-28T04:29:31.702Z"
   },
   {
    "duration": 52,
    "start_time": "2025-02-28T04:29:31.756Z"
   },
   {
    "duration": 52,
    "start_time": "2025-02-28T04:29:31.810Z"
   },
   {
    "duration": 50,
    "start_time": "2025-02-28T04:29:31.864Z"
   },
   {
    "duration": 108,
    "start_time": "2025-02-28T04:29:31.916Z"
   },
   {
    "duration": 52,
    "start_time": "2025-02-28T04:29:32.025Z"
   },
   {
    "duration": 54,
    "start_time": "2025-02-28T04:29:32.079Z"
   },
   {
    "duration": 79,
    "start_time": "2025-02-28T04:29:32.135Z"
   },
   {
    "duration": 52,
    "start_time": "2025-02-28T04:29:32.216Z"
   },
   {
    "duration": 88,
    "start_time": "2025-02-28T04:29:32.270Z"
   },
   {
    "duration": 55,
    "start_time": "2025-02-28T04:29:32.360Z"
   },
   {
    "duration": 57,
    "start_time": "2025-02-28T04:29:32.416Z"
   },
   {
    "duration": 56,
    "start_time": "2025-02-28T04:29:32.474Z"
   },
   {
    "duration": 55,
    "start_time": "2025-02-28T04:30:21.904Z"
   },
   {
    "duration": 55,
    "start_time": "2025-02-28T04:30:24.652Z"
   }
  ],
  "kernelspec": {
   "display_name": "Python 3 (ipykernel)",
   "language": "python",
   "name": "python3"
  },
  "language_info": {
   "codemirror_mode": {
    "name": "ipython",
    "version": 3
   },
   "file_extension": ".py",
   "mimetype": "text/x-python",
   "name": "python",
   "nbconvert_exporter": "python",
   "pygments_lexer": "ipython3",
   "version": "3.9.5"
  },
  "toc": {
   "base_numbering": 1,
   "nav_menu": {},
   "number_sections": true,
   "sideBar": true,
   "skip_h1_title": true,
   "title_cell": "Table of Contents",
   "title_sidebar": "Contents",
   "toc_cell": false,
   "toc_position": {},
   "toc_section_display": true,
   "toc_window_display": false
  }
 },
 "nbformat": 4,
 "nbformat_minor": 2
}
