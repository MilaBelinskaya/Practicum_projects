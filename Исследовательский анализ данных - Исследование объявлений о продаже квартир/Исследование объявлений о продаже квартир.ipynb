{
 "cells": [
  {
   "cell_type": "markdown",
   "metadata": {},
   "source": [
    "Привет, Людмила!\n",
    "\n",
    "Меня зовут Вячеслав Погорелый, и я буду проводить ревью твоего проекта. \n",
    "\n",
    "Предлагаю перейти на \"ты\", если не против)\n",
    "\n",
    "Но если это не удобно - дай знать, и мы перейдем на \"вы\". Моя главная задача — не находить сделанные тобою ошибки, а передать свой опыт и помочь тебе стать аналитиком данных.\n",
    "\n",
    "Я отметил комментарии и замечания разным цветом далее по тексту markdown:\n",
    "\n",
    "---    \n",
    "<div class=\"alert alert-block alert-danger\">\n",
    "    \n",
    "### Ошибка\n",
    "    \n",
    "Критическое замечание, которые следует исправить.\n",
    "</div> \n",
    "    \n",
    "---\n",
    "    \n",
    "<div class=\"alert alert-block alert-warning\">\n",
    "    \n",
    "### Совет\n",
    "    \n",
    "Замечание\\совет на будущее.\n",
    "</div>\n",
    "    \n",
    "---\n",
    "    \n",
    "<div class=\"alert alert-block alert-success\">\n",
    "    \n",
    "### Успех\n",
    "    \n",
    "Когда всё сделано правильно.\n",
    "</div>\n",
    "    \n",
    "    \n",
    "    \n",
    "Будет здорово, если для ответов ты выберешь любой **<font color=\"maroon\">читабельный и заметный цвет</font>**, так мне будет проще все проверить.\n",
    "\n",
    "\n",
    "При доработке проекта попрошу тебя сохранить и не видоизменять заметки ревьюера, это осложняет повторную проверку"
   ]
  },
  {
   "cell_type": "markdown",
   "metadata": {
    "id": "-VFbjcb3Awb7"
   },
   "source": [
    "# Исследование объявлений о продаже квартир\n",
    "\n",
    "В вашем распоряжении данные сервиса Яндекс Недвижимость — архив объявлений о продаже квартир в Санкт-Петербурге и соседних населённых пунктах за несколько лет. Вам нужно научиться определять рыночную стоимость объектов недвижимости. Для этого проведите исследовательский анализ данных и установите параметры, влияющие на цену объектов. Это позволит построить автоматизированную систему: она отследит аномалии и мошенническую деятельность.\n",
    "\n",
    "По каждой квартире на продажу доступны два вида данных. Первые вписаны пользователем, вторые — получены автоматически на основе картографических данных. Например, расстояние до центра, аэропорта и других объектов — эти данные автоматически получены из геосервисов. Количество парков и водоёмов также заполняется без участия пользователя."
   ]
  },
  {
   "cell_type": "markdown",
   "metadata": {},
   "source": [
    "<div class=\"alert alert-block alert-success\">\n",
    " \n",
    "### Комментарий ревьюера\n",
    "    \n",
    "#### Успех\n",
    "    \n",
    "Спасибо тебе за оформление оглавления к проекту."
   ]
  },
  {
   "cell_type": "markdown",
   "metadata": {
    "id": "aeFLH07FAwb9"
   },
   "source": [
    "### Откроем файл с данными и изучим общую информацию"
   ]
  },
  {
   "cell_type": "code",
   "execution_count": 26,
   "metadata": {
    "id": "7MZxY65pAwb9",
    "scrolled": true
   },
   "outputs": [
    {
     "data": {
      "text/html": [
       "<div>\n",
       "<style scoped>\n",
       "    .dataframe tbody tr th:only-of-type {\n",
       "        vertical-align: middle;\n",
       "    }\n",
       "\n",
       "    .dataframe tbody tr th {\n",
       "        vertical-align: top;\n",
       "    }\n",
       "\n",
       "    .dataframe thead th {\n",
       "        text-align: right;\n",
       "    }\n",
       "</style>\n",
       "<table border=\"1\" class=\"dataframe\">\n",
       "  <thead>\n",
       "    <tr style=\"text-align: right;\">\n",
       "      <th></th>\n",
       "      <th>total_images</th>\n",
       "      <th>last_price</th>\n",
       "      <th>total_area</th>\n",
       "      <th>first_day_exposition</th>\n",
       "      <th>rooms</th>\n",
       "      <th>ceiling_height</th>\n",
       "      <th>floors_total</th>\n",
       "      <th>living_area</th>\n",
       "      <th>floor</th>\n",
       "      <th>is_apartment</th>\n",
       "      <th>studio</th>\n",
       "      <th>open_plan</th>\n",
       "      <th>kitchen_area</th>\n",
       "      <th>balcony</th>\n",
       "      <th>locality_name</th>\n",
       "      <th>airports_nearest</th>\n",
       "      <th>cityCenters_nearest</th>\n",
       "      <th>parks_around3000</th>\n",
       "      <th>parks_nearest</th>\n",
       "      <th>ponds_around3000</th>\n",
       "      <th>ponds_nearest</th>\n",
       "      <th>days_exposition</th>\n",
       "    </tr>\n",
       "  </thead>\n",
       "  <tbody>\n",
       "    <tr>\n",
       "      <th>0</th>\n",
       "      <td>20</td>\n",
       "      <td>13000000.0</td>\n",
       "      <td>108.0</td>\n",
       "      <td>2019-03-07T00:00:00</td>\n",
       "      <td>3</td>\n",
       "      <td>2.70</td>\n",
       "      <td>16.0</td>\n",
       "      <td>51.0</td>\n",
       "      <td>8</td>\n",
       "      <td>NaN</td>\n",
       "      <td>False</td>\n",
       "      <td>False</td>\n",
       "      <td>25.0</td>\n",
       "      <td>NaN</td>\n",
       "      <td>Санкт-Петербург</td>\n",
       "      <td>18863.0</td>\n",
       "      <td>16028.0</td>\n",
       "      <td>1.0</td>\n",
       "      <td>482.0</td>\n",
       "      <td>2.0</td>\n",
       "      <td>755.0</td>\n",
       "      <td>NaN</td>\n",
       "    </tr>\n",
       "    <tr>\n",
       "      <th>1</th>\n",
       "      <td>7</td>\n",
       "      <td>3350000.0</td>\n",
       "      <td>40.4</td>\n",
       "      <td>2018-12-04T00:00:00</td>\n",
       "      <td>1</td>\n",
       "      <td>NaN</td>\n",
       "      <td>11.0</td>\n",
       "      <td>18.6</td>\n",
       "      <td>1</td>\n",
       "      <td>NaN</td>\n",
       "      <td>False</td>\n",
       "      <td>False</td>\n",
       "      <td>11.0</td>\n",
       "      <td>2.0</td>\n",
       "      <td>посёлок Шушары</td>\n",
       "      <td>12817.0</td>\n",
       "      <td>18603.0</td>\n",
       "      <td>0.0</td>\n",
       "      <td>NaN</td>\n",
       "      <td>0.0</td>\n",
       "      <td>NaN</td>\n",
       "      <td>81.0</td>\n",
       "    </tr>\n",
       "    <tr>\n",
       "      <th>2</th>\n",
       "      <td>10</td>\n",
       "      <td>5196000.0</td>\n",
       "      <td>56.0</td>\n",
       "      <td>2015-08-20T00:00:00</td>\n",
       "      <td>2</td>\n",
       "      <td>NaN</td>\n",
       "      <td>5.0</td>\n",
       "      <td>34.3</td>\n",
       "      <td>4</td>\n",
       "      <td>NaN</td>\n",
       "      <td>False</td>\n",
       "      <td>False</td>\n",
       "      <td>8.3</td>\n",
       "      <td>0.0</td>\n",
       "      <td>Санкт-Петербург</td>\n",
       "      <td>21741.0</td>\n",
       "      <td>13933.0</td>\n",
       "      <td>1.0</td>\n",
       "      <td>90.0</td>\n",
       "      <td>2.0</td>\n",
       "      <td>574.0</td>\n",
       "      <td>558.0</td>\n",
       "    </tr>\n",
       "    <tr>\n",
       "      <th>3</th>\n",
       "      <td>0</td>\n",
       "      <td>64900000.0</td>\n",
       "      <td>159.0</td>\n",
       "      <td>2015-07-24T00:00:00</td>\n",
       "      <td>3</td>\n",
       "      <td>NaN</td>\n",
       "      <td>14.0</td>\n",
       "      <td>NaN</td>\n",
       "      <td>9</td>\n",
       "      <td>NaN</td>\n",
       "      <td>False</td>\n",
       "      <td>False</td>\n",
       "      <td>NaN</td>\n",
       "      <td>0.0</td>\n",
       "      <td>Санкт-Петербург</td>\n",
       "      <td>28098.0</td>\n",
       "      <td>6800.0</td>\n",
       "      <td>2.0</td>\n",
       "      <td>84.0</td>\n",
       "      <td>3.0</td>\n",
       "      <td>234.0</td>\n",
       "      <td>424.0</td>\n",
       "    </tr>\n",
       "    <tr>\n",
       "      <th>4</th>\n",
       "      <td>2</td>\n",
       "      <td>10000000.0</td>\n",
       "      <td>100.0</td>\n",
       "      <td>2018-06-19T00:00:00</td>\n",
       "      <td>2</td>\n",
       "      <td>3.03</td>\n",
       "      <td>14.0</td>\n",
       "      <td>32.0</td>\n",
       "      <td>13</td>\n",
       "      <td>NaN</td>\n",
       "      <td>False</td>\n",
       "      <td>False</td>\n",
       "      <td>41.0</td>\n",
       "      <td>NaN</td>\n",
       "      <td>Санкт-Петербург</td>\n",
       "      <td>31856.0</td>\n",
       "      <td>8098.0</td>\n",
       "      <td>2.0</td>\n",
       "      <td>112.0</td>\n",
       "      <td>1.0</td>\n",
       "      <td>48.0</td>\n",
       "      <td>121.0</td>\n",
       "    </tr>\n",
       "  </tbody>\n",
       "</table>\n",
       "</div>"
      ],
      "text/plain": [
       "   total_images  last_price  total_area first_day_exposition  rooms  \\\n",
       "0            20  13000000.0       108.0  2019-03-07T00:00:00      3   \n",
       "1             7   3350000.0        40.4  2018-12-04T00:00:00      1   \n",
       "2            10   5196000.0        56.0  2015-08-20T00:00:00      2   \n",
       "3             0  64900000.0       159.0  2015-07-24T00:00:00      3   \n",
       "4             2  10000000.0       100.0  2018-06-19T00:00:00      2   \n",
       "\n",
       "   ceiling_height  floors_total  living_area  floor is_apartment  studio  \\\n",
       "0            2.70          16.0         51.0      8          NaN   False   \n",
       "1             NaN          11.0         18.6      1          NaN   False   \n",
       "2             NaN           5.0         34.3      4          NaN   False   \n",
       "3             NaN          14.0          NaN      9          NaN   False   \n",
       "4            3.03          14.0         32.0     13          NaN   False   \n",
       "\n",
       "   open_plan  kitchen_area  balcony    locality_name  airports_nearest  \\\n",
       "0      False          25.0      NaN  Санкт-Петербург           18863.0   \n",
       "1      False          11.0      2.0   посёлок Шушары           12817.0   \n",
       "2      False           8.3      0.0  Санкт-Петербург           21741.0   \n",
       "3      False           NaN      0.0  Санкт-Петербург           28098.0   \n",
       "4      False          41.0      NaN  Санкт-Петербург           31856.0   \n",
       "\n",
       "   cityCenters_nearest  parks_around3000  parks_nearest  ponds_around3000  \\\n",
       "0              16028.0               1.0          482.0               2.0   \n",
       "1              18603.0               0.0            NaN               0.0   \n",
       "2              13933.0               1.0           90.0               2.0   \n",
       "3               6800.0               2.0           84.0               3.0   \n",
       "4               8098.0               2.0          112.0               1.0   \n",
       "\n",
       "   ponds_nearest  days_exposition  \n",
       "0          755.0              NaN  \n",
       "1            NaN             81.0  \n",
       "2          574.0            558.0  \n",
       "3          234.0            424.0  \n",
       "4           48.0            121.0  "
      ]
     },
     "execution_count": 26,
     "metadata": {},
     "output_type": "execute_result"
    }
   ],
   "source": [
    "import pandas as pd\n",
    "import matplotlib.pyplot as plt #импортируем библиотеки\n",
    "\n",
    "df = pd.read_csv('/datasets/real_estate_data.csv', sep='\\t') #прочитаем файл с данными\n",
    "pd.set_option('display.max_columns', None)\n",
    "df.head()"
   ]
  },
  {
   "cell_type": "markdown",
   "metadata": {},
   "source": [
    "<div class=\"alert alert-block alert-warning\">\n",
    " \n",
    "### Комментарий ревьюера\n",
    "    \n",
    "#### Совет\n",
    "    \n",
    "Импорт библиотек старайся делать в отдельной ячейке кода от основного"
   ]
  },
  {
   "cell_type": "markdown",
   "metadata": {},
   "source": [
    "#### Посмотрим информацию о нашем датафрейме с помощью info():"
   ]
  },
  {
   "cell_type": "code",
   "execution_count": 27,
   "metadata": {},
   "outputs": [
    {
     "name": "stdout",
     "output_type": "stream",
     "text": [
      "<class 'pandas.core.frame.DataFrame'>\n",
      "RangeIndex: 23699 entries, 0 to 23698\n",
      "Data columns (total 22 columns):\n",
      " #   Column                Non-Null Count  Dtype  \n",
      "---  ------                --------------  -----  \n",
      " 0   total_images          23699 non-null  int64  \n",
      " 1   last_price            23699 non-null  float64\n",
      " 2   total_area            23699 non-null  float64\n",
      " 3   first_day_exposition  23699 non-null  object \n",
      " 4   rooms                 23699 non-null  int64  \n",
      " 5   ceiling_height        14504 non-null  float64\n",
      " 6   floors_total          23613 non-null  float64\n",
      " 7   living_area           21796 non-null  float64\n",
      " 8   floor                 23699 non-null  int64  \n",
      " 9   is_apartment          2775 non-null   object \n",
      " 10  studio                23699 non-null  bool   \n",
      " 11  open_plan             23699 non-null  bool   \n",
      " 12  kitchen_area          21421 non-null  float64\n",
      " 13  balcony               12180 non-null  float64\n",
      " 14  locality_name         23650 non-null  object \n",
      " 15  airports_nearest      18157 non-null  float64\n",
      " 16  cityCenters_nearest   18180 non-null  float64\n",
      " 17  parks_around3000      18181 non-null  float64\n",
      " 18  parks_nearest         8079 non-null   float64\n",
      " 19  ponds_around3000      18181 non-null  float64\n",
      " 20  ponds_nearest         9110 non-null   float64\n",
      " 21  days_exposition       20518 non-null  float64\n",
      "dtypes: bool(2), float64(14), int64(3), object(3)\n",
      "memory usage: 3.7+ MB\n"
     ]
    }
   ],
   "source": [
    "df.info()"
   ]
  },
  {
   "cell_type": "markdown",
   "metadata": {},
   "source": [
    "Итак, мы видим, что у некоторых столбцов нужно изменить тип данных, например у first_day_exposition - с типа object на datetime, is_apartment - заменить на bool. Еще мы видим, что название столбца cityCenters_nearest нужно привести к нижнему регистру. И еще в датасете много пропусков."
   ]
  },
  {
   "cell_type": "markdown",
   "metadata": {},
   "source": [
    "<div class=\"alert alert-block alert-success\">\n",
    " \n",
    "### Комментарий ревьюера\n",
    "    \n",
    "#### Успех\n",
    "    \n",
    "Первичная информация о данных получена"
   ]
  },
  {
   "cell_type": "markdown",
   "metadata": {},
   "source": [
    "#### Посмотрим информацию о датафрейме c  помощью describe():"
   ]
  },
  {
   "cell_type": "code",
   "execution_count": 28,
   "metadata": {},
   "outputs": [
    {
     "data": {
      "text/html": [
       "<div>\n",
       "<style scoped>\n",
       "    .dataframe tbody tr th:only-of-type {\n",
       "        vertical-align: middle;\n",
       "    }\n",
       "\n",
       "    .dataframe tbody tr th {\n",
       "        vertical-align: top;\n",
       "    }\n",
       "\n",
       "    .dataframe thead th {\n",
       "        text-align: right;\n",
       "    }\n",
       "</style>\n",
       "<table border=\"1\" class=\"dataframe\">\n",
       "  <thead>\n",
       "    <tr style=\"text-align: right;\">\n",
       "      <th></th>\n",
       "      <th>total_images</th>\n",
       "      <th>last_price</th>\n",
       "      <th>total_area</th>\n",
       "      <th>rooms</th>\n",
       "      <th>ceiling_height</th>\n",
       "      <th>floors_total</th>\n",
       "      <th>living_area</th>\n",
       "      <th>floor</th>\n",
       "      <th>kitchen_area</th>\n",
       "      <th>balcony</th>\n",
       "      <th>airports_nearest</th>\n",
       "      <th>cityCenters_nearest</th>\n",
       "      <th>parks_around3000</th>\n",
       "      <th>parks_nearest</th>\n",
       "      <th>ponds_around3000</th>\n",
       "      <th>ponds_nearest</th>\n",
       "      <th>days_exposition</th>\n",
       "    </tr>\n",
       "  </thead>\n",
       "  <tbody>\n",
       "    <tr>\n",
       "      <th>count</th>\n",
       "      <td>23699.000000</td>\n",
       "      <td>2.369900e+04</td>\n",
       "      <td>23699.000000</td>\n",
       "      <td>23699.000000</td>\n",
       "      <td>14504.000000</td>\n",
       "      <td>23613.000000</td>\n",
       "      <td>21796.000000</td>\n",
       "      <td>23699.000000</td>\n",
       "      <td>21421.000000</td>\n",
       "      <td>12180.000000</td>\n",
       "      <td>18157.000000</td>\n",
       "      <td>18180.000000</td>\n",
       "      <td>18181.000000</td>\n",
       "      <td>8079.000000</td>\n",
       "      <td>18181.000000</td>\n",
       "      <td>9110.000000</td>\n",
       "      <td>20518.000000</td>\n",
       "    </tr>\n",
       "    <tr>\n",
       "      <th>mean</th>\n",
       "      <td>9.858475</td>\n",
       "      <td>6.541549e+06</td>\n",
       "      <td>60.348651</td>\n",
       "      <td>2.070636</td>\n",
       "      <td>2.771499</td>\n",
       "      <td>10.673824</td>\n",
       "      <td>34.457852</td>\n",
       "      <td>5.892358</td>\n",
       "      <td>10.569807</td>\n",
       "      <td>1.150082</td>\n",
       "      <td>28793.672193</td>\n",
       "      <td>14191.277833</td>\n",
       "      <td>0.611408</td>\n",
       "      <td>490.804555</td>\n",
       "      <td>0.770255</td>\n",
       "      <td>517.980900</td>\n",
       "      <td>180.888634</td>\n",
       "    </tr>\n",
       "    <tr>\n",
       "      <th>std</th>\n",
       "      <td>5.682529</td>\n",
       "      <td>1.088701e+07</td>\n",
       "      <td>35.654083</td>\n",
       "      <td>1.078405</td>\n",
       "      <td>1.261056</td>\n",
       "      <td>6.597173</td>\n",
       "      <td>22.030445</td>\n",
       "      <td>4.885249</td>\n",
       "      <td>5.905438</td>\n",
       "      <td>1.071300</td>\n",
       "      <td>12630.880622</td>\n",
       "      <td>8608.386210</td>\n",
       "      <td>0.802074</td>\n",
       "      <td>342.317995</td>\n",
       "      <td>0.938346</td>\n",
       "      <td>277.720643</td>\n",
       "      <td>219.727988</td>\n",
       "    </tr>\n",
       "    <tr>\n",
       "      <th>min</th>\n",
       "      <td>0.000000</td>\n",
       "      <td>1.219000e+04</td>\n",
       "      <td>12.000000</td>\n",
       "      <td>0.000000</td>\n",
       "      <td>1.000000</td>\n",
       "      <td>1.000000</td>\n",
       "      <td>2.000000</td>\n",
       "      <td>1.000000</td>\n",
       "      <td>1.300000</td>\n",
       "      <td>0.000000</td>\n",
       "      <td>0.000000</td>\n",
       "      <td>181.000000</td>\n",
       "      <td>0.000000</td>\n",
       "      <td>1.000000</td>\n",
       "      <td>0.000000</td>\n",
       "      <td>13.000000</td>\n",
       "      <td>1.000000</td>\n",
       "    </tr>\n",
       "    <tr>\n",
       "      <th>25%</th>\n",
       "      <td>6.000000</td>\n",
       "      <td>3.400000e+06</td>\n",
       "      <td>40.000000</td>\n",
       "      <td>1.000000</td>\n",
       "      <td>2.520000</td>\n",
       "      <td>5.000000</td>\n",
       "      <td>18.600000</td>\n",
       "      <td>2.000000</td>\n",
       "      <td>7.000000</td>\n",
       "      <td>0.000000</td>\n",
       "      <td>18585.000000</td>\n",
       "      <td>9238.000000</td>\n",
       "      <td>0.000000</td>\n",
       "      <td>288.000000</td>\n",
       "      <td>0.000000</td>\n",
       "      <td>294.000000</td>\n",
       "      <td>45.000000</td>\n",
       "    </tr>\n",
       "    <tr>\n",
       "      <th>50%</th>\n",
       "      <td>9.000000</td>\n",
       "      <td>4.650000e+06</td>\n",
       "      <td>52.000000</td>\n",
       "      <td>2.000000</td>\n",
       "      <td>2.650000</td>\n",
       "      <td>9.000000</td>\n",
       "      <td>30.000000</td>\n",
       "      <td>4.000000</td>\n",
       "      <td>9.100000</td>\n",
       "      <td>1.000000</td>\n",
       "      <td>26726.000000</td>\n",
       "      <td>13098.500000</td>\n",
       "      <td>0.000000</td>\n",
       "      <td>455.000000</td>\n",
       "      <td>1.000000</td>\n",
       "      <td>502.000000</td>\n",
       "      <td>95.000000</td>\n",
       "    </tr>\n",
       "    <tr>\n",
       "      <th>75%</th>\n",
       "      <td>14.000000</td>\n",
       "      <td>6.800000e+06</td>\n",
       "      <td>69.900000</td>\n",
       "      <td>3.000000</td>\n",
       "      <td>2.800000</td>\n",
       "      <td>16.000000</td>\n",
       "      <td>42.300000</td>\n",
       "      <td>8.000000</td>\n",
       "      <td>12.000000</td>\n",
       "      <td>2.000000</td>\n",
       "      <td>37273.000000</td>\n",
       "      <td>16293.000000</td>\n",
       "      <td>1.000000</td>\n",
       "      <td>612.000000</td>\n",
       "      <td>1.000000</td>\n",
       "      <td>729.000000</td>\n",
       "      <td>232.000000</td>\n",
       "    </tr>\n",
       "    <tr>\n",
       "      <th>max</th>\n",
       "      <td>50.000000</td>\n",
       "      <td>7.630000e+08</td>\n",
       "      <td>900.000000</td>\n",
       "      <td>19.000000</td>\n",
       "      <td>100.000000</td>\n",
       "      <td>60.000000</td>\n",
       "      <td>409.700000</td>\n",
       "      <td>33.000000</td>\n",
       "      <td>112.000000</td>\n",
       "      <td>5.000000</td>\n",
       "      <td>84869.000000</td>\n",
       "      <td>65968.000000</td>\n",
       "      <td>3.000000</td>\n",
       "      <td>3190.000000</td>\n",
       "      <td>3.000000</td>\n",
       "      <td>1344.000000</td>\n",
       "      <td>1580.000000</td>\n",
       "    </tr>\n",
       "  </tbody>\n",
       "</table>\n",
       "</div>"
      ],
      "text/plain": [
       "       total_images    last_price    total_area         rooms  ceiling_height  \\\n",
       "count  23699.000000  2.369900e+04  23699.000000  23699.000000    14504.000000   \n",
       "mean       9.858475  6.541549e+06     60.348651      2.070636        2.771499   \n",
       "std        5.682529  1.088701e+07     35.654083      1.078405        1.261056   \n",
       "min        0.000000  1.219000e+04     12.000000      0.000000        1.000000   \n",
       "25%        6.000000  3.400000e+06     40.000000      1.000000        2.520000   \n",
       "50%        9.000000  4.650000e+06     52.000000      2.000000        2.650000   \n",
       "75%       14.000000  6.800000e+06     69.900000      3.000000        2.800000   \n",
       "max       50.000000  7.630000e+08    900.000000     19.000000      100.000000   \n",
       "\n",
       "       floors_total   living_area         floor  kitchen_area       balcony  \\\n",
       "count  23613.000000  21796.000000  23699.000000  21421.000000  12180.000000   \n",
       "mean      10.673824     34.457852      5.892358     10.569807      1.150082   \n",
       "std        6.597173     22.030445      4.885249      5.905438      1.071300   \n",
       "min        1.000000      2.000000      1.000000      1.300000      0.000000   \n",
       "25%        5.000000     18.600000      2.000000      7.000000      0.000000   \n",
       "50%        9.000000     30.000000      4.000000      9.100000      1.000000   \n",
       "75%       16.000000     42.300000      8.000000     12.000000      2.000000   \n",
       "max       60.000000    409.700000     33.000000    112.000000      5.000000   \n",
       "\n",
       "       airports_nearest  cityCenters_nearest  parks_around3000  parks_nearest  \\\n",
       "count      18157.000000         18180.000000      18181.000000    8079.000000   \n",
       "mean       28793.672193         14191.277833          0.611408     490.804555   \n",
       "std        12630.880622          8608.386210          0.802074     342.317995   \n",
       "min            0.000000           181.000000          0.000000       1.000000   \n",
       "25%        18585.000000          9238.000000          0.000000     288.000000   \n",
       "50%        26726.000000         13098.500000          0.000000     455.000000   \n",
       "75%        37273.000000         16293.000000          1.000000     612.000000   \n",
       "max        84869.000000         65968.000000          3.000000    3190.000000   \n",
       "\n",
       "       ponds_around3000  ponds_nearest  days_exposition  \n",
       "count      18181.000000    9110.000000     20518.000000  \n",
       "mean           0.770255     517.980900       180.888634  \n",
       "std            0.938346     277.720643       219.727988  \n",
       "min            0.000000      13.000000         1.000000  \n",
       "25%            0.000000     294.000000        45.000000  \n",
       "50%            1.000000     502.000000        95.000000  \n",
       "75%            1.000000     729.000000       232.000000  \n",
       "max            3.000000    1344.000000      1580.000000  "
      ]
     },
     "execution_count": 28,
     "metadata": {},
     "output_type": "execute_result"
    }
   ],
   "source": [
    "df.describe()"
   ]
  },
  {
   "cell_type": "markdown",
   "metadata": {},
   "source": [
    "Мы видим некоторые ошибки в данных, этажи записаны не целыми числами, минимальная высота потолка 1 метр, а максимальная - 100 метров, выглядит явно нереалистично, скорее всего это ошибка при заполнении, количество балконов - дробные числа и др."
   ]
  },
  {
   "cell_type": "markdown",
   "metadata": {},
   "source": [
    "#### Посмотрим первые и последние строки датафрейма:"
   ]
  },
  {
   "cell_type": "code",
   "execution_count": 29,
   "metadata": {},
   "outputs": [
    {
     "data": {
      "text/html": [
       "<div>\n",
       "<style scoped>\n",
       "    .dataframe tbody tr th:only-of-type {\n",
       "        vertical-align: middle;\n",
       "    }\n",
       "\n",
       "    .dataframe tbody tr th {\n",
       "        vertical-align: top;\n",
       "    }\n",
       "\n",
       "    .dataframe thead th {\n",
       "        text-align: right;\n",
       "    }\n",
       "</style>\n",
       "<table border=\"1\" class=\"dataframe\">\n",
       "  <thead>\n",
       "    <tr style=\"text-align: right;\">\n",
       "      <th></th>\n",
       "      <th>total_images</th>\n",
       "      <th>last_price</th>\n",
       "      <th>total_area</th>\n",
       "      <th>first_day_exposition</th>\n",
       "      <th>rooms</th>\n",
       "      <th>ceiling_height</th>\n",
       "      <th>floors_total</th>\n",
       "      <th>living_area</th>\n",
       "      <th>floor</th>\n",
       "      <th>is_apartment</th>\n",
       "      <th>studio</th>\n",
       "      <th>open_plan</th>\n",
       "      <th>kitchen_area</th>\n",
       "      <th>balcony</th>\n",
       "      <th>locality_name</th>\n",
       "      <th>airports_nearest</th>\n",
       "      <th>cityCenters_nearest</th>\n",
       "      <th>parks_around3000</th>\n",
       "      <th>parks_nearest</th>\n",
       "      <th>ponds_around3000</th>\n",
       "      <th>ponds_nearest</th>\n",
       "      <th>days_exposition</th>\n",
       "    </tr>\n",
       "  </thead>\n",
       "  <tbody>\n",
       "    <tr>\n",
       "      <th>0</th>\n",
       "      <td>20</td>\n",
       "      <td>13000000.0</td>\n",
       "      <td>108.0</td>\n",
       "      <td>2019-03-07T00:00:00</td>\n",
       "      <td>3</td>\n",
       "      <td>2.70</td>\n",
       "      <td>16.0</td>\n",
       "      <td>51.0</td>\n",
       "      <td>8</td>\n",
       "      <td>NaN</td>\n",
       "      <td>False</td>\n",
       "      <td>False</td>\n",
       "      <td>25.0</td>\n",
       "      <td>NaN</td>\n",
       "      <td>Санкт-Петербург</td>\n",
       "      <td>18863.0</td>\n",
       "      <td>16028.0</td>\n",
       "      <td>1.0</td>\n",
       "      <td>482.0</td>\n",
       "      <td>2.0</td>\n",
       "      <td>755.0</td>\n",
       "      <td>NaN</td>\n",
       "    </tr>\n",
       "    <tr>\n",
       "      <th>1</th>\n",
       "      <td>7</td>\n",
       "      <td>3350000.0</td>\n",
       "      <td>40.4</td>\n",
       "      <td>2018-12-04T00:00:00</td>\n",
       "      <td>1</td>\n",
       "      <td>NaN</td>\n",
       "      <td>11.0</td>\n",
       "      <td>18.6</td>\n",
       "      <td>1</td>\n",
       "      <td>NaN</td>\n",
       "      <td>False</td>\n",
       "      <td>False</td>\n",
       "      <td>11.0</td>\n",
       "      <td>2.0</td>\n",
       "      <td>посёлок Шушары</td>\n",
       "      <td>12817.0</td>\n",
       "      <td>18603.0</td>\n",
       "      <td>0.0</td>\n",
       "      <td>NaN</td>\n",
       "      <td>0.0</td>\n",
       "      <td>NaN</td>\n",
       "      <td>81.0</td>\n",
       "    </tr>\n",
       "    <tr>\n",
       "      <th>2</th>\n",
       "      <td>10</td>\n",
       "      <td>5196000.0</td>\n",
       "      <td>56.0</td>\n",
       "      <td>2015-08-20T00:00:00</td>\n",
       "      <td>2</td>\n",
       "      <td>NaN</td>\n",
       "      <td>5.0</td>\n",
       "      <td>34.3</td>\n",
       "      <td>4</td>\n",
       "      <td>NaN</td>\n",
       "      <td>False</td>\n",
       "      <td>False</td>\n",
       "      <td>8.3</td>\n",
       "      <td>0.0</td>\n",
       "      <td>Санкт-Петербург</td>\n",
       "      <td>21741.0</td>\n",
       "      <td>13933.0</td>\n",
       "      <td>1.0</td>\n",
       "      <td>90.0</td>\n",
       "      <td>2.0</td>\n",
       "      <td>574.0</td>\n",
       "      <td>558.0</td>\n",
       "    </tr>\n",
       "    <tr>\n",
       "      <th>3</th>\n",
       "      <td>0</td>\n",
       "      <td>64900000.0</td>\n",
       "      <td>159.0</td>\n",
       "      <td>2015-07-24T00:00:00</td>\n",
       "      <td>3</td>\n",
       "      <td>NaN</td>\n",
       "      <td>14.0</td>\n",
       "      <td>NaN</td>\n",
       "      <td>9</td>\n",
       "      <td>NaN</td>\n",
       "      <td>False</td>\n",
       "      <td>False</td>\n",
       "      <td>NaN</td>\n",
       "      <td>0.0</td>\n",
       "      <td>Санкт-Петербург</td>\n",
       "      <td>28098.0</td>\n",
       "      <td>6800.0</td>\n",
       "      <td>2.0</td>\n",
       "      <td>84.0</td>\n",
       "      <td>3.0</td>\n",
       "      <td>234.0</td>\n",
       "      <td>424.0</td>\n",
       "    </tr>\n",
       "    <tr>\n",
       "      <th>4</th>\n",
       "      <td>2</td>\n",
       "      <td>10000000.0</td>\n",
       "      <td>100.0</td>\n",
       "      <td>2018-06-19T00:00:00</td>\n",
       "      <td>2</td>\n",
       "      <td>3.03</td>\n",
       "      <td>14.0</td>\n",
       "      <td>32.0</td>\n",
       "      <td>13</td>\n",
       "      <td>NaN</td>\n",
       "      <td>False</td>\n",
       "      <td>False</td>\n",
       "      <td>41.0</td>\n",
       "      <td>NaN</td>\n",
       "      <td>Санкт-Петербург</td>\n",
       "      <td>31856.0</td>\n",
       "      <td>8098.0</td>\n",
       "      <td>2.0</td>\n",
       "      <td>112.0</td>\n",
       "      <td>1.0</td>\n",
       "      <td>48.0</td>\n",
       "      <td>121.0</td>\n",
       "    </tr>\n",
       "  </tbody>\n",
       "</table>\n",
       "</div>"
      ],
      "text/plain": [
       "   total_images  last_price  total_area first_day_exposition  rooms  \\\n",
       "0            20  13000000.0       108.0  2019-03-07T00:00:00      3   \n",
       "1             7   3350000.0        40.4  2018-12-04T00:00:00      1   \n",
       "2            10   5196000.0        56.0  2015-08-20T00:00:00      2   \n",
       "3             0  64900000.0       159.0  2015-07-24T00:00:00      3   \n",
       "4             2  10000000.0       100.0  2018-06-19T00:00:00      2   \n",
       "\n",
       "   ceiling_height  floors_total  living_area  floor is_apartment  studio  \\\n",
       "0            2.70          16.0         51.0      8          NaN   False   \n",
       "1             NaN          11.0         18.6      1          NaN   False   \n",
       "2             NaN           5.0         34.3      4          NaN   False   \n",
       "3             NaN          14.0          NaN      9          NaN   False   \n",
       "4            3.03          14.0         32.0     13          NaN   False   \n",
       "\n",
       "   open_plan  kitchen_area  balcony    locality_name  airports_nearest  \\\n",
       "0      False          25.0      NaN  Санкт-Петербург           18863.0   \n",
       "1      False          11.0      2.0   посёлок Шушары           12817.0   \n",
       "2      False           8.3      0.0  Санкт-Петербург           21741.0   \n",
       "3      False           NaN      0.0  Санкт-Петербург           28098.0   \n",
       "4      False          41.0      NaN  Санкт-Петербург           31856.0   \n",
       "\n",
       "   cityCenters_nearest  parks_around3000  parks_nearest  ponds_around3000  \\\n",
       "0              16028.0               1.0          482.0               2.0   \n",
       "1              18603.0               0.0            NaN               0.0   \n",
       "2              13933.0               1.0           90.0               2.0   \n",
       "3               6800.0               2.0           84.0               3.0   \n",
       "4               8098.0               2.0          112.0               1.0   \n",
       "\n",
       "   ponds_nearest  days_exposition  \n",
       "0          755.0              NaN  \n",
       "1            NaN             81.0  \n",
       "2          574.0            558.0  \n",
       "3          234.0            424.0  \n",
       "4           48.0            121.0  "
      ]
     },
     "execution_count": 29,
     "metadata": {},
     "output_type": "execute_result"
    }
   ],
   "source": [
    "df.head(5)"
   ]
  },
  {
   "cell_type": "code",
   "execution_count": 30,
   "metadata": {},
   "outputs": [
    {
     "data": {
      "text/html": [
       "<div>\n",
       "<style scoped>\n",
       "    .dataframe tbody tr th:only-of-type {\n",
       "        vertical-align: middle;\n",
       "    }\n",
       "\n",
       "    .dataframe tbody tr th {\n",
       "        vertical-align: top;\n",
       "    }\n",
       "\n",
       "    .dataframe thead th {\n",
       "        text-align: right;\n",
       "    }\n",
       "</style>\n",
       "<table border=\"1\" class=\"dataframe\">\n",
       "  <thead>\n",
       "    <tr style=\"text-align: right;\">\n",
       "      <th></th>\n",
       "      <th>total_images</th>\n",
       "      <th>last_price</th>\n",
       "      <th>total_area</th>\n",
       "      <th>first_day_exposition</th>\n",
       "      <th>rooms</th>\n",
       "      <th>ceiling_height</th>\n",
       "      <th>floors_total</th>\n",
       "      <th>living_area</th>\n",
       "      <th>floor</th>\n",
       "      <th>is_apartment</th>\n",
       "      <th>studio</th>\n",
       "      <th>open_plan</th>\n",
       "      <th>kitchen_area</th>\n",
       "      <th>balcony</th>\n",
       "      <th>locality_name</th>\n",
       "      <th>airports_nearest</th>\n",
       "      <th>cityCenters_nearest</th>\n",
       "      <th>parks_around3000</th>\n",
       "      <th>parks_nearest</th>\n",
       "      <th>ponds_around3000</th>\n",
       "      <th>ponds_nearest</th>\n",
       "      <th>days_exposition</th>\n",
       "    </tr>\n",
       "  </thead>\n",
       "  <tbody>\n",
       "    <tr>\n",
       "      <th>23694</th>\n",
       "      <td>9</td>\n",
       "      <td>9700000.0</td>\n",
       "      <td>133.81</td>\n",
       "      <td>2017-03-21T00:00:00</td>\n",
       "      <td>3</td>\n",
       "      <td>3.7</td>\n",
       "      <td>5.0</td>\n",
       "      <td>73.3</td>\n",
       "      <td>3</td>\n",
       "      <td>NaN</td>\n",
       "      <td>False</td>\n",
       "      <td>False</td>\n",
       "      <td>13.83</td>\n",
       "      <td>NaN</td>\n",
       "      <td>Санкт-Петербург</td>\n",
       "      <td>24665.0</td>\n",
       "      <td>4232.0</td>\n",
       "      <td>1.0</td>\n",
       "      <td>796.0</td>\n",
       "      <td>3.0</td>\n",
       "      <td>381.0</td>\n",
       "      <td>NaN</td>\n",
       "    </tr>\n",
       "    <tr>\n",
       "      <th>23695</th>\n",
       "      <td>14</td>\n",
       "      <td>3100000.0</td>\n",
       "      <td>59.00</td>\n",
       "      <td>2018-01-15T00:00:00</td>\n",
       "      <td>3</td>\n",
       "      <td>NaN</td>\n",
       "      <td>5.0</td>\n",
       "      <td>38.0</td>\n",
       "      <td>4</td>\n",
       "      <td>NaN</td>\n",
       "      <td>False</td>\n",
       "      <td>False</td>\n",
       "      <td>8.50</td>\n",
       "      <td>NaN</td>\n",
       "      <td>Тосно</td>\n",
       "      <td>NaN</td>\n",
       "      <td>NaN</td>\n",
       "      <td>NaN</td>\n",
       "      <td>NaN</td>\n",
       "      <td>NaN</td>\n",
       "      <td>NaN</td>\n",
       "      <td>45.0</td>\n",
       "    </tr>\n",
       "    <tr>\n",
       "      <th>23696</th>\n",
       "      <td>18</td>\n",
       "      <td>2500000.0</td>\n",
       "      <td>56.70</td>\n",
       "      <td>2018-02-11T00:00:00</td>\n",
       "      <td>2</td>\n",
       "      <td>NaN</td>\n",
       "      <td>3.0</td>\n",
       "      <td>29.7</td>\n",
       "      <td>1</td>\n",
       "      <td>NaN</td>\n",
       "      <td>False</td>\n",
       "      <td>False</td>\n",
       "      <td>NaN</td>\n",
       "      <td>NaN</td>\n",
       "      <td>село Рождествено</td>\n",
       "      <td>NaN</td>\n",
       "      <td>NaN</td>\n",
       "      <td>NaN</td>\n",
       "      <td>NaN</td>\n",
       "      <td>NaN</td>\n",
       "      <td>NaN</td>\n",
       "      <td>NaN</td>\n",
       "    </tr>\n",
       "    <tr>\n",
       "      <th>23697</th>\n",
       "      <td>13</td>\n",
       "      <td>11475000.0</td>\n",
       "      <td>76.75</td>\n",
       "      <td>2017-03-28T00:00:00</td>\n",
       "      <td>2</td>\n",
       "      <td>3.0</td>\n",
       "      <td>17.0</td>\n",
       "      <td>NaN</td>\n",
       "      <td>12</td>\n",
       "      <td>NaN</td>\n",
       "      <td>False</td>\n",
       "      <td>False</td>\n",
       "      <td>23.30</td>\n",
       "      <td>2.0</td>\n",
       "      <td>Санкт-Петербург</td>\n",
       "      <td>39140.0</td>\n",
       "      <td>10364.0</td>\n",
       "      <td>2.0</td>\n",
       "      <td>173.0</td>\n",
       "      <td>3.0</td>\n",
       "      <td>196.0</td>\n",
       "      <td>602.0</td>\n",
       "    </tr>\n",
       "    <tr>\n",
       "      <th>23698</th>\n",
       "      <td>4</td>\n",
       "      <td>1350000.0</td>\n",
       "      <td>32.30</td>\n",
       "      <td>2017-07-21T00:00:00</td>\n",
       "      <td>1</td>\n",
       "      <td>2.5</td>\n",
       "      <td>5.0</td>\n",
       "      <td>12.3</td>\n",
       "      <td>1</td>\n",
       "      <td>NaN</td>\n",
       "      <td>False</td>\n",
       "      <td>False</td>\n",
       "      <td>9.00</td>\n",
       "      <td>NaN</td>\n",
       "      <td>поселок Новый Учхоз</td>\n",
       "      <td>NaN</td>\n",
       "      <td>NaN</td>\n",
       "      <td>NaN</td>\n",
       "      <td>NaN</td>\n",
       "      <td>NaN</td>\n",
       "      <td>NaN</td>\n",
       "      <td>NaN</td>\n",
       "    </tr>\n",
       "  </tbody>\n",
       "</table>\n",
       "</div>"
      ],
      "text/plain": [
       "       total_images  last_price  total_area first_day_exposition  rooms  \\\n",
       "23694             9   9700000.0      133.81  2017-03-21T00:00:00      3   \n",
       "23695            14   3100000.0       59.00  2018-01-15T00:00:00      3   \n",
       "23696            18   2500000.0       56.70  2018-02-11T00:00:00      2   \n",
       "23697            13  11475000.0       76.75  2017-03-28T00:00:00      2   \n",
       "23698             4   1350000.0       32.30  2017-07-21T00:00:00      1   \n",
       "\n",
       "       ceiling_height  floors_total  living_area  floor is_apartment  studio  \\\n",
       "23694             3.7           5.0         73.3      3          NaN   False   \n",
       "23695             NaN           5.0         38.0      4          NaN   False   \n",
       "23696             NaN           3.0         29.7      1          NaN   False   \n",
       "23697             3.0          17.0          NaN     12          NaN   False   \n",
       "23698             2.5           5.0         12.3      1          NaN   False   \n",
       "\n",
       "       open_plan  kitchen_area  balcony        locality_name  \\\n",
       "23694      False         13.83      NaN      Санкт-Петербург   \n",
       "23695      False          8.50      NaN                Тосно   \n",
       "23696      False           NaN      NaN     село Рождествено   \n",
       "23697      False         23.30      2.0      Санкт-Петербург   \n",
       "23698      False          9.00      NaN  поселок Новый Учхоз   \n",
       "\n",
       "       airports_nearest  cityCenters_nearest  parks_around3000  parks_nearest  \\\n",
       "23694           24665.0               4232.0               1.0          796.0   \n",
       "23695               NaN                  NaN               NaN            NaN   \n",
       "23696               NaN                  NaN               NaN            NaN   \n",
       "23697           39140.0              10364.0               2.0          173.0   \n",
       "23698               NaN                  NaN               NaN            NaN   \n",
       "\n",
       "       ponds_around3000  ponds_nearest  days_exposition  \n",
       "23694               3.0          381.0              NaN  \n",
       "23695               NaN            NaN             45.0  \n",
       "23696               NaN            NaN              NaN  \n",
       "23697               3.0          196.0            602.0  \n",
       "23698               NaN            NaN              NaN  "
      ]
     },
     "execution_count": 30,
     "metadata": {},
     "output_type": "execute_result"
    }
   ],
   "source": [
    "df.tail(5)"
   ]
  },
  {
   "cell_type": "markdown",
   "metadata": {},
   "source": [
    "С самого начала и до конца очень много пропусков, а также есть ошибки в формате данных, например, first_day_exposition должен быть не типа object, а datetime."
   ]
  },
  {
   "cell_type": "markdown",
   "metadata": {},
   "source": [
    "<div class=\"alert alert-block alert-success\">\n",
    " \n",
    "### Комментарий ревьюера\n",
    "    \n",
    "#### Успех\n",
    "    \n",
    "Первично посмотрели на данные. Ошибки в данных точно есть и надо будет решить что с ними сделать далее"
   ]
  },
  {
   "cell_type": "markdown",
   "metadata": {},
   "source": [
    "#### Посмотрим информацию о дубликатах и пропусках:"
   ]
  },
  {
   "cell_type": "code",
   "execution_count": 31,
   "metadata": {},
   "outputs": [
    {
     "data": {
      "text/plain": [
       "'Количество пропусков:'"
      ]
     },
     "metadata": {},
     "output_type": "display_data"
    },
    {
     "data": {
      "text/plain": [
       "total_images                0\n",
       "last_price                  0\n",
       "total_area                  0\n",
       "first_day_exposition        0\n",
       "rooms                       0\n",
       "ceiling_height           9195\n",
       "floors_total               86\n",
       "living_area              1903\n",
       "floor                       0\n",
       "is_apartment            20924\n",
       "studio                      0\n",
       "open_plan                   0\n",
       "kitchen_area             2278\n",
       "balcony                 11519\n",
       "locality_name              49\n",
       "airports_nearest         5542\n",
       "cityCenters_nearest      5519\n",
       "parks_around3000         5518\n",
       "parks_nearest           15620\n",
       "ponds_around3000         5518\n",
       "ponds_nearest           14589\n",
       "days_exposition          3181\n",
       "dtype: int64"
      ]
     },
     "metadata": {},
     "output_type": "display_data"
    }
   ],
   "source": [
    "display('Количество пропусков:', df.isna().sum())"
   ]
  },
  {
   "cell_type": "code",
   "execution_count": 32,
   "metadata": {},
   "outputs": [
    {
     "data": {
      "text/plain": [
       "'Количество явных дубликатов:'"
      ]
     },
     "metadata": {},
     "output_type": "display_data"
    },
    {
     "data": {
      "text/plain": [
       "0"
      ]
     },
     "metadata": {},
     "output_type": "display_data"
    }
   ],
   "source": [
    "display('Количество явных дубликатов:', df.duplicated().sum())"
   ]
  },
  {
   "cell_type": "markdown",
   "metadata": {},
   "source": [
    "<div class=\"alert alert-block alert-warning\">\n",
    " \n",
    "### Комментарий ревьюера\n",
    "    \n",
    "#### Совет\n",
    "    \n",
    "Для визуализации пропусков используй https://russianblogs.com/article/5001266235/"
   ]
  },
  {
   "cell_type": "markdown",
   "metadata": {},
   "source": [
    "Итак, явных дубликатов нет, а пропусков очень много, всего в 14 столбцах есть пропуски, причем в некоторых столбцах их процент составляет значительную часть, например, в данных, является ли вариант для проживания апартаментами, ближайшие парки, пруды, количество балконов, и другие. Это связано скорее всего с тем, что при заполнении полей это были не обязательными для заполнения либо автоматически не заполнились."
   ]
  },
  {
   "cell_type": "markdown",
   "metadata": {
    "id": "-O5NtivEAwb9"
   },
   "source": [
    "### Выполним предобработку данных"
   ]
  },
  {
   "cell_type": "markdown",
   "metadata": {},
   "source": [
    "#### Переименуем столбец, чтобы привести название к нижнему регистру:"
   ]
  },
  {
   "cell_type": "code",
   "execution_count": 33,
   "metadata": {
    "id": "7v3vAeTuAwb-",
    "scrolled": true
   },
   "outputs": [
    {
     "data": {
      "text/html": [
       "<div>\n",
       "<style scoped>\n",
       "    .dataframe tbody tr th:only-of-type {\n",
       "        vertical-align: middle;\n",
       "    }\n",
       "\n",
       "    .dataframe tbody tr th {\n",
       "        vertical-align: top;\n",
       "    }\n",
       "\n",
       "    .dataframe thead th {\n",
       "        text-align: right;\n",
       "    }\n",
       "</style>\n",
       "<table border=\"1\" class=\"dataframe\">\n",
       "  <thead>\n",
       "    <tr style=\"text-align: right;\">\n",
       "      <th></th>\n",
       "      <th>total_images</th>\n",
       "      <th>last_price</th>\n",
       "      <th>total_area</th>\n",
       "      <th>first_day_exposition</th>\n",
       "      <th>rooms</th>\n",
       "      <th>ceiling_height</th>\n",
       "      <th>floors_total</th>\n",
       "      <th>living_area</th>\n",
       "      <th>floor</th>\n",
       "      <th>is_apartment</th>\n",
       "      <th>studio</th>\n",
       "      <th>open_plan</th>\n",
       "      <th>kitchen_area</th>\n",
       "      <th>balcony</th>\n",
       "      <th>locality_name</th>\n",
       "      <th>airports_nearest</th>\n",
       "      <th>city_centers_nearest</th>\n",
       "      <th>parks_around3000</th>\n",
       "      <th>parks_nearest</th>\n",
       "      <th>ponds_around3000</th>\n",
       "      <th>ponds_nearest</th>\n",
       "      <th>days_exposition</th>\n",
       "    </tr>\n",
       "  </thead>\n",
       "  <tbody>\n",
       "    <tr>\n",
       "      <th>0</th>\n",
       "      <td>20</td>\n",
       "      <td>13000000.0</td>\n",
       "      <td>108.0</td>\n",
       "      <td>2019-03-07T00:00:00</td>\n",
       "      <td>3</td>\n",
       "      <td>2.7</td>\n",
       "      <td>16.0</td>\n",
       "      <td>51.0</td>\n",
       "      <td>8</td>\n",
       "      <td>NaN</td>\n",
       "      <td>False</td>\n",
       "      <td>False</td>\n",
       "      <td>25.0</td>\n",
       "      <td>NaN</td>\n",
       "      <td>Санкт-Петербург</td>\n",
       "      <td>18863.0</td>\n",
       "      <td>16028.0</td>\n",
       "      <td>1.0</td>\n",
       "      <td>482.0</td>\n",
       "      <td>2.0</td>\n",
       "      <td>755.0</td>\n",
       "      <td>NaN</td>\n",
       "    </tr>\n",
       "    <tr>\n",
       "      <th>1</th>\n",
       "      <td>7</td>\n",
       "      <td>3350000.0</td>\n",
       "      <td>40.4</td>\n",
       "      <td>2018-12-04T00:00:00</td>\n",
       "      <td>1</td>\n",
       "      <td>NaN</td>\n",
       "      <td>11.0</td>\n",
       "      <td>18.6</td>\n",
       "      <td>1</td>\n",
       "      <td>NaN</td>\n",
       "      <td>False</td>\n",
       "      <td>False</td>\n",
       "      <td>11.0</td>\n",
       "      <td>2.0</td>\n",
       "      <td>посёлок Шушары</td>\n",
       "      <td>12817.0</td>\n",
       "      <td>18603.0</td>\n",
       "      <td>0.0</td>\n",
       "      <td>NaN</td>\n",
       "      <td>0.0</td>\n",
       "      <td>NaN</td>\n",
       "      <td>81.0</td>\n",
       "    </tr>\n",
       "    <tr>\n",
       "      <th>2</th>\n",
       "      <td>10</td>\n",
       "      <td>5196000.0</td>\n",
       "      <td>56.0</td>\n",
       "      <td>2015-08-20T00:00:00</td>\n",
       "      <td>2</td>\n",
       "      <td>NaN</td>\n",
       "      <td>5.0</td>\n",
       "      <td>34.3</td>\n",
       "      <td>4</td>\n",
       "      <td>NaN</td>\n",
       "      <td>False</td>\n",
       "      <td>False</td>\n",
       "      <td>8.3</td>\n",
       "      <td>0.0</td>\n",
       "      <td>Санкт-Петербург</td>\n",
       "      <td>21741.0</td>\n",
       "      <td>13933.0</td>\n",
       "      <td>1.0</td>\n",
       "      <td>90.0</td>\n",
       "      <td>2.0</td>\n",
       "      <td>574.0</td>\n",
       "      <td>558.0</td>\n",
       "    </tr>\n",
       "  </tbody>\n",
       "</table>\n",
       "</div>"
      ],
      "text/plain": [
       "   total_images  last_price  total_area first_day_exposition  rooms  \\\n",
       "0            20  13000000.0       108.0  2019-03-07T00:00:00      3   \n",
       "1             7   3350000.0        40.4  2018-12-04T00:00:00      1   \n",
       "2            10   5196000.0        56.0  2015-08-20T00:00:00      2   \n",
       "\n",
       "   ceiling_height  floors_total  living_area  floor is_apartment  studio  \\\n",
       "0             2.7          16.0         51.0      8          NaN   False   \n",
       "1             NaN          11.0         18.6      1          NaN   False   \n",
       "2             NaN           5.0         34.3      4          NaN   False   \n",
       "\n",
       "   open_plan  kitchen_area  balcony    locality_name  airports_nearest  \\\n",
       "0      False          25.0      NaN  Санкт-Петербург           18863.0   \n",
       "1      False          11.0      2.0   посёлок Шушары           12817.0   \n",
       "2      False           8.3      0.0  Санкт-Петербург           21741.0   \n",
       "\n",
       "   city_centers_nearest  parks_around3000  parks_nearest  ponds_around3000  \\\n",
       "0               16028.0               1.0          482.0               2.0   \n",
       "1               18603.0               0.0            NaN               0.0   \n",
       "2               13933.0               1.0           90.0               2.0   \n",
       "\n",
       "   ponds_nearest  days_exposition  \n",
       "0          755.0              NaN  \n",
       "1            NaN             81.0  \n",
       "2          574.0            558.0  "
      ]
     },
     "execution_count": 33,
     "metadata": {},
     "output_type": "execute_result"
    }
   ],
   "source": [
    "df.rename(columns={'cityCenters_nearest':'city_centers_nearest'}, inplace = True)\n",
    "df.head(3)"
   ]
  },
  {
   "cell_type": "markdown",
   "metadata": {},
   "source": [
    "#### Исправим типы данных у некоторых столбцов:"
   ]
  },
  {
   "cell_type": "code",
   "execution_count": 34,
   "metadata": {
    "scrolled": true
   },
   "outputs": [
    {
     "data": {
      "text/plain": [
       "0   2019-03-07\n",
       "1   2018-12-04\n",
       "2   2015-08-20\n",
       "Name: first_day_exposition, dtype: datetime64[ns]"
      ]
     },
     "metadata": {},
     "output_type": "display_data"
    },
    {
     "data": {
      "text/html": [
       "<div>\n",
       "<style scoped>\n",
       "    .dataframe tbody tr th:only-of-type {\n",
       "        vertical-align: middle;\n",
       "    }\n",
       "\n",
       "    .dataframe tbody tr th {\n",
       "        vertical-align: top;\n",
       "    }\n",
       "\n",
       "    .dataframe thead th {\n",
       "        text-align: right;\n",
       "    }\n",
       "</style>\n",
       "<table border=\"1\" class=\"dataframe\">\n",
       "  <thead>\n",
       "    <tr style=\"text-align: right;\">\n",
       "      <th></th>\n",
       "      <th>total_images</th>\n",
       "      <th>last_price</th>\n",
       "      <th>total_area</th>\n",
       "      <th>first_day_exposition</th>\n",
       "      <th>rooms</th>\n",
       "      <th>ceiling_height</th>\n",
       "      <th>floors_total</th>\n",
       "      <th>living_area</th>\n",
       "      <th>floor</th>\n",
       "      <th>is_apartment</th>\n",
       "      <th>studio</th>\n",
       "      <th>open_plan</th>\n",
       "      <th>kitchen_area</th>\n",
       "      <th>balcony</th>\n",
       "      <th>locality_name</th>\n",
       "      <th>airports_nearest</th>\n",
       "      <th>city_centers_nearest</th>\n",
       "      <th>parks_around3000</th>\n",
       "      <th>parks_nearest</th>\n",
       "      <th>ponds_around3000</th>\n",
       "      <th>ponds_nearest</th>\n",
       "      <th>days_exposition</th>\n",
       "    </tr>\n",
       "  </thead>\n",
       "  <tbody>\n",
       "    <tr>\n",
       "      <th>0</th>\n",
       "      <td>20</td>\n",
       "      <td>13000000.0</td>\n",
       "      <td>108.0</td>\n",
       "      <td>2019-03-07</td>\n",
       "      <td>3</td>\n",
       "      <td>2.7</td>\n",
       "      <td>16.0</td>\n",
       "      <td>51.0</td>\n",
       "      <td>8</td>\n",
       "      <td>NaN</td>\n",
       "      <td>False</td>\n",
       "      <td>False</td>\n",
       "      <td>25.0</td>\n",
       "      <td>NaN</td>\n",
       "      <td>Санкт-Петербург</td>\n",
       "      <td>18863.0</td>\n",
       "      <td>16028.0</td>\n",
       "      <td>1.0</td>\n",
       "      <td>482.0</td>\n",
       "      <td>2.0</td>\n",
       "      <td>755.0</td>\n",
       "      <td>NaN</td>\n",
       "    </tr>\n",
       "    <tr>\n",
       "      <th>1</th>\n",
       "      <td>7</td>\n",
       "      <td>3350000.0</td>\n",
       "      <td>40.4</td>\n",
       "      <td>2018-12-04</td>\n",
       "      <td>1</td>\n",
       "      <td>NaN</td>\n",
       "      <td>11.0</td>\n",
       "      <td>18.6</td>\n",
       "      <td>1</td>\n",
       "      <td>NaN</td>\n",
       "      <td>False</td>\n",
       "      <td>False</td>\n",
       "      <td>11.0</td>\n",
       "      <td>2.0</td>\n",
       "      <td>посёлок Шушары</td>\n",
       "      <td>12817.0</td>\n",
       "      <td>18603.0</td>\n",
       "      <td>0.0</td>\n",
       "      <td>NaN</td>\n",
       "      <td>0.0</td>\n",
       "      <td>NaN</td>\n",
       "      <td>81.0</td>\n",
       "    </tr>\n",
       "    <tr>\n",
       "      <th>2</th>\n",
       "      <td>10</td>\n",
       "      <td>5196000.0</td>\n",
       "      <td>56.0</td>\n",
       "      <td>2015-08-20</td>\n",
       "      <td>2</td>\n",
       "      <td>NaN</td>\n",
       "      <td>5.0</td>\n",
       "      <td>34.3</td>\n",
       "      <td>4</td>\n",
       "      <td>NaN</td>\n",
       "      <td>False</td>\n",
       "      <td>False</td>\n",
       "      <td>8.3</td>\n",
       "      <td>0.0</td>\n",
       "      <td>Санкт-Петербург</td>\n",
       "      <td>21741.0</td>\n",
       "      <td>13933.0</td>\n",
       "      <td>1.0</td>\n",
       "      <td>90.0</td>\n",
       "      <td>2.0</td>\n",
       "      <td>574.0</td>\n",
       "      <td>558.0</td>\n",
       "    </tr>\n",
       "  </tbody>\n",
       "</table>\n",
       "</div>"
      ],
      "text/plain": [
       "   total_images  last_price  total_area first_day_exposition  rooms  \\\n",
       "0            20  13000000.0       108.0           2019-03-07      3   \n",
       "1             7   3350000.0        40.4           2018-12-04      1   \n",
       "2            10   5196000.0        56.0           2015-08-20      2   \n",
       "\n",
       "   ceiling_height  floors_total  living_area  floor is_apartment  studio  \\\n",
       "0             2.7          16.0         51.0      8          NaN   False   \n",
       "1             NaN          11.0         18.6      1          NaN   False   \n",
       "2             NaN           5.0         34.3      4          NaN   False   \n",
       "\n",
       "   open_plan  kitchen_area  balcony    locality_name  airports_nearest  \\\n",
       "0      False          25.0      NaN  Санкт-Петербург           18863.0   \n",
       "1      False          11.0      2.0   посёлок Шушары           12817.0   \n",
       "2      False           8.3      0.0  Санкт-Петербург           21741.0   \n",
       "\n",
       "   city_centers_nearest  parks_around3000  parks_nearest  ponds_around3000  \\\n",
       "0               16028.0               1.0          482.0               2.0   \n",
       "1               18603.0               0.0            NaN               0.0   \n",
       "2               13933.0               1.0           90.0               2.0   \n",
       "\n",
       "   ponds_nearest  days_exposition  \n",
       "0          755.0              NaN  \n",
       "1            NaN             81.0  \n",
       "2          574.0            558.0  "
      ]
     },
     "execution_count": 34,
     "metadata": {},
     "output_type": "execute_result"
    }
   ],
   "source": [
    "df['first_day_exposition'] = pd.to_datetime(df['first_day_exposition'], format = '%Y-%m-%d') #исходные данные округлены до дней, поэтому сохраним в датасете дни\n",
    "display(df['first_day_exposition'].head(3))\n",
    "df.head(3)"
   ]
  },
  {
   "cell_type": "markdown",
   "metadata": {},
   "source": [
    "<div class=\"alert alert-block alert-success\">\n",
    " \n",
    "### Комментарий ревьюера\n",
    "    \n",
    "#### Успех\n",
    "    \n",
    "Ты используешь достаточно удобный метод перевода в формат даты"
   ]
  },
  {
   "cell_type": "code",
   "execution_count": 35,
   "metadata": {
    "scrolled": true
   },
   "outputs": [
    {
     "data": {
      "text/plain": [
       "0    False\n",
       "1    False\n",
       "2    False\n",
       "Name: is_apartment, dtype: bool"
      ]
     },
     "metadata": {},
     "output_type": "display_data"
    },
    {
     "data": {
      "text/html": [
       "<div>\n",
       "<style scoped>\n",
       "    .dataframe tbody tr th:only-of-type {\n",
       "        vertical-align: middle;\n",
       "    }\n",
       "\n",
       "    .dataframe tbody tr th {\n",
       "        vertical-align: top;\n",
       "    }\n",
       "\n",
       "    .dataframe thead th {\n",
       "        text-align: right;\n",
       "    }\n",
       "</style>\n",
       "<table border=\"1\" class=\"dataframe\">\n",
       "  <thead>\n",
       "    <tr style=\"text-align: right;\">\n",
       "      <th></th>\n",
       "      <th>total_images</th>\n",
       "      <th>last_price</th>\n",
       "      <th>total_area</th>\n",
       "      <th>first_day_exposition</th>\n",
       "      <th>rooms</th>\n",
       "      <th>ceiling_height</th>\n",
       "      <th>floors_total</th>\n",
       "      <th>living_area</th>\n",
       "      <th>floor</th>\n",
       "      <th>is_apartment</th>\n",
       "      <th>studio</th>\n",
       "      <th>open_plan</th>\n",
       "      <th>kitchen_area</th>\n",
       "      <th>balcony</th>\n",
       "      <th>locality_name</th>\n",
       "      <th>airports_nearest</th>\n",
       "      <th>city_centers_nearest</th>\n",
       "      <th>parks_around3000</th>\n",
       "      <th>parks_nearest</th>\n",
       "      <th>ponds_around3000</th>\n",
       "      <th>ponds_nearest</th>\n",
       "      <th>days_exposition</th>\n",
       "    </tr>\n",
       "  </thead>\n",
       "  <tbody>\n",
       "    <tr>\n",
       "      <th>0</th>\n",
       "      <td>20</td>\n",
       "      <td>13000000.0</td>\n",
       "      <td>108.0</td>\n",
       "      <td>2019-03-07</td>\n",
       "      <td>3</td>\n",
       "      <td>2.7</td>\n",
       "      <td>16.0</td>\n",
       "      <td>51.0</td>\n",
       "      <td>8</td>\n",
       "      <td>False</td>\n",
       "      <td>False</td>\n",
       "      <td>False</td>\n",
       "      <td>25.0</td>\n",
       "      <td>NaN</td>\n",
       "      <td>Санкт-Петербург</td>\n",
       "      <td>18863.0</td>\n",
       "      <td>16028.0</td>\n",
       "      <td>1.0</td>\n",
       "      <td>482.0</td>\n",
       "      <td>2.0</td>\n",
       "      <td>755.0</td>\n",
       "      <td>NaN</td>\n",
       "    </tr>\n",
       "    <tr>\n",
       "      <th>1</th>\n",
       "      <td>7</td>\n",
       "      <td>3350000.0</td>\n",
       "      <td>40.4</td>\n",
       "      <td>2018-12-04</td>\n",
       "      <td>1</td>\n",
       "      <td>NaN</td>\n",
       "      <td>11.0</td>\n",
       "      <td>18.6</td>\n",
       "      <td>1</td>\n",
       "      <td>False</td>\n",
       "      <td>False</td>\n",
       "      <td>False</td>\n",
       "      <td>11.0</td>\n",
       "      <td>2.0</td>\n",
       "      <td>посёлок Шушары</td>\n",
       "      <td>12817.0</td>\n",
       "      <td>18603.0</td>\n",
       "      <td>0.0</td>\n",
       "      <td>NaN</td>\n",
       "      <td>0.0</td>\n",
       "      <td>NaN</td>\n",
       "      <td>81.0</td>\n",
       "    </tr>\n",
       "    <tr>\n",
       "      <th>2</th>\n",
       "      <td>10</td>\n",
       "      <td>5196000.0</td>\n",
       "      <td>56.0</td>\n",
       "      <td>2015-08-20</td>\n",
       "      <td>2</td>\n",
       "      <td>NaN</td>\n",
       "      <td>5.0</td>\n",
       "      <td>34.3</td>\n",
       "      <td>4</td>\n",
       "      <td>False</td>\n",
       "      <td>False</td>\n",
       "      <td>False</td>\n",
       "      <td>8.3</td>\n",
       "      <td>0.0</td>\n",
       "      <td>Санкт-Петербург</td>\n",
       "      <td>21741.0</td>\n",
       "      <td>13933.0</td>\n",
       "      <td>1.0</td>\n",
       "      <td>90.0</td>\n",
       "      <td>2.0</td>\n",
       "      <td>574.0</td>\n",
       "      <td>558.0</td>\n",
       "    </tr>\n",
       "  </tbody>\n",
       "</table>\n",
       "</div>"
      ],
      "text/plain": [
       "   total_images  last_price  total_area first_day_exposition  rooms  \\\n",
       "0            20  13000000.0       108.0           2019-03-07      3   \n",
       "1             7   3350000.0        40.4           2018-12-04      1   \n",
       "2            10   5196000.0        56.0           2015-08-20      2   \n",
       "\n",
       "   ceiling_height  floors_total  living_area  floor  is_apartment  studio  \\\n",
       "0             2.7          16.0         51.0      8         False   False   \n",
       "1             NaN          11.0         18.6      1         False   False   \n",
       "2             NaN           5.0         34.3      4         False   False   \n",
       "\n",
       "   open_plan  kitchen_area  balcony    locality_name  airports_nearest  \\\n",
       "0      False          25.0      NaN  Санкт-Петербург           18863.0   \n",
       "1      False          11.0      2.0   посёлок Шушары           12817.0   \n",
       "2      False           8.3      0.0  Санкт-Петербург           21741.0   \n",
       "\n",
       "   city_centers_nearest  parks_around3000  parks_nearest  ponds_around3000  \\\n",
       "0               16028.0               1.0          482.0               2.0   \n",
       "1               18603.0               0.0            NaN               0.0   \n",
       "2               13933.0               1.0           90.0               2.0   \n",
       "\n",
       "   ponds_nearest  days_exposition  \n",
       "0          755.0              NaN  \n",
       "1            NaN             81.0  \n",
       "2          574.0            558.0  "
      ]
     },
     "execution_count": 35,
     "metadata": {},
     "output_type": "execute_result"
    }
   ],
   "source": [
    "df['is_apartment'] = df['is_apartment'].fillna(False)\n",
    "df['is_apartment'] = df['is_apartment'].astype(bool)\n",
    "display(df['is_apartment'].head(3))\n",
    "df.head(3)"
   ]
  },
  {
   "cell_type": "code",
   "execution_count": 36,
   "metadata": {
    "scrolled": true
   },
   "outputs": [
    {
     "data": {
      "text/plain": [
       "0    20\n",
       "1     7\n",
       "2    10\n",
       "Name: total_images, dtype: int64"
      ]
     },
     "metadata": {},
     "output_type": "display_data"
    },
    {
     "data": {
      "text/html": [
       "<div>\n",
       "<style scoped>\n",
       "    .dataframe tbody tr th:only-of-type {\n",
       "        vertical-align: middle;\n",
       "    }\n",
       "\n",
       "    .dataframe tbody tr th {\n",
       "        vertical-align: top;\n",
       "    }\n",
       "\n",
       "    .dataframe thead th {\n",
       "        text-align: right;\n",
       "    }\n",
       "</style>\n",
       "<table border=\"1\" class=\"dataframe\">\n",
       "  <thead>\n",
       "    <tr style=\"text-align: right;\">\n",
       "      <th></th>\n",
       "      <th>total_images</th>\n",
       "      <th>last_price</th>\n",
       "      <th>total_area</th>\n",
       "      <th>first_day_exposition</th>\n",
       "      <th>rooms</th>\n",
       "      <th>ceiling_height</th>\n",
       "      <th>floors_total</th>\n",
       "      <th>living_area</th>\n",
       "      <th>floor</th>\n",
       "      <th>is_apartment</th>\n",
       "      <th>studio</th>\n",
       "      <th>open_plan</th>\n",
       "      <th>kitchen_area</th>\n",
       "      <th>balcony</th>\n",
       "      <th>locality_name</th>\n",
       "      <th>airports_nearest</th>\n",
       "      <th>city_centers_nearest</th>\n",
       "      <th>parks_around3000</th>\n",
       "      <th>parks_nearest</th>\n",
       "      <th>ponds_around3000</th>\n",
       "      <th>ponds_nearest</th>\n",
       "      <th>days_exposition</th>\n",
       "    </tr>\n",
       "  </thead>\n",
       "  <tbody>\n",
       "    <tr>\n",
       "      <th>0</th>\n",
       "      <td>20</td>\n",
       "      <td>13000000.0</td>\n",
       "      <td>108.0</td>\n",
       "      <td>2019-03-07</td>\n",
       "      <td>3</td>\n",
       "      <td>2.7</td>\n",
       "      <td>16.0</td>\n",
       "      <td>51.0</td>\n",
       "      <td>8</td>\n",
       "      <td>False</td>\n",
       "      <td>False</td>\n",
       "      <td>False</td>\n",
       "      <td>25.0</td>\n",
       "      <td>NaN</td>\n",
       "      <td>Санкт-Петербург</td>\n",
       "      <td>18863.0</td>\n",
       "      <td>16028.0</td>\n",
       "      <td>1.0</td>\n",
       "      <td>482.0</td>\n",
       "      <td>2.0</td>\n",
       "      <td>755.0</td>\n",
       "      <td>NaN</td>\n",
       "    </tr>\n",
       "    <tr>\n",
       "      <th>1</th>\n",
       "      <td>7</td>\n",
       "      <td>3350000.0</td>\n",
       "      <td>40.4</td>\n",
       "      <td>2018-12-04</td>\n",
       "      <td>1</td>\n",
       "      <td>NaN</td>\n",
       "      <td>11.0</td>\n",
       "      <td>18.6</td>\n",
       "      <td>1</td>\n",
       "      <td>False</td>\n",
       "      <td>False</td>\n",
       "      <td>False</td>\n",
       "      <td>11.0</td>\n",
       "      <td>2.0</td>\n",
       "      <td>посёлок Шушары</td>\n",
       "      <td>12817.0</td>\n",
       "      <td>18603.0</td>\n",
       "      <td>0.0</td>\n",
       "      <td>NaN</td>\n",
       "      <td>0.0</td>\n",
       "      <td>NaN</td>\n",
       "      <td>81.0</td>\n",
       "    </tr>\n",
       "    <tr>\n",
       "      <th>2</th>\n",
       "      <td>10</td>\n",
       "      <td>5196000.0</td>\n",
       "      <td>56.0</td>\n",
       "      <td>2015-08-20</td>\n",
       "      <td>2</td>\n",
       "      <td>NaN</td>\n",
       "      <td>5.0</td>\n",
       "      <td>34.3</td>\n",
       "      <td>4</td>\n",
       "      <td>False</td>\n",
       "      <td>False</td>\n",
       "      <td>False</td>\n",
       "      <td>8.3</td>\n",
       "      <td>0.0</td>\n",
       "      <td>Санкт-Петербург</td>\n",
       "      <td>21741.0</td>\n",
       "      <td>13933.0</td>\n",
       "      <td>1.0</td>\n",
       "      <td>90.0</td>\n",
       "      <td>2.0</td>\n",
       "      <td>574.0</td>\n",
       "      <td>558.0</td>\n",
       "    </tr>\n",
       "  </tbody>\n",
       "</table>\n",
       "</div>"
      ],
      "text/plain": [
       "   total_images  last_price  total_area first_day_exposition  rooms  \\\n",
       "0            20  13000000.0       108.0           2019-03-07      3   \n",
       "1             7   3350000.0        40.4           2018-12-04      1   \n",
       "2            10   5196000.0        56.0           2015-08-20      2   \n",
       "\n",
       "   ceiling_height  floors_total  living_area  floor  is_apartment  studio  \\\n",
       "0             2.7          16.0         51.0      8         False   False   \n",
       "1             NaN          11.0         18.6      1         False   False   \n",
       "2             NaN           5.0         34.3      4         False   False   \n",
       "\n",
       "   open_plan  kitchen_area  balcony    locality_name  airports_nearest  \\\n",
       "0      False          25.0      NaN  Санкт-Петербург           18863.0   \n",
       "1      False          11.0      2.0   посёлок Шушары           12817.0   \n",
       "2      False           8.3      0.0  Санкт-Петербург           21741.0   \n",
       "\n",
       "   city_centers_nearest  parks_around3000  parks_nearest  ponds_around3000  \\\n",
       "0               16028.0               1.0          482.0               2.0   \n",
       "1               18603.0               0.0            NaN               0.0   \n",
       "2               13933.0               1.0           90.0               2.0   \n",
       "\n",
       "   ponds_nearest  days_exposition  \n",
       "0          755.0              NaN  \n",
       "1            NaN             81.0  \n",
       "2          574.0            558.0  "
      ]
     },
     "execution_count": 36,
     "metadata": {},
     "output_type": "execute_result"
    }
   ],
   "source": [
    "df['total_images'].astype('int') #количество фото это целое число\n",
    "display(df['total_images'].head(3))\n",
    "df.head(3)"
   ]
  },
  {
   "cell_type": "markdown",
   "metadata": {},
   "source": [
    "Типы данных исправили у трех столбцов."
   ]
  },
  {
   "cell_type": "markdown",
   "metadata": {},
   "source": [
    "<div class=\"alert alert-block alert-success\">\n",
    " \n",
    "### Комментарий ревьюера\n",
    "    \n",
    "#### Успех\n",
    "    \n",
    "Тут тобой использован оптимальный метод проработки."
   ]
  },
  {
   "cell_type": "markdown",
   "metadata": {},
   "source": [
    "#### Ищем неявные дубликаты и заполняем пропуски:"
   ]
  },
  {
   "cell_type": "code",
   "execution_count": 37,
   "metadata": {
    "scrolled": false
   },
   "outputs": [
    {
     "data": {
      "text/plain": [
       "'Количество уникальных значений населенных пунктов:'"
      ]
     },
     "metadata": {},
     "output_type": "display_data"
    },
    {
     "data": {
      "text/plain": [
       "364"
      ]
     },
     "metadata": {},
     "output_type": "display_data"
    }
   ],
   "source": [
    "#посмотрим на названия населенного пункта, тут очень много повторений, неявных дубликатов, из-за разного написания слова поселок, нужно это исправить перед заполнением пропусков\n",
    "\n",
    "display('Количество уникальных значений населенных пунктов:', df.locality_name.nunique())"
   ]
  },
  {
   "cell_type": "code",
   "execution_count": 38,
   "metadata": {
    "scrolled": false
   },
   "outputs": [
    {
     "data": {
      "text/plain": [
       "array(['Санкт-Петербург', 'поселок Шушары', 'поселок Янино-1',\n",
       "       'поселок Парголово', 'поселок Мурино', 'Ломоносов', 'Сертолово',\n",
       "       'Петергоф', 'Пушкин', 'деревня Кудрово', 'Коммунар', 'Колпино',\n",
       "       'поселок Красный Бор', 'Гатчина', 'деревня Федоровское', 'Выборг',\n",
       "       'Кронштадт', 'Кировск', 'деревня Новое Девяткино',\n",
       "       'поселок Металлострой', 'поселок Лебяжье', 'поселок Сиверский',\n",
       "       'поселок Молодцово', 'поселок Кузьмоловский',\n",
       "       'садовое товарищество Новая Ропша', 'Павловск',\n",
       "       'деревня Пикколово', 'Всеволожск', 'Волхов', 'Кингисепп',\n",
       "       'Приозерск', 'Сестрорецк', 'деревня Куттузи', 'поселок Аннино',\n",
       "       'поселок Ефимовский', 'поселок Плодовое', 'деревня Заклинье',\n",
       "       'поселок Торковичи', 'поселок Первомайское', 'Красное Село',\n",
       "       'поселок Понтонный', 'Сясьстрой', 'деревня Старая',\n",
       "       'деревня Лесколово', 'поселок Новый Свет', 'Сланцы',\n",
       "       'село Путилово', 'Ивангород', 'Мурино', 'Шлиссельбург',\n",
       "       'Никольское', 'Зеленогорск', 'Сосновый Бор', 'деревня Оржицы',\n",
       "       'деревня Кальтино', 'Кудрово', 'поселок Романовка',\n",
       "       'поселок Бугры', 'поселок Рощино', 'Кириши', 'Луга', 'Волосово',\n",
       "       'Отрадное', 'село Павлово', 'поселок Оредеж', 'село Копорье',\n",
       "       'поселок Молодежное', 'Тихвин', 'поселок Победа', 'деревня Нурма',\n",
       "       'поселок Синявино', 'Тосно', 'поселок Стрельна', 'Бокситогорск',\n",
       "       'поселок Александровская', 'деревня Лопухинка', 'Пикалево',\n",
       "       'поселок Терволово', 'поселок Советский', 'Подпорожье',\n",
       "       'поселок Петровское', 'поселок Токсово', 'поселок Сельцо',\n",
       "       'поселок Вырица', 'деревня Кипень', 'деревня Келози',\n",
       "       'деревня Вартемяги', 'поселок Тельмана', 'поселок Севастьяново',\n",
       "       'поселок Большая Ижора', nan, 'поселок Павлово',\n",
       "       'деревня Агалатово', 'поселок Новогорелово', 'поселок Лесогорский',\n",
       "       'деревня Лаголово', 'поселок Цвелодубово', 'поселок Рахья',\n",
       "       'деревня Белогорка', 'поселок Заводской', 'поселок Новоселье',\n",
       "       'деревня Большие Колпаны', 'деревня Горбунки', 'деревня Батово',\n",
       "       'деревня Заневка', 'деревня Иссад', 'Приморск',\n",
       "       'поселок Федоровское', 'деревня Мистолово', 'Новая Ладога',\n",
       "       'поселок Зимитицы', 'поселок Барышево', 'деревня Разметелево',\n",
       "       'поселок имени Свердлова', 'деревня Пеники', 'поселок Рябово',\n",
       "       'деревня Пудомяги', 'поселок станции Корнево', 'деревня Низино',\n",
       "       'деревня Бегуницы', 'поселок Поляны', 'поселок Мга',\n",
       "       'поселок Елизаветино', 'поселок Кузнечное', 'деревня Колтуши',\n",
       "       'поселок Запорожское', 'деревня Гостилицы',\n",
       "       'деревня Малое Карлино', 'поселок Мичуринское',\n",
       "       'поселок имени Морозова', 'поселок Песочный', 'поселок Сосново',\n",
       "       'деревня Аро', 'поселок Ильичево', 'поселок Тайцы',\n",
       "       'деревня Малое Верево', 'деревня Извара', 'поселок станции Вещево',\n",
       "       'село Паша', 'деревня Калитино', 'поселок Ульяновка',\n",
       "       'деревня Чудской Бор', 'поселок Дубровка', 'деревня Мины',\n",
       "       'поселок Войсковицы', 'деревня Коркино', 'поселок Ропша',\n",
       "       'поселок Приладожский', 'поселок Щеглово', 'поселок Гаврилово',\n",
       "       'Лодейное Поле', 'деревня Рабитицы', 'поселок Никольский',\n",
       "       'деревня Кузьмолово', 'деревня Малые Колпаны',\n",
       "       'поселок Петро-Славянка', 'поселок Назия', 'поселок Репино',\n",
       "       'поселок Углово', 'поселок Старая Малукса',\n",
       "       'садовое товарищество Рахья', 'деревня Меньково',\n",
       "       'деревня Старые Бегуницы', 'поселок Саперный', 'поселок Семрино',\n",
       "       'поселок Глажево', 'поселок Кобринское', 'деревня Гарболово',\n",
       "       'деревня Юкки', 'поселок станции Приветнинское',\n",
       "       'деревня Мануйлово', 'деревня Пчева', 'поселок Цвылево',\n",
       "       'поселок Мельниково', 'поселок Пудость', 'поселок Усть-Луга',\n",
       "       'Светогорск', 'Любань', 'поселок Селезнево', 'Каменногорск',\n",
       "       'деревня Кривко', 'поселок Глебычево', 'деревня Парицы',\n",
       "       'поселок Жилпоселок', 'поселок Войскорово', 'село Никольское',\n",
       "       'поселок Стеклянный', 'поселок Важины', 'поселок Мыза-Ивановка',\n",
       "       'село Русско-Высоцкое', 'поселок Форносово', 'село Старая Ладога',\n",
       "       'поселок Житково', 'поселок Виллози', 'деревня Лампово',\n",
       "       'деревня Шпаньково', 'деревня Лаврики', 'поселок Сумино',\n",
       "       'поселок Возрождение', 'деревня Старосиверская',\n",
       "       'поселок Кикерино', 'деревня Старое Хинколово',\n",
       "       'поселок Пригородный', 'поселок Торфяное', 'поселок Будогощь',\n",
       "       'поселок Суходолье', 'поселок Красная Долина', 'деревня Хапо-Ое',\n",
       "       'поселок Дружная Горка', 'поселок Лисий Нос', 'деревня Яльгелево',\n",
       "       'село Рождествено', 'деревня Старополье', 'поселок Левашово',\n",
       "       'деревня Сяськелево', 'деревня Камышовка',\n",
       "       'садоводческое некоммерческое товарищество Лесная Поляна',\n",
       "       'деревня Хязельки', 'поселок Жилгородок', 'деревня Ялгино',\n",
       "       'поселок Новый Учхоз', 'поселок Гончарово', 'поселок Почап',\n",
       "       'поселок Саперное', 'поселок Платформа 69-й километр',\n",
       "       'поселок Каложицы', 'деревня Фалилеево', 'деревня Пельгора',\n",
       "       'деревня Торошковичи', 'поселок Белоостров', 'поселок Алексеевка',\n",
       "       'поселок Серебрянский', 'поселок Лукаши', 'деревня Щеглово',\n",
       "       'деревня Тарасово', 'поселок Кингисеппский',\n",
       "       'поселок при железнодорожной станции Вещево', 'поселок Ушаки',\n",
       "       'деревня Котлы', 'деревня Сижно', 'деревня Торосово',\n",
       "       'поселок Форт Красная Горка', 'деревня Новолисино',\n",
       "       'поселок станции Громово', 'деревня Глинка',\n",
       "       'деревня Старая Пустошь', 'поселок Коммунары', 'поселок Починок',\n",
       "       'поселок Вознесенье', 'деревня Разбегаево', 'поселок Гладкое',\n",
       "       'поселок при железнодорожной станции Приветнинское',\n",
       "       'поселок Тесово-4', 'деревня Бор', 'поселок Коробицыно',\n",
       "       'деревня Большая Вруда', 'деревня Курковицы', 'поселок Кобралово',\n",
       "       'деревня Суоранда', 'поселок Кондратьево', 'поселок Счастье',\n",
       "       'поселок Любань', 'деревня Реброво', 'деревня Зимитицы',\n",
       "       'деревня Тойворово', 'поселок Семиозерье', 'поселок Лесное',\n",
       "       'поселок Совхозный', 'поселок Ленинское', 'поселок Суйда',\n",
       "       'деревня Нижние Осельки', 'поселок станции Свирь',\n",
       "       'поселок Перово', 'Высоцк', 'поселок Гарболово', 'село Шум',\n",
       "       'поселок Котельский', 'поселок станции Лужайка',\n",
       "       'деревня Большая Пустомержа', 'поселок Красносельское',\n",
       "       'деревня Вахнова Кара', 'деревня Пижма', 'поселок Кивеннапа Север',\n",
       "       'поселок Ромашки', 'деревня Каськово', 'деревня Куровицы',\n",
       "       'поселок Плоское', 'поселок Кирпичное', 'деревня Ям-Тесово',\n",
       "       'деревня Раздолье', 'деревня Терпилицы', 'поселок Шугозеро',\n",
       "       'деревня Ваганово', 'поселок Пушное', 'садовое товарищество Садко',\n",
       "       'поселок Усть-Ижора', 'деревня Выскатка', 'поселок Свирьстрой',\n",
       "       'поселок Громово', 'деревня Кисельня', 'деревня Трубников Бор',\n",
       "       'поселок Калитино', 'поселок Высокоключевой',\n",
       "       'садовое товарищество Приладожский',\n",
       "       'поселок Пансионат Зеленый Бор', 'деревня Ненимяки',\n",
       "       'деревня Снегиревка', 'деревня Рапполово', 'деревня Пустынка',\n",
       "       'поселок Рабитицы', 'деревня Большой Сабск', 'деревня Русско',\n",
       "       'деревня Лупполово', 'деревня Большое Рейзино',\n",
       "       'деревня Малая Романовка', 'поселок Дружноселье', 'поселок Пчевжа',\n",
       "       'поселок Володарское', 'деревня Нижняя', 'деревня Тихковицы',\n",
       "       'деревня Борисова Грива', 'поселок Дзержинского'], dtype=object)"
      ]
     },
     "execution_count": 38,
     "metadata": {},
     "output_type": "execute_result"
    }
   ],
   "source": [
    "df.locality_name = df.locality_name.str.replace('ё', 'е')\n",
    "df.locality_name = df.locality_name.str.replace('поселок городского типа', 'поселок')\n",
    "df.locality_name = df.locality_name.str.replace('городской поселок', 'поселок')\n",
    "df.locality_name = df.locality_name.str.replace('коттеджный поселок', 'поселок')\n",
    "df.locality_name.unique()"
   ]
  },
  {
   "cell_type": "markdown",
   "metadata": {},
   "source": [
    "<div class=\"alert alert-block alert-danger\">\n",
    " \n",
    "### Комментарий ревьюера\n",
    "    \n",
    "#### Ошибка\n",
    "\n",
    "А здесь правильно будет вывести количество оставшихся уникальных значений после проработки."
   ]
  },
  {
   "cell_type": "code",
   "execution_count": 39,
   "metadata": {},
   "outputs": [
    {
     "data": {
      "text/plain": [
       "'Количество уникальных значений населенных пунктов:'"
      ]
     },
     "metadata": {},
     "output_type": "display_data"
    },
    {
     "data": {
      "text/plain": [
       "321"
      ]
     },
     "metadata": {},
     "output_type": "display_data"
    }
   ],
   "source": [
    "# посмотрим количество оставшихся уникальных значений:\n",
    "\n",
    "display('Количество уникальных значений населенных пунктов:', df.locality_name.nunique())"
   ]
  },
  {
   "cell_type": "code",
   "execution_count": 40,
   "metadata": {
    "scrolled": true
   },
   "outputs": [
    {
     "data": {
      "text/plain": [
       "'Количество пропусков столбце с высотой потолков:'"
      ]
     },
     "metadata": {},
     "output_type": "display_data"
    },
    {
     "data": {
      "text/plain": [
       "9195"
      ]
     },
     "metadata": {},
     "output_type": "display_data"
    },
    {
     "data": {
      "text/plain": [
       "count    14504.000000\n",
       "mean         2.771499\n",
       "std          1.261056\n",
       "min          1.000000\n",
       "25%          2.520000\n",
       "50%          2.650000\n",
       "75%          2.800000\n",
       "max        100.000000\n",
       "Name: ceiling_height, dtype: float64"
      ]
     },
     "metadata": {},
     "output_type": "display_data"
    }
   ],
   "source": [
    "#посмотрим пропуски по высоте потолков\n",
    "display('Количество пропусков столбце с высотой потолков:', df.ceiling_height.isna().sum())\n",
    "display(df['ceiling_height'].describe()) #посмотрим общую информацйию по этому столбцу"
   ]
  },
  {
   "cell_type": "code",
   "execution_count": 41,
   "metadata": {},
   "outputs": [],
   "source": [
    "#поработаем со столбцом ceiling_height - для начала, все значения NaN заменим на медиану:\n",
    "df['ceiling_height'] = df['ceiling_height'].fillna(df['ceiling_height'].median())"
   ]
  },
  {
   "cell_type": "markdown",
   "metadata": {},
   "source": [
    "<div class=\"alert alert-block alert-success\">\n",
    " \n",
    "### Комментарий ревьюера\n",
    "    \n",
    "#### Успех\n",
    "    \n",
    "Соглашусь. Оптимально пропуски никак не заменить и лучше всего заменить на медиану, так как высота потолков достаточно стандартизированное значение"
   ]
  },
  {
   "cell_type": "code",
   "execution_count": 42,
   "metadata": {},
   "outputs": [
    {
     "data": {
      "text/plain": [
       "'Количество квартир с потолками выше 3.5 метров:'"
      ]
     },
     "metadata": {},
     "output_type": "display_data"
    },
    {
     "data": {
      "text/plain": [
       "304"
      ]
     },
     "metadata": {},
     "output_type": "display_data"
    }
   ],
   "source": [
    "#посмотрим, сколько у нас аномальных значений, требующих замены, например, признаем аномальными потолки выше 3.5 метров\n",
    "display('Количество квартир с потолками выше 3.5 метров:', len(df[df['ceiling_height'] > 3.5].sort_values('ceiling_height')))"
   ]
  },
  {
   "cell_type": "code",
   "execution_count": 43,
   "metadata": {},
   "outputs": [
    {
     "data": {
      "text/plain": [
       "22869    100.0\n",
       "3148      32.0\n",
       "22336     32.0\n",
       "21377     27.5\n",
       "4876      27.0\n",
       "17857     27.0\n",
       "5246      27.0\n",
       "20478     27.0\n",
       "22938     27.0\n",
       "5807      27.0\n",
       "21824     27.0\n",
       "10773     27.0\n",
       "5669      26.0\n",
       "18545     25.0\n",
       "4643      25.0\n",
       "9379      25.0\n",
       "11285     25.0\n",
       "14382     25.0\n",
       "355       25.0\n",
       "6246      25.0\n",
       "5076      24.0\n",
       "20507     22.6\n",
       "17496     20.0\n",
       "15061     14.0\n",
       "22309     10.3\n",
       "5863       8.3\n",
       "3474       8.0\n",
       "15743      8.0\n",
       "17442      8.0\n",
       "20264      6.0\n",
       "Name: ceiling_height, dtype: float64"
      ]
     },
     "execution_count": 43,
     "metadata": {},
     "output_type": "execute_result"
    }
   ],
   "source": [
    "#Здесь явно были допущены какие-то систематические ошибки, посмотрим на 30 самых больших этих значений:\n",
    "df['ceiling_height'].sort_values(ascending=False).head(30)"
   ]
  },
  {
   "cell_type": "code",
   "execution_count": 44,
   "metadata": {
    "scrolled": true
   },
   "outputs": [
    {
     "data": {
      "text/plain": [
       "20507    22.6\n",
       "17496    20.0\n",
       "15061    14.0\n",
       "22309    10.3\n",
       "22869    10.0\n",
       "5863      8.3\n",
       "15743     8.0\n",
       "3474      8.0\n",
       "17442     8.0\n",
       "20264     6.0\n",
       "Name: ceiling_height, dtype: float64"
      ]
     },
     "execution_count": 44,
     "metadata": {},
     "output_type": "execute_result"
    }
   ],
   "source": [
    "#можно предположить, что для значений от 24 и больше неверно поставили точку в данных, имея в виду 2.4 метра, исправим:\n",
    "df.loc[df['ceiling_height'] >=24.0, 'ceiling_height'] = df['ceiling_height']/10\n",
    "df['ceiling_height'].sort_values(ascending=False).head(10)"
   ]
  },
  {
   "cell_type": "code",
   "execution_count": 45,
   "metadata": {},
   "outputs": [
    {
     "data": {
      "text/plain": [
       "14946    3.49\n",
       "22843    3.49\n",
       "22063    3.48\n",
       "17417    3.47\n",
       "9096     3.47\n",
       "5195     3.47\n",
       "18000    3.47\n",
       "13525    3.47\n",
       "14696    3.47\n",
       "20183    3.46\n",
       "Name: ceiling_height, dtype: float64"
      ]
     },
     "execution_count": 45,
     "metadata": {},
     "output_type": "execute_result"
    }
   ],
   "source": [
    "#для потолков выше 3,5 метров, признавая их аномальными значениями, заменим на медиану:\n",
    "df.loc[df['ceiling_height'] >=3.5, 'ceiling_height'] = df['ceiling_height'].median()\n",
    "df['ceiling_height'].sort_values(ascending=False).head(10) #проверим замену"
   ]
  },
  {
   "cell_type": "markdown",
   "metadata": {},
   "source": [
    "<div class=\"alert alert-block alert-success\">\n",
    " \n",
    "### Комментарий ревьюера\n",
    "    \n",
    "#### Успех\n",
    "    \n",
    "Устранили выбросы. Супер."
   ]
  },
  {
   "cell_type": "code",
   "execution_count": 46,
   "metadata": {
    "scrolled": true
   },
   "outputs": [
    {
     "data": {
      "text/plain": [
       "'Количество пропусков:'"
      ]
     },
     "metadata": {},
     "output_type": "display_data"
    },
    {
     "data": {
      "text/plain": [
       "0"
      ]
     },
     "metadata": {},
     "output_type": "display_data"
    },
    {
     "data": {
      "text/html": [
       "<div>\n",
       "<style scoped>\n",
       "    .dataframe tbody tr th:only-of-type {\n",
       "        vertical-align: middle;\n",
       "    }\n",
       "\n",
       "    .dataframe tbody tr th {\n",
       "        vertical-align: top;\n",
       "    }\n",
       "\n",
       "    .dataframe thead th {\n",
       "        text-align: right;\n",
       "    }\n",
       "</style>\n",
       "<table border=\"1\" class=\"dataframe\">\n",
       "  <thead>\n",
       "    <tr style=\"text-align: right;\">\n",
       "      <th></th>\n",
       "      <th>total_images</th>\n",
       "      <th>last_price</th>\n",
       "      <th>total_area</th>\n",
       "      <th>first_day_exposition</th>\n",
       "      <th>rooms</th>\n",
       "      <th>ceiling_height</th>\n",
       "      <th>floors_total</th>\n",
       "      <th>living_area</th>\n",
       "      <th>floor</th>\n",
       "      <th>is_apartment</th>\n",
       "      <th>studio</th>\n",
       "      <th>open_plan</th>\n",
       "      <th>kitchen_area</th>\n",
       "      <th>balcony</th>\n",
       "      <th>locality_name</th>\n",
       "      <th>airports_nearest</th>\n",
       "      <th>city_centers_nearest</th>\n",
       "      <th>parks_around3000</th>\n",
       "      <th>parks_nearest</th>\n",
       "      <th>ponds_around3000</th>\n",
       "      <th>ponds_nearest</th>\n",
       "      <th>days_exposition</th>\n",
       "    </tr>\n",
       "  </thead>\n",
       "  <tbody>\n",
       "    <tr>\n",
       "      <th>0</th>\n",
       "      <td>20</td>\n",
       "      <td>13000000.0</td>\n",
       "      <td>108.0</td>\n",
       "      <td>2019-03-07</td>\n",
       "      <td>3</td>\n",
       "      <td>2.70</td>\n",
       "      <td>16.0</td>\n",
       "      <td>51.0</td>\n",
       "      <td>8</td>\n",
       "      <td>False</td>\n",
       "      <td>False</td>\n",
       "      <td>False</td>\n",
       "      <td>25.0</td>\n",
       "      <td>NaN</td>\n",
       "      <td>Санкт-Петербург</td>\n",
       "      <td>18863.0</td>\n",
       "      <td>16028.0</td>\n",
       "      <td>1.0</td>\n",
       "      <td>482.0</td>\n",
       "      <td>2.0</td>\n",
       "      <td>755.0</td>\n",
       "      <td>NaN</td>\n",
       "    </tr>\n",
       "    <tr>\n",
       "      <th>1</th>\n",
       "      <td>7</td>\n",
       "      <td>3350000.0</td>\n",
       "      <td>40.4</td>\n",
       "      <td>2018-12-04</td>\n",
       "      <td>1</td>\n",
       "      <td>2.65</td>\n",
       "      <td>11.0</td>\n",
       "      <td>18.6</td>\n",
       "      <td>1</td>\n",
       "      <td>False</td>\n",
       "      <td>False</td>\n",
       "      <td>False</td>\n",
       "      <td>11.0</td>\n",
       "      <td>2.0</td>\n",
       "      <td>поселок Шушары</td>\n",
       "      <td>12817.0</td>\n",
       "      <td>18603.0</td>\n",
       "      <td>0.0</td>\n",
       "      <td>NaN</td>\n",
       "      <td>0.0</td>\n",
       "      <td>NaN</td>\n",
       "      <td>81.0</td>\n",
       "    </tr>\n",
       "    <tr>\n",
       "      <th>2</th>\n",
       "      <td>10</td>\n",
       "      <td>5196000.0</td>\n",
       "      <td>56.0</td>\n",
       "      <td>2015-08-20</td>\n",
       "      <td>2</td>\n",
       "      <td>2.65</td>\n",
       "      <td>5.0</td>\n",
       "      <td>34.3</td>\n",
       "      <td>4</td>\n",
       "      <td>False</td>\n",
       "      <td>False</td>\n",
       "      <td>False</td>\n",
       "      <td>8.3</td>\n",
       "      <td>0.0</td>\n",
       "      <td>Санкт-Петербург</td>\n",
       "      <td>21741.0</td>\n",
       "      <td>13933.0</td>\n",
       "      <td>1.0</td>\n",
       "      <td>90.0</td>\n",
       "      <td>2.0</td>\n",
       "      <td>574.0</td>\n",
       "      <td>558.0</td>\n",
       "    </tr>\n",
       "    <tr>\n",
       "      <th>3</th>\n",
       "      <td>0</td>\n",
       "      <td>64900000.0</td>\n",
       "      <td>159.0</td>\n",
       "      <td>2015-07-24</td>\n",
       "      <td>3</td>\n",
       "      <td>2.65</td>\n",
       "      <td>14.0</td>\n",
       "      <td>NaN</td>\n",
       "      <td>9</td>\n",
       "      <td>False</td>\n",
       "      <td>False</td>\n",
       "      <td>False</td>\n",
       "      <td>NaN</td>\n",
       "      <td>0.0</td>\n",
       "      <td>Санкт-Петербург</td>\n",
       "      <td>28098.0</td>\n",
       "      <td>6800.0</td>\n",
       "      <td>2.0</td>\n",
       "      <td>84.0</td>\n",
       "      <td>3.0</td>\n",
       "      <td>234.0</td>\n",
       "      <td>424.0</td>\n",
       "    </tr>\n",
       "    <tr>\n",
       "      <th>4</th>\n",
       "      <td>2</td>\n",
       "      <td>10000000.0</td>\n",
       "      <td>100.0</td>\n",
       "      <td>2018-06-19</td>\n",
       "      <td>2</td>\n",
       "      <td>3.03</td>\n",
       "      <td>14.0</td>\n",
       "      <td>32.0</td>\n",
       "      <td>13</td>\n",
       "      <td>False</td>\n",
       "      <td>False</td>\n",
       "      <td>False</td>\n",
       "      <td>41.0</td>\n",
       "      <td>NaN</td>\n",
       "      <td>Санкт-Петербург</td>\n",
       "      <td>31856.0</td>\n",
       "      <td>8098.0</td>\n",
       "      <td>2.0</td>\n",
       "      <td>112.0</td>\n",
       "      <td>1.0</td>\n",
       "      <td>48.0</td>\n",
       "      <td>121.0</td>\n",
       "    </tr>\n",
       "  </tbody>\n",
       "</table>\n",
       "</div>"
      ],
      "text/plain": [
       "   total_images  last_price  total_area first_day_exposition  rooms  \\\n",
       "0            20  13000000.0       108.0           2019-03-07      3   \n",
       "1             7   3350000.0        40.4           2018-12-04      1   \n",
       "2            10   5196000.0        56.0           2015-08-20      2   \n",
       "3             0  64900000.0       159.0           2015-07-24      3   \n",
       "4             2  10000000.0       100.0           2018-06-19      2   \n",
       "\n",
       "   ceiling_height  floors_total  living_area  floor  is_apartment  studio  \\\n",
       "0            2.70          16.0         51.0      8         False   False   \n",
       "1            2.65          11.0         18.6      1         False   False   \n",
       "2            2.65           5.0         34.3      4         False   False   \n",
       "3            2.65          14.0          NaN      9         False   False   \n",
       "4            3.03          14.0         32.0     13         False   False   \n",
       "\n",
       "   open_plan  kitchen_area  balcony    locality_name  airports_nearest  \\\n",
       "0      False          25.0      NaN  Санкт-Петербург           18863.0   \n",
       "1      False          11.0      2.0   поселок Шушары           12817.0   \n",
       "2      False           8.3      0.0  Санкт-Петербург           21741.0   \n",
       "3      False           NaN      0.0  Санкт-Петербург           28098.0   \n",
       "4      False          41.0      NaN  Санкт-Петербург           31856.0   \n",
       "\n",
       "   city_centers_nearest  parks_around3000  parks_nearest  ponds_around3000  \\\n",
       "0               16028.0               1.0          482.0               2.0   \n",
       "1               18603.0               0.0            NaN               0.0   \n",
       "2               13933.0               1.0           90.0               2.0   \n",
       "3                6800.0               2.0           84.0               3.0   \n",
       "4                8098.0               2.0          112.0               1.0   \n",
       "\n",
       "   ponds_nearest  days_exposition  \n",
       "0          755.0              NaN  \n",
       "1            NaN             81.0  \n",
       "2          574.0            558.0  \n",
       "3          234.0            424.0  \n",
       "4           48.0            121.0  "
      ]
     },
     "execution_count": 46,
     "metadata": {},
     "output_type": "execute_result"
    }
   ],
   "source": [
    "display('Количество пропусков:', df['ceiling_height'].isna().sum()) #проверка количества пропусков\n",
    "df.head(5)"
   ]
  },
  {
   "cell_type": "code",
   "execution_count": 47,
   "metadata": {},
   "outputs": [
    {
     "data": {
      "text/plain": [
       "'Количество пропусков:'"
      ]
     },
     "metadata": {},
     "output_type": "display_data"
    },
    {
     "data": {
      "text/plain": [
       "total_images                0\n",
       "last_price                  0\n",
       "total_area                  0\n",
       "first_day_exposition        0\n",
       "rooms                       0\n",
       "ceiling_height              0\n",
       "floors_total               86\n",
       "living_area              1903\n",
       "floor                       0\n",
       "is_apartment                0\n",
       "studio                      0\n",
       "open_plan                   0\n",
       "kitchen_area             2278\n",
       "balcony                 11519\n",
       "locality_name              49\n",
       "airports_nearest         5542\n",
       "city_centers_nearest     5519\n",
       "parks_around3000         5518\n",
       "parks_nearest           15620\n",
       "ponds_around3000         5518\n",
       "ponds_nearest           14589\n",
       "days_exposition          3181\n",
       "dtype: int64"
      ]
     },
     "metadata": {},
     "output_type": "display_data"
    }
   ],
   "source": [
    "#посмотрим количество пропусков\n",
    "display('Количество пропусков:', df.isna().sum())"
   ]
  },
  {
   "cell_type": "code",
   "execution_count": 48,
   "metadata": {},
   "outputs": [],
   "source": [
    "#пропуски NaN в столбце floors_total заменим на медианные, это лучшее решение для количественных переменных\n",
    "#df['floors_total'] = df['floors_total'].fillna(df['floors_total'].median())\n",
    "#df['floors_total'].sort_values(ascending=False).tail(5)"
   ]
  },
  {
   "cell_type": "markdown",
   "metadata": {},
   "source": [
    "<div class=\"alert alert-block alert-danger\">\n",
    " \n",
    "### Комментарий ревьюера\n",
    "    \n",
    "#### Ошибка\n",
    "    \n",
    "А тут согласиться не могу. У тебя при таком мептоде замены будут встречаться значения, когда текущий этаж будет выше замененного. Тут лучше всего или оставить пропуски как есть, или заменить его на текущее значение этажа. "
   ]
  },
  {
   "cell_type": "markdown",
   "metadata": {},
   "source": [
    "Пропуски NaN в столбце floors_total заменять не будем, оставим как есть, иначе это может привести к искажению в дальнейшем анализе, статистики не могут предугадать, на каком этаже был объект."
   ]
  },
  {
   "cell_type": "code",
   "execution_count": 49,
   "metadata": {},
   "outputs": [
    {
     "data": {
      "text/plain": [
       "'Количество пропусков:'"
      ]
     },
     "metadata": {},
     "output_type": "display_data"
    },
    {
     "data": {
      "text/plain": [
       "86"
      ]
     },
     "metadata": {},
     "output_type": "display_data"
    }
   ],
   "source": [
    "display('Количество пропусков:', df['floors_total'].isna().sum()) #проверка количества пропусков"
   ]
  },
  {
   "cell_type": "code",
   "execution_count": 50,
   "metadata": {},
   "outputs": [
    {
     "data": {
      "text/plain": [
       "0.5678598992678503"
      ]
     },
     "metadata": {},
     "output_type": "display_data"
    }
   ],
   "source": [
    "#пропуски в living_area - жилая площадь, то есть общая площадь минус все места общего пользования в квартире\n",
    "df['living_area_ratio'] = df['living_area']/df['total_area']\n",
    "display((df['living_area_ratio']).median())"
   ]
  },
  {
   "cell_type": "code",
   "execution_count": 51,
   "metadata": {},
   "outputs": [
    {
     "data": {
      "text/plain": [
       "'Количество пропусков living_area:'"
      ]
     },
     "metadata": {},
     "output_type": "display_data"
    },
    {
     "data": {
      "text/plain": [
       "0"
      ]
     },
     "metadata": {},
     "output_type": "display_data"
    },
    {
     "data": {
      "text/html": [
       "<div>\n",
       "<style scoped>\n",
       "    .dataframe tbody tr th:only-of-type {\n",
       "        vertical-align: middle;\n",
       "    }\n",
       "\n",
       "    .dataframe tbody tr th {\n",
       "        vertical-align: top;\n",
       "    }\n",
       "\n",
       "    .dataframe thead th {\n",
       "        text-align: right;\n",
       "    }\n",
       "</style>\n",
       "<table border=\"1\" class=\"dataframe\">\n",
       "  <thead>\n",
       "    <tr style=\"text-align: right;\">\n",
       "      <th></th>\n",
       "      <th>total_images</th>\n",
       "      <th>last_price</th>\n",
       "      <th>total_area</th>\n",
       "      <th>first_day_exposition</th>\n",
       "      <th>rooms</th>\n",
       "      <th>ceiling_height</th>\n",
       "      <th>floors_total</th>\n",
       "      <th>living_area</th>\n",
       "      <th>floor</th>\n",
       "      <th>is_apartment</th>\n",
       "      <th>studio</th>\n",
       "      <th>open_plan</th>\n",
       "      <th>kitchen_area</th>\n",
       "      <th>balcony</th>\n",
       "      <th>locality_name</th>\n",
       "      <th>airports_nearest</th>\n",
       "      <th>city_centers_nearest</th>\n",
       "      <th>parks_around3000</th>\n",
       "      <th>parks_nearest</th>\n",
       "      <th>ponds_around3000</th>\n",
       "      <th>ponds_nearest</th>\n",
       "      <th>days_exposition</th>\n",
       "      <th>living_area_ratio</th>\n",
       "    </tr>\n",
       "  </thead>\n",
       "  <tbody>\n",
       "    <tr>\n",
       "      <th>0</th>\n",
       "      <td>20</td>\n",
       "      <td>13000000.0</td>\n",
       "      <td>108.0</td>\n",
       "      <td>2019-03-07</td>\n",
       "      <td>3</td>\n",
       "      <td>2.70</td>\n",
       "      <td>16.0</td>\n",
       "      <td>61.328869</td>\n",
       "      <td>8</td>\n",
       "      <td>False</td>\n",
       "      <td>False</td>\n",
       "      <td>False</td>\n",
       "      <td>25.0</td>\n",
       "      <td>NaN</td>\n",
       "      <td>Санкт-Петербург</td>\n",
       "      <td>18863.0</td>\n",
       "      <td>16028.0</td>\n",
       "      <td>1.0</td>\n",
       "      <td>482.0</td>\n",
       "      <td>2.0</td>\n",
       "      <td>755.0</td>\n",
       "      <td>NaN</td>\n",
       "      <td>0.472222</td>\n",
       "    </tr>\n",
       "    <tr>\n",
       "      <th>1</th>\n",
       "      <td>7</td>\n",
       "      <td>3350000.0</td>\n",
       "      <td>40.4</td>\n",
       "      <td>2018-12-04</td>\n",
       "      <td>1</td>\n",
       "      <td>2.65</td>\n",
       "      <td>11.0</td>\n",
       "      <td>22.941540</td>\n",
       "      <td>1</td>\n",
       "      <td>False</td>\n",
       "      <td>False</td>\n",
       "      <td>False</td>\n",
       "      <td>11.0</td>\n",
       "      <td>2.0</td>\n",
       "      <td>поселок Шушары</td>\n",
       "      <td>12817.0</td>\n",
       "      <td>18603.0</td>\n",
       "      <td>0.0</td>\n",
       "      <td>NaN</td>\n",
       "      <td>0.0</td>\n",
       "      <td>NaN</td>\n",
       "      <td>81.0</td>\n",
       "      <td>0.460396</td>\n",
       "    </tr>\n",
       "    <tr>\n",
       "      <th>2</th>\n",
       "      <td>10</td>\n",
       "      <td>5196000.0</td>\n",
       "      <td>56.0</td>\n",
       "      <td>2015-08-20</td>\n",
       "      <td>2</td>\n",
       "      <td>2.65</td>\n",
       "      <td>5.0</td>\n",
       "      <td>31.800154</td>\n",
       "      <td>4</td>\n",
       "      <td>False</td>\n",
       "      <td>False</td>\n",
       "      <td>False</td>\n",
       "      <td>8.3</td>\n",
       "      <td>0.0</td>\n",
       "      <td>Санкт-Петербург</td>\n",
       "      <td>21741.0</td>\n",
       "      <td>13933.0</td>\n",
       "      <td>1.0</td>\n",
       "      <td>90.0</td>\n",
       "      <td>2.0</td>\n",
       "      <td>574.0</td>\n",
       "      <td>558.0</td>\n",
       "      <td>0.612500</td>\n",
       "    </tr>\n",
       "    <tr>\n",
       "      <th>3</th>\n",
       "      <td>0</td>\n",
       "      <td>64900000.0</td>\n",
       "      <td>159.0</td>\n",
       "      <td>2015-07-24</td>\n",
       "      <td>3</td>\n",
       "      <td>2.65</td>\n",
       "      <td>14.0</td>\n",
       "      <td>90.289724</td>\n",
       "      <td>9</td>\n",
       "      <td>False</td>\n",
       "      <td>False</td>\n",
       "      <td>False</td>\n",
       "      <td>NaN</td>\n",
       "      <td>0.0</td>\n",
       "      <td>Санкт-Петербург</td>\n",
       "      <td>28098.0</td>\n",
       "      <td>6800.0</td>\n",
       "      <td>2.0</td>\n",
       "      <td>84.0</td>\n",
       "      <td>3.0</td>\n",
       "      <td>234.0</td>\n",
       "      <td>424.0</td>\n",
       "      <td>NaN</td>\n",
       "    </tr>\n",
       "    <tr>\n",
       "      <th>4</th>\n",
       "      <td>2</td>\n",
       "      <td>10000000.0</td>\n",
       "      <td>100.0</td>\n",
       "      <td>2018-06-19</td>\n",
       "      <td>2</td>\n",
       "      <td>3.03</td>\n",
       "      <td>14.0</td>\n",
       "      <td>56.785990</td>\n",
       "      <td>13</td>\n",
       "      <td>False</td>\n",
       "      <td>False</td>\n",
       "      <td>False</td>\n",
       "      <td>41.0</td>\n",
       "      <td>NaN</td>\n",
       "      <td>Санкт-Петербург</td>\n",
       "      <td>31856.0</td>\n",
       "      <td>8098.0</td>\n",
       "      <td>2.0</td>\n",
       "      <td>112.0</td>\n",
       "      <td>1.0</td>\n",
       "      <td>48.0</td>\n",
       "      <td>121.0</td>\n",
       "      <td>0.320000</td>\n",
       "    </tr>\n",
       "  </tbody>\n",
       "</table>\n",
       "</div>"
      ],
      "text/plain": [
       "   total_images  last_price  total_area first_day_exposition  rooms  \\\n",
       "0            20  13000000.0       108.0           2019-03-07      3   \n",
       "1             7   3350000.0        40.4           2018-12-04      1   \n",
       "2            10   5196000.0        56.0           2015-08-20      2   \n",
       "3             0  64900000.0       159.0           2015-07-24      3   \n",
       "4             2  10000000.0       100.0           2018-06-19      2   \n",
       "\n",
       "   ceiling_height  floors_total  living_area  floor  is_apartment  studio  \\\n",
       "0            2.70          16.0    61.328869      8         False   False   \n",
       "1            2.65          11.0    22.941540      1         False   False   \n",
       "2            2.65           5.0    31.800154      4         False   False   \n",
       "3            2.65          14.0    90.289724      9         False   False   \n",
       "4            3.03          14.0    56.785990     13         False   False   \n",
       "\n",
       "   open_plan  kitchen_area  balcony    locality_name  airports_nearest  \\\n",
       "0      False          25.0      NaN  Санкт-Петербург           18863.0   \n",
       "1      False          11.0      2.0   поселок Шушары           12817.0   \n",
       "2      False           8.3      0.0  Санкт-Петербург           21741.0   \n",
       "3      False           NaN      0.0  Санкт-Петербург           28098.0   \n",
       "4      False          41.0      NaN  Санкт-Петербург           31856.0   \n",
       "\n",
       "   city_centers_nearest  parks_around3000  parks_nearest  ponds_around3000  \\\n",
       "0               16028.0               1.0          482.0               2.0   \n",
       "1               18603.0               0.0            NaN               0.0   \n",
       "2               13933.0               1.0           90.0               2.0   \n",
       "3                6800.0               2.0           84.0               3.0   \n",
       "4                8098.0               2.0          112.0               1.0   \n",
       "\n",
       "   ponds_nearest  days_exposition  living_area_ratio  \n",
       "0          755.0              NaN           0.472222  \n",
       "1            NaN             81.0           0.460396  \n",
       "2          574.0            558.0           0.612500  \n",
       "3          234.0            424.0                NaN  \n",
       "4           48.0            121.0           0.320000  "
      ]
     },
     "metadata": {},
     "output_type": "display_data"
    }
   ],
   "source": [
    "#пропуски в столбце можно заменить на 56,6 процентов от общей площади в той же строке\n",
    "def living_a(row):\n",
    "    liv = row['living_area']\n",
    "    total = row['total_area']\n",
    "    return row['total_area'] * df['living_area_ratio'].median()\n",
    "df['living_area'] = df.apply(living_a, axis=1)\n",
    "display('Количество пропусков living_area:', df['living_area'].isna().sum())\n",
    "display(df.head(5))"
   ]
  },
  {
   "cell_type": "markdown",
   "metadata": {},
   "source": [
    "<div class=\"alert alert-block alert-success\">\n",
    " \n",
    "### Комментарий ревьюера\n",
    "    \n",
    "#### Успех\n",
    "    \n",
    "Достаточно точечный метод замены получился"
   ]
  },
  {
   "cell_type": "code",
   "execution_count": 52,
   "metadata": {},
   "outputs": [
    {
     "data": {
      "text/plain": [
       "0.1724137931034483"
      ]
     },
     "metadata": {},
     "output_type": "display_data"
    }
   ],
   "source": [
    "#аналогично сделаем с пропусками в столбце kitchen_area:\n",
    "df['kitchen_area_ratio'] = df['kitchen_area']/df['total_area']\n",
    "display(df['kitchen_area_ratio'].median())"
   ]
  },
  {
   "cell_type": "code",
   "execution_count": 53,
   "metadata": {},
   "outputs": [
    {
     "data": {
      "text/plain": [
       "'Количество пропусков kitchen_area:'"
      ]
     },
     "metadata": {},
     "output_type": "display_data"
    },
    {
     "data": {
      "text/plain": [
       "0"
      ]
     },
     "metadata": {},
     "output_type": "display_data"
    }
   ],
   "source": [
    "#заменяем пропуски:\n",
    "def kit_a(row):\n",
    "    kit = row['kitchen_area']\n",
    "    total = row['total_area']\n",
    "    return row['total_area'] * df['kitchen_area_ratio'].median()\n",
    "df['kitchen_area'] = df.apply(kit_a, axis=1)\n",
    "display('Количество пропусков kitchen_area:', df['kitchen_area'].isna().sum())"
   ]
  },
  {
   "cell_type": "code",
   "execution_count": 54,
   "metadata": {},
   "outputs": [
    {
     "data": {
      "text/plain": [
       "'Количество пропусков balcony:'"
      ]
     },
     "metadata": {},
     "output_type": "display_data"
    },
    {
     "data": {
      "text/plain": [
       "0"
      ]
     },
     "metadata": {},
     "output_type": "display_data"
    }
   ],
   "source": [
    "#пропуски в столбце balcony заменим на 0, потому что, не указав, собственники скорее всего имели в виду, что их нет\n",
    "df['balcony'] = df['balcony'].fillna(0.0)\n",
    "display('Количество пропусков balcony:', df['balcony'].isna().sum())"
   ]
  },
  {
   "cell_type": "code",
   "execution_count": 55,
   "metadata": {},
   "outputs": [
    {
     "data": {
      "text/plain": [
       "'Количество пропусков locality_name:'"
      ]
     },
     "metadata": {},
     "output_type": "display_data"
    },
    {
     "data": {
      "text/plain": [
       "0"
      ]
     },
     "metadata": {},
     "output_type": "display_data"
    }
   ],
   "source": [
    "#пропуски в столбце locality_name, а их мало, всего 49, заменим на unknown:\n",
    "df['locality_name'] = df['locality_name'].fillna('unknown')\n",
    "display('Количество пропусков locality_name:', df['locality_name'].isna().sum())"
   ]
  },
  {
   "cell_type": "code",
   "execution_count": 56,
   "metadata": {},
   "outputs": [
    {
     "data": {
      "text/plain": [
       "'Количество пропусков parks_around3000:'"
      ]
     },
     "metadata": {},
     "output_type": "display_data"
    },
    {
     "data": {
      "text/plain": [
       "0"
      ]
     },
     "metadata": {},
     "output_type": "display_data"
    },
    {
     "data": {
      "text/plain": [
       "'Количество пропусков ponds_around3000:'"
      ]
     },
     "metadata": {},
     "output_type": "display_data"
    },
    {
     "data": {
      "text/plain": [
       "0"
      ]
     },
     "metadata": {},
     "output_type": "display_data"
    }
   ],
   "source": [
    "#для двух столбцов parks_around3000 и ponds_around3000 пропуски, скорее всего, означают, что нет парков и водоемов в радиусе 3 км, поэтому значения можно заменить на 0 в обоих случаях:\n",
    "df['parks_around3000'] = df['parks_around3000'].fillna(0)\n",
    "df['parks_around3000'] = df['parks_around3000'].astype(int)\n",
    "df['ponds_around3000'] = df['ponds_around3000'].fillna(0)\n",
    "df['ponds_around3000'] = df['ponds_around3000'].astype(int)\n",
    "display('Количество пропусков parks_around3000:', df['parks_around3000'].isna().sum())\n",
    "display('Количество пропусков ponds_around3000:', df['ponds_around3000'].isna().sum())"
   ]
  },
  {
   "cell_type": "markdown",
   "metadata": {},
   "source": [
    "<div class=\"alert alert-block alert-warning\">\n",
    " \n",
    "### Комментарий ревьюера\n",
    "    \n",
    "#### Совет\n",
    "    \n",
    "Для экономии вычислительной памяти лучше всего перевести в int32"
   ]
  },
  {
   "cell_type": "code",
   "execution_count": 57,
   "metadata": {},
   "outputs": [
    {
     "data": {
      "text/plain": [
       "'Количество пропусков:'"
      ]
     },
     "metadata": {},
     "output_type": "display_data"
    },
    {
     "data": {
      "text/plain": [
       "total_images                0\n",
       "last_price                  0\n",
       "total_area                  0\n",
       "first_day_exposition        0\n",
       "rooms                       0\n",
       "ceiling_height              0\n",
       "floors_total               86\n",
       "living_area                 0\n",
       "floor                       0\n",
       "is_apartment                0\n",
       "studio                      0\n",
       "open_plan                   0\n",
       "kitchen_area                0\n",
       "balcony                     0\n",
       "locality_name               0\n",
       "airports_nearest         5542\n",
       "city_centers_nearest     5519\n",
       "parks_around3000            0\n",
       "parks_nearest           15620\n",
       "ponds_around3000            0\n",
       "ponds_nearest           14589\n",
       "days_exposition          3181\n",
       "living_area_ratio        1903\n",
       "kitchen_area_ratio       2278\n",
       "dtype: int64"
      ]
     },
     "metadata": {},
     "output_type": "display_data"
    }
   ],
   "source": [
    "#посмотрим, какие столбцы остались с пропусками и проанализируем возможные причины этих пропусков в данных:\n",
    "display('Количество пропусков:', df.isna().sum())"
   ]
  },
  {
   "cell_type": "markdown",
   "metadata": {},
   "source": [
    "Пропуски в столбце airports_nearest означают, скорее всего, что рядом аэропорта нет, либо эти данные просто не заполнялись, оставим без изменений, аналогично с city_centers_nearest и parks_nearest и ponds_nearest, не все собственники заполняют дополнительную информацию, а автоматически, возможно, по заданным параметрам определить не удалось, возможно, есть вариант уточнить у коллег, собиравших данные. Пропуски в данных в столбце days_exposition, то есть сколько дней было размещено объявление, указывают, скорее всего на то, что объявление еще в продаже, то есть срок окончания публикации неизвестен, поэтому тоже вносить изменения в столбец пока не будем."
   ]
  },
  {
   "cell_type": "markdown",
   "metadata": {},
   "source": [
    "#### Вывод:\n",
    "    Таким образом, мы завершили предобработку данных, а именно:\n",
    "    1. Загрузили наш датасет и посмотрели общую информацию об имеющихся данных. У нас 22 столбца и 23699 строк.\n",
    "    2. Исправили название столбца в соответствии с правилами оформления\n",
    "    3. Изменили типы данных для столбцов, которые этого требовали\n",
    "    5. Устранили неявные дубликаты, а также проверили, что отсутствуют явные\n",
    "    4. Заполнили пропуски, а также посмотрели, по каким причинам в некоторых столбцах пропуски пока не заменены на значения. Также устранили аномалии, где они были.\n",
    "    И теперь данные готовы к дальнейшему анализу, они пригодны и информативны.\n",
    "    \n",
    "    Есть несколько причин, по которым могут быть ошибки в данных, в данном случае, основные - человеческий фактор и технические ошибки, всегда возможны программные сбои при некоторой автоматизации сбора данных."
   ]
  },
  {
   "cell_type": "markdown",
   "metadata": {},
   "source": [
    "<div class=\"alert alert-block alert-success\">\n",
    " \n",
    "### Комментарий ревьюера\n",
    "    \n",
    "#### Успех\n",
    "    \n",
    "С предобработкой получилось хорошо. Осталось пару замечаний подправить."
   ]
  },
  {
   "cell_type": "markdown",
   "metadata": {
    "id": "QCcvyY6YAwb-"
   },
   "source": [
    "### Добавим в таблицу новые столбцы"
   ]
  },
  {
   "cell_type": "markdown",
   "metadata": {
    "id": "Z8eJek3IAwb-"
   },
   "source": [
    "#### Добавим столбец с ценой квадратного метра"
   ]
  },
  {
   "cell_type": "code",
   "execution_count": 58,
   "metadata": {},
   "outputs": [
    {
     "data": {
      "text/plain": [
       "<bound method Series.unique of 0        120370.37\n",
       "1         82920.79\n",
       "2         92785.71\n",
       "3        408176.10\n",
       "4        100000.00\n",
       "           ...    \n",
       "23694     72490.85\n",
       "23695     52542.37\n",
       "23696     44091.71\n",
       "23697    149511.40\n",
       "23698     41795.67\n",
       "Name: price_square_meter, Length: 23699, dtype: float64>"
      ]
     },
     "execution_count": 58,
     "metadata": {},
     "output_type": "execute_result"
    }
   ],
   "source": [
    "df['price_square_meter'] = (df['last_price'] / df['total_area']).round(2)\n",
    "df['price_square_meter'].unique"
   ]
  },
  {
   "cell_type": "markdown",
   "metadata": {},
   "source": [
    "#### Добавим столбец день недели публикации"
   ]
  },
  {
   "cell_type": "code",
   "execution_count": 59,
   "metadata": {},
   "outputs": [
    {
     "data": {
      "text/plain": [
       "<bound method Series.unique of 0        3\n",
       "1        1\n",
       "2        3\n",
       "3        4\n",
       "4        1\n",
       "        ..\n",
       "23694    1\n",
       "23695    0\n",
       "23696    6\n",
       "23697    1\n",
       "23698    4\n",
       "Name: day_publication, Length: 23699, dtype: int64>"
      ]
     },
     "execution_count": 59,
     "metadata": {},
     "output_type": "execute_result"
    }
   ],
   "source": [
    "#1 - понедельник, 2 - вторник и т.д.\n",
    "df['day_publication'] = df['first_day_exposition'].dt.weekday\n",
    "df['day_publication'].unique"
   ]
  },
  {
   "cell_type": "markdown",
   "metadata": {},
   "source": [
    "#### Добавим столбец месяц публикации"
   ]
  },
  {
   "cell_type": "code",
   "execution_count": 60,
   "metadata": {
    "scrolled": true
   },
   "outputs": [
    {
     "data": {
      "text/plain": [
       "<bound method Series.unique of 0         3\n",
       "1        12\n",
       "2         8\n",
       "3         7\n",
       "4         6\n",
       "         ..\n",
       "23694     3\n",
       "23695     1\n",
       "23696     2\n",
       "23697     3\n",
       "23698     7\n",
       "Name: month_publication, Length: 23699, dtype: int64>"
      ]
     },
     "execution_count": 60,
     "metadata": {},
     "output_type": "execute_result"
    }
   ],
   "source": [
    "#1 - январь, 2 - февраль и т.д.\n",
    "df['month_publication'] = df['first_day_exposition'].dt.month\n",
    "df['month_publication'].unique"
   ]
  },
  {
   "cell_type": "markdown",
   "metadata": {},
   "source": [
    "#### Добавим столбец год публикации"
   ]
  },
  {
   "cell_type": "code",
   "execution_count": 61,
   "metadata": {
    "scrolled": true
   },
   "outputs": [
    {
     "data": {
      "text/html": [
       "<div>\n",
       "<style scoped>\n",
       "    .dataframe tbody tr th:only-of-type {\n",
       "        vertical-align: middle;\n",
       "    }\n",
       "\n",
       "    .dataframe tbody tr th {\n",
       "        vertical-align: top;\n",
       "    }\n",
       "\n",
       "    .dataframe thead th {\n",
       "        text-align: right;\n",
       "    }\n",
       "</style>\n",
       "<table border=\"1\" class=\"dataframe\">\n",
       "  <thead>\n",
       "    <tr style=\"text-align: right;\">\n",
       "      <th></th>\n",
       "      <th>total_images</th>\n",
       "      <th>last_price</th>\n",
       "      <th>total_area</th>\n",
       "      <th>first_day_exposition</th>\n",
       "      <th>rooms</th>\n",
       "      <th>ceiling_height</th>\n",
       "      <th>floors_total</th>\n",
       "      <th>living_area</th>\n",
       "      <th>floor</th>\n",
       "      <th>is_apartment</th>\n",
       "      <th>studio</th>\n",
       "      <th>open_plan</th>\n",
       "      <th>kitchen_area</th>\n",
       "      <th>balcony</th>\n",
       "      <th>locality_name</th>\n",
       "      <th>airports_nearest</th>\n",
       "      <th>city_centers_nearest</th>\n",
       "      <th>parks_around3000</th>\n",
       "      <th>parks_nearest</th>\n",
       "      <th>ponds_around3000</th>\n",
       "      <th>ponds_nearest</th>\n",
       "      <th>days_exposition</th>\n",
       "      <th>living_area_ratio</th>\n",
       "      <th>kitchen_area_ratio</th>\n",
       "      <th>price_square_meter</th>\n",
       "      <th>day_publication</th>\n",
       "      <th>month_publication</th>\n",
       "      <th>year_publication</th>\n",
       "    </tr>\n",
       "  </thead>\n",
       "  <tbody>\n",
       "    <tr>\n",
       "      <th>0</th>\n",
       "      <td>20</td>\n",
       "      <td>13000000.0</td>\n",
       "      <td>108.0</td>\n",
       "      <td>2019-03-07</td>\n",
       "      <td>3</td>\n",
       "      <td>2.70</td>\n",
       "      <td>16.0</td>\n",
       "      <td>61.328869</td>\n",
       "      <td>8</td>\n",
       "      <td>False</td>\n",
       "      <td>False</td>\n",
       "      <td>False</td>\n",
       "      <td>18.620690</td>\n",
       "      <td>0.0</td>\n",
       "      <td>Санкт-Петербург</td>\n",
       "      <td>18863.0</td>\n",
       "      <td>16028.0</td>\n",
       "      <td>1</td>\n",
       "      <td>482.0</td>\n",
       "      <td>2</td>\n",
       "      <td>755.0</td>\n",
       "      <td>NaN</td>\n",
       "      <td>0.472222</td>\n",
       "      <td>0.231481</td>\n",
       "      <td>120370.37</td>\n",
       "      <td>3</td>\n",
       "      <td>3</td>\n",
       "      <td>2019</td>\n",
       "    </tr>\n",
       "    <tr>\n",
       "      <th>1</th>\n",
       "      <td>7</td>\n",
       "      <td>3350000.0</td>\n",
       "      <td>40.4</td>\n",
       "      <td>2018-12-04</td>\n",
       "      <td>1</td>\n",
       "      <td>2.65</td>\n",
       "      <td>11.0</td>\n",
       "      <td>22.941540</td>\n",
       "      <td>1</td>\n",
       "      <td>False</td>\n",
       "      <td>False</td>\n",
       "      <td>False</td>\n",
       "      <td>6.965517</td>\n",
       "      <td>2.0</td>\n",
       "      <td>поселок Шушары</td>\n",
       "      <td>12817.0</td>\n",
       "      <td>18603.0</td>\n",
       "      <td>0</td>\n",
       "      <td>NaN</td>\n",
       "      <td>0</td>\n",
       "      <td>NaN</td>\n",
       "      <td>81.0</td>\n",
       "      <td>0.460396</td>\n",
       "      <td>0.272277</td>\n",
       "      <td>82920.79</td>\n",
       "      <td>1</td>\n",
       "      <td>12</td>\n",
       "      <td>2018</td>\n",
       "    </tr>\n",
       "    <tr>\n",
       "      <th>2</th>\n",
       "      <td>10</td>\n",
       "      <td>5196000.0</td>\n",
       "      <td>56.0</td>\n",
       "      <td>2015-08-20</td>\n",
       "      <td>2</td>\n",
       "      <td>2.65</td>\n",
       "      <td>5.0</td>\n",
       "      <td>31.800154</td>\n",
       "      <td>4</td>\n",
       "      <td>False</td>\n",
       "      <td>False</td>\n",
       "      <td>False</td>\n",
       "      <td>9.655172</td>\n",
       "      <td>0.0</td>\n",
       "      <td>Санкт-Петербург</td>\n",
       "      <td>21741.0</td>\n",
       "      <td>13933.0</td>\n",
       "      <td>1</td>\n",
       "      <td>90.0</td>\n",
       "      <td>2</td>\n",
       "      <td>574.0</td>\n",
       "      <td>558.0</td>\n",
       "      <td>0.612500</td>\n",
       "      <td>0.148214</td>\n",
       "      <td>92785.71</td>\n",
       "      <td>3</td>\n",
       "      <td>8</td>\n",
       "      <td>2015</td>\n",
       "    </tr>\n",
       "  </tbody>\n",
       "</table>\n",
       "</div>"
      ],
      "text/plain": [
       "   total_images  last_price  total_area first_day_exposition  rooms  \\\n",
       "0            20  13000000.0       108.0           2019-03-07      3   \n",
       "1             7   3350000.0        40.4           2018-12-04      1   \n",
       "2            10   5196000.0        56.0           2015-08-20      2   \n",
       "\n",
       "   ceiling_height  floors_total  living_area  floor  is_apartment  studio  \\\n",
       "0            2.70          16.0    61.328869      8         False   False   \n",
       "1            2.65          11.0    22.941540      1         False   False   \n",
       "2            2.65           5.0    31.800154      4         False   False   \n",
       "\n",
       "   open_plan  kitchen_area  balcony    locality_name  airports_nearest  \\\n",
       "0      False     18.620690      0.0  Санкт-Петербург           18863.0   \n",
       "1      False      6.965517      2.0   поселок Шушары           12817.0   \n",
       "2      False      9.655172      0.0  Санкт-Петербург           21741.0   \n",
       "\n",
       "   city_centers_nearest  parks_around3000  parks_nearest  ponds_around3000  \\\n",
       "0               16028.0                 1          482.0                 2   \n",
       "1               18603.0                 0            NaN                 0   \n",
       "2               13933.0                 1           90.0                 2   \n",
       "\n",
       "   ponds_nearest  days_exposition  living_area_ratio  kitchen_area_ratio  \\\n",
       "0          755.0              NaN           0.472222            0.231481   \n",
       "1            NaN             81.0           0.460396            0.272277   \n",
       "2          574.0            558.0           0.612500            0.148214   \n",
       "\n",
       "   price_square_meter  day_publication  month_publication  year_publication  \n",
       "0           120370.37                3                  3              2019  \n",
       "1            82920.79                1                 12              2018  \n",
       "2            92785.71                3                  8              2015  "
      ]
     },
     "execution_count": 61,
     "metadata": {},
     "output_type": "execute_result"
    }
   ],
   "source": [
    "#с 2014 по 2019\n",
    "df['year_publication'] = df['first_day_exposition'].dt.year\n",
    "df.head(3)"
   ]
  },
  {
   "cell_type": "markdown",
   "metadata": {},
   "source": [
    "#### Добавим столбец этаж квартиры - первый, последний, другой"
   ]
  },
  {
   "cell_type": "code",
   "execution_count": 62,
   "metadata": {
    "scrolled": true
   },
   "outputs": [
    {
     "data": {
      "text/html": [
       "<div>\n",
       "<style scoped>\n",
       "    .dataframe tbody tr th:only-of-type {\n",
       "        vertical-align: middle;\n",
       "    }\n",
       "\n",
       "    .dataframe tbody tr th {\n",
       "        vertical-align: top;\n",
       "    }\n",
       "\n",
       "    .dataframe thead th {\n",
       "        text-align: right;\n",
       "    }\n",
       "</style>\n",
       "<table border=\"1\" class=\"dataframe\">\n",
       "  <thead>\n",
       "    <tr style=\"text-align: right;\">\n",
       "      <th></th>\n",
       "      <th>total_images</th>\n",
       "      <th>last_price</th>\n",
       "      <th>total_area</th>\n",
       "      <th>first_day_exposition</th>\n",
       "      <th>rooms</th>\n",
       "      <th>ceiling_height</th>\n",
       "      <th>floors_total</th>\n",
       "      <th>living_area</th>\n",
       "      <th>floor</th>\n",
       "      <th>is_apartment</th>\n",
       "      <th>studio</th>\n",
       "      <th>open_plan</th>\n",
       "      <th>kitchen_area</th>\n",
       "      <th>balcony</th>\n",
       "      <th>locality_name</th>\n",
       "      <th>airports_nearest</th>\n",
       "      <th>city_centers_nearest</th>\n",
       "      <th>parks_around3000</th>\n",
       "      <th>parks_nearest</th>\n",
       "      <th>ponds_around3000</th>\n",
       "      <th>ponds_nearest</th>\n",
       "      <th>days_exposition</th>\n",
       "      <th>living_area_ratio</th>\n",
       "      <th>kitchen_area_ratio</th>\n",
       "      <th>price_square_meter</th>\n",
       "      <th>day_publication</th>\n",
       "      <th>month_publication</th>\n",
       "      <th>year_publication</th>\n",
       "      <th>floor_type</th>\n",
       "    </tr>\n",
       "  </thead>\n",
       "  <tbody>\n",
       "    <tr>\n",
       "      <th>0</th>\n",
       "      <td>20</td>\n",
       "      <td>13000000.0</td>\n",
       "      <td>108.0</td>\n",
       "      <td>2019-03-07</td>\n",
       "      <td>3</td>\n",
       "      <td>2.70</td>\n",
       "      <td>16.0</td>\n",
       "      <td>61.328869</td>\n",
       "      <td>8</td>\n",
       "      <td>False</td>\n",
       "      <td>False</td>\n",
       "      <td>False</td>\n",
       "      <td>18.620690</td>\n",
       "      <td>0.0</td>\n",
       "      <td>Санкт-Петербург</td>\n",
       "      <td>18863.0</td>\n",
       "      <td>16028.0</td>\n",
       "      <td>1</td>\n",
       "      <td>482.0</td>\n",
       "      <td>2</td>\n",
       "      <td>755.0</td>\n",
       "      <td>NaN</td>\n",
       "      <td>0.472222</td>\n",
       "      <td>0.231481</td>\n",
       "      <td>120370.37</td>\n",
       "      <td>3</td>\n",
       "      <td>3</td>\n",
       "      <td>2019</td>\n",
       "      <td>другой</td>\n",
       "    </tr>\n",
       "    <tr>\n",
       "      <th>1</th>\n",
       "      <td>7</td>\n",
       "      <td>3350000.0</td>\n",
       "      <td>40.4</td>\n",
       "      <td>2018-12-04</td>\n",
       "      <td>1</td>\n",
       "      <td>2.65</td>\n",
       "      <td>11.0</td>\n",
       "      <td>22.941540</td>\n",
       "      <td>1</td>\n",
       "      <td>False</td>\n",
       "      <td>False</td>\n",
       "      <td>False</td>\n",
       "      <td>6.965517</td>\n",
       "      <td>2.0</td>\n",
       "      <td>поселок Шушары</td>\n",
       "      <td>12817.0</td>\n",
       "      <td>18603.0</td>\n",
       "      <td>0</td>\n",
       "      <td>NaN</td>\n",
       "      <td>0</td>\n",
       "      <td>NaN</td>\n",
       "      <td>81.0</td>\n",
       "      <td>0.460396</td>\n",
       "      <td>0.272277</td>\n",
       "      <td>82920.79</td>\n",
       "      <td>1</td>\n",
       "      <td>12</td>\n",
       "      <td>2018</td>\n",
       "      <td>первый</td>\n",
       "    </tr>\n",
       "    <tr>\n",
       "      <th>2</th>\n",
       "      <td>10</td>\n",
       "      <td>5196000.0</td>\n",
       "      <td>56.0</td>\n",
       "      <td>2015-08-20</td>\n",
       "      <td>2</td>\n",
       "      <td>2.65</td>\n",
       "      <td>5.0</td>\n",
       "      <td>31.800154</td>\n",
       "      <td>4</td>\n",
       "      <td>False</td>\n",
       "      <td>False</td>\n",
       "      <td>False</td>\n",
       "      <td>9.655172</td>\n",
       "      <td>0.0</td>\n",
       "      <td>Санкт-Петербург</td>\n",
       "      <td>21741.0</td>\n",
       "      <td>13933.0</td>\n",
       "      <td>1</td>\n",
       "      <td>90.0</td>\n",
       "      <td>2</td>\n",
       "      <td>574.0</td>\n",
       "      <td>558.0</td>\n",
       "      <td>0.612500</td>\n",
       "      <td>0.148214</td>\n",
       "      <td>92785.71</td>\n",
       "      <td>3</td>\n",
       "      <td>8</td>\n",
       "      <td>2015</td>\n",
       "      <td>другой</td>\n",
       "    </tr>\n",
       "  </tbody>\n",
       "</table>\n",
       "</div>"
      ],
      "text/plain": [
       "   total_images  last_price  total_area first_day_exposition  rooms  \\\n",
       "0            20  13000000.0       108.0           2019-03-07      3   \n",
       "1             7   3350000.0        40.4           2018-12-04      1   \n",
       "2            10   5196000.0        56.0           2015-08-20      2   \n",
       "\n",
       "   ceiling_height  floors_total  living_area  floor  is_apartment  studio  \\\n",
       "0            2.70          16.0    61.328869      8         False   False   \n",
       "1            2.65          11.0    22.941540      1         False   False   \n",
       "2            2.65           5.0    31.800154      4         False   False   \n",
       "\n",
       "   open_plan  kitchen_area  balcony    locality_name  airports_nearest  \\\n",
       "0      False     18.620690      0.0  Санкт-Петербург           18863.0   \n",
       "1      False      6.965517      2.0   поселок Шушары           12817.0   \n",
       "2      False      9.655172      0.0  Санкт-Петербург           21741.0   \n",
       "\n",
       "   city_centers_nearest  parks_around3000  parks_nearest  ponds_around3000  \\\n",
       "0               16028.0                 1          482.0                 2   \n",
       "1               18603.0                 0            NaN                 0   \n",
       "2               13933.0                 1           90.0                 2   \n",
       "\n",
       "   ponds_nearest  days_exposition  living_area_ratio  kitchen_area_ratio  \\\n",
       "0          755.0              NaN           0.472222            0.231481   \n",
       "1            NaN             81.0           0.460396            0.272277   \n",
       "2          574.0            558.0           0.612500            0.148214   \n",
       "\n",
       "   price_square_meter  day_publication  month_publication  year_publication  \\\n",
       "0           120370.37                3                  3              2019   \n",
       "1            82920.79                1                 12              2018   \n",
       "2            92785.71                3                  8              2015   \n",
       "\n",
       "  floor_type  \n",
       "0     другой  \n",
       "1     первый  \n",
       "2     другой  "
      ]
     },
     "execution_count": 62,
     "metadata": {},
     "output_type": "execute_result"
    }
   ],
   "source": [
    "#напишем функцию:\n",
    "def floor(row):\n",
    "    if row['floor'] == 1:\n",
    "        return 'первый'\n",
    "    if row['floor'] == row['floors_total']:\n",
    "        return 'последний'\n",
    "    else:\n",
    "        return 'другой'\n",
    "df['floor_type'] = df.apply(floor, axis=1)\n",
    "df.head(3)"
   ]
  },
  {
   "cell_type": "markdown",
   "metadata": {},
   "source": [
    "<div class=\"alert alert-block alert-success\">\n",
    " \n",
    "### Комментарий ревьюера\n",
    "    \n",
    "#### Успех\n",
    "    \n",
    "Простая, удобная и понятная функция получилась"
   ]
  },
  {
   "cell_type": "markdown",
   "metadata": {},
   "source": [
    "#### Добавим столбец расстояние до центра города, округлив до целого и переведя в км"
   ]
  },
  {
   "cell_type": "code",
   "execution_count": 63,
   "metadata": {},
   "outputs": [
    {
     "data": {
      "text/html": [
       "<div>\n",
       "<style scoped>\n",
       "    .dataframe tbody tr th:only-of-type {\n",
       "        vertical-align: middle;\n",
       "    }\n",
       "\n",
       "    .dataframe tbody tr th {\n",
       "        vertical-align: top;\n",
       "    }\n",
       "\n",
       "    .dataframe thead th {\n",
       "        text-align: right;\n",
       "    }\n",
       "</style>\n",
       "<table border=\"1\" class=\"dataframe\">\n",
       "  <thead>\n",
       "    <tr style=\"text-align: right;\">\n",
       "      <th></th>\n",
       "      <th>total_images</th>\n",
       "      <th>last_price</th>\n",
       "      <th>total_area</th>\n",
       "      <th>first_day_exposition</th>\n",
       "      <th>rooms</th>\n",
       "      <th>ceiling_height</th>\n",
       "      <th>floors_total</th>\n",
       "      <th>living_area</th>\n",
       "      <th>floor</th>\n",
       "      <th>is_apartment</th>\n",
       "      <th>studio</th>\n",
       "      <th>open_plan</th>\n",
       "      <th>kitchen_area</th>\n",
       "      <th>balcony</th>\n",
       "      <th>locality_name</th>\n",
       "      <th>airports_nearest</th>\n",
       "      <th>city_centers_nearest</th>\n",
       "      <th>parks_around3000</th>\n",
       "      <th>parks_nearest</th>\n",
       "      <th>ponds_around3000</th>\n",
       "      <th>ponds_nearest</th>\n",
       "      <th>days_exposition</th>\n",
       "      <th>living_area_ratio</th>\n",
       "      <th>kitchen_area_ratio</th>\n",
       "      <th>price_square_meter</th>\n",
       "      <th>day_publication</th>\n",
       "      <th>month_publication</th>\n",
       "      <th>year_publication</th>\n",
       "      <th>floor_type</th>\n",
       "      <th>distance_city_center</th>\n",
       "    </tr>\n",
       "  </thead>\n",
       "  <tbody>\n",
       "    <tr>\n",
       "      <th>0</th>\n",
       "      <td>20</td>\n",
       "      <td>13000000.0</td>\n",
       "      <td>108.0</td>\n",
       "      <td>2019-03-07</td>\n",
       "      <td>3</td>\n",
       "      <td>2.70</td>\n",
       "      <td>16.0</td>\n",
       "      <td>61.328869</td>\n",
       "      <td>8</td>\n",
       "      <td>False</td>\n",
       "      <td>False</td>\n",
       "      <td>False</td>\n",
       "      <td>18.620690</td>\n",
       "      <td>0.0</td>\n",
       "      <td>Санкт-Петербург</td>\n",
       "      <td>18863.0</td>\n",
       "      <td>16028.0</td>\n",
       "      <td>1</td>\n",
       "      <td>482.0</td>\n",
       "      <td>2</td>\n",
       "      <td>755.0</td>\n",
       "      <td>NaN</td>\n",
       "      <td>0.472222</td>\n",
       "      <td>0.231481</td>\n",
       "      <td>120370.37</td>\n",
       "      <td>3</td>\n",
       "      <td>3</td>\n",
       "      <td>2019</td>\n",
       "      <td>другой</td>\n",
       "      <td>16.0</td>\n",
       "    </tr>\n",
       "    <tr>\n",
       "      <th>1</th>\n",
       "      <td>7</td>\n",
       "      <td>3350000.0</td>\n",
       "      <td>40.4</td>\n",
       "      <td>2018-12-04</td>\n",
       "      <td>1</td>\n",
       "      <td>2.65</td>\n",
       "      <td>11.0</td>\n",
       "      <td>22.941540</td>\n",
       "      <td>1</td>\n",
       "      <td>False</td>\n",
       "      <td>False</td>\n",
       "      <td>False</td>\n",
       "      <td>6.965517</td>\n",
       "      <td>2.0</td>\n",
       "      <td>поселок Шушары</td>\n",
       "      <td>12817.0</td>\n",
       "      <td>18603.0</td>\n",
       "      <td>0</td>\n",
       "      <td>NaN</td>\n",
       "      <td>0</td>\n",
       "      <td>NaN</td>\n",
       "      <td>81.0</td>\n",
       "      <td>0.460396</td>\n",
       "      <td>0.272277</td>\n",
       "      <td>82920.79</td>\n",
       "      <td>1</td>\n",
       "      <td>12</td>\n",
       "      <td>2018</td>\n",
       "      <td>первый</td>\n",
       "      <td>19.0</td>\n",
       "    </tr>\n",
       "    <tr>\n",
       "      <th>2</th>\n",
       "      <td>10</td>\n",
       "      <td>5196000.0</td>\n",
       "      <td>56.0</td>\n",
       "      <td>2015-08-20</td>\n",
       "      <td>2</td>\n",
       "      <td>2.65</td>\n",
       "      <td>5.0</td>\n",
       "      <td>31.800154</td>\n",
       "      <td>4</td>\n",
       "      <td>False</td>\n",
       "      <td>False</td>\n",
       "      <td>False</td>\n",
       "      <td>9.655172</td>\n",
       "      <td>0.0</td>\n",
       "      <td>Санкт-Петербург</td>\n",
       "      <td>21741.0</td>\n",
       "      <td>13933.0</td>\n",
       "      <td>1</td>\n",
       "      <td>90.0</td>\n",
       "      <td>2</td>\n",
       "      <td>574.0</td>\n",
       "      <td>558.0</td>\n",
       "      <td>0.612500</td>\n",
       "      <td>0.148214</td>\n",
       "      <td>92785.71</td>\n",
       "      <td>3</td>\n",
       "      <td>8</td>\n",
       "      <td>2015</td>\n",
       "      <td>другой</td>\n",
       "      <td>14.0</td>\n",
       "    </tr>\n",
       "    <tr>\n",
       "      <th>3</th>\n",
       "      <td>0</td>\n",
       "      <td>64900000.0</td>\n",
       "      <td>159.0</td>\n",
       "      <td>2015-07-24</td>\n",
       "      <td>3</td>\n",
       "      <td>2.65</td>\n",
       "      <td>14.0</td>\n",
       "      <td>90.289724</td>\n",
       "      <td>9</td>\n",
       "      <td>False</td>\n",
       "      <td>False</td>\n",
       "      <td>False</td>\n",
       "      <td>27.413793</td>\n",
       "      <td>0.0</td>\n",
       "      <td>Санкт-Петербург</td>\n",
       "      <td>28098.0</td>\n",
       "      <td>6800.0</td>\n",
       "      <td>2</td>\n",
       "      <td>84.0</td>\n",
       "      <td>3</td>\n",
       "      <td>234.0</td>\n",
       "      <td>424.0</td>\n",
       "      <td>NaN</td>\n",
       "      <td>NaN</td>\n",
       "      <td>408176.10</td>\n",
       "      <td>4</td>\n",
       "      <td>7</td>\n",
       "      <td>2015</td>\n",
       "      <td>другой</td>\n",
       "      <td>7.0</td>\n",
       "    </tr>\n",
       "    <tr>\n",
       "      <th>4</th>\n",
       "      <td>2</td>\n",
       "      <td>10000000.0</td>\n",
       "      <td>100.0</td>\n",
       "      <td>2018-06-19</td>\n",
       "      <td>2</td>\n",
       "      <td>3.03</td>\n",
       "      <td>14.0</td>\n",
       "      <td>56.785990</td>\n",
       "      <td>13</td>\n",
       "      <td>False</td>\n",
       "      <td>False</td>\n",
       "      <td>False</td>\n",
       "      <td>17.241379</td>\n",
       "      <td>0.0</td>\n",
       "      <td>Санкт-Петербург</td>\n",
       "      <td>31856.0</td>\n",
       "      <td>8098.0</td>\n",
       "      <td>2</td>\n",
       "      <td>112.0</td>\n",
       "      <td>1</td>\n",
       "      <td>48.0</td>\n",
       "      <td>121.0</td>\n",
       "      <td>0.320000</td>\n",
       "      <td>0.410000</td>\n",
       "      <td>100000.00</td>\n",
       "      <td>1</td>\n",
       "      <td>6</td>\n",
       "      <td>2018</td>\n",
       "      <td>другой</td>\n",
       "      <td>8.0</td>\n",
       "    </tr>\n",
       "  </tbody>\n",
       "</table>\n",
       "</div>"
      ],
      "text/plain": [
       "   total_images  last_price  total_area first_day_exposition  rooms  \\\n",
       "0            20  13000000.0       108.0           2019-03-07      3   \n",
       "1             7   3350000.0        40.4           2018-12-04      1   \n",
       "2            10   5196000.0        56.0           2015-08-20      2   \n",
       "3             0  64900000.0       159.0           2015-07-24      3   \n",
       "4             2  10000000.0       100.0           2018-06-19      2   \n",
       "\n",
       "   ceiling_height  floors_total  living_area  floor  is_apartment  studio  \\\n",
       "0            2.70          16.0    61.328869      8         False   False   \n",
       "1            2.65          11.0    22.941540      1         False   False   \n",
       "2            2.65           5.0    31.800154      4         False   False   \n",
       "3            2.65          14.0    90.289724      9         False   False   \n",
       "4            3.03          14.0    56.785990     13         False   False   \n",
       "\n",
       "   open_plan  kitchen_area  balcony    locality_name  airports_nearest  \\\n",
       "0      False     18.620690      0.0  Санкт-Петербург           18863.0   \n",
       "1      False      6.965517      2.0   поселок Шушары           12817.0   \n",
       "2      False      9.655172      0.0  Санкт-Петербург           21741.0   \n",
       "3      False     27.413793      0.0  Санкт-Петербург           28098.0   \n",
       "4      False     17.241379      0.0  Санкт-Петербург           31856.0   \n",
       "\n",
       "   city_centers_nearest  parks_around3000  parks_nearest  ponds_around3000  \\\n",
       "0               16028.0                 1          482.0                 2   \n",
       "1               18603.0                 0            NaN                 0   \n",
       "2               13933.0                 1           90.0                 2   \n",
       "3                6800.0                 2           84.0                 3   \n",
       "4                8098.0                 2          112.0                 1   \n",
       "\n",
       "   ponds_nearest  days_exposition  living_area_ratio  kitchen_area_ratio  \\\n",
       "0          755.0              NaN           0.472222            0.231481   \n",
       "1            NaN             81.0           0.460396            0.272277   \n",
       "2          574.0            558.0           0.612500            0.148214   \n",
       "3          234.0            424.0                NaN                 NaN   \n",
       "4           48.0            121.0           0.320000            0.410000   \n",
       "\n",
       "   price_square_meter  day_publication  month_publication  year_publication  \\\n",
       "0           120370.37                3                  3              2019   \n",
       "1            82920.79                1                 12              2018   \n",
       "2            92785.71                3                  8              2015   \n",
       "3           408176.10                4                  7              2015   \n",
       "4           100000.00                1                  6              2018   \n",
       "\n",
       "  floor_type  distance_city_center  \n",
       "0     другой                  16.0  \n",
       "1     первый                  19.0  \n",
       "2     другой                  14.0  \n",
       "3     другой                   7.0  \n",
       "4     другой                   8.0  "
      ]
     },
     "metadata": {},
     "output_type": "display_data"
    }
   ],
   "source": [
    "df['distance_city_center'] = (df['city_centers_nearest'] / 1000).round(0)\n",
    "df['distance_city_center'].unique\n",
    "display(df.head(5))"
   ]
  },
  {
   "cell_type": "markdown",
   "metadata": {},
   "source": [
    "#### Вывод\n",
    "\n",
    "Таким образом, необходимые столбцы были добавлены в общую таблицу."
   ]
  },
  {
   "cell_type": "markdown",
   "metadata": {
    "id": "pPyxrKWTAwb-"
   },
   "source": [
    "### Проведем исследовательский анализ данных"
   ]
  },
  {
   "cell_type": "markdown",
   "metadata": {},
   "source": [
    "#### Изучим зависимость количества квартир в продаже от отдельных параметров:"
   ]
  },
  {
   "cell_type": "markdown",
   "metadata": {},
   "source": [
    "##### Общая площадь"
   ]
  },
  {
   "cell_type": "code",
   "execution_count": 64,
   "metadata": {},
   "outputs": [
    {
     "data": {
      "text/plain": [
       "count    23699.000000\n",
       "mean        60.348651\n",
       "std         35.654083\n",
       "min         12.000000\n",
       "25%         40.000000\n",
       "50%         52.000000\n",
       "75%         69.900000\n",
       "max        900.000000\n",
       "Name: total_area, dtype: float64"
      ]
     },
     "execution_count": 64,
     "metadata": {},
     "output_type": "execute_result"
    }
   ],
   "source": [
    "df['total_area'].describe()"
   ]
  },
  {
   "cell_type": "code",
   "execution_count": 65,
   "metadata": {
    "id": "V2f0D3kLAwb-"
   },
   "outputs": [
    {
     "data": {
      "image/png": "[encoded data removed]",
      "text/plain": [
       "<Figure size 432x288 with 1 Axes>"
      ]
     },
     "metadata": {
      "needs_background": "light"
     },
     "output_type": "display_data"
    }
   ],
   "source": [
    "#построим гистограмму, минимальным значением возьмем 12 квадратных метров, максимальным 150 кв м, так как площади больше кажутся выбросами, ошибками\n",
    "\n",
    "plt.hist(df['total_area'], bins=100, range=(12, 150))\n",
    "plt.title('Зависимость кол-ва квартир в продаже от общей площади квартир')\n",
    "plt.xlabel('м.кв.')\n",
    "plt.ylabel('кол-во квартир')\n",
    "plt.grid()\n",
    "plt.show()"
   ]
  },
  {
   "cell_type": "markdown",
   "metadata": {},
   "source": [
    "На графике мы видим, что макисмальное количество квартир продается с площадью около 42 квадратных метров, это классический вариант двушки для малогабаритных квартир, и евродвушки в домах современной планирровки. На рынке в основном в продаже квартиры площадью от 30 до 70 квадратных метров."
   ]
  },
  {
   "cell_type": "markdown",
   "metadata": {},
   "source": [
    "<div class=\"alert alert-block alert-success\">\n",
    " \n",
    "### Комментарий ревьюера\n",
    "    \n",
    "#### Успех\n",
    "    \n",
    "По графику отчетливо видно, что большая часть значенйи сосредоточено от 30 до 70 метров"
   ]
  },
  {
   "cell_type": "markdown",
   "metadata": {},
   "source": [
    "##### Жилая площадь"
   ]
  },
  {
   "cell_type": "code",
   "execution_count": 66,
   "metadata": {},
   "outputs": [
    {
     "data": {
      "text/plain": [
       "count    23699.000000\n",
       "mean        34.269579\n",
       "std         20.246524\n",
       "min          6.814319\n",
       "25%         22.714396\n",
       "50%         29.528715\n",
       "75%         39.693407\n",
       "max        511.073909\n",
       "Name: living_area, dtype: float64"
      ]
     },
     "execution_count": 66,
     "metadata": {},
     "output_type": "execute_result"
    }
   ],
   "source": [
    "df['living_area'].describe()"
   ]
  },
  {
   "cell_type": "code",
   "execution_count": 67,
   "metadata": {},
   "outputs": [
    {
     "data": {
      "image/png": "[encoded data removed]",
      "text/plain": [
       "<Figure size 432x288 with 1 Axes>"
      ]
     },
     "metadata": {
      "needs_background": "light"
     },
     "output_type": "display_data"
    }
   ],
   "source": [
    "#построим гистограмму с минимальным значением 6 кв.м. и максимальным 80 кв.м.\n",
    "\n",
    "plt.hist(df['living_area'], bins=100, range=(6, 80))\n",
    "plt.title('Зависимость кол-ва квартир в продаже от жилой площади квартир')\n",
    "plt.xlabel('м.кв.')\n",
    "plt.ylabel('кол-во квартир')\n",
    "plt.grid()\n",
    "plt.show()"
   ]
  },
  {
   "cell_type": "markdown",
   "metadata": {},
   "source": [
    "По графику видно, что большинство квартир в продаже с жилой площадью от 18 до 38 кв.м."
   ]
  },
  {
   "cell_type": "markdown",
   "metadata": {},
   "source": [
    "#####  Площадь кухни"
   ]
  },
  {
   "cell_type": "code",
   "execution_count": 68,
   "metadata": {},
   "outputs": [
    {
     "data": {
      "text/plain": [
       "count    23699.000000\n",
       "mean        10.404940\n",
       "std          6.147256\n",
       "min          2.068966\n",
       "25%          6.896552\n",
       "50%          8.965517\n",
       "75%         12.051724\n",
       "max        155.172414\n",
       "Name: kitchen_area, dtype: float64"
      ]
     },
     "execution_count": 68,
     "metadata": {},
     "output_type": "execute_result"
    }
   ],
   "source": [
    "df['kitchen_area'].describe()"
   ]
  },
  {
   "cell_type": "code",
   "execution_count": 69,
   "metadata": {},
   "outputs": [
    {
     "data": {
      "image/png": "[encoded data removed]",
      "text/plain": [
       "<Figure size 432x288 with 1 Axes>"
      ]
     },
     "metadata": {
      "needs_background": "light"
     },
     "output_type": "display_data"
    }
   ],
   "source": [
    "#построим гистограмму с минимальным значением 6 кв.м. и максимальным 13 кв.м., в этот промежуток попадает большинство квартир\n",
    "\n",
    "plt.hist(df['living_area'], bins=100, range=(6, 13))\n",
    "plt.title('Зависимость кол-ва квартир в продаже от площади кухни')\n",
    "plt.xlabel('м.кв.')\n",
    "plt.ylabel('кол-во квартир')\n",
    "plt.grid()\n",
    "plt.show()"
   ]
  },
  {
   "cell_type": "markdown",
   "metadata": {},
   "source": [
    "Очевидно, что самые популярные размеры кухни в квартирах - около 10-12 кв.м., что является стандартом для большинства типов домов."
   ]
  },
  {
   "cell_type": "markdown",
   "metadata": {},
   "source": [
    "#####  Анализ цены"
   ]
  },
  {
   "cell_type": "code",
   "execution_count": 70,
   "metadata": {},
   "outputs": [
    {
     "data": {
      "text/plain": [
       "count    2.369900e+04\n",
       "mean     6.541549e+06\n",
       "std      1.088701e+07\n",
       "min      1.219000e+04\n",
       "25%      3.400000e+06\n",
       "50%      4.650000e+06\n",
       "75%      6.800000e+06\n",
       "max      7.630000e+08\n",
       "Name: last_price, dtype: float64"
      ]
     },
     "execution_count": 70,
     "metadata": {},
     "output_type": "execute_result"
    }
   ],
   "source": [
    "df['last_price'].describe()"
   ]
  },
  {
   "cell_type": "code",
   "execution_count": 71,
   "metadata": {},
   "outputs": [
    {
     "data": {
      "image/png": "[encoded data removed]",
      "text/plain": [
       "<Figure size 432x288 with 1 Axes>"
      ]
     },
     "metadata": {
      "needs_background": "light"
     },
     "output_type": "display_data"
    }
   ],
   "source": [
    "#построим гистограмму:\n",
    "\n",
    "plt.hist(df['last_price'], bins=100, range=(1.219000e+04,9.00000e+06))\n",
    "plt.title('Зависимость кол-ва квартир в продаже от цены на момент снятия с публикации')\n",
    "plt.xlabel('цена, млн.руб.')\n",
    "plt.ylabel('кол-во квартир')\n",
    "plt.grid()\n",
    "plt.show()"
   ]
  },
  {
   "cell_type": "markdown",
   "metadata": {},
   "source": [
    "Итак, по графику видно, что большмнство квартир в продаже стоили на момент снятия объявлений от 3 до 5 млн.руб."
   ]
  },
  {
   "cell_type": "markdown",
   "metadata": {},
   "source": [
    "<div class=\"alert alert-block alert-success\">\n",
    " \n",
    "### Комментарий ревьюера\n",
    "    \n",
    "#### Успех\n",
    "    \n",
    "По выводу здорово вышло"
   ]
  },
  {
   "cell_type": "markdown",
   "metadata": {},
   "source": [
    "#####  Количество комнат"
   ]
  },
  {
   "cell_type": "code",
   "execution_count": 72,
   "metadata": {},
   "outputs": [
    {
     "data": {
      "text/plain": [
       "count    23699.000000\n",
       "mean         2.070636\n",
       "std          1.078405\n",
       "min          0.000000\n",
       "25%          1.000000\n",
       "50%          2.000000\n",
       "75%          3.000000\n",
       "max         19.000000\n",
       "Name: rooms, dtype: float64"
      ]
     },
     "execution_count": 72,
     "metadata": {},
     "output_type": "execute_result"
    }
   ],
   "source": [
    "df['rooms'].describe()"
   ]
  },
  {
   "cell_type": "code",
   "execution_count": 73,
   "metadata": {},
   "outputs": [
    {
     "data": {
      "image/png": "[encoded data removed]",
      "text/plain": [
       "<Figure size 432x288 with 1 Axes>"
      ]
     },
     "metadata": {
      "needs_background": "light"
     },
     "output_type": "display_data"
    }
   ],
   "source": [
    "#построим гистограмму, максимальное значение возьмем 7, более него уже данные кажутся ошибочными:\n",
    "plt.hist(df['rooms'], bins=7, range=(0,7))\n",
    "plt.title('Зависимость кол-ва квартир в продаже от кол-ва комнат')\n",
    "plt.xlabel('кол-во комнат')\n",
    "plt.ylabel('кол-во квартир')\n",
    "plt.grid()\n",
    "plt.show()"
   ]
  },
  {
   "cell_type": "markdown",
   "metadata": {},
   "source": [
    "Видим, что в продаже больше всего 1-комнатных квартир, затем идут 2-комнатные, и так далее, с увеличением количества комнат, общее число объектов в продаже снижается."
   ]
  },
  {
   "cell_type": "markdown",
   "metadata": {},
   "source": [
    "<div class=\"alert alert-block alert-success\">\n",
    " \n",
    "### Комментарий ревьюера\n",
    "    \n",
    "#### Успех\n",
    "    \n",
    "Распределение по комнатам логически соотносится с распределением по площади"
   ]
  },
  {
   "cell_type": "markdown",
   "metadata": {},
   "source": [
    "#####  Высота потолков"
   ]
  },
  {
   "cell_type": "code",
   "execution_count": 74,
   "metadata": {},
   "outputs": [
    {
     "data": {
      "text/plain": [
       "count    23699.000000\n",
       "mean         2.677821\n",
       "std          0.165304\n",
       "min          1.000000\n",
       "25%          2.600000\n",
       "50%          2.650000\n",
       "75%          2.700000\n",
       "max          3.490000\n",
       "Name: ceiling_height, dtype: float64"
      ]
     },
     "execution_count": 74,
     "metadata": {},
     "output_type": "execute_result"
    }
   ],
   "source": [
    "df['ceiling_height'].describe()"
   ]
  },
  {
   "cell_type": "code",
   "execution_count": 75,
   "metadata": {},
   "outputs": [
    {
     "data": {
      "image/png": "[encoded data removed]",
      "text/plain": [
       "<Figure size 432x288 with 1 Axes>"
      ]
     },
     "metadata": {
      "needs_background": "light"
     },
     "output_type": "display_data"
    }
   ],
   "source": [
    "#построим гистограмму, минимальное значение возьмем 2.4, максимальное 3.5 метра:\n",
    "plt.hist(df['ceiling_height'], bins=50, range=(2.4,3.5))\n",
    "plt.title('Зависимость кол-ва квартир в продаже от высоты потолков')\n",
    "plt.xlabel('высота потолка, м.')\n",
    "plt.ylabel('кол-во квартир')\n",
    "plt.grid()\n",
    "plt.show()"
   ]
  },
  {
   "cell_type": "markdown",
   "metadata": {},
   "source": [
    "Как мы видим, самая часто встречающаяся высота порлотока 2.65 метра, но и с более приятной высотой пололков 2.8 и 3 метра тоже довольно много предложений."
   ]
  },
  {
   "cell_type": "markdown",
   "metadata": {},
   "source": [
    "#####  Тип этажа квартиры (первый, последний или другой)"
   ]
  },
  {
   "cell_type": "code",
   "execution_count": 76,
   "metadata": {},
   "outputs": [
    {
     "data": {
      "text/plain": [
       "count      23699\n",
       "unique         3\n",
       "top       другой\n",
       "freq       17446\n",
       "Name: floor_type, dtype: object"
      ]
     },
     "execution_count": 76,
     "metadata": {},
     "output_type": "execute_result"
    }
   ],
   "source": [
    "df['floor_type'].describe()"
   ]
  },
  {
   "cell_type": "code",
   "execution_count": 77,
   "metadata": {},
   "outputs": [
    {
     "data": {
      "image/png": "[encoded data removed]",
      "text/plain": [
       "<Figure size 432x288 with 1 Axes>"
      ]
     },
     "metadata": {},
     "output_type": "display_data"
    }
   ],
   "source": [
    "#построим круговую диаграмму по типу этажа:\n",
    "\n",
    "floor_type = df['floor_type'].value_counts()\n",
    "plt.pie(floor_type, labels=floor_type.index, autopct='%1.2f%%')\n",
    "plt.title('Зависимость кол-ва квартир в продаже от типа этажа')\n",
    "\n",
    "plt.show()"
   ]
  },
  {
   "cell_type": "markdown",
   "metadata": {},
   "source": [
    "Очевидно, доля не первого и последнего этажа самая большая, что вполне логично для большого города с многоэтажными застройками."
   ]
  },
  {
   "cell_type": "markdown",
   "metadata": {},
   "source": [
    "<div class=\"alert alert-block alert-success\">\n",
    " \n",
    "### Комментарий ревьюера\n",
    "    \n",
    "#### Успех\n",
    "\n",
    "Квартиры на первоми этаже пользуются наименьшим спросом"
   ]
  },
  {
   "cell_type": "markdown",
   "metadata": {},
   "source": [
    "#####  Общее количество этажей в доме"
   ]
  },
  {
   "cell_type": "code",
   "execution_count": 78,
   "metadata": {},
   "outputs": [
    {
     "data": {
      "text/plain": [
       "count    23613.000000\n",
       "mean        10.673824\n",
       "std          6.597173\n",
       "min          1.000000\n",
       "25%          5.000000\n",
       "50%          9.000000\n",
       "75%         16.000000\n",
       "max         60.000000\n",
       "Name: floors_total, dtype: float64"
      ]
     },
     "execution_count": 78,
     "metadata": {},
     "output_type": "execute_result"
    }
   ],
   "source": [
    "df['floors_total'].describe()"
   ]
  },
  {
   "cell_type": "code",
   "execution_count": 79,
   "metadata": {},
   "outputs": [
    {
     "data": {
      "image/png": "[encoded data removed]",
      "text/plain": [
       "<Figure size 432x288 with 1 Axes>"
      ]
     },
     "metadata": {
      "needs_background": "light"
     },
     "output_type": "display_data"
    }
   ],
   "source": [
    "#построим гистограмму, минимальное значение 1, максимальное 30, так как более высокие жилые дома это уникальный случай, назовем аномальным:\n",
    "\n",
    "plt.hist(df['floors_total'], bins=100, range=(1,30))\n",
    "plt.title('Зависимость кол-ва квартир в продаже от общего количества этажей в доме')\n",
    "plt.xlabel('кол-во этажей')\n",
    "plt.ylabel('кол-во квартир')\n",
    "plt.grid()\n",
    "plt.show()"
   ]
  },
  {
   "cell_type": "markdown",
   "metadata": {},
   "source": [
    "По графику очень хорошо заметно, что пятиэтажек все еще много в городе и предложений о продаже квартир в них имеет макимальное значение. На втором месте 9-этажные жилые дома, которых также строилось очень много."
   ]
  },
  {
   "cell_type": "markdown",
   "metadata": {},
   "source": [
    "#####  Расстояние до центра города (в метрах)"
   ]
  },
  {
   "cell_type": "code",
   "execution_count": 80,
   "metadata": {},
   "outputs": [
    {
     "data": {
      "text/plain": [
       "count    18180.000000\n",
       "mean     14191.277833\n",
       "std       8608.386210\n",
       "min        181.000000\n",
       "25%       9238.000000\n",
       "50%      13098.500000\n",
       "75%      16293.000000\n",
       "max      65968.000000\n",
       "Name: city_centers_nearest, dtype: float64"
      ]
     },
     "execution_count": 80,
     "metadata": {},
     "output_type": "execute_result"
    }
   ],
   "source": [
    "df['city_centers_nearest'].describe()"
   ]
  },
  {
   "cell_type": "code",
   "execution_count": 81,
   "metadata": {},
   "outputs": [
    {
     "data": {
      "image/png": "[encoded data removed]",
      "text/plain": [
       "<Figure size 432x288 with 1 Axes>"
      ]
     },
     "metadata": {
      "needs_background": "light"
     },
     "output_type": "display_data"
    }
   ],
   "source": [
    "#построим гистограмму:\n",
    "\n",
    "plt.hist(df['city_centers_nearest'], bins=100, range=(0,30000))\n",
    "plt.title('Зависимость кол-ва квартир в продаже от удаленности от центра')\n",
    "plt.xlabel('расстояние до центра города, м.')\n",
    "plt.ylabel('кол-во квартир')\n",
    "plt.grid()\n",
    "plt.show()"
   ]
  },
  {
   "cell_type": "markdown",
   "metadata": {},
   "source": [
    "Очевидно, что в центре предложений очень мало, а вот в спальных районах, примерно в 12-15 км от центра больше всего объявлений о продаже, где застройка плотная и цена ниже."
   ]
  },
  {
   "cell_type": "markdown",
   "metadata": {},
   "source": [
    "#####  Расстояние до ближайшего парка (в метрах)"
   ]
  },
  {
   "cell_type": "code",
   "execution_count": 82,
   "metadata": {},
   "outputs": [
    {
     "data": {
      "text/plain": [
       "count    8079.000000\n",
       "mean      490.804555\n",
       "std       342.317995\n",
       "min         1.000000\n",
       "25%       288.000000\n",
       "50%       455.000000\n",
       "75%       612.000000\n",
       "max      3190.000000\n",
       "Name: parks_nearest, dtype: float64"
      ]
     },
     "execution_count": 82,
     "metadata": {},
     "output_type": "execute_result"
    }
   ],
   "source": [
    "df['parks_nearest'].describe()"
   ]
  },
  {
   "cell_type": "code",
   "execution_count": 83,
   "metadata": {},
   "outputs": [
    {
     "data": {
      "image/png": "[encoded data removed]",
      "text/plain": [
       "<Figure size 432x288 with 1 Axes>"
      ]
     },
     "metadata": {
      "needs_background": "light"
     },
     "output_type": "display_data"
    }
   ],
   "source": [
    "#построим гистограмму:\n",
    "\n",
    "plt.hist(df['parks_nearest'], bins=100, range=(1,1000))\n",
    "plt.title('Зависимость кол-ва квартир в продаже от удаленности от парка')\n",
    "plt.xlabel('расстояние до ближайшего парка, м.')\n",
    "plt.ylabel('кол-во квартир')\n",
    "plt.grid()\n",
    "plt.show()"
   ]
  },
  {
   "cell_type": "markdown",
   "metadata": {},
   "source": [
    "Итак, по графику видим, что нет сильной зависимости от расстояния до ближайшего парка, но в среднем в 200-650 метрах парк есть у большинства объектов."
   ]
  },
  {
   "cell_type": "markdown",
   "metadata": {},
   "source": [
    "#### Вывод после построения графиков зависимости количества предложений от отдельных параметров:\n",
    "\n",
    "Итак, были изучены и описаны следующие параметры, а также построены для наглядности их графики:\n",
    "  - общая площадь, мы видим, что больше всего квартир продавалось площадью 42 кв.к., в целом же большинство объектов представлены в промежутке от 30 до 70 кв.м., что вполне логично, зная типовые застройки городов многоквартирными домами;\n",
    "  - жилая площадь - и мы видим, что с большинство предложений с жилой площадью от 18 до 38 кв.м.;\n",
    "  - площадь кухни, как и ожидалось, в стандартных квартирах 10-12 кв.м., но и 6-метровые кухни тоже частая ситуация, как видно по графику;\n",
    "  - цена объекта в среднем укладывалась в интервал от 3 до 5 млн. руб., но наблюдаются отдельные всплески;\n",
    "  - количество комнат - на пай-чарте видно, что на первом и последнем этажах (это самые неликвидные этажи, с наименьшей ценой) продается около четверти объектов, остальные же предложения на другом этаже, что объясняется многоэтажной застройкой городов;\n",
    "  - высота потолков - как и ожидалось, стандартные потолки 2,65 метра самый частый вариант;\n",
    "  - тип этажа квартиры («первый», «последний», «другой»);\n",
    "  - общее количество этажей в доме - в пятиэтажках больше всего предложений, далее идут 9-этажные дома;\n",
    "  - расстояние до центра города в метрах - больше всего объектов, конечнор же, в спальных районах, на удалении от центра примерно в 12-15 км., есть также на графике заментый всплеск на расстоянии 5 км от центра города;\n",
    "  - расстояние до ближайшего парка - оно в среднем 200-700 метров, что отлично для города, поэтому на количество объектов не сильно влияет."
   ]
  },
  {
   "cell_type": "markdown",
   "metadata": {},
   "source": [
    "<div class=\"alert alert-block alert-success\">\n",
    " \n",
    "### Комментарий ревьюера\n",
    "    \n",
    "#### Успех\n",
    "    \n",
    "Эти выводы точно пригодятся при составлении итогового заключения"
   ]
  },
  {
   "cell_type": "markdown",
   "metadata": {},
   "source": [
    "#### Изучим как быстро продавались квартиры, то есть сколько дней было размещено объявление:"
   ]
  },
  {
   "cell_type": "code",
   "execution_count": 84,
   "metadata": {},
   "outputs": [
    {
     "data": {
      "text/plain": [
       "count    20518.000000\n",
       "mean       180.888634\n",
       "std        219.727988\n",
       "min          1.000000\n",
       "25%         45.000000\n",
       "50%         95.000000\n",
       "75%        232.000000\n",
       "max       1580.000000\n",
       "Name: days_exposition, dtype: float64"
      ]
     },
     "execution_count": 84,
     "metadata": {},
     "output_type": "execute_result"
    }
   ],
   "source": [
    "df['days_exposition'].describe()"
   ]
  },
  {
   "cell_type": "code",
   "execution_count": 85,
   "metadata": {},
   "outputs": [
    {
     "data": {
      "image/png": "[encoded data removed]",
      "text/plain": [
       "<Figure size 432x288 with 1 Axes>"
      ]
     },
     "metadata": {
      "needs_background": "light"
     },
     "output_type": "display_data"
    }
   ],
   "source": [
    "#построим гистограмму, взяв интервал до года, куда попали большинство предложений:\n",
    "\n",
    "plt.hist(df['days_exposition'], bins=100, range=(0,365))\n",
    "plt.title('Зависимость кол-ва объектов от времени размещения объявления')\n",
    "plt.xlabel('кол-во дней')\n",
    "plt.ylabel('кол-во объявлений')\n",
    "plt.grid()\n",
    "plt.show()"
   ]
  },
  {
   "cell_type": "markdown",
   "metadata": {},
   "source": [
    "Итак, мы видим, что квартиру продают в среднем за 3 месяца. Для количественных переменных лучше всего подходит значение медианы для определения среднего значения, в то время как среднее значение для всего датасета составило 180 дней, то есть полгода, что, конечно же, объясняется аномальными значениями максимального срока размещения объявления. Видим на графике также очень большой всплеск продаж примерно в 7, 45 дней, и 90 дней, это скорее всего соответствует стандартному времени размещения объявлений на сервисе. Но все же быстрой продажей можно считать все продажи до 1,5 месяцев, ведь недвижимость это сложный объект. Все объявления из третьей квартили (более 232 дней) считаем медленной, или даже не состоявшейся продажей, возможно, объявление сняли так и не реализовав продажу."
   ]
  },
  {
   "cell_type": "markdown",
   "metadata": {},
   "source": [
    "<div class=\"alert alert-block alert-success\">\n",
    " \n",
    "### Комментарий ревьюера\n",
    "    \n",
    "#### Успех\n",
    "    \n",
    "Здорово, что ты обнаружила выбивающиеся значения на графике. Они появились не просто так. В эти дни система убирает с показа бесплатные объявления"
   ]
  },
  {
   "cell_type": "markdown",
   "metadata": {},
   "source": [
    "#### Определим факторы, которые больше всего влияют на общую(полную) стоимость объекта:"
   ]
  },
  {
   "cell_type": "markdown",
   "metadata": {},
   "source": [
    "##### Зависимость цены от общей площади"
   ]
  },
  {
   "cell_type": "code",
   "execution_count": 86,
   "metadata": {},
   "outputs": [
    {
     "data": {
      "text/plain": [
       "'Коэффициент Пирсона равен'"
      ]
     },
     "metadata": {},
     "output_type": "display_data"
    },
    {
     "data": {
      "text/plain": [
       "0.6536750579657242"
      ]
     },
     "metadata": {},
     "output_type": "display_data"
    },
    {
     "data": {
      "image/png": "[encoded data removed]",
      "text/plain": [
       "<Figure size 360x360 with 1 Axes>"
      ]
     },
     "metadata": {
      "needs_background": "light"
     },
     "output_type": "display_data"
    }
   ],
   "source": [
    "#сделаем сводную таблицу:\n",
    "\n",
    "(\n",
    "    df.pivot_table(index='total_area', values='last_price')\n",
    "    .plot(grid=True, style='o', xlim=(0,250), figsize=(5,5))\n",
    ")\n",
    "plt.title('Зависимость цены от общей площади')\n",
    "plt.xlabel('общая площадь объекта, кв.м.')\n",
    "plt.ylabel('цена, млн.руб.')\n",
    "plt.show\n",
    "\n",
    "display (\"Коэффициент Пирсона равен\", df['total_area'].corr(df['last_price']))"
   ]
  },
  {
   "cell_type": "markdown",
   "metadata": {},
   "source": [
    "Коэффициент Пирсона равен 0,65, что указывает на прямую зависимость цены от общей площади с достаточно высокой корреляцией, на графике также видно это - с ростом площади цена повышается."
   ]
  },
  {
   "cell_type": "markdown",
   "metadata": {},
   "source": [
    "##### Зависимость цены от жилой площади"
   ]
  },
  {
   "cell_type": "code",
   "execution_count": 87,
   "metadata": {},
   "outputs": [
    {
     "data": {
      "text/plain": [
       "'Коэффициент Пирсона равен'"
      ]
     },
     "metadata": {},
     "output_type": "display_data"
    },
    {
     "data": {
      "text/plain": [
       "0.6536750579657239"
      ]
     },
     "metadata": {},
     "output_type": "display_data"
    },
    {
     "data": {
      "image/png": "[encoded data removed]",
      "text/plain": [
       "<Figure size 360x360 with 1 Axes>"
      ]
     },
     "metadata": {
      "needs_background": "light"
     },
     "output_type": "display_data"
    }
   ],
   "source": [
    "(\n",
    "    df.pivot_table(index='living_area', values='last_price')\n",
    "    .plot(grid=True, style='o', xlim=(0,200), figsize=(5,5))\n",
    ")\n",
    "plt.title('Зависимость цены от жилой площади')\n",
    "plt.xlabel('жилая площадь объекта, кв.м.')\n",
    "plt.ylabel('цена, млн.руб.')\n",
    "plt.show\n",
    "\n",
    "display (\"Коэффициент Пирсона равен\", df['living_area'].corr(df['last_price']))"
   ]
  },
  {
   "cell_type": "markdown",
   "metadata": {},
   "source": [
    "Коэффициент Пирсона равен 0,65, что указывает на прямую зависимость цены от жилой площади с достаточно высокой корреляцией, на графике также видно это. Это объясняется аналогично, цена квадратного метра может плавно падать, но в целом большая жилая площадь имеет цену выше."
   ]
  },
  {
   "cell_type": "markdown",
   "metadata": {},
   "source": [
    "<div class=\"alert alert-block alert-success\">\n",
    " \n",
    "### Комментарий ревьюера\n",
    "    \n",
    "#### Успех\n",
    "    \n",
    "Использован хороший способ для показа зависимости на графике"
   ]
  },
  {
   "cell_type": "markdown",
   "metadata": {},
   "source": [
    "##### Зависимость цены от площади кухни"
   ]
  },
  {
   "cell_type": "code",
   "execution_count": 88,
   "metadata": {},
   "outputs": [
    {
     "data": {
      "text/plain": [
       "'Коэффициент Пирсона равен'"
      ]
     },
     "metadata": {},
     "output_type": "display_data"
    },
    {
     "data": {
      "text/plain": [
       "0.6536750579657239"
      ]
     },
     "metadata": {},
     "output_type": "display_data"
    },
    {
     "data": {
      "image/png": "[encoded data removed]",
      "text/plain": [
       "<Figure size 360x360 with 1 Axes>"
      ]
     },
     "metadata": {
      "needs_background": "light"
     },
     "output_type": "display_data"
    }
   ],
   "source": [
    "(\n",
    "    df.pivot_table(index='kitchen_area', values='last_price')\n",
    "    .plot(grid=True, style='o', xlim=(0,60), figsize=(5,5))\n",
    ")\n",
    "plt.title('Зависимость цены от площади кухни')\n",
    "plt.xlabel('площадь кухни, кв.м.')\n",
    "plt.ylabel('цена, млн.руб.')\n",
    "plt.show\n",
    "\n",
    "display (\"Коэффициент Пирсона равен\",df['kitchen_area'].corr(df['last_price']))"
   ]
  },
  {
   "cell_type": "markdown",
   "metadata": {},
   "source": [
    "Ситуация аналогичная, чем больше площадь кухни, чем выше цена."
   ]
  },
  {
   "cell_type": "markdown",
   "metadata": {},
   "source": [
    "##### Зависимость цены от количества комнат"
   ]
  },
  {
   "cell_type": "code",
   "execution_count": 89,
   "metadata": {},
   "outputs": [
    {
     "data": {
      "text/plain": [
       "'Коэффициент Пирсона равен'"
      ]
     },
     "metadata": {},
     "output_type": "display_data"
    },
    {
     "data": {
      "text/plain": [
       "0.3633428499648948"
      ]
     },
     "metadata": {},
     "output_type": "display_data"
    },
    {
     "data": {
      "image/png": "[encoded data removed]",
      "text/plain": [
       "<Figure size 360x360 with 1 Axes>"
      ]
     },
     "metadata": {
      "needs_background": "light"
     },
     "output_type": "display_data"
    }
   ],
   "source": [
    "(\n",
    "    df.pivot_table(index='rooms', values='last_price')\n",
    "    .plot(grid=True, style='o-', xlim=(0,7), figsize=(5,5))\n",
    ")\n",
    "plt.title('Зависимость цены от кол-ва комнат')\n",
    "plt.xlabel('кол-во комнат')\n",
    "plt.ylabel('цена, млн.руб.')\n",
    "plt.show\n",
    "\n",
    "display (\"Коэффициент Пирсона равен\", df['rooms'].corr(df['last_price']))"
   ]
  },
  {
   "cell_type": "markdown",
   "metadata": {},
   "source": [
    "Коэффициент Пирсона равен 0,36, что говорит о слабой зависимости, которая все же есть и положительная, то есть чем больше комнат, тем выше цена. Низкое значение коэффициента можно объяснить тем, что бывают ситуации, когда площадь большая, но число комнат маленькое, тогда и цена будет зависеть не от числа спален, а от жилой площади."
   ]
  },
  {
   "cell_type": "markdown",
   "metadata": {},
   "source": [
    "<div class=\"alert alert-block alert-success\">\n",
    " \n",
    "### Комментарий ревьюера\n",
    "    \n",
    "#### Успех\n",
    "    \n",
    "По выводу здорово"
   ]
  },
  {
   "cell_type": "markdown",
   "metadata": {},
   "source": [
    "##### Зависимость цены от типа этажа"
   ]
  },
  {
   "cell_type": "code",
   "execution_count": 90,
   "metadata": {},
   "outputs": [
    {
     "data": {
      "text/plain": [
       "<function matplotlib.pyplot.show(close=None, block=None)>"
      ]
     },
     "execution_count": 90,
     "metadata": {},
     "output_type": "execute_result"
    },
    {
     "data": {
      "image/png": "[encoded data removed]",
      "text/plain": [
       "<Figure size 360x360 with 1 Axes>"
      ]
     },
     "metadata": {
      "needs_background": "light"
     },
     "output_type": "display_data"
    }
   ],
   "source": [
    "(\n",
    "    df.pivot_table(index='floor_type', values='last_price')\n",
    "    .plot(grid=True, style='o-', figsize=(5,5))\n",
    ")\n",
    "plt.title('Зависимость цены от типа этажа')\n",
    "plt.xlabel('этаж')\n",
    "plt.ylabel('цена, млн.руб.')\n",
    "plt.show\n"
   ]
  },
  {
   "cell_type": "markdown",
   "metadata": {},
   "source": [
    "По графику очевидно, что на первом этаже самые дешевые квартиры, непопулярный тип этажа."
   ]
  },
  {
   "cell_type": "markdown",
   "metadata": {},
   "source": [
    "##### Зависимость цены от дня публикации"
   ]
  },
  {
   "cell_type": "code",
   "execution_count": 91,
   "metadata": {},
   "outputs": [
    {
     "data": {
      "text/plain": [
       "<function matplotlib.pyplot.show(close=None, block=None)>"
      ]
     },
     "execution_count": 91,
     "metadata": {},
     "output_type": "execute_result"
    },
    {
     "data": {
      "image/png": "[encoded data removed]",
      "text/plain": [
       "<Figure size 360x360 with 1 Axes>"
      ]
     },
     "metadata": {
      "needs_background": "light"
     },
     "output_type": "display_data"
    }
   ],
   "source": [
    "(\n",
    "    df.pivot_table(index='day_publication', values='last_price')\n",
    "    .plot(grid=True, style='o-', figsize=(5,5))\n",
    ")\n",
    "plt.title('Зависимость цены от дня публикации')\n",
    "plt.xlabel('день публикации')\n",
    "plt.ylabel('цена, млн.руб.')\n",
    "plt.show"
   ]
  },
  {
   "cell_type": "markdown",
   "metadata": {},
   "source": [
    "Очевидно, зависимости от дня публикации нет, к середине и концу недели цены объявлений, в среднем, повыше, но цены часто меняют в процессе продажи."
   ]
  },
  {
   "cell_type": "markdown",
   "metadata": {},
   "source": [
    "##### Зависимость цены от месяца публикации"
   ]
  },
  {
   "cell_type": "code",
   "execution_count": 92,
   "metadata": {},
   "outputs": [
    {
     "data": {
      "text/plain": [
       "<function matplotlib.pyplot.show(close=None, block=None)>"
      ]
     },
     "execution_count": 92,
     "metadata": {},
     "output_type": "execute_result"
    },
    {
     "data": {
      "image/png": "[encoded data removed]",
      "text/plain": [
       "<Figure size 360x360 with 1 Axes>"
      ]
     },
     "metadata": {
      "needs_background": "light"
     },
     "output_type": "display_data"
    }
   ],
   "source": [
    "(\n",
    "    df.pivot_table(index='month_publication', values='last_price')\n",
    "    .plot(grid=True, style='o-', figsize=(5,5))\n",
    ")\n",
    "plt.title('Зависимость цены от месяца публикации')\n",
    "plt.xlabel('месяц публикации')\n",
    "plt.ylabel('цена, млн.руб.')\n",
    "plt.show\n"
   ]
  },
  {
   "cell_type": "markdown",
   "metadata": {},
   "source": [
    "И от месяца публикации цена не зависит, по графику видно, что в конце года объекты продавались дороже, это может быть связано с новогодними премиями, и, соответственно, повышению спроса."
   ]
  },
  {
   "cell_type": "markdown",
   "metadata": {},
   "source": [
    "##### Зависимость цены от года публикации"
   ]
  },
  {
   "cell_type": "code",
   "execution_count": 93,
   "metadata": {},
   "outputs": [
    {
     "data": {
      "text/plain": [
       "<function matplotlib.pyplot.show(close=None, block=None)>"
      ]
     },
     "execution_count": 93,
     "metadata": {},
     "output_type": "execute_result"
    },
    {
     "data": {
      "image/png": "[encoded data removed]",
      "text/plain": [
       "<Figure size 360x360 with 1 Axes>"
      ]
     },
     "metadata": {
      "needs_background": "light"
     },
     "output_type": "display_data"
    }
   ],
   "source": [
    "(\n",
    "    df.pivot_table(index='year_publication', values='last_price')\n",
    "    .plot(grid=True, style='o-', figsize=(5,5))\n",
    ")\n",
    "plt.title('Зависимость цены от года публикации')\n",
    "plt.xlabel('год публикации')\n",
    "plt.ylabel('цена, млн.руб.')\n",
    "plt.show"
   ]
  },
  {
   "cell_type": "markdown",
   "metadata": {},
   "source": [
    "<div class=\"alert alert-block alert-danger\">\n",
    " \n",
    "### Комментарий ревьюера\n",
    "    \n",
    "#### Ошибка\n",
    "    \n",
    "Для дня, месяца и года нет смысла считать корреляцию. У этих показателей нет линейной связи. Вывод о зависимости стоит делать только по графику"
   ]
  },
  {
   "cell_type": "markdown",
   "metadata": {},
   "source": [
    "По графику видим, что цены снижались в 2015-2018 годах, но линейной зависимости цены от года публикации нет."
   ]
  },
  {
   "cell_type": "markdown",
   "metadata": {},
   "source": [
    "#### Вывод о влиянии отдельных факторов на общую(полную) стоимость объекта:\n",
    "\n",
    "Итак, проанализировав влияние отдельных факторов на общую стоимость объекта, можно сделать следующие выводы:\n",
    "\n",
    "    - на цену объекта сильно влияет площадь(как общая, так и жилая и кухни), это вполне логично, ведь за квартиры большей площади как правило и суммы требуют больше, цена квадратного метра при этом может плавно снижаться, плюс другие факторы тоже оказывают влияние на стоимость\n",
    "    - предложения на первом этаже дешевле, чем на других, так как для жизни это наименее привлекательный вариант\n",
    "    - день, месяц, год размещения на цену не влияет."
   ]
  },
  {
   "cell_type": "markdown",
   "metadata": {},
   "source": [
    "#### Посчитаем среднюю цену 1 кв.м. в 10 населенных пунктах с наибольшим числом объявлений"
   ]
  },
  {
   "cell_type": "code",
   "execution_count": 171,
   "metadata": {},
   "outputs": [
    {
     "data": {
      "text/html": [
       "<div>\n",
       "<style scoped>\n",
       "    .dataframe tbody tr th:only-of-type {\n",
       "        vertical-align: middle;\n",
       "    }\n",
       "\n",
       "    .dataframe tbody tr th {\n",
       "        vertical-align: top;\n",
       "    }\n",
       "\n",
       "    .dataframe thead th {\n",
       "        text-align: right;\n",
       "    }\n",
       "</style>\n",
       "<table border=\"1\" class=\"dataframe\">\n",
       "  <thead>\n",
       "    <tr style=\"text-align: right;\">\n",
       "      <th></th>\n",
       "      <th>count</th>\n",
       "      <th>price_square_meter</th>\n",
       "    </tr>\n",
       "    <tr>\n",
       "      <th>locality_name</th>\n",
       "      <th></th>\n",
       "      <th></th>\n",
       "    </tr>\n",
       "  </thead>\n",
       "  <tbody>\n",
       "    <tr>\n",
       "      <th>Санкт-Петербург</th>\n",
       "      <td>15721</td>\n",
       "      <td>114849.01</td>\n",
       "    </tr>\n",
       "    <tr>\n",
       "      <th>Пушкин</th>\n",
       "      <td>369</td>\n",
       "      <td>103125.82</td>\n",
       "    </tr>\n",
       "    <tr>\n",
       "      <th>деревня Кудрово</th>\n",
       "      <td>299</td>\n",
       "      <td>92473.55</td>\n",
       "    </tr>\n",
       "    <tr>\n",
       "      <th>поселок Парголово</th>\n",
       "      <td>327</td>\n",
       "      <td>90175.91</td>\n",
       "    </tr>\n",
       "    <tr>\n",
       "      <th>поселок Мурино</th>\n",
       "      <td>556</td>\n",
       "      <td>85681.76</td>\n",
       "    </tr>\n",
       "    <tr>\n",
       "      <th>поселок Шушары</th>\n",
       "      <td>440</td>\n",
       "      <td>78677.36</td>\n",
       "    </tr>\n",
       "    <tr>\n",
       "      <th>Колпино</th>\n",
       "      <td>338</td>\n",
       "      <td>75424.58</td>\n",
       "    </tr>\n",
       "    <tr>\n",
       "      <th>Гатчина</th>\n",
       "      <td>307</td>\n",
       "      <td>68746.15</td>\n",
       "    </tr>\n",
       "    <tr>\n",
       "      <th>Всеволожск</th>\n",
       "      <td>398</td>\n",
       "      <td>68654.47</td>\n",
       "    </tr>\n",
       "    <tr>\n",
       "      <th>Выборг</th>\n",
       "      <td>237</td>\n",
       "      <td>58141.91</td>\n",
       "    </tr>\n",
       "  </tbody>\n",
       "</table>\n",
       "</div>"
      ],
      "text/plain": [
       "                   count  price_square_meter\n",
       "locality_name                               \n",
       "Санкт-Петербург    15721           114849.01\n",
       "Пушкин               369           103125.82\n",
       "деревня Кудрово      299            92473.55\n",
       "поселок Парголово    327            90175.91\n",
       "поселок Мурино       556            85681.76\n",
       "поселок Шушары       440            78677.36\n",
       "Колпино              338            75424.58\n",
       "Гатчина              307            68746.15\n",
       "Всеволожск           398            68654.47\n",
       "Выборг               237            58141.91"
      ]
     },
     "execution_count": 171,
     "metadata": {},
     "output_type": "execute_result"
    }
   ],
   "source": [
    "#сделаем сводную таблицу для того, чтобы вычислить цену квадратного метра:\n",
    "\n",
    "price_meter = df.pivot_table(index='locality_name',values='last_price', aggfunc=['count'])\n",
    "price_meter.columns = ['count']\n",
    "price_meter = price_meter.sort_values(by='count', ascending=False).head(10)\n",
    "price_meter['price_square_meter'] = df.pivot_table(index='locality_name',values='price_square_meter').round(2)\n",
    "price_meter.sort_values(by='price_square_meter', ascending=False)"
   ]
  },
  {
   "cell_type": "markdown",
   "metadata": {},
   "source": [
    "<div class=\"alert alert-block alert-success\">\n",
    " \n",
    "### Комментарий ревьюера\n",
    "    \n",
    "#### Успех\n",
    "    \n",
    "Рейтинг топ-10 по городам получен"
   ]
  },
  {
   "cell_type": "markdown",
   "metadata": {},
   "source": [
    "#### Вывод:\n",
    "Конечно же, самая высокая цена квадратного метра в городе Санкт-Петербург, далее идет довольно большой и развитый город Пушкин, за ними следуют близлежащие поселки и деревни, которые, фактически, примыкают к городу. Последние два населенных пункта из топ-10 находятся на большем расстоянии от Санкт-Петербурга, но имеют хорошую инфраструктуру, поэтому и цену на жилье также довольно высокую."
   ]
  },
  {
   "cell_type": "markdown",
   "metadata": {},
   "source": [
    "#### Выделим квартиры в Санкт-Петербурге с помощью столбца locality_name и посчитаем их среднюю стоимость на разном удалении от центра"
   ]
  },
  {
   "cell_type": "code",
   "execution_count": 174,
   "metadata": {},
   "outputs": [
    {
     "data": {
      "text/plain": [
       "count    15660.000000\n",
       "mean        11.596041\n",
       "std          4.863594\n",
       "min          0.000000\n",
       "25%          8.000000\n",
       "50%         12.000000\n",
       "75%         15.000000\n",
       "max         29.000000\n",
       "Name: distance_city_center, dtype: float64"
      ]
     },
     "execution_count": 174,
     "metadata": {},
     "output_type": "execute_result"
    }
   ],
   "source": [
    "df.query('locality_name == \"Санкт-Петербург\"')['distance_city_center'].describe()"
   ]
  },
  {
   "cell_type": "code",
   "execution_count": 176,
   "metadata": {},
   "outputs": [
    {
     "data": {
      "image/png": "[encoded data removed]",
      "text/plain": [
       "<Figure size 720x360 with 1 Axes>"
      ]
     },
     "metadata": {
      "needs_background": "light"
     },
     "output_type": "display_data"
    }
   ],
   "source": [
    "(\n",
    "    df.query('locality_name == \"Санкт-Петербург\"')\n",
    "    .pivot_table(index='distance_city_center', values='last_price')\n",
    "    .plot(grid=True, style='o-', xlim=(0,15), figsize=(10, 5))\n",
    ")\n",
    "plt.title('Зависимость цены на квартиры в Спб от удаления от центра города')\n",
    "plt.xlabel('Расстояние от центра города, км.')\n",
    "plt.ylabel('Цена, млн.руб.')\n",
    "plt.show()"
   ]
  },
  {
   "cell_type": "code",
   "execution_count": 179,
   "metadata": {},
   "outputs": [
    {
     "data": {
      "text/plain": [
       "'Средняя стоимость квартир в СПБ в зависимости от удаления от центра города'"
      ]
     },
     "metadata": {},
     "output_type": "display_data"
    },
    {
     "data": {
      "text/html": [
       "<div>\n",
       "<style scoped>\n",
       "    .dataframe tbody tr th:only-of-type {\n",
       "        vertical-align: middle;\n",
       "    }\n",
       "\n",
       "    .dataframe tbody tr th {\n",
       "        vertical-align: top;\n",
       "    }\n",
       "\n",
       "    .dataframe thead th {\n",
       "        text-align: right;\n",
       "    }\n",
       "</style>\n",
       "<table border=\"1\" class=\"dataframe\">\n",
       "  <thead>\n",
       "    <tr style=\"text-align: right;\">\n",
       "      <th></th>\n",
       "      <th>last_price</th>\n",
       "    </tr>\n",
       "    <tr>\n",
       "      <th>distance_city_center</th>\n",
       "      <th></th>\n",
       "    </tr>\n",
       "  </thead>\n",
       "  <tbody>\n",
       "    <tr>\n",
       "      <th>0.0</th>\n",
       "      <td>3.144912e+07</td>\n",
       "    </tr>\n",
       "    <tr>\n",
       "      <th>1.0</th>\n",
       "      <td>2.120672e+07</td>\n",
       "    </tr>\n",
       "    <tr>\n",
       "      <th>2.0</th>\n",
       "      <td>1.778832e+07</td>\n",
       "    </tr>\n",
       "    <tr>\n",
       "      <th>3.0</th>\n",
       "      <td>1.112658e+07</td>\n",
       "    </tr>\n",
       "    <tr>\n",
       "      <th>4.0</th>\n",
       "      <td>1.330428e+07</td>\n",
       "    </tr>\n",
       "    <tr>\n",
       "      <th>5.0</th>\n",
       "      <td>1.449912e+07</td>\n",
       "    </tr>\n",
       "    <tr>\n",
       "      <th>6.0</th>\n",
       "      <td>1.533842e+07</td>\n",
       "    </tr>\n",
       "    <tr>\n",
       "      <th>7.0</th>\n",
       "      <td>1.477515e+07</td>\n",
       "    </tr>\n",
       "    <tr>\n",
       "      <th>8.0</th>\n",
       "      <td>9.957717e+06</td>\n",
       "    </tr>\n",
       "    <tr>\n",
       "      <th>9.0</th>\n",
       "      <td>6.950659e+06</td>\n",
       "    </tr>\n",
       "  </tbody>\n",
       "</table>\n",
       "</div>"
      ],
      "text/plain": [
       "                        last_price\n",
       "distance_city_center              \n",
       "0.0                   3.144912e+07\n",
       "1.0                   2.120672e+07\n",
       "2.0                   1.778832e+07\n",
       "3.0                   1.112658e+07\n",
       "4.0                   1.330428e+07\n",
       "5.0                   1.449912e+07\n",
       "6.0                   1.533842e+07\n",
       "7.0                   1.477515e+07\n",
       "8.0                   9.957717e+06\n",
       "9.0                   6.950659e+06"
      ]
     },
     "execution_count": 179,
     "metadata": {},
     "output_type": "execute_result"
    }
   ],
   "source": [
    "#выведем таблицу по стоимости:\n",
    "\n",
    "display('Средняя стоимость квартир в СПБ в зависимости от удаления от центра города')\n",
    "df.query('locality_name == \"Санкт-Петербург\" and distance_city_center<10').pivot_table(values='last_price', index='distance_city_center')"
   ]
  },
  {
   "cell_type": "markdown",
   "metadata": {},
   "source": [
    "#### Вывод:\n",
    "Как и ожидалось, самые дорогие квартиры в самом центре города, с удалением от которого и цена снижается. После расстояния 9 км от центра зависимость не такая сильная, это, возможно, связано с тем, что на окраинах строят современные жилые комплексы, с хорошими условиями(паркинги, школы, магазины) и соответственно, высокими ценами."
   ]
  },
  {
   "cell_type": "markdown",
   "metadata": {},
   "source": [
    "<div class=\"alert alert-block alert-success\">\n",
    " \n",
    "### Комментарий ревьюера\n",
    "    \n",
    "#### Успех\n",
    "    \n",
    "После 9 км цена перестат резко падать. Это говорит о том, что после этого значения заканчивается зона центра города"
   ]
  },
  {
   "cell_type": "markdown",
   "metadata": {
    "id": "h7VpzkIDAwb-"
   },
   "source": [
    "### Общий вывод"
   ]
  },
  {
   "cell_type": "markdown",
   "metadata": {
    "id": "3H4lnp_KAwb-"
   },
   "source": [
    "    Итак, была проделана работа по исследованию объявлений о продаже квартир в Санкт-Петербурге и ближайших населенных пунктах. \n",
    "    Посмотрев общую информацию о нашем датасете, мы ознакомились с количеством и типом данных, далее исправили название столбца, чтобы оно соответствовало верным правилам написания.\n",
    "    Затем была проведена предобработка данных. А именно, мы проверили, что явных дубликатов нет. Типы данных исправили у трех столбцов. Затем, устранили неявные дубликаты, аномалии, и заполнили пропуски. Пропусков в датасете было довольно много, в 14 столбцах из 22. Причины разные, и человеческий фактор(например, если нет балкона, то оставляли окошко незаполненным) и технические ошибки(например, автоматический сбор информации в некоторых столбцах не приводил к заполнению данных, ближайшие аэропорты, пруды, парки, в таком случае, разработчикам сбора данных следует настроить заполнение определенным значением, например, 'не найдено'). В любых случаях, рекомендую уточнять у коллег, каковы причины пропусков и есть ли вариант восстановить часть данных из других источников.\n",
    "    Нам было необходимо добавить некоторые столбцы в таблицу, мы это и сделали, добавили цену 1 кв.м., день недели, месяц и год публикации объявления, тип этажа квартиры(первый, последний, другой), расстояние до центра города в км. \n",
    "    Затем был произведен исследовательский анализ данных. В итоге, мы можем сделать некоторые выводы:\n",
    "    - макисмальное количество квартир продается с площадью около 42 квадратных метров, это классический вариант двушки для малогабаритных квартир, и евродвушки в домах современной планирровки. На рынке в основном в продаже квартиры площадью от 30 до 70 квадратных метров\n",
    "    - что вполне логично, зная типовые застройки городов многоквартирными домами;\n",
    "    - большинство предложений с жилой площадью от 18 до 38 кв.м.;\n",
    "    - площадь кухни, как и ожидалось, в стандартных квартирах 10-12 кв.м., но и 6-метровые кухни тоже частая ситуация, как видно по графику;\n",
    "    - цена объекта в большинстве случаев укладывалась в интервал от 3 до 5 млн. руб., но наблюдаются отдельные всплески;\n",
    "    - на пай-чарте видно, что на первом и последнем этажах (это самые неликвидные этажи, с наименьшей ценой) продается около четверти объектов, остальные же предложения на другом этаже, что объясняется многоэтажной застройкой городов;\n",
    "    - как и ожидалось, стандартные потолки 2,65 метра самый частый вариант, но и предложений с более комфортными для жизни 2,85 и 3 метра также имеются в больших количествах;\n",
    "    - общее количество этажей в доме - в пятиэтажках больше всего предложений, далее идут 9-этажные дома;\n",
    "    - расстояние до центра города в метрах - больше всего объектов, конечнор же, в спальных районах, на удалении от центра примерно в 12-15 км., есть также на графике заментый всплеск на расстоянии 5 км от центра города;\n",
    "    - расстояние до ближайшего парка в среднем 200-700 метров, что отлично для города, поэтому на количество объектов не сильно влияет.\n",
    "        Далее, проанализировав влияние отдельных факторов на общую стоимость объекта, можем сделать следующие выводы:\n",
    "    - на цену объекта сильно влияет площадь(как общая, так и жилая и кухни), это вполне логично, ведь за квартиры большей площади как правило и суммы требуют больше, цена квадратного метра при этом может плавно снижаться, плюс другие факторы тоже оказывают влияние на стоимость;\n",
    "    - предложения на первом этаже дешевле, чем на других, так как для жизни это наименее привлекательный вариант;\n",
    "    - день, месяц, год размещения на цену не влияет, это объясняется тем, что в больших городах сильной сезонности в области недвижимости нет, всегда есть спрос и предложение, рынок не замирает.\n",
    "    Далее мы изучили, сколько в среднем было размещено объявление на сайте. И видим, что квартиру продают в среднем за 3 месяца. Для количественных переменных лучше всего подходит значение медианы для определения среднего значения. Видим на графике также очень большой всплеск продаж примерно в 7, 45 дней, и 90 дней, это скорее всего соответствует стандартному времени размещения объявлений на сервисе. Но все же быстрой продажей можно считать все продажи до 1,5 месяцев, ведь недвижимость это сложный объект. Все объявления из третьей квартили (более 232 дней) считаем медленной, или даже не состоявшейся продажей, возможно, объявление сняли так и не реализовав продажу.\n",
    "    Также мы изучили факторы, которые больше всего влияют на общую(полную) стоимость объекта. Пришли к следующим выводам:\n",
    "    - на цену объекта сильно влияет площадь(как общая, так и жилая и кухни), это вполне логично, ведь за квартиры большей площади как правило и суммы требуют больше, цена квадратного метра при этом может плавно снижаться, плюс другие факторы тоже оказывают влияние на стоимость;\n",
    "    - предложения на первом этаже дешевле, чем на других, так как для жизни это наименее привлекательный вариант;\n",
    "    - день, месяц, год размещения на цену не влияет.\n",
    "    Далее мы посчитали среднюю цену 1 кв.м. в 10 населенных пунктах с наибольшим числом объявлений из нашего датасета, включая Санкт-Петербург и близлежащие города. Ожидаемо, самая высокая цена квадратного метра в городе Санкт-Петербург, далее идет довольно большой и развитый город Пушкин, за ними следуют близлежащие поселки и деревни, которые, фактически, примыкают к городу или можно сказать, являются районами города Санкт-Петербург. Последние два населенных пункта из топ-10 находятся на большем расстоянии от Санкт-Петербурга, но имеют хорошую инфраструктуру, поэтому и цену на жилье имеют также довольно высокую.\n",
    "    И, наконец, мы выделили квартиры в Санкт-Петербурге с помощью столбца locality_name и посчитали их среднюю стоимость на разном удалении от центра. И тут тоже очевидно, что самые дорогие квартиры в самом центре города, в больших городах с красивым историческим центром это логично. С удалением от центра и цена снижается. После расстояния 9 км от центра зависимость не такая сильная, это, возможно, связано с тем, что на окраинах строят современные жилые комплексы, с хорошими условиями(паркинги, школы, магазины) и соответственно, высокими ценами.\n",
    "    \n",
    "    "
   ]
  },
  {
   "cell_type": "markdown",
   "metadata": {},
   "source": [
    "<div class=\"alert alert-block alert-success\">\n",
    " \n",
    "### Комментарий ревьюера\n",
    "    \n",
    "#### Успех\n",
    "    \n",
    "Итоговый вывод стал превосходным дополнением к твоему проекту. Ты отлично находишь инсайты в данных рынке Недвижимости. Теперь мы точно сможем составить антифрод-систему для сервиса Недвижимости"
   ]
  },
  {
   "cell_type": "markdown",
   "metadata": {},
   "source": [
    "<div class=\"alert alert-block alert-info\">\n",
    "\n",
    "## Итоговый комментарии от ревьюера:\n",
    "    \n",
    "#### Успех\n",
    "\n",
    "Благодарю тебя за выполнение проекта. Мне очень понравилось, как ты разобрался с предобработкой данных. Твои выводы вполне логичны и все на своих местах. Ты подбираешь правильные методы для анализа и строишь хорошие графики. Однако, в проекте есть несколько замечаний, которые надо исправить:\n",
    "\n",
    "* Переделать замену некоторых пропусков.\n",
    "* Убрать подсчет корреляции для некоторых параметров.\n",
    "       \n",
    "Еще я оставил рекомендации. Очень надеюсь, что ты учтешь их в этом и последующих проектах.\n",
    "       \n",
    "Жду проект после доработки. Уверен, ты справишься.\n",
    "</div>"
   ]
  },
  {
   "cell_type": "code",
   "execution_count": null,
   "metadata": {},
   "outputs": [],
   "source": [
    "Спасибо за комментарии, очень полезные замечания, исправила ошибки!"
   ]
  }
 ],
 "metadata": {
  "ExecuteTimeLog": [
   {
    "duration": 963,
    "start_time": "2024-05-19T09:36:41.657Z"
   },
   {
    "duration": 264,
    "start_time": "2024-05-19T09:38:15.656Z"
   },
   {
    "duration": 21,
    "start_time": "2024-05-19T09:43:50.468Z"
   },
   {
    "duration": 35,
    "start_time": "2024-05-19T09:44:43.076Z"
   },
   {
    "duration": 2187,
    "start_time": "2024-05-19T09:45:52.969Z"
   },
   {
    "duration": 1187,
    "start_time": "2024-05-19T12:26:35.183Z"
   },
   {
    "duration": 17,
    "start_time": "2024-05-19T12:26:36.372Z"
   },
   {
    "duration": 92,
    "start_time": "2024-05-19T12:27:19.743Z"
   },
   {
    "duration": 12,
    "start_time": "2024-05-19T12:36:23.565Z"
   },
   {
    "duration": 28,
    "start_time": "2024-05-19T12:38:38.863Z"
   },
   {
    "duration": 4,
    "start_time": "2024-05-19T14:42:49.302Z"
   },
   {
    "duration": 23,
    "start_time": "2024-05-19T14:49:05.622Z"
   },
   {
    "duration": 22,
    "start_time": "2024-05-19T14:49:18.981Z"
   },
   {
    "duration": 22,
    "start_time": "2024-05-19T14:49:28.182Z"
   },
   {
    "duration": 22,
    "start_time": "2024-05-19T14:58:41.068Z"
   },
   {
    "duration": 27,
    "start_time": "2024-05-19T15:10:47.507Z"
   },
   {
    "duration": 32,
    "start_time": "2024-05-19T15:12:38.391Z"
   },
   {
    "duration": 25,
    "start_time": "2024-05-19T15:15:50.658Z"
   },
   {
    "duration": 24,
    "start_time": "2024-05-19T15:17:00.362Z"
   },
   {
    "duration": 24,
    "start_time": "2024-05-19T15:17:49.998Z"
   },
   {
    "duration": 24,
    "start_time": "2024-05-19T15:24:15.455Z"
   },
   {
    "duration": 37,
    "start_time": "2024-05-19T15:26:15.397Z"
   },
   {
    "duration": 25,
    "start_time": "2024-05-19T15:27:11.438Z"
   },
   {
    "duration": 118,
    "start_time": "2024-05-19T15:27:51.243Z"
   },
   {
    "duration": 16,
    "start_time": "2024-05-19T15:27:51.363Z"
   },
   {
    "duration": 139,
    "start_time": "2024-05-19T15:27:51.380Z"
   },
   {
    "duration": 44,
    "start_time": "2024-05-19T15:27:51.520Z"
   },
   {
    "duration": 35,
    "start_time": "2024-05-19T15:27:51.566Z"
   },
   {
    "duration": 63,
    "start_time": "2024-05-19T15:27:51.603Z"
   },
   {
    "duration": 149,
    "start_time": "2024-05-19T15:27:51.667Z"
   },
   {
    "duration": 2168,
    "start_time": "2024-05-19T15:27:51.817Z"
   },
   {
    "duration": 22,
    "start_time": "2024-05-19T15:27:53.987Z"
   },
   {
    "duration": 25,
    "start_time": "2024-05-19T15:28:58.568Z"
   },
   {
    "duration": 26,
    "start_time": "2024-05-19T15:29:05.182Z"
   },
   {
    "duration": 24,
    "start_time": "2024-05-19T15:36:12.522Z"
   },
   {
    "duration": 25,
    "start_time": "2024-05-19T15:36:18.054Z"
   },
   {
    "duration": 124,
    "start_time": "2024-05-19T15:36:40.984Z"
   },
   {
    "duration": 15,
    "start_time": "2024-05-19T15:36:41.110Z"
   },
   {
    "duration": 91,
    "start_time": "2024-05-19T15:36:41.126Z"
   },
   {
    "duration": 24,
    "start_time": "2024-05-19T15:36:41.219Z"
   },
   {
    "duration": 39,
    "start_time": "2024-05-19T15:36:41.245Z"
   },
   {
    "duration": 23,
    "start_time": "2024-05-19T15:36:41.286Z"
   },
   {
    "duration": 27,
    "start_time": "2024-05-19T15:36:41.310Z"
   },
   {
    "duration": 2111,
    "start_time": "2024-05-19T15:36:41.338Z"
   },
   {
    "duration": 43,
    "start_time": "2024-05-19T15:36:43.451Z"
   },
   {
    "duration": 80,
    "start_time": "2024-05-19T15:36:43.496Z"
   },
   {
    "duration": 38,
    "start_time": "2024-05-19T15:36:43.578Z"
   },
   {
    "duration": 35,
    "start_time": "2024-05-19T15:36:44.707Z"
   },
   {
    "duration": 7,
    "start_time": "2024-05-19T15:45:22.508Z"
   },
   {
    "duration": 41,
    "start_time": "2024-05-19T15:52:16.221Z"
   },
   {
    "duration": 54,
    "start_time": "2024-05-19T15:53:43.118Z"
   },
   {
    "duration": 58,
    "start_time": "2024-05-19T15:55:59.918Z"
   },
   {
    "duration": 1158,
    "start_time": "2024-05-20T12:27:01.427Z"
   },
   {
    "duration": 18,
    "start_time": "2024-05-20T12:27:02.588Z"
   },
   {
    "duration": 140,
    "start_time": "2024-05-20T12:27:02.608Z"
   },
   {
    "duration": 23,
    "start_time": "2024-05-20T12:27:02.750Z"
   },
   {
    "duration": 49,
    "start_time": "2024-05-20T12:27:02.775Z"
   },
   {
    "duration": 52,
    "start_time": "2024-05-20T12:27:02.825Z"
   },
   {
    "duration": 29,
    "start_time": "2024-05-20T12:27:02.878Z"
   },
   {
    "duration": 2283,
    "start_time": "2024-05-20T12:27:02.909Z"
   },
   {
    "duration": 24,
    "start_time": "2024-05-20T12:27:05.194Z"
   },
   {
    "duration": 66,
    "start_time": "2024-05-20T12:27:05.221Z"
   },
   {
    "duration": 49,
    "start_time": "2024-05-20T12:27:05.290Z"
   },
   {
    "duration": 25,
    "start_time": "2024-05-20T12:27:05.341Z"
   },
   {
    "duration": 8,
    "start_time": "2024-05-20T12:27:05.368Z"
   },
   {
    "duration": 97,
    "start_time": "2024-05-20T12:27:05.379Z"
   },
   {
    "duration": 8,
    "start_time": "2024-05-20T12:27:11.218Z"
   },
   {
    "duration": 18,
    "start_time": "2024-05-20T12:30:03.758Z"
   },
   {
    "duration": 5,
    "start_time": "2024-05-20T12:38:33.128Z"
   },
   {
    "duration": 32,
    "start_time": "2024-05-20T12:40:01.763Z"
   },
   {
    "duration": 10,
    "start_time": "2024-05-20T12:40:33.695Z"
   },
   {
    "duration": 15,
    "start_time": "2024-05-20T12:42:29.873Z"
   },
   {
    "duration": 12,
    "start_time": "2024-05-20T12:43:21.139Z"
   },
   {
    "duration": 9,
    "start_time": "2024-05-20T12:43:35.028Z"
   },
   {
    "duration": 6,
    "start_time": "2024-05-20T12:43:41.607Z"
   },
   {
    "duration": 6,
    "start_time": "2024-05-20T12:53:07.383Z"
   },
   {
    "duration": 11,
    "start_time": "2024-05-20T12:55:30.922Z"
   },
   {
    "duration": 7,
    "start_time": "2024-05-20T12:58:46.390Z"
   },
   {
    "duration": 10,
    "start_time": "2024-05-20T12:59:04.337Z"
   },
   {
    "duration": 11,
    "start_time": "2024-05-20T13:00:25.881Z"
   },
   {
    "duration": 6,
    "start_time": "2024-05-20T13:05:56.041Z"
   },
   {
    "duration": 7,
    "start_time": "2024-05-20T13:06:07.436Z"
   },
   {
    "duration": 10,
    "start_time": "2024-05-20T13:06:25.473Z"
   },
   {
    "duration": 5,
    "start_time": "2024-05-20T13:07:36.898Z"
   },
   {
    "duration": 5,
    "start_time": "2024-05-20T13:08:00.309Z"
   },
   {
    "duration": 7,
    "start_time": "2024-05-20T13:08:36.888Z"
   },
   {
    "duration": 34,
    "start_time": "2024-05-20T13:08:54.723Z"
   },
   {
    "duration": 30,
    "start_time": "2024-05-20T13:09:31.729Z"
   },
   {
    "duration": 10,
    "start_time": "2024-05-20T13:16:54.247Z"
   },
   {
    "duration": 9,
    "start_time": "2024-05-20T13:25:48.292Z"
   },
   {
    "duration": 8,
    "start_time": "2024-05-20T13:26:07.420Z"
   },
   {
    "duration": 14,
    "start_time": "2024-05-20T13:26:42.533Z"
   },
   {
    "duration": 9,
    "start_time": "2024-05-20T13:26:57.151Z"
   },
   {
    "duration": 7,
    "start_time": "2024-05-20T13:27:44.059Z"
   },
   {
    "duration": 5,
    "start_time": "2024-05-20T13:36:17.721Z"
   },
   {
    "duration": 55,
    "start_time": "2024-05-20T13:36:31.146Z"
   },
   {
    "duration": 7,
    "start_time": "2024-05-20T13:37:26.594Z"
   },
   {
    "duration": 16742,
    "start_time": "2024-05-20T13:46:45.680Z"
   },
   {
    "duration": 118,
    "start_time": "2024-05-20T13:47:02.423Z"
   },
   {
    "duration": 17,
    "start_time": "2024-05-20T13:47:02.544Z"
   },
   {
    "duration": 110,
    "start_time": "2024-05-20T13:47:02.562Z"
   },
   {
    "duration": 22,
    "start_time": "2024-05-20T13:47:02.674Z"
   },
   {
    "duration": 99,
    "start_time": "2024-05-20T13:47:02.698Z"
   },
   {
    "duration": 61,
    "start_time": "2024-05-20T13:47:02.799Z"
   },
   {
    "duration": 34,
    "start_time": "2024-05-20T13:47:02.861Z"
   },
   {
    "duration": 2099,
    "start_time": "2024-05-20T13:47:02.898Z"
   },
   {
    "duration": 43,
    "start_time": "2024-05-20T13:47:04.999Z"
   },
   {
    "duration": 51,
    "start_time": "2024-05-20T13:47:05.043Z"
   },
   {
    "duration": 38,
    "start_time": "2024-05-20T13:47:05.096Z"
   },
   {
    "duration": 26,
    "start_time": "2024-05-20T13:47:05.136Z"
   },
   {
    "duration": 7,
    "start_time": "2024-05-20T13:47:05.164Z"
   },
   {
    "duration": 102,
    "start_time": "2024-05-20T13:47:05.173Z"
   },
   {
    "duration": 17,
    "start_time": "2024-05-20T13:47:05.278Z"
   },
   {
    "duration": 6,
    "start_time": "2024-05-20T13:47:05.297Z"
   },
   {
    "duration": 33,
    "start_time": "2024-05-20T13:47:05.305Z"
   },
   {
    "duration": 10,
    "start_time": "2024-05-20T13:47:05.340Z"
   },
   {
    "duration": 15,
    "start_time": "2024-05-20T13:47:05.352Z"
   },
   {
    "duration": 17,
    "start_time": "2024-05-20T13:47:05.369Z"
   },
   {
    "duration": 62,
    "start_time": "2024-05-20T13:47:05.388Z"
   },
   {
    "duration": 9,
    "start_time": "2024-05-20T13:47:05.452Z"
   },
   {
    "duration": 10,
    "start_time": "2024-05-20T13:47:05.463Z"
   },
   {
    "duration": 8,
    "start_time": "2024-05-20T13:47:05.474Z"
   },
   {
    "duration": 7,
    "start_time": "2024-05-20T13:47:05.538Z"
   },
   {
    "duration": 16667,
    "start_time": "2024-05-20T13:48:10.882Z"
   },
   {
    "duration": 16824,
    "start_time": "2024-05-20T13:50:01.977Z"
   },
   {
    "duration": 7,
    "start_time": "2024-05-20T13:52:11.938Z"
   },
   {
    "duration": 18279,
    "start_time": "2024-05-20T13:53:57.542Z"
   },
   {
    "duration": 8,
    "start_time": "2024-05-20T13:57:33.368Z"
   },
   {
    "duration": 39,
    "start_time": "2024-05-20T13:57:58.001Z"
   },
   {
    "duration": 9,
    "start_time": "2024-05-20T13:58:15.350Z"
   },
   {
    "duration": 9,
    "start_time": "2024-05-20T14:12:02.870Z"
   },
   {
    "duration": 7,
    "start_time": "2024-05-20T14:13:48.570Z"
   },
   {
    "duration": 10,
    "start_time": "2024-05-20T14:18:50.232Z"
   },
   {
    "duration": 21,
    "start_time": "2024-05-20T14:27:43.638Z"
   },
   {
    "duration": 11,
    "start_time": "2024-05-20T14:29:00.138Z"
   },
   {
    "duration": 2,
    "start_time": "2024-05-20T14:58:12.812Z"
   },
   {
    "duration": 7,
    "start_time": "2024-05-20T15:29:41.107Z"
   },
   {
    "duration": 9,
    "start_time": "2024-05-20T15:30:00.357Z"
   },
   {
    "duration": 1115,
    "start_time": "2024-05-20T15:39:06.955Z"
   },
   {
    "duration": 8,
    "start_time": "2024-05-20T15:40:51.054Z"
   },
   {
    "duration": 9,
    "start_time": "2024-05-20T15:42:57.650Z"
   },
   {
    "duration": 10,
    "start_time": "2024-05-20T15:43:11.587Z"
   },
   {
    "duration": 9,
    "start_time": "2024-05-20T15:46:12.565Z"
   },
   {
    "duration": 25,
    "start_time": "2024-05-20T15:47:57.755Z"
   },
   {
    "duration": 25,
    "start_time": "2024-05-20T15:48:19.163Z"
   },
   {
    "duration": 3,
    "start_time": "2024-05-20T15:56:56.322Z"
   },
   {
    "duration": 4,
    "start_time": "2024-05-20T15:58:14.465Z"
   },
   {
    "duration": 120,
    "start_time": "2024-05-20T15:59:49.869Z"
   },
   {
    "duration": 16,
    "start_time": "2024-05-20T15:59:49.991Z"
   },
   {
    "duration": 88,
    "start_time": "2024-05-20T15:59:50.009Z"
   },
   {
    "duration": 22,
    "start_time": "2024-05-20T15:59:50.099Z"
   },
   {
    "duration": 33,
    "start_time": "2024-05-20T15:59:50.129Z"
   },
   {
    "duration": 16,
    "start_time": "2024-05-20T15:59:50.164Z"
   },
   {
    "duration": 62,
    "start_time": "2024-05-20T15:59:50.182Z"
   },
   {
    "duration": 2138,
    "start_time": "2024-05-20T15:59:50.246Z"
   },
   {
    "duration": 21,
    "start_time": "2024-05-20T15:59:52.386Z"
   },
   {
    "duration": 68,
    "start_time": "2024-05-20T15:59:52.411Z"
   },
   {
    "duration": 61,
    "start_time": "2024-05-20T15:59:52.480Z"
   },
   {
    "duration": 32,
    "start_time": "2024-05-20T15:59:52.542Z"
   },
   {
    "duration": 10,
    "start_time": "2024-05-20T15:59:52.575Z"
   },
   {
    "duration": 94,
    "start_time": "2024-05-20T15:59:52.587Z"
   },
   {
    "duration": 13,
    "start_time": "2024-05-20T15:59:52.683Z"
   },
   {
    "duration": 54,
    "start_time": "2024-05-20T15:59:52.698Z"
   },
   {
    "duration": 70,
    "start_time": "2024-05-20T15:59:52.754Z"
   },
   {
    "duration": 48,
    "start_time": "2024-05-20T15:59:52.826Z"
   },
   {
    "duration": 24,
    "start_time": "2024-05-20T15:59:52.876Z"
   },
   {
    "duration": 15,
    "start_time": "2024-05-20T15:59:52.902Z"
   },
   {
    "duration": 65,
    "start_time": "2024-05-20T15:59:52.919Z"
   },
   {
    "duration": 10,
    "start_time": "2024-05-20T15:59:52.986Z"
   },
   {
    "duration": 20,
    "start_time": "2024-05-20T15:59:52.998Z"
   },
   {
    "duration": 35,
    "start_time": "2024-05-20T15:59:53.020Z"
   },
   {
    "duration": 25,
    "start_time": "2024-05-20T15:59:53.057Z"
   },
   {
    "duration": 16284,
    "start_time": "2024-05-20T15:59:53.084Z"
   },
   {
    "duration": 7,
    "start_time": "2024-05-20T16:00:09.370Z"
   },
   {
    "duration": 18017,
    "start_time": "2024-05-20T16:00:09.380Z"
   },
   {
    "duration": 6,
    "start_time": "2024-05-20T16:00:27.399Z"
   },
   {
    "duration": 48,
    "start_time": "2024-05-20T16:00:27.406Z"
   },
   {
    "duration": 46,
    "start_time": "2024-05-20T16:00:27.456Z"
   },
   {
    "duration": 29,
    "start_time": "2024-05-20T16:00:27.503Z"
   },
   {
    "duration": 12,
    "start_time": "2024-05-20T16:00:27.534Z"
   },
   {
    "duration": 16,
    "start_time": "2024-05-20T16:00:27.547Z"
   },
   {
    "duration": 21,
    "start_time": "2024-05-20T16:00:27.564Z"
   },
   {
    "duration": 0,
    "start_time": "2024-05-20T16:00:27.610Z"
   },
   {
    "duration": 3,
    "start_time": "2024-05-20T16:00:41.744Z"
   },
   {
    "duration": 376,
    "start_time": "2024-05-20T16:01:11.914Z"
   },
   {
    "duration": 352,
    "start_time": "2024-05-20T16:01:19.875Z"
   },
   {
    "duration": 483,
    "start_time": "2024-05-20T16:05:23.189Z"
   },
   {
    "duration": 8,
    "start_time": "2024-05-20T16:07:13.997Z"
   },
   {
    "duration": 10,
    "start_time": "2024-05-20T16:09:47.169Z"
   },
   {
    "duration": 29,
    "start_time": "2024-05-20T16:10:13.391Z"
   },
   {
    "duration": 51,
    "start_time": "2024-05-27T12:20:49.762Z"
   },
   {
    "duration": 1125,
    "start_time": "2024-05-27T12:21:38.302Z"
   },
   {
    "duration": 15,
    "start_time": "2024-05-27T12:21:39.429Z"
   },
   {
    "duration": 84,
    "start_time": "2024-05-27T12:21:39.446Z"
   },
   {
    "duration": 22,
    "start_time": "2024-05-27T12:21:39.532Z"
   },
   {
    "duration": 29,
    "start_time": "2024-05-27T12:21:39.557Z"
   },
   {
    "duration": 16,
    "start_time": "2024-05-27T12:21:39.588Z"
   },
   {
    "duration": 30,
    "start_time": "2024-05-27T12:21:39.631Z"
   },
   {
    "duration": 2105,
    "start_time": "2024-05-27T12:21:39.663Z"
   },
   {
    "duration": 22,
    "start_time": "2024-05-27T12:21:41.770Z"
   },
   {
    "duration": 33,
    "start_time": "2024-05-27T12:21:41.793Z"
   },
   {
    "duration": 27,
    "start_time": "2024-05-27T12:21:41.827Z"
   },
   {
    "duration": 23,
    "start_time": "2024-05-27T12:21:41.856Z"
   },
   {
    "duration": 6,
    "start_time": "2024-05-27T12:21:41.880Z"
   },
   {
    "duration": 85,
    "start_time": "2024-05-27T12:21:41.889Z"
   },
   {
    "duration": 13,
    "start_time": "2024-05-27T12:21:41.975Z"
   },
   {
    "duration": 5,
    "start_time": "2024-05-27T12:21:41.990Z"
   },
   {
    "duration": 35,
    "start_time": "2024-05-27T12:21:41.996Z"
   },
   {
    "duration": 14,
    "start_time": "2024-05-27T12:21:42.034Z"
   },
   {
    "duration": 12,
    "start_time": "2024-05-27T12:21:42.050Z"
   },
   {
    "duration": 45,
    "start_time": "2024-05-27T12:21:42.064Z"
   },
   {
    "duration": 36,
    "start_time": "2024-05-27T12:21:42.111Z"
   },
   {
    "duration": 9,
    "start_time": "2024-05-27T12:21:42.148Z"
   },
   {
    "duration": 29,
    "start_time": "2024-05-27T12:21:42.159Z"
   },
   {
    "duration": 172,
    "start_time": "2024-05-27T12:21:42.189Z"
   },
   {
    "duration": 10,
    "start_time": "2024-05-27T12:21:42.362Z"
   },
   {
    "duration": 16109,
    "start_time": "2024-05-27T12:21:42.373Z"
   },
   {
    "duration": 6,
    "start_time": "2024-05-27T12:21:58.484Z"
   },
   {
    "duration": 17837,
    "start_time": "2024-05-27T12:21:58.492Z"
   },
   {
    "duration": 6,
    "start_time": "2024-05-27T12:22:16.331Z"
   },
   {
    "duration": 32,
    "start_time": "2024-05-27T12:22:16.339Z"
   },
   {
    "duration": 25,
    "start_time": "2024-05-27T12:22:16.373Z"
   },
   {
    "duration": 31,
    "start_time": "2024-05-27T12:22:16.399Z"
   },
   {
    "duration": 58,
    "start_time": "2024-05-27T12:22:16.432Z"
   },
   {
    "duration": 44,
    "start_time": "2024-05-27T12:22:16.492Z"
   },
   {
    "duration": 27,
    "start_time": "2024-05-27T12:22:16.538Z"
   },
   {
    "duration": 43,
    "start_time": "2024-05-27T12:22:16.567Z"
   },
   {
    "duration": 401,
    "start_time": "2024-05-27T12:22:16.611Z"
   },
   {
    "duration": 33,
    "start_time": "2024-05-27T12:22:17.013Z"
   },
   {
    "duration": 18,
    "start_time": "2024-05-27T12:22:17.049Z"
   },
   {
    "duration": 291,
    "start_time": "2024-05-27T12:29:50.195Z"
   },
   {
    "duration": 306,
    "start_time": "2024-05-27T12:37:39.767Z"
   },
   {
    "duration": 2,
    "start_time": "2024-05-27T12:41:01.970Z"
   },
   {
    "duration": 10,
    "start_time": "2024-05-27T12:45:16.874Z"
   },
   {
    "duration": 10,
    "start_time": "2024-05-27T13:04:08.408Z"
   },
   {
    "duration": 16504,
    "start_time": "2024-05-27T13:07:54.533Z"
   },
   {
    "duration": 6,
    "start_time": "2024-05-27T13:08:36.640Z"
   },
   {
    "duration": 11496,
    "start_time": "2024-05-27T13:09:27.393Z"
   },
   {
    "duration": 6,
    "start_time": "2024-05-27T13:13:31.342Z"
   },
   {
    "duration": 11495,
    "start_time": "2024-05-27T13:13:35.036Z"
   },
   {
    "duration": 7,
    "start_time": "2024-05-27T13:27:29.068Z"
   },
   {
    "duration": 6,
    "start_time": "2024-05-27T13:27:34.992Z"
   },
   {
    "duration": 60,
    "start_time": "2024-05-27T13:29:27.628Z"
   },
   {
    "duration": 115,
    "start_time": "2024-05-27T13:29:32.792Z"
   },
   {
    "duration": 21,
    "start_time": "2024-05-27T13:29:32.908Z"
   },
   {
    "duration": 99,
    "start_time": "2024-05-27T13:29:32.931Z"
   },
   {
    "duration": 23,
    "start_time": "2024-05-27T13:29:33.033Z"
   },
   {
    "duration": 27,
    "start_time": "2024-05-27T13:29:33.057Z"
   },
   {
    "duration": 13,
    "start_time": "2024-05-27T13:29:33.085Z"
   },
   {
    "duration": 45,
    "start_time": "2024-05-27T13:29:33.100Z"
   },
   {
    "duration": 2077,
    "start_time": "2024-05-27T13:29:33.147Z"
   },
   {
    "duration": 21,
    "start_time": "2024-05-27T13:29:35.226Z"
   },
   {
    "duration": 59,
    "start_time": "2024-05-27T13:29:35.249Z"
   },
   {
    "duration": 44,
    "start_time": "2024-05-27T13:29:35.309Z"
   },
   {
    "duration": 24,
    "start_time": "2024-05-27T13:29:35.355Z"
   },
   {
    "duration": 11,
    "start_time": "2024-05-27T13:29:35.380Z"
   },
   {
    "duration": 71,
    "start_time": "2024-05-27T13:29:35.393Z"
   },
   {
    "duration": 12,
    "start_time": "2024-05-27T13:29:35.465Z"
   },
   {
    "duration": 8,
    "start_time": "2024-05-27T13:29:35.479Z"
   },
   {
    "duration": 11,
    "start_time": "2024-05-27T13:29:35.489Z"
   },
   {
    "duration": 31,
    "start_time": "2024-05-27T13:29:35.502Z"
   },
   {
    "duration": 22,
    "start_time": "2024-05-27T13:29:35.534Z"
   },
   {
    "duration": 10,
    "start_time": "2024-05-27T13:29:35.558Z"
   },
   {
    "duration": 32,
    "start_time": "2024-05-27T13:29:35.570Z"
   },
   {
    "duration": 30,
    "start_time": "2024-05-27T13:29:35.604Z"
   },
   {
    "duration": 24,
    "start_time": "2024-05-27T13:29:35.635Z"
   },
   {
    "duration": 7,
    "start_time": "2024-05-27T13:29:35.660Z"
   },
   {
    "duration": 53,
    "start_time": "2024-05-27T13:29:35.669Z"
   },
   {
    "duration": 7,
    "start_time": "2024-05-27T13:29:47.788Z"
   },
   {
    "duration": 43,
    "start_time": "2024-05-27T13:30:03.008Z"
   },
   {
    "duration": 122,
    "start_time": "2024-05-27T13:30:25.436Z"
   },
   {
    "duration": 21,
    "start_time": "2024-05-27T13:30:25.560Z"
   },
   {
    "duration": 87,
    "start_time": "2024-05-27T13:30:25.582Z"
   },
   {
    "duration": 21,
    "start_time": "2024-05-27T13:30:25.671Z"
   },
   {
    "duration": 31,
    "start_time": "2024-05-27T13:30:25.694Z"
   },
   {
    "duration": 11,
    "start_time": "2024-05-27T13:30:25.729Z"
   },
   {
    "duration": 23,
    "start_time": "2024-05-27T13:30:25.742Z"
   },
   {
    "duration": 2149,
    "start_time": "2024-05-27T13:30:25.767Z"
   },
   {
    "duration": 30,
    "start_time": "2024-05-27T13:30:27.918Z"
   },
   {
    "duration": 38,
    "start_time": "2024-05-27T13:30:27.950Z"
   },
   {
    "duration": 39,
    "start_time": "2024-05-27T13:30:27.990Z"
   },
   {
    "duration": 23,
    "start_time": "2024-05-27T13:30:28.031Z"
   },
   {
    "duration": 5,
    "start_time": "2024-05-27T13:30:28.056Z"
   },
   {
    "duration": 76,
    "start_time": "2024-05-27T13:30:28.064Z"
   },
   {
    "duration": 13,
    "start_time": "2024-05-27T13:30:28.142Z"
   },
   {
    "duration": 4,
    "start_time": "2024-05-27T13:30:28.156Z"
   },
   {
    "duration": 7,
    "start_time": "2024-05-27T13:30:28.162Z"
   },
   {
    "duration": 10,
    "start_time": "2024-05-27T13:30:28.170Z"
   },
   {
    "duration": 8,
    "start_time": "2024-05-27T13:30:28.182Z"
   },
   {
    "duration": 42,
    "start_time": "2024-05-27T13:30:28.192Z"
   },
   {
    "duration": 25,
    "start_time": "2024-05-27T13:30:28.236Z"
   },
   {
    "duration": 10,
    "start_time": "2024-05-27T13:30:28.263Z"
   },
   {
    "duration": 9,
    "start_time": "2024-05-27T13:30:28.274Z"
   },
   {
    "duration": 6,
    "start_time": "2024-05-27T13:30:28.284Z"
   },
   {
    "duration": 12,
    "start_time": "2024-05-27T13:30:28.330Z"
   },
   {
    "duration": 6,
    "start_time": "2024-05-27T13:30:45.767Z"
   },
   {
    "duration": 16525,
    "start_time": "2024-05-27T13:30:53.067Z"
   },
   {
    "duration": 8,
    "start_time": "2024-05-27T13:31:37.041Z"
   },
   {
    "duration": 18117,
    "start_time": "2024-05-27T13:31:39.456Z"
   },
   {
    "duration": 119,
    "start_time": "2024-05-27T13:32:01.437Z"
   },
   {
    "duration": 15,
    "start_time": "2024-05-27T13:32:01.558Z"
   },
   {
    "duration": 212,
    "start_time": "2024-05-27T13:32:01.575Z"
   },
   {
    "duration": 22,
    "start_time": "2024-05-27T13:32:01.788Z"
   },
   {
    "duration": 67,
    "start_time": "2024-05-27T13:32:01.812Z"
   },
   {
    "duration": 46,
    "start_time": "2024-05-27T13:32:01.880Z"
   },
   {
    "duration": 91,
    "start_time": "2024-05-27T13:32:01.927Z"
   },
   {
    "duration": 2091,
    "start_time": "2024-05-27T13:32:02.019Z"
   },
   {
    "duration": 35,
    "start_time": "2024-05-27T13:32:04.112Z"
   },
   {
    "duration": 40,
    "start_time": "2024-05-27T13:32:04.148Z"
   },
   {
    "duration": 41,
    "start_time": "2024-05-27T13:32:04.189Z"
   },
   {
    "duration": 25,
    "start_time": "2024-05-27T13:32:04.232Z"
   },
   {
    "duration": 5,
    "start_time": "2024-05-27T13:32:04.259Z"
   },
   {
    "duration": 82,
    "start_time": "2024-05-27T13:32:04.267Z"
   },
   {
    "duration": 13,
    "start_time": "2024-05-27T13:32:04.351Z"
   },
   {
    "duration": 5,
    "start_time": "2024-05-27T13:32:04.367Z"
   },
   {
    "duration": 15,
    "start_time": "2024-05-27T13:32:04.374Z"
   },
   {
    "duration": 14,
    "start_time": "2024-05-27T13:32:04.391Z"
   },
   {
    "duration": 30,
    "start_time": "2024-05-27T13:32:04.407Z"
   },
   {
    "duration": 10,
    "start_time": "2024-05-27T13:32:04.439Z"
   },
   {
    "duration": 40,
    "start_time": "2024-05-27T13:32:04.451Z"
   },
   {
    "duration": 9,
    "start_time": "2024-05-27T13:32:04.493Z"
   },
   {
    "duration": 62,
    "start_time": "2024-05-27T13:32:04.504Z"
   },
   {
    "duration": 6,
    "start_time": "2024-05-27T13:32:04.568Z"
   },
   {
    "duration": 25,
    "start_time": "2024-05-27T13:32:04.575Z"
   },
   {
    "duration": 16606,
    "start_time": "2024-05-27T13:32:04.602Z"
   },
   {
    "duration": 6,
    "start_time": "2024-05-27T13:32:21.209Z"
   },
   {
    "duration": 17906,
    "start_time": "2024-05-27T13:32:21.229Z"
   },
   {
    "duration": 7,
    "start_time": "2024-05-27T13:32:39.137Z"
   },
   {
    "duration": 11,
    "start_time": "2024-05-27T13:32:39.146Z"
   },
   {
    "duration": 15,
    "start_time": "2024-05-27T13:32:39.159Z"
   },
   {
    "duration": 54,
    "start_time": "2024-05-27T13:32:39.176Z"
   },
   {
    "duration": 9,
    "start_time": "2024-05-27T13:32:39.233Z"
   },
   {
    "duration": 14,
    "start_time": "2024-05-27T13:32:39.244Z"
   },
   {
    "duration": 10,
    "start_time": "2024-05-27T13:32:39.261Z"
   },
   {
    "duration": 26,
    "start_time": "2024-05-27T13:32:39.273Z"
   },
   {
    "duration": 435,
    "start_time": "2024-05-27T13:32:39.301Z"
   },
   {
    "duration": 27,
    "start_time": "2024-05-27T13:32:39.738Z"
   },
   {
    "duration": 36,
    "start_time": "2024-05-27T13:32:39.766Z"
   },
   {
    "duration": 297,
    "start_time": "2024-05-27T13:32:39.803Z"
   },
   {
    "duration": 9,
    "start_time": "2024-05-27T13:32:49.479Z"
   },
   {
    "duration": 248,
    "start_time": "2024-05-27T13:34:16.211Z"
   },
   {
    "duration": 9,
    "start_time": "2024-05-27T13:38:49.140Z"
   },
   {
    "duration": 260,
    "start_time": "2024-05-27T13:39:26.488Z"
   },
   {
    "duration": 256,
    "start_time": "2024-05-27T13:40:31.664Z"
   },
   {
    "duration": 431,
    "start_time": "2024-05-27T13:41:01.147Z"
   },
   {
    "duration": 248,
    "start_time": "2024-05-27T13:41:26.968Z"
   },
   {
    "duration": 246,
    "start_time": "2024-05-27T13:41:55.102Z"
   },
   {
    "duration": 278,
    "start_time": "2024-05-27T13:44:23.697Z"
   },
   {
    "duration": 258,
    "start_time": "2024-05-27T13:45:10.232Z"
   },
   {
    "duration": 307,
    "start_time": "2024-05-27T13:48:32.422Z"
   },
   {
    "duration": 10,
    "start_time": "2024-05-27T13:51:04.079Z"
   },
   {
    "duration": 280,
    "start_time": "2024-05-27T13:53:45.125Z"
   },
   {
    "duration": 444,
    "start_time": "2024-05-27T13:54:06.292Z"
   },
   {
    "duration": 293,
    "start_time": "2024-05-27T13:54:57.585Z"
   },
   {
    "duration": 273,
    "start_time": "2024-05-27T13:55:17.053Z"
   },
   {
    "duration": 316,
    "start_time": "2024-05-27T13:56:00.601Z"
   },
   {
    "duration": 282,
    "start_time": "2024-05-27T14:01:46.307Z"
   },
   {
    "duration": 12,
    "start_time": "2024-05-27T14:20:08.911Z"
   },
   {
    "duration": 4,
    "start_time": "2024-05-27T14:22:42.029Z"
   },
   {
    "duration": 180,
    "start_time": "2024-05-27T14:23:46.916Z"
   },
   {
    "duration": 11,
    "start_time": "2024-05-27T14:27:02.649Z"
   },
   {
    "duration": 213,
    "start_time": "2024-05-27T14:29:46.310Z"
   },
   {
    "duration": 200,
    "start_time": "2024-05-27T14:30:03.856Z"
   },
   {
    "duration": 51,
    "start_time": "2024-05-27T17:49:37.197Z"
   },
   {
    "duration": 1053,
    "start_time": "2024-05-27T17:49:41.303Z"
   },
   {
    "duration": 16,
    "start_time": "2024-05-27T17:49:42.358Z"
   },
   {
    "duration": 86,
    "start_time": "2024-05-27T17:49:42.375Z"
   },
   {
    "duration": 31,
    "start_time": "2024-05-27T17:49:42.462Z"
   },
   {
    "duration": 34,
    "start_time": "2024-05-27T17:49:42.495Z"
   },
   {
    "duration": 13,
    "start_time": "2024-05-27T17:49:42.531Z"
   },
   {
    "duration": 36,
    "start_time": "2024-05-27T17:49:42.546Z"
   },
   {
    "duration": 19,
    "start_time": "2024-05-27T17:49:42.584Z"
   },
   {
    "duration": 58,
    "start_time": "2024-05-27T17:49:42.604Z"
   },
   {
    "duration": 25,
    "start_time": "2024-05-27T17:49:42.663Z"
   },
   {
    "duration": 23,
    "start_time": "2024-05-27T17:49:42.690Z"
   },
   {
    "duration": 6,
    "start_time": "2024-05-27T17:49:42.715Z"
   },
   {
    "duration": 79,
    "start_time": "2024-05-27T17:49:42.723Z"
   },
   {
    "duration": 11,
    "start_time": "2024-05-27T17:49:42.805Z"
   },
   {
    "duration": 4,
    "start_time": "2024-05-27T17:49:42.818Z"
   },
   {
    "duration": 8,
    "start_time": "2024-05-27T17:49:42.824Z"
   },
   {
    "duration": 34,
    "start_time": "2024-05-27T17:49:42.833Z"
   },
   {
    "duration": 9,
    "start_time": "2024-05-27T17:49:42.869Z"
   },
   {
    "duration": 16,
    "start_time": "2024-05-27T17:49:42.880Z"
   },
   {
    "duration": 40,
    "start_time": "2024-05-27T17:49:42.897Z"
   },
   {
    "duration": 23,
    "start_time": "2024-05-27T17:49:42.939Z"
   },
   {
    "duration": 9,
    "start_time": "2024-05-27T17:49:42.963Z"
   },
   {
    "duration": 26,
    "start_time": "2024-05-27T17:49:42.974Z"
   },
   {
    "duration": 39,
    "start_time": "2024-05-27T17:49:43.001Z"
   },
   {
    "duration": 15398,
    "start_time": "2024-05-27T17:49:43.042Z"
   },
   {
    "duration": 7,
    "start_time": "2024-05-27T17:49:58.441Z"
   },
   {
    "duration": 16861,
    "start_time": "2024-05-27T17:49:58.461Z"
   },
   {
    "duration": 7,
    "start_time": "2024-05-27T17:50:15.324Z"
   },
   {
    "duration": 29,
    "start_time": "2024-05-27T17:50:15.332Z"
   },
   {
    "duration": 13,
    "start_time": "2024-05-27T17:50:15.362Z"
   },
   {
    "duration": 9,
    "start_time": "2024-05-27T17:50:15.376Z"
   },
   {
    "duration": 8,
    "start_time": "2024-05-27T17:50:15.387Z"
   },
   {
    "duration": 8,
    "start_time": "2024-05-27T17:50:15.397Z"
   },
   {
    "duration": 8,
    "start_time": "2024-05-27T17:50:15.407Z"
   },
   {
    "duration": 64,
    "start_time": "2024-05-27T17:50:15.416Z"
   },
   {
    "duration": 370,
    "start_time": "2024-05-27T17:50:15.482Z"
   },
   {
    "duration": 10,
    "start_time": "2024-05-27T17:53:55.607Z"
   },
   {
    "duration": 178,
    "start_time": "2024-05-27T18:03:41.751Z"
   },
   {
    "duration": 6,
    "start_time": "2024-05-27T18:04:29.599Z"
   },
   {
    "duration": 68,
    "start_time": "2024-05-27T18:04:47.117Z"
   },
   {
    "duration": 84,
    "start_time": "2024-05-27T18:05:02.951Z"
   },
   {
    "duration": 70,
    "start_time": "2024-05-27T18:05:08.523Z"
   },
   {
    "duration": 80,
    "start_time": "2024-05-27T18:06:54.827Z"
   },
   {
    "duration": 87,
    "start_time": "2024-05-27T18:07:39.609Z"
   },
   {
    "duration": 959,
    "start_time": "2024-05-27T18:13:51.572Z"
   },
   {
    "duration": 9,
    "start_time": "2024-05-27T18:14:29.623Z"
   },
   {
    "duration": 338,
    "start_time": "2024-05-27T18:16:50.897Z"
   },
   {
    "duration": 278,
    "start_time": "2024-05-27T18:17:35.867Z"
   },
   {
    "duration": 11,
    "start_time": "2024-05-27T18:21:51.295Z"
   },
   {
    "duration": 260,
    "start_time": "2024-05-27T18:25:20.662Z"
   },
   {
    "duration": 10,
    "start_time": "2024-05-27T18:29:24.036Z"
   },
   {
    "duration": 264,
    "start_time": "2024-05-27T18:30:47.296Z"
   },
   {
    "duration": 265,
    "start_time": "2024-05-27T18:45:02.697Z"
   },
   {
    "duration": 245,
    "start_time": "2024-05-27T18:46:15.705Z"
   },
   {
    "duration": 11,
    "start_time": "2024-05-27T18:58:37.348Z"
   },
   {
    "duration": 349,
    "start_time": "2024-05-27T19:02:28.529Z"
   },
   {
    "duration": 1064,
    "start_time": "2024-05-30T12:44:33.291Z"
   },
   {
    "duration": 14,
    "start_time": "2024-05-30T12:44:34.357Z"
   },
   {
    "duration": 71,
    "start_time": "2024-05-30T12:44:34.372Z"
   },
   {
    "duration": 19,
    "start_time": "2024-05-30T12:44:34.445Z"
   },
   {
    "duration": 25,
    "start_time": "2024-05-30T12:44:34.466Z"
   },
   {
    "duration": 17,
    "start_time": "2024-05-30T12:44:34.493Z"
   },
   {
    "duration": 24,
    "start_time": "2024-05-30T12:44:34.512Z"
   },
   {
    "duration": 33,
    "start_time": "2024-05-30T12:44:34.538Z"
   },
   {
    "duration": 23,
    "start_time": "2024-05-30T12:44:34.573Z"
   },
   {
    "duration": 21,
    "start_time": "2024-05-30T12:44:34.598Z"
   },
   {
    "duration": 18,
    "start_time": "2024-05-30T12:44:34.621Z"
   },
   {
    "duration": 31,
    "start_time": "2024-05-30T12:44:34.641Z"
   },
   {
    "duration": 55,
    "start_time": "2024-05-30T12:44:34.674Z"
   },
   {
    "duration": 11,
    "start_time": "2024-05-30T12:44:34.732Z"
   },
   {
    "duration": 4,
    "start_time": "2024-05-30T12:44:34.744Z"
   },
   {
    "duration": 27,
    "start_time": "2024-05-30T12:44:34.750Z"
   },
   {
    "duration": 7,
    "start_time": "2024-05-30T12:44:34.778Z"
   },
   {
    "duration": 15,
    "start_time": "2024-05-30T12:44:34.787Z"
   },
   {
    "duration": 9,
    "start_time": "2024-05-30T12:44:34.803Z"
   },
   {
    "duration": 23,
    "start_time": "2024-05-30T12:44:34.813Z"
   },
   {
    "duration": 7,
    "start_time": "2024-05-30T12:44:34.837Z"
   },
   {
    "duration": 9,
    "start_time": "2024-05-30T12:44:34.871Z"
   },
   {
    "duration": 4,
    "start_time": "2024-05-30T12:44:34.881Z"
   },
   {
    "duration": 6,
    "start_time": "2024-05-30T12:44:34.886Z"
   },
   {
    "duration": 14327,
    "start_time": "2024-05-30T12:44:34.893Z"
   },
   {
    "duration": 6,
    "start_time": "2024-05-30T12:44:49.221Z"
   },
   {
    "duration": 15746,
    "start_time": "2024-05-30T12:44:49.229Z"
   },
   {
    "duration": 6,
    "start_time": "2024-05-30T12:45:04.976Z"
   },
   {
    "duration": 9,
    "start_time": "2024-05-30T12:45:04.983Z"
   },
   {
    "duration": 11,
    "start_time": "2024-05-30T12:45:04.993Z"
   },
   {
    "duration": 9,
    "start_time": "2024-05-30T12:45:05.006Z"
   },
   {
    "duration": 16,
    "start_time": "2024-05-30T12:45:05.016Z"
   },
   {
    "duration": 14,
    "start_time": "2024-05-30T12:45:05.034Z"
   },
   {
    "duration": 7,
    "start_time": "2024-05-30T12:45:05.072Z"
   },
   {
    "duration": 26,
    "start_time": "2024-05-30T12:45:05.080Z"
   },
   {
    "duration": 373,
    "start_time": "2024-05-30T12:45:05.107Z"
   },
   {
    "duration": 24,
    "start_time": "2024-05-30T12:45:05.481Z"
   },
   {
    "duration": 22,
    "start_time": "2024-05-30T12:45:05.507Z"
   },
   {
    "duration": 269,
    "start_time": "2024-05-30T12:45:05.531Z"
   },
   {
    "duration": 9,
    "start_time": "2024-05-30T12:45:05.802Z"
   },
   {
    "duration": 244,
    "start_time": "2024-05-30T12:45:05.816Z"
   },
   {
    "duration": 14,
    "start_time": "2024-05-30T12:45:06.062Z"
   },
   {
    "duration": 239,
    "start_time": "2024-05-30T12:45:06.078Z"
   },
   {
    "duration": 9,
    "start_time": "2024-05-30T12:45:06.319Z"
   },
   {
    "duration": 287,
    "start_time": "2024-05-30T12:45:06.330Z"
   },
   {
    "duration": 8,
    "start_time": "2024-05-30T12:45:06.619Z"
   },
   {
    "duration": 154,
    "start_time": "2024-05-30T12:45:06.629Z"
   },
   {
    "duration": 9,
    "start_time": "2024-05-30T12:45:06.785Z"
   },
   {
    "duration": 192,
    "start_time": "2024-05-30T12:45:06.796Z"
   },
   {
    "duration": 9,
    "start_time": "2024-05-30T12:45:06.989Z"
   },
   {
    "duration": 91,
    "start_time": "2024-05-30T12:45:06.999Z"
   },
   {
    "duration": 7,
    "start_time": "2024-05-30T12:45:07.091Z"
   },
   {
    "duration": 268,
    "start_time": "2024-05-30T12:45:07.100Z"
   },
   {
    "duration": 9,
    "start_time": "2024-05-30T12:45:07.369Z"
   },
   {
    "duration": 230,
    "start_time": "2024-05-30T12:45:07.379Z"
   },
   {
    "duration": 9,
    "start_time": "2024-05-30T12:45:07.610Z"
   },
   {
    "duration": 239,
    "start_time": "2024-05-30T12:45:07.620Z"
   },
   {
    "duration": 12,
    "start_time": "2024-05-30T12:45:07.861Z"
   },
   {
    "duration": 312,
    "start_time": "2024-05-30T12:45:07.874Z"
   },
   {
    "duration": 2,
    "start_time": "2024-05-30T12:45:08.188Z"
   },
   {
    "duration": 144,
    "start_time": "2024-05-30T12:49:54.527Z"
   },
   {
    "duration": 57,
    "start_time": "2024-05-31T19:04:40.701Z"
   },
   {
    "duration": 1269,
    "start_time": "2024-05-31T19:04:43.683Z"
   },
   {
    "duration": 15,
    "start_time": "2024-05-31T19:04:44.954Z"
   },
   {
    "duration": 101,
    "start_time": "2024-05-31T19:04:44.971Z"
   },
   {
    "duration": 23,
    "start_time": "2024-05-31T19:04:45.074Z"
   },
   {
    "duration": 64,
    "start_time": "2024-05-31T19:04:45.099Z"
   },
   {
    "duration": 20,
    "start_time": "2024-05-31T19:04:45.164Z"
   },
   {
    "duration": 50,
    "start_time": "2024-05-31T19:04:45.185Z"
   },
   {
    "duration": 45,
    "start_time": "2024-05-31T19:04:45.237Z"
   },
   {
    "duration": 81,
    "start_time": "2024-05-31T19:04:45.284Z"
   },
   {
    "duration": 49,
    "start_time": "2024-05-31T19:04:45.366Z"
   },
   {
    "duration": 28,
    "start_time": "2024-05-31T19:04:45.417Z"
   },
   {
    "duration": 6,
    "start_time": "2024-05-31T19:04:45.446Z"
   },
   {
    "duration": 123,
    "start_time": "2024-05-31T19:04:45.454Z"
   },
   {
    "duration": 14,
    "start_time": "2024-05-31T19:04:45.581Z"
   },
   {
    "duration": 29,
    "start_time": "2024-05-31T19:04:45.597Z"
   },
   {
    "duration": 24,
    "start_time": "2024-05-31T19:04:45.629Z"
   },
   {
    "duration": 27,
    "start_time": "2024-05-31T19:04:45.655Z"
   },
   {
    "duration": 19,
    "start_time": "2024-05-31T19:04:45.684Z"
   },
   {
    "duration": 17,
    "start_time": "2024-05-31T19:04:45.705Z"
   },
   {
    "duration": 47,
    "start_time": "2024-05-31T19:04:45.724Z"
   },
   {
    "duration": 10,
    "start_time": "2024-05-31T19:04:45.773Z"
   },
   {
    "duration": 22,
    "start_time": "2024-05-31T19:04:45.784Z"
   },
   {
    "duration": 7,
    "start_time": "2024-05-31T19:04:45.809Z"
   },
   {
    "duration": 21,
    "start_time": "2024-05-31T19:04:45.818Z"
   },
   {
    "duration": 17259,
    "start_time": "2024-05-31T19:04:45.840Z"
   },
   {
    "duration": 9,
    "start_time": "2024-05-31T19:05:03.102Z"
   },
   {
    "duration": 18983,
    "start_time": "2024-05-31T19:05:03.113Z"
   },
   {
    "duration": 6,
    "start_time": "2024-05-31T19:05:22.098Z"
   },
   {
    "duration": 11,
    "start_time": "2024-05-31T19:05:22.106Z"
   },
   {
    "duration": 19,
    "start_time": "2024-05-31T19:05:22.118Z"
   },
   {
    "duration": 10,
    "start_time": "2024-05-31T19:05:22.139Z"
   },
   {
    "duration": 41,
    "start_time": "2024-05-31T19:05:22.151Z"
   },
   {
    "duration": 9,
    "start_time": "2024-05-31T19:05:22.194Z"
   },
   {
    "duration": 8,
    "start_time": "2024-05-31T19:05:22.204Z"
   },
   {
    "duration": 26,
    "start_time": "2024-05-31T19:05:22.213Z"
   },
   {
    "duration": 402,
    "start_time": "2024-05-31T19:05:22.241Z"
   },
   {
    "duration": 26,
    "start_time": "2024-05-31T19:05:22.645Z"
   },
   {
    "duration": 21,
    "start_time": "2024-05-31T19:05:22.673Z"
   },
   {
    "duration": 337,
    "start_time": "2024-05-31T19:05:22.696Z"
   },
   {
    "duration": 10,
    "start_time": "2024-05-31T19:05:23.035Z"
   },
   {
    "duration": 320,
    "start_time": "2024-05-31T19:05:23.049Z"
   },
   {
    "duration": 9,
    "start_time": "2024-05-31T19:05:23.371Z"
   },
   {
    "duration": 309,
    "start_time": "2024-05-31T19:05:23.382Z"
   },
   {
    "duration": 13,
    "start_time": "2024-05-31T19:05:23.693Z"
   },
   {
    "duration": 400,
    "start_time": "2024-05-31T19:05:23.708Z"
   },
   {
    "duration": 13,
    "start_time": "2024-05-31T19:05:24.111Z"
   },
   {
    "duration": 202,
    "start_time": "2024-05-31T19:05:24.127Z"
   },
   {
    "duration": 10,
    "start_time": "2024-05-31T19:05:24.333Z"
   },
   {
    "duration": 226,
    "start_time": "2024-05-31T19:05:24.344Z"
   },
   {
    "duration": 10,
    "start_time": "2024-05-31T19:05:24.572Z"
   },
   {
    "duration": 106,
    "start_time": "2024-05-31T19:05:24.592Z"
   },
   {
    "duration": 10,
    "start_time": "2024-05-31T19:05:24.701Z"
   },
   {
    "duration": 305,
    "start_time": "2024-05-31T19:05:24.713Z"
   },
   {
    "duration": 13,
    "start_time": "2024-05-31T19:05:25.020Z"
   },
   {
    "duration": 305,
    "start_time": "2024-05-31T19:05:25.035Z"
   },
   {
    "duration": 10,
    "start_time": "2024-05-31T19:05:25.342Z"
   },
   {
    "duration": 324,
    "start_time": "2024-05-31T19:05:25.354Z"
   },
   {
    "duration": 16,
    "start_time": "2024-05-31T19:05:25.680Z"
   },
   {
    "duration": 408,
    "start_time": "2024-05-31T19:05:25.698Z"
   },
   {
    "duration": 173,
    "start_time": "2024-05-31T19:05:26.296Z"
   },
   {
    "duration": 65,
    "start_time": "2024-05-31T19:05:41.002Z"
   },
   {
    "duration": 166,
    "start_time": "2024-05-31T19:05:49.940Z"
   },
   {
    "duration": 164,
    "start_time": "2024-05-31T19:06:02.162Z"
   },
   {
    "duration": 166,
    "start_time": "2024-05-31T19:12:03.520Z"
   },
   {
    "duration": 192,
    "start_time": "2024-05-31T19:15:31.480Z"
   },
   {
    "duration": 61,
    "start_time": "2024-05-31T19:17:19.460Z"
   },
   {
    "duration": 64,
    "start_time": "2024-05-31T19:17:40.611Z"
   },
   {
    "duration": 182,
    "start_time": "2024-05-31T19:17:56.701Z"
   },
   {
    "duration": 163,
    "start_time": "2024-05-31T19:21:59.921Z"
   },
   {
    "duration": 151,
    "start_time": "2024-05-31T19:22:12.802Z"
   },
   {
    "duration": 308,
    "start_time": "2024-05-31T19:28:47.722Z"
   },
   {
    "duration": 161,
    "start_time": "2024-05-31T19:29:04.508Z"
   },
   {
    "duration": 190,
    "start_time": "2024-05-31T19:31:59.682Z"
   },
   {
    "duration": 231,
    "start_time": "2024-05-31T19:32:09.904Z"
   },
   {
    "duration": 134,
    "start_time": "2024-05-31T19:32:54.403Z"
   },
   {
    "duration": 81,
    "start_time": "2024-05-31T19:33:14.064Z"
   },
   {
    "duration": 68,
    "start_time": "2024-05-31T19:33:23.860Z"
   },
   {
    "duration": 184,
    "start_time": "2024-05-31T19:33:41.321Z"
   },
   {
    "duration": 17,
    "start_time": "2024-05-31T19:35:16.121Z"
   },
   {
    "duration": 453,
    "start_time": "2024-05-31T19:35:26.563Z"
   },
   {
    "duration": 449,
    "start_time": "2024-05-31T19:36:06.860Z"
   },
   {
    "duration": 419,
    "start_time": "2024-05-31T19:36:48.504Z"
   },
   {
    "duration": 132,
    "start_time": "2024-05-31T19:36:59.712Z"
   },
   {
    "duration": 17,
    "start_time": "2024-05-31T19:36:59.846Z"
   },
   {
    "duration": 107,
    "start_time": "2024-05-31T19:36:59.865Z"
   },
   {
    "duration": 37,
    "start_time": "2024-05-31T19:36:59.974Z"
   },
   {
    "duration": 87,
    "start_time": "2024-05-31T19:37:00.013Z"
   },
   {
    "duration": 57,
    "start_time": "2024-05-31T19:37:00.102Z"
   },
   {
    "duration": 62,
    "start_time": "2024-05-31T19:37:00.161Z"
   },
   {
    "duration": 21,
    "start_time": "2024-05-31T19:37:00.224Z"
   },
   {
    "duration": 63,
    "start_time": "2024-05-31T19:37:00.247Z"
   },
   {
    "duration": 42,
    "start_time": "2024-05-31T19:37:00.314Z"
   },
   {
    "duration": 26,
    "start_time": "2024-05-31T19:37:00.358Z"
   },
   {
    "duration": 21,
    "start_time": "2024-05-31T19:37:00.386Z"
   },
   {
    "duration": 98,
    "start_time": "2024-05-31T19:37:00.409Z"
   },
   {
    "duration": 27,
    "start_time": "2024-05-31T19:37:00.509Z"
   },
   {
    "duration": 160,
    "start_time": "2024-05-31T19:37:00.538Z"
   },
   {
    "duration": 47,
    "start_time": "2024-05-31T19:37:00.700Z"
   },
   {
    "duration": 196,
    "start_time": "2024-05-31T19:37:00.749Z"
   },
   {
    "duration": 357,
    "start_time": "2024-05-31T19:37:00.947Z"
   },
   {
    "duration": 28,
    "start_time": "2024-05-31T19:37:01.306Z"
   },
   {
    "duration": 59,
    "start_time": "2024-05-31T19:37:01.336Z"
   },
   {
    "duration": 70,
    "start_time": "2024-05-31T19:37:01.397Z"
   },
   {
    "duration": 90,
    "start_time": "2024-05-31T19:37:01.469Z"
   },
   {
    "duration": 44,
    "start_time": "2024-05-31T19:37:01.560Z"
   },
   {
    "duration": 81,
    "start_time": "2024-05-31T19:37:01.605Z"
   },
   {
    "duration": 16614,
    "start_time": "2024-05-31T19:37:01.688Z"
   },
   {
    "duration": 8,
    "start_time": "2024-05-31T19:37:18.304Z"
   },
   {
    "duration": 17764,
    "start_time": "2024-05-31T19:37:18.313Z"
   },
   {
    "duration": 15,
    "start_time": "2024-05-31T19:37:36.080Z"
   },
   {
    "duration": 18,
    "start_time": "2024-05-31T19:37:36.097Z"
   },
   {
    "duration": 14,
    "start_time": "2024-05-31T19:37:36.117Z"
   },
   {
    "duration": 44,
    "start_time": "2024-05-31T19:37:36.132Z"
   },
   {
    "duration": 25,
    "start_time": "2024-05-31T19:37:36.177Z"
   },
   {
    "duration": 20,
    "start_time": "2024-05-31T19:37:36.204Z"
   },
   {
    "duration": 9,
    "start_time": "2024-05-31T19:37:36.225Z"
   },
   {
    "duration": 68,
    "start_time": "2024-05-31T19:37:36.236Z"
   },
   {
    "duration": 402,
    "start_time": "2024-05-31T19:37:36.311Z"
   },
   {
    "duration": 27,
    "start_time": "2024-05-31T19:37:36.714Z"
   },
   {
    "duration": 27,
    "start_time": "2024-05-31T19:37:36.743Z"
   },
   {
    "duration": 335,
    "start_time": "2024-05-31T19:37:36.771Z"
   },
   {
    "duration": 10,
    "start_time": "2024-05-31T19:37:37.108Z"
   },
   {
    "duration": 296,
    "start_time": "2024-05-31T19:37:37.120Z"
   },
   {
    "duration": 11,
    "start_time": "2024-05-31T19:37:37.419Z"
   },
   {
    "duration": 406,
    "start_time": "2024-05-31T19:37:37.432Z"
   },
   {
    "duration": 9,
    "start_time": "2024-05-31T19:37:37.840Z"
   },
   {
    "duration": 307,
    "start_time": "2024-05-31T19:37:37.851Z"
   },
   {
    "duration": 10,
    "start_time": "2024-05-31T19:37:38.160Z"
   },
   {
    "duration": 197,
    "start_time": "2024-05-31T19:37:38.171Z"
   },
   {
    "duration": 10,
    "start_time": "2024-05-31T19:37:38.370Z"
   },
   {
    "duration": 226,
    "start_time": "2024-05-31T19:37:38.381Z"
   },
   {
    "duration": 11,
    "start_time": "2024-05-31T19:37:38.609Z"
   },
   {
    "duration": 95,
    "start_time": "2024-05-31T19:37:38.621Z"
   },
   {
    "duration": 9,
    "start_time": "2024-05-31T19:37:38.718Z"
   },
   {
    "duration": 280,
    "start_time": "2024-05-31T19:37:38.729Z"
   },
   {
    "duration": 11,
    "start_time": "2024-05-31T19:37:39.011Z"
   },
   {
    "duration": 288,
    "start_time": "2024-05-31T19:37:39.024Z"
   },
   {
    "duration": 10,
    "start_time": "2024-05-31T19:37:39.314Z"
   },
   {
    "duration": 375,
    "start_time": "2024-05-31T19:37:39.326Z"
   },
   {
    "duration": 12,
    "start_time": "2024-05-31T19:37:39.708Z"
   },
   {
    "duration": 333,
    "start_time": "2024-05-31T19:37:39.721Z"
   },
   {
    "duration": 174,
    "start_time": "2024-05-31T19:37:40.056Z"
   },
   {
    "duration": 174,
    "start_time": "2024-05-31T19:37:40.232Z"
   },
   {
    "duration": 177,
    "start_time": "2024-05-31T19:37:40.408Z"
   },
   {
    "duration": 174,
    "start_time": "2024-05-31T19:37:40.587Z"
   },
   {
    "duration": 488,
    "start_time": "2024-05-31T19:37:40.763Z"
   },
   {
    "duration": 161,
    "start_time": "2024-05-31T19:37:53.280Z"
   },
   {
    "duration": 445,
    "start_time": "2024-05-31T19:38:29.060Z"
   },
   {
    "duration": 246,
    "start_time": "2024-05-31T19:38:42.682Z"
   },
   {
    "duration": 157,
    "start_time": "2024-05-31T19:38:50.063Z"
   },
   {
    "duration": 14,
    "start_time": "2024-05-31T19:43:41.465Z"
   },
   {
    "duration": 173,
    "start_time": "2024-05-31T19:43:50.116Z"
   },
   {
    "duration": 170,
    "start_time": "2024-05-31T19:46:28.741Z"
   },
   {
    "duration": 158,
    "start_time": "2024-05-31T19:48:41.680Z"
   },
   {
    "duration": 151,
    "start_time": "2024-05-31T19:51:27.083Z"
   },
   {
    "duration": 171,
    "start_time": "2024-05-31T19:52:00.101Z"
   },
   {
    "duration": 173,
    "start_time": "2024-05-31T19:52:46.101Z"
   },
   {
    "duration": 15,
    "start_time": "2024-05-31T20:19:50.300Z"
   },
   {
    "duration": 10,
    "start_time": "2024-05-31T20:20:40.640Z"
   },
   {
    "duration": 20,
    "start_time": "2024-05-31T20:21:35.800Z"
   },
   {
    "duration": 18,
    "start_time": "2024-05-31T20:22:00.442Z"
   },
   {
    "duration": 12,
    "start_time": "2024-05-31T20:24:08.740Z"
   },
   {
    "duration": 16,
    "start_time": "2024-05-31T20:24:18.761Z"
   },
   {
    "duration": 17,
    "start_time": "2024-05-31T20:26:09.340Z"
   },
   {
    "duration": 17,
    "start_time": "2024-05-31T20:26:37.542Z"
   },
   {
    "duration": 5,
    "start_time": "2024-05-31T20:27:01.940Z"
   },
   {
    "duration": 4,
    "start_time": "2024-05-31T20:27:09.120Z"
   },
   {
    "duration": 21,
    "start_time": "2024-05-31T20:28:03.120Z"
   },
   {
    "duration": 29,
    "start_time": "2024-05-31T20:30:06.960Z"
   },
   {
    "duration": 12,
    "start_time": "2024-05-31T20:39:04.360Z"
   },
   {
    "duration": 12,
    "start_time": "2024-05-31T20:39:23.999Z"
   },
   {
    "duration": 15,
    "start_time": "2024-05-31T20:39:37.500Z"
   },
   {
    "duration": 170,
    "start_time": "2024-05-31T20:43:14.166Z"
   },
   {
    "duration": 178,
    "start_time": "2024-05-31T20:46:12.207Z"
   },
   {
    "duration": 32,
    "start_time": "2024-05-31T20:49:14.058Z"
   },
   {
    "duration": 31,
    "start_time": "2024-05-31T20:50:17.101Z"
   },
   {
    "duration": 19,
    "start_time": "2024-05-31T20:50:37.900Z"
   },
   {
    "duration": 42,
    "start_time": "2024-06-01T09:31:23.347Z"
   },
   {
    "duration": 895,
    "start_time": "2024-06-01T09:31:26.448Z"
   },
   {
    "duration": 12,
    "start_time": "2024-06-01T09:31:27.345Z"
   },
   {
    "duration": 57,
    "start_time": "2024-06-01T09:31:27.358Z"
   },
   {
    "duration": 15,
    "start_time": "2024-06-01T09:31:27.416Z"
   },
   {
    "duration": 16,
    "start_time": "2024-06-01T09:31:27.432Z"
   },
   {
    "duration": 8,
    "start_time": "2024-06-01T09:31:27.449Z"
   },
   {
    "duration": 20,
    "start_time": "2024-06-01T09:31:27.458Z"
   },
   {
    "duration": 35,
    "start_time": "2024-06-01T09:31:27.479Z"
   },
   {
    "duration": 36,
    "start_time": "2024-06-01T09:31:27.515Z"
   },
   {
    "duration": 18,
    "start_time": "2024-06-01T09:31:27.552Z"
   },
   {
    "duration": 18,
    "start_time": "2024-06-01T09:31:27.571Z"
   },
   {
    "duration": 12,
    "start_time": "2024-06-01T09:31:27.590Z"
   },
   {
    "duration": 42,
    "start_time": "2024-06-01T09:31:27.603Z"
   },
   {
    "duration": 9,
    "start_time": "2024-06-01T09:31:27.647Z"
   },
   {
    "duration": 4,
    "start_time": "2024-06-01T09:31:27.657Z"
   },
   {
    "duration": 23,
    "start_time": "2024-06-01T09:31:27.662Z"
   },
   {
    "duration": 29,
    "start_time": "2024-06-01T09:31:27.686Z"
   },
   {
    "duration": 9,
    "start_time": "2024-06-01T09:31:27.716Z"
   },
   {
    "duration": 6,
    "start_time": "2024-06-01T09:31:27.726Z"
   },
   {
    "duration": 18,
    "start_time": "2024-06-01T09:31:27.733Z"
   },
   {
    "duration": 6,
    "start_time": "2024-06-01T09:31:27.753Z"
   },
   {
    "duration": 13,
    "start_time": "2024-06-01T09:31:27.760Z"
   },
   {
    "duration": 13,
    "start_time": "2024-06-01T09:31:27.774Z"
   },
   {
    "duration": 5,
    "start_time": "2024-06-01T09:31:27.789Z"
   },
   {
    "duration": 12693,
    "start_time": "2024-06-01T09:31:27.801Z"
   },
   {
    "duration": 5,
    "start_time": "2024-06-01T09:31:40.501Z"
   },
   {
    "duration": 13578,
    "start_time": "2024-06-01T09:31:40.507Z"
   },
   {
    "duration": 4,
    "start_time": "2024-06-01T09:31:54.087Z"
   },
   {
    "duration": 31,
    "start_time": "2024-06-01T09:31:54.101Z"
   },
   {
    "duration": 9,
    "start_time": "2024-06-01T09:31:54.133Z"
   },
   {
    "duration": 7,
    "start_time": "2024-06-01T09:31:54.143Z"
   },
   {
    "duration": 8,
    "start_time": "2024-06-01T09:31:54.151Z"
   },
   {
    "duration": 6,
    "start_time": "2024-06-01T09:31:54.160Z"
   },
   {
    "duration": 5,
    "start_time": "2024-06-01T09:31:54.167Z"
   },
   {
    "duration": 17,
    "start_time": "2024-06-01T09:31:54.173Z"
   },
   {
    "duration": 309,
    "start_time": "2024-06-01T09:31:54.191Z"
   },
   {
    "duration": 20,
    "start_time": "2024-06-01T09:31:54.501Z"
   },
   {
    "duration": 7,
    "start_time": "2024-06-01T09:31:54.522Z"
   },
   {
    "duration": 216,
    "start_time": "2024-06-01T09:31:54.530Z"
   },
   {
    "duration": 7,
    "start_time": "2024-06-01T09:31:54.748Z"
   },
   {
    "duration": 216,
    "start_time": "2024-06-01T09:31:54.758Z"
   },
   {
    "duration": 7,
    "start_time": "2024-06-01T09:31:54.975Z"
   },
   {
    "duration": 214,
    "start_time": "2024-06-01T09:31:54.984Z"
   },
   {
    "duration": 8,
    "start_time": "2024-06-01T09:31:55.201Z"
   },
   {
    "duration": 239,
    "start_time": "2024-06-01T09:31:55.210Z"
   },
   {
    "duration": 7,
    "start_time": "2024-06-01T09:31:55.450Z"
   },
   {
    "duration": 127,
    "start_time": "2024-06-01T09:31:55.458Z"
   },
   {
    "duration": 7,
    "start_time": "2024-06-01T09:31:55.586Z"
   },
   {
    "duration": 146,
    "start_time": "2024-06-01T09:31:55.601Z"
   },
   {
    "duration": 7,
    "start_time": "2024-06-01T09:31:55.748Z"
   },
   {
    "duration": 80,
    "start_time": "2024-06-01T09:31:55.756Z"
   },
   {
    "duration": 7,
    "start_time": "2024-06-01T09:31:55.837Z"
   },
   {
    "duration": 202,
    "start_time": "2024-06-01T09:31:55.845Z"
   },
   {
    "duration": 8,
    "start_time": "2024-06-01T09:31:56.049Z"
   },
   {
    "duration": 207,
    "start_time": "2024-06-01T09:31:56.058Z"
   },
   {
    "duration": 8,
    "start_time": "2024-06-01T09:31:56.266Z"
   },
   {
    "duration": 242,
    "start_time": "2024-06-01T09:31:56.275Z"
   },
   {
    "duration": 8,
    "start_time": "2024-06-01T09:31:56.518Z"
   },
   {
    "duration": 261,
    "start_time": "2024-06-01T09:31:56.527Z"
   },
   {
    "duration": 136,
    "start_time": "2024-06-01T09:31:56.789Z"
   },
   {
    "duration": 133,
    "start_time": "2024-06-01T09:31:57.078Z"
   },
   {
    "duration": 63,
    "start_time": "2024-06-01T09:32:26.247Z"
   },
   {
    "duration": 120,
    "start_time": "2024-06-01T09:32:31.807Z"
   },
   {
    "duration": 122,
    "start_time": "2024-06-01T09:32:51.089Z"
   },
   {
    "duration": 114,
    "start_time": "2024-06-01T09:33:07.468Z"
   },
   {
    "duration": 123,
    "start_time": "2024-06-01T09:34:41.450Z"
   },
   {
    "duration": 132,
    "start_time": "2024-06-01T09:35:04.889Z"
   },
   {
    "duration": 137,
    "start_time": "2024-06-01T09:35:57.488Z"
   },
   {
    "duration": 123,
    "start_time": "2024-06-01T09:36:05.408Z"
   },
   {
    "duration": 172,
    "start_time": "2024-06-01T09:36:35.948Z"
   },
   {
    "duration": 62,
    "start_time": "2024-06-01T09:37:21.549Z"
   },
   {
    "duration": 117,
    "start_time": "2024-06-01T09:37:31.649Z"
   },
   {
    "duration": 114,
    "start_time": "2024-06-01T09:39:36.515Z"
   },
   {
    "duration": 115,
    "start_time": "2024-06-01T09:39:59.548Z"
   },
   {
    "duration": 144,
    "start_time": "2024-06-01T09:40:20.589Z"
   },
   {
    "duration": 129,
    "start_time": "2024-06-01T09:40:38.529Z"
   },
   {
    "duration": 153,
    "start_time": "2024-06-01T09:40:52.869Z"
   },
   {
    "duration": 118,
    "start_time": "2024-06-01T09:44:27.638Z"
   },
   {
    "duration": 121,
    "start_time": "2024-06-01T09:44:58.427Z"
   },
   {
    "duration": 120,
    "start_time": "2024-06-01T09:45:06.508Z"
   },
   {
    "duration": 128,
    "start_time": "2024-06-01T09:45:55.968Z"
   },
   {
    "duration": 196,
    "start_time": "2024-06-01T09:46:05.227Z"
   },
   {
    "duration": 126,
    "start_time": "2024-06-01T09:46:13.054Z"
   },
   {
    "duration": 1026,
    "start_time": "2024-06-03T12:17:00.173Z"
   },
   {
    "duration": 13,
    "start_time": "2024-06-03T12:17:01.200Z"
   },
   {
    "duration": 98,
    "start_time": "2024-06-03T12:17:01.215Z"
   },
   {
    "duration": 24,
    "start_time": "2024-06-03T12:17:01.315Z"
   },
   {
    "duration": 53,
    "start_time": "2024-06-03T12:17:01.340Z"
   },
   {
    "duration": 46,
    "start_time": "2024-06-03T12:17:01.395Z"
   },
   {
    "duration": 33,
    "start_time": "2024-06-03T12:17:01.443Z"
   },
   {
    "duration": 16,
    "start_time": "2024-06-03T12:17:01.477Z"
   },
   {
    "duration": 38,
    "start_time": "2024-06-03T12:17:01.495Z"
   },
   {
    "duration": 21,
    "start_time": "2024-06-03T12:17:01.535Z"
   },
   {
    "duration": 28,
    "start_time": "2024-06-03T12:17:01.557Z"
   },
   {
    "duration": 5,
    "start_time": "2024-06-03T12:17:01.587Z"
   },
   {
    "duration": 4,
    "start_time": "2024-06-03T12:17:21.287Z"
   },
   {
    "duration": 5,
    "start_time": "2024-06-03T12:17:48.007Z"
   },
   {
    "duration": 56,
    "start_time": "2024-06-03T12:19:07.685Z"
   },
   {
    "duration": 5,
    "start_time": "2024-06-03T12:19:20.177Z"
   },
   {
    "duration": 7,
    "start_time": "2024-06-03T12:23:23.403Z"
   },
   {
    "duration": 62,
    "start_time": "2024-06-03T12:23:36.036Z"
   },
   {
    "duration": 7,
    "start_time": "2024-06-03T12:26:39.919Z"
   },
   {
    "duration": 7,
    "start_time": "2024-06-03T12:27:11.784Z"
   },
   {
    "duration": 51,
    "start_time": "2024-06-03T12:27:42.368Z"
   },
   {
    "duration": 7,
    "start_time": "2024-06-03T12:27:48.207Z"
   },
   {
    "duration": 2,
    "start_time": "2024-06-03T12:35:57.310Z"
   },
   {
    "duration": 5,
    "start_time": "2024-06-03T12:36:29.350Z"
   },
   {
    "duration": 14,
    "start_time": "2024-06-03T12:38:19.485Z"
   },
   {
    "duration": 90,
    "start_time": "2024-06-03T12:38:54.035Z"
   },
   {
    "duration": 11,
    "start_time": "2024-06-03T12:38:54.127Z"
   },
   {
    "duration": 81,
    "start_time": "2024-06-03T12:38:54.140Z"
   },
   {
    "duration": 17,
    "start_time": "2024-06-03T12:38:54.223Z"
   },
   {
    "duration": 21,
    "start_time": "2024-06-03T12:38:54.242Z"
   },
   {
    "duration": 9,
    "start_time": "2024-06-03T12:38:54.284Z"
   },
   {
    "duration": 24,
    "start_time": "2024-06-03T12:38:54.295Z"
   },
   {
    "duration": 16,
    "start_time": "2024-06-03T12:38:54.321Z"
   },
   {
    "duration": 59,
    "start_time": "2024-06-03T12:38:54.339Z"
   },
   {
    "duration": 23,
    "start_time": "2024-06-03T12:38:54.401Z"
   },
   {
    "duration": 18,
    "start_time": "2024-06-03T12:38:54.425Z"
   },
   {
    "duration": 9,
    "start_time": "2024-06-03T12:38:54.444Z"
   },
   {
    "duration": 76,
    "start_time": "2024-06-03T12:38:54.454Z"
   },
   {
    "duration": 11,
    "start_time": "2024-06-03T12:38:54.531Z"
   },
   {
    "duration": 14,
    "start_time": "2024-06-03T12:38:54.544Z"
   },
   {
    "duration": 27,
    "start_time": "2024-06-03T12:38:54.560Z"
   },
   {
    "duration": 8,
    "start_time": "2024-06-03T12:38:54.589Z"
   },
   {
    "duration": 12,
    "start_time": "2024-06-03T12:38:54.599Z"
   },
   {
    "duration": 8,
    "start_time": "2024-06-03T12:38:54.613Z"
   },
   {
    "duration": 8,
    "start_time": "2024-06-03T12:38:54.622Z"
   },
   {
    "duration": 21,
    "start_time": "2024-06-03T12:38:54.631Z"
   },
   {
    "duration": 35,
    "start_time": "2024-06-03T12:38:54.653Z"
   },
   {
    "duration": 3,
    "start_time": "2024-06-03T12:38:54.690Z"
   },
   {
    "duration": 5,
    "start_time": "2024-06-03T12:38:54.694Z"
   },
   {
    "duration": 6,
    "start_time": "2024-06-03T12:38:54.701Z"
   },
   {
    "duration": 12731,
    "start_time": "2024-06-03T12:38:54.708Z"
   },
   {
    "duration": 5,
    "start_time": "2024-06-03T12:39:07.441Z"
   },
   {
    "duration": 13877,
    "start_time": "2024-06-03T12:39:07.452Z"
   },
   {
    "duration": 7,
    "start_time": "2024-06-03T12:39:21.331Z"
   },
   {
    "duration": 11,
    "start_time": "2024-06-03T12:39:21.340Z"
   },
   {
    "duration": 35,
    "start_time": "2024-06-03T12:39:21.352Z"
   },
   {
    "duration": 11,
    "start_time": "2024-06-03T12:39:21.389Z"
   },
   {
    "duration": 7,
    "start_time": "2024-06-03T12:39:21.401Z"
   },
   {
    "duration": 23,
    "start_time": "2024-06-03T12:39:21.410Z"
   },
   {
    "duration": 10,
    "start_time": "2024-06-03T12:39:21.434Z"
   },
   {
    "duration": 41,
    "start_time": "2024-06-03T12:39:21.446Z"
   },
   {
    "duration": 350,
    "start_time": "2024-06-03T12:39:21.489Z"
   },
   {
    "duration": 20,
    "start_time": "2024-06-03T12:39:21.840Z"
   },
   {
    "duration": 9,
    "start_time": "2024-06-03T12:39:21.861Z"
   },
   {
    "duration": 234,
    "start_time": "2024-06-03T12:39:21.871Z"
   },
   {
    "duration": 8,
    "start_time": "2024-06-03T12:39:22.106Z"
   },
   {
    "duration": 245,
    "start_time": "2024-06-03T12:39:22.115Z"
   },
   {
    "duration": 7,
    "start_time": "2024-06-03T12:39:22.361Z"
   },
   {
    "duration": 222,
    "start_time": "2024-06-03T12:39:22.369Z"
   },
   {
    "duration": 8,
    "start_time": "2024-06-03T12:39:22.592Z"
   },
   {
    "duration": 294,
    "start_time": "2024-06-03T12:39:22.602Z"
   },
   {
    "duration": 7,
    "start_time": "2024-06-03T12:39:22.897Z"
   },
   {
    "duration": 132,
    "start_time": "2024-06-03T12:39:22.905Z"
   },
   {
    "duration": 7,
    "start_time": "2024-06-03T12:39:23.038Z"
   },
   {
    "duration": 159,
    "start_time": "2024-06-03T12:39:23.046Z"
   },
   {
    "duration": 8,
    "start_time": "2024-06-03T12:39:23.206Z"
   },
   {
    "duration": 76,
    "start_time": "2024-06-03T12:39:23.215Z"
   },
   {
    "duration": 6,
    "start_time": "2024-06-03T12:39:23.292Z"
   },
   {
    "duration": 208,
    "start_time": "2024-06-03T12:39:23.299Z"
   },
   {
    "duration": 8,
    "start_time": "2024-06-03T12:39:23.508Z"
   },
   {
    "duration": 207,
    "start_time": "2024-06-03T12:39:23.517Z"
   },
   {
    "duration": 8,
    "start_time": "2024-06-03T12:39:23.725Z"
   },
   {
    "duration": 226,
    "start_time": "2024-06-03T12:39:23.734Z"
   },
   {
    "duration": 10,
    "start_time": "2024-06-03T12:39:23.961Z"
   },
   {
    "duration": 297,
    "start_time": "2024-06-03T12:39:23.972Z"
   },
   {
    "duration": 147,
    "start_time": "2024-06-03T12:39:24.271Z"
   },
   {
    "duration": 165,
    "start_time": "2024-06-03T12:39:24.419Z"
   },
   {
    "duration": 139,
    "start_time": "2024-06-03T12:39:24.585Z"
   },
   {
    "duration": 152,
    "start_time": "2024-06-03T12:39:24.725Z"
   },
   {
    "duration": 129,
    "start_time": "2024-06-03T12:39:24.878Z"
   },
   {
    "duration": 141,
    "start_time": "2024-06-03T12:39:25.008Z"
   },
   {
    "duration": 177,
    "start_time": "2024-06-03T12:39:25.151Z"
   },
   {
    "duration": 151,
    "start_time": "2024-06-03T12:39:25.334Z"
   }
  ],
  "colab": {
   "provenance": []
  },
  "kernelspec": {
   "display_name": "Python 3 (ipykernel)",
   "language": "python",
   "name": "python3"
  },
  "language_info": {
   "codemirror_mode": {
    "name": "ipython",
    "version": 3
   },
   "file_extension": ".py",
   "mimetype": "text/x-python",
   "name": "python",
   "nbconvert_exporter": "python",
   "pygments_lexer": "ipython3",
   "version": "3.9.5"
  },
  "toc": {
   "base_numbering": 1,
   "nav_menu": {},
   "number_sections": true,
   "sideBar": true,
   "skip_h1_title": true,
   "title_cell": "Table of Contents",
   "title_sidebar": "Contents",
   "toc_cell": false,
   "toc_position": {},
   "toc_section_display": true,
   "toc_window_display": false
  }
 },
 "nbformat": 4,
 "nbformat_minor": 1
}
