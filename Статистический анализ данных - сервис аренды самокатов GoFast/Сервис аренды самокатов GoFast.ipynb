{
 "cells": [
  {
   "cell_type": "markdown",
   "id": "73c5c550",
   "metadata": {},
   "source": [
    "<div style=\"border:solid Chocolate 2px; padding: 40px\">\n",
    "\n",
    "<b>Привет!👋</b>\n",
    "\n",
    "Меня зовут Огурлиев Анзор, я буду ревьюером твоего проекта. Сразу хочу предложить тебе общаться на \"ты\", если тебе это неудобно, скажи мне об этом. Нам предстоит пройти с тобой через тернистый и от того интересный путь анализа данных! Можешь не переживать, я всегда помогу тебе, если у тебя возникнут вопросы)\n",
    "\n",
    "По ходу твоей работы я буду оставлять свои комментарии, по выполненным тобой шагам. Попрошу тебя не удалять их, так мне будет проще отслеживать твой прогресс в случае повторной проверки.\n",
    "\n",
    "Очень важно вести диалог и обсуждать те пункты, которые у тебя могли не получиться, поэтому, ты можешь оставлять свои комментарии, и мы обязательно во всем разберемся! Самое главное - выделяй свои комментарии удобным для тебя способом (цвет, рамка), но так, чтобы они отчетлитво отличались от моих комментариев. Так мы ни в чем не запутаемся)\n",
    "\n",
    "Свои комментарии я буду выделять так: <font color='green'>зеленый</font>, <font color='gold'>желтый</font> и <font color='red'>красный</font> цвет, например:\n",
    "\n",
    "<br/>\n",
    "\n",
    "<div class=\"alert alert-success\">\n",
    "<h2> Комментарий ревьюера V1<a class=\"tocSkip\"> </h2>\n",
    "\n",
    "<b>Все отлично!👍:</b> Этот комментарий я буду оставлять, если твое решение оптимально для данного шага.\n",
    "</div>\n",
    "\n",
    "<br/>\n",
    "\n",
    "<div class=\"alert alert-warning\">\n",
    "    <h2> Комментарий ревьюера V1<a class=\"tocSkip\"> </h2>\n",
    "\n",
    "<b>Некоторые замечания и рекомендации💡:</b> Это не означает, что ты совершил ошибку. Такими комментариями я буду отмечать места, где ты справился с задачей, но её можно решить ещё лучше. Также в таких комментариях я буду оставлять для тебя другие советы.\n",
    "</div>\n",
    "\n",
    "\n",
    "<br/>\n",
    "<div class=\"alert alert-block alert-danger\">\n",
    "<h2> Комментарий ревьюера V1<a class=\"tocSkip\"></h2>\n",
    "\n",
    "\n",
    "<b>На доработку🤔:</b>\n",
    "Если решение, которое ты применил на определенном шаге, требует значительных изменений, то я буду оставлять такой комментарий. Тебе нужно будет подумать еще раз как правильным образом решить данный этап. Если ревью содержит такие комментарии, то я не смогу принять проект с первого раза.\n",
    "</div>\n",
    "\n",
    "P.S. В оглавлении комментария ты увидишь `V1` (`V1`, `V2`, `V3`) - это версия моего комментария, которая понадобится нам с тобой, чтобы не запутаться, если потребуется оставить тебе комментарии после первой проверки."
   ]
  },
  {
   "cell_type": "markdown",
   "id": "10afce02",
   "metadata": {},
   "source": [
    "Проект \"Статистический анализ данных\"\n",
    "\n",
    "У нас имеются данные о некоторых пользователях сервиса GoFast из нескольких городов, а также об их поездках и подписаках.\n",
    "Мы проанализируем эти данные и проверим некоторые гипотезы, которые могут помочь бизнесу вырасти."
   ]
  },
  {
   "cell_type": "markdown",
   "id": "e1ae78ee",
   "metadata": {},
   "source": [
    "<div class=\"alert alert-warning\">\n",
    "<h2> Комментарий ревьюера V1<a class=\"tocSkip\"> </h2>\n",
    "\n",
    "<b>Некоторые замечания и рекомендации💡:</b> Стоит подробнее указать цели и задачи, которые будут в проекте выполняться."
   ]
  },
  {
   "cell_type": "code",
   "execution_count": 52,
   "id": "72576667",
   "metadata": {},
   "outputs": [],
   "source": [
    "#загрузим необходимые библиотеки:\n",
    "\n",
    "import pandas as pd\n",
    "import matplotlib.pyplot as plt\n",
    "import numpy as np\n",
    "from scipy import stats as st\n",
    "from scipy.stats import binom"
   ]
  },
  {
   "cell_type": "markdown",
   "id": "c42cbe00",
   "metadata": {},
   "source": [
    "#### Загрузка данных"
   ]
  },
  {
   "cell_type": "code",
   "execution_count": 53,
   "id": "eff9f206",
   "metadata": {},
   "outputs": [],
   "source": [
    "#загрузим данные:\n",
    "\n",
    "users_go = pd.read_csv('/datasets/users_go.csv')\n",
    "rides_go = pd.read_csv('/datasets/rides_go.csv')\n",
    "subscriptions_go = pd.read_csv('/datasets/subscriptions_go.csv')"
   ]
  },
  {
   "cell_type": "markdown",
   "id": "8931932e",
   "metadata": {},
   "source": [
    "#### Предобработка данных"
   ]
  },
  {
   "cell_type": "markdown",
   "id": "6bc13bd2",
   "metadata": {},
   "source": [
    "##### Посмотрим информацию по первому датафрейму users_go, проверим наличие пропусков и явных дубликатов"
   ]
  },
  {
   "cell_type": "code",
   "execution_count": 54,
   "id": "78efb73d",
   "metadata": {},
   "outputs": [
    {
     "data": {
      "text/html": [
       "<div>\n",
       "<style scoped>\n",
       "    .dataframe tbody tr th:only-of-type {\n",
       "        vertical-align: middle;\n",
       "    }\n",
       "\n",
       "    .dataframe tbody tr th {\n",
       "        vertical-align: top;\n",
       "    }\n",
       "\n",
       "    .dataframe thead th {\n",
       "        text-align: right;\n",
       "    }\n",
       "</style>\n",
       "<table border=\"1\" class=\"dataframe\">\n",
       "  <thead>\n",
       "    <tr style=\"text-align: right;\">\n",
       "      <th></th>\n",
       "      <th>user_id</th>\n",
       "      <th>name</th>\n",
       "      <th>age</th>\n",
       "      <th>city</th>\n",
       "      <th>subscription_type</th>\n",
       "    </tr>\n",
       "  </thead>\n",
       "  <tbody>\n",
       "    <tr>\n",
       "      <th>0</th>\n",
       "      <td>1</td>\n",
       "      <td>Кира</td>\n",
       "      <td>22</td>\n",
       "      <td>Тюмень</td>\n",
       "      <td>ultra</td>\n",
       "    </tr>\n",
       "    <tr>\n",
       "      <th>1</th>\n",
       "      <td>2</td>\n",
       "      <td>Станислав</td>\n",
       "      <td>31</td>\n",
       "      <td>Омск</td>\n",
       "      <td>ultra</td>\n",
       "    </tr>\n",
       "    <tr>\n",
       "      <th>2</th>\n",
       "      <td>3</td>\n",
       "      <td>Алексей</td>\n",
       "      <td>20</td>\n",
       "      <td>Москва</td>\n",
       "      <td>ultra</td>\n",
       "    </tr>\n",
       "    <tr>\n",
       "      <th>3</th>\n",
       "      <td>4</td>\n",
       "      <td>Константин</td>\n",
       "      <td>26</td>\n",
       "      <td>Ростов-на-Дону</td>\n",
       "      <td>ultra</td>\n",
       "    </tr>\n",
       "    <tr>\n",
       "      <th>4</th>\n",
       "      <td>5</td>\n",
       "      <td>Адель</td>\n",
       "      <td>28</td>\n",
       "      <td>Омск</td>\n",
       "      <td>ultra</td>\n",
       "    </tr>\n",
       "    <tr>\n",
       "      <th>5</th>\n",
       "      <td>6</td>\n",
       "      <td>Регина</td>\n",
       "      <td>25</td>\n",
       "      <td>Краснодар</td>\n",
       "      <td>ultra</td>\n",
       "    </tr>\n",
       "    <tr>\n",
       "      <th>6</th>\n",
       "      <td>7</td>\n",
       "      <td>Игорь</td>\n",
       "      <td>23</td>\n",
       "      <td>Омск</td>\n",
       "      <td>ultra</td>\n",
       "    </tr>\n",
       "    <tr>\n",
       "      <th>7</th>\n",
       "      <td>8</td>\n",
       "      <td>Юрий</td>\n",
       "      <td>23</td>\n",
       "      <td>Краснодар</td>\n",
       "      <td>ultra</td>\n",
       "    </tr>\n",
       "    <tr>\n",
       "      <th>8</th>\n",
       "      <td>9</td>\n",
       "      <td>Ян</td>\n",
       "      <td>21</td>\n",
       "      <td>Пятигорск</td>\n",
       "      <td>ultra</td>\n",
       "    </tr>\n",
       "    <tr>\n",
       "      <th>9</th>\n",
       "      <td>10</td>\n",
       "      <td>Валерий</td>\n",
       "      <td>18</td>\n",
       "      <td>Екатеринбург</td>\n",
       "      <td>ultra</td>\n",
       "    </tr>\n",
       "  </tbody>\n",
       "</table>\n",
       "</div>"
      ],
      "text/plain": [
       "   user_id        name  age            city subscription_type\n",
       "0        1        Кира   22          Тюмень             ultra\n",
       "1        2   Станислав   31            Омск             ultra\n",
       "2        3     Алексей   20          Москва             ultra\n",
       "3        4  Константин   26  Ростов-на-Дону             ultra\n",
       "4        5       Адель   28            Омск             ultra\n",
       "5        6      Регина   25       Краснодар             ultra\n",
       "6        7       Игорь   23            Омск             ultra\n",
       "7        8        Юрий   23       Краснодар             ultra\n",
       "8        9          Ян   21       Пятигорск             ultra\n",
       "9       10     Валерий   18    Екатеринбург             ultra"
      ]
     },
     "execution_count": 54,
     "metadata": {},
     "output_type": "execute_result"
    }
   ],
   "source": [
    "users_go.head(10)"
   ]
  },
  {
   "cell_type": "code",
   "execution_count": 55,
   "id": "0f7ebf80",
   "metadata": {},
   "outputs": [
    {
     "name": "stdout",
     "output_type": "stream",
     "text": [
      "<class 'pandas.core.frame.DataFrame'>\n",
      "RangeIndex: 1565 entries, 0 to 1564\n",
      "Data columns (total 5 columns):\n",
      " #   Column             Non-Null Count  Dtype \n",
      "---  ------             --------------  ----- \n",
      " 0   user_id            1565 non-null   int64 \n",
      " 1   name               1565 non-null   object\n",
      " 2   age                1565 non-null   int64 \n",
      " 3   city               1565 non-null   object\n",
      " 4   subscription_type  1565 non-null   object\n",
      "dtypes: int64(2), object(3)\n",
      "memory usage: 61.3+ KB\n"
     ]
    },
    {
     "data": {
      "text/plain": [
       "None"
      ]
     },
     "metadata": {},
     "output_type": "display_data"
    }
   ],
   "source": [
    "#посмотрим общую информацию о датафрейме users_go:\n",
    "display(users_go.info())"
   ]
  },
  {
   "cell_type": "code",
   "execution_count": 56,
   "id": "b1b9b2f5",
   "metadata": {},
   "outputs": [
    {
     "data": {
      "text/plain": [
       "user_id              0\n",
       "name                 0\n",
       "age                  0\n",
       "city                 0\n",
       "subscription_type    0\n",
       "dtype: int64"
      ]
     },
     "execution_count": 56,
     "metadata": {},
     "output_type": "execute_result"
    }
   ],
   "source": [
    "#посмотрим количество пропусков:\n",
    "users_go.isna().sum()"
   ]
  },
  {
   "cell_type": "code",
   "execution_count": 57,
   "id": "47074a52",
   "metadata": {},
   "outputs": [
    {
     "data": {
      "text/plain": [
       "31"
      ]
     },
     "execution_count": 57,
     "metadata": {},
     "output_type": "execute_result"
    }
   ],
   "source": [
    "#посмотрим наличие явных дубликатов:\n",
    "users_go.duplicated().sum()"
   ]
  },
  {
   "cell_type": "markdown",
   "id": "9829a022",
   "metadata": {},
   "source": [
    "Мы видим, что обнаружен 31 явный дубликат, пропусков нет, каждый столбец содержит 1565 строк, типы данных у каждого столбца верные. Поэтому необходимо удалить явные дубликаты."
   ]
  },
  {
   "cell_type": "code",
   "execution_count": 58,
   "id": "17ee81e6",
   "metadata": {},
   "outputs": [],
   "source": [
    "users_go = users_go.drop_duplicates().reset_index(drop=True)"
   ]
  },
  {
   "cell_type": "code",
   "execution_count": 59,
   "id": "27ccdfff",
   "metadata": {},
   "outputs": [
    {
     "data": {
      "text/plain": [
       "0"
      ]
     },
     "execution_count": 59,
     "metadata": {},
     "output_type": "execute_result"
    }
   ],
   "source": [
    "#посмотрим наличие явных дубликатов после удаления:\n",
    "users_go.duplicated().sum()"
   ]
  },
  {
   "cell_type": "markdown",
   "id": "5cfb747d",
   "metadata": {},
   "source": [
    "##### Посмотрим информацию по первому датафрейму rides_go, проверим наличие пропусков и явных дубликатов"
   ]
  },
  {
   "cell_type": "code",
   "execution_count": 60,
   "id": "d40eaace",
   "metadata": {},
   "outputs": [
    {
     "data": {
      "text/html": [
       "<div>\n",
       "<style scoped>\n",
       "    .dataframe tbody tr th:only-of-type {\n",
       "        vertical-align: middle;\n",
       "    }\n",
       "\n",
       "    .dataframe tbody tr th {\n",
       "        vertical-align: top;\n",
       "    }\n",
       "\n",
       "    .dataframe thead th {\n",
       "        text-align: right;\n",
       "    }\n",
       "</style>\n",
       "<table border=\"1\" class=\"dataframe\">\n",
       "  <thead>\n",
       "    <tr style=\"text-align: right;\">\n",
       "      <th></th>\n",
       "      <th>user_id</th>\n",
       "      <th>distance</th>\n",
       "      <th>duration</th>\n",
       "      <th>date</th>\n",
       "    </tr>\n",
       "  </thead>\n",
       "  <tbody>\n",
       "    <tr>\n",
       "      <th>0</th>\n",
       "      <td>1</td>\n",
       "      <td>4409.919140</td>\n",
       "      <td>25.599769</td>\n",
       "      <td>2021-01-01</td>\n",
       "    </tr>\n",
       "    <tr>\n",
       "      <th>1</th>\n",
       "      <td>1</td>\n",
       "      <td>2617.592153</td>\n",
       "      <td>15.816871</td>\n",
       "      <td>2021-01-18</td>\n",
       "    </tr>\n",
       "    <tr>\n",
       "      <th>2</th>\n",
       "      <td>1</td>\n",
       "      <td>754.159807</td>\n",
       "      <td>6.232113</td>\n",
       "      <td>2021-04-20</td>\n",
       "    </tr>\n",
       "    <tr>\n",
       "      <th>3</th>\n",
       "      <td>1</td>\n",
       "      <td>2694.783254</td>\n",
       "      <td>18.511000</td>\n",
       "      <td>2021-08-11</td>\n",
       "    </tr>\n",
       "    <tr>\n",
       "      <th>4</th>\n",
       "      <td>1</td>\n",
       "      <td>4028.687306</td>\n",
       "      <td>26.265803</td>\n",
       "      <td>2021-08-28</td>\n",
       "    </tr>\n",
       "    <tr>\n",
       "      <th>5</th>\n",
       "      <td>1</td>\n",
       "      <td>2770.890808</td>\n",
       "      <td>16.650138</td>\n",
       "      <td>2021-10-09</td>\n",
       "    </tr>\n",
       "    <tr>\n",
       "      <th>6</th>\n",
       "      <td>1</td>\n",
       "      <td>3039.020292</td>\n",
       "      <td>14.927879</td>\n",
       "      <td>2021-10-19</td>\n",
       "    </tr>\n",
       "    <tr>\n",
       "      <th>7</th>\n",
       "      <td>1</td>\n",
       "      <td>2842.118050</td>\n",
       "      <td>23.117468</td>\n",
       "      <td>2021-11-06</td>\n",
       "    </tr>\n",
       "    <tr>\n",
       "      <th>8</th>\n",
       "      <td>1</td>\n",
       "      <td>3412.690668</td>\n",
       "      <td>15.238072</td>\n",
       "      <td>2021-11-14</td>\n",
       "    </tr>\n",
       "    <tr>\n",
       "      <th>9</th>\n",
       "      <td>1</td>\n",
       "      <td>748.690645</td>\n",
       "      <td>15.041884</td>\n",
       "      <td>2021-11-22</td>\n",
       "    </tr>\n",
       "  </tbody>\n",
       "</table>\n",
       "</div>"
      ],
      "text/plain": [
       "   user_id     distance   duration        date\n",
       "0        1  4409.919140  25.599769  2021-01-01\n",
       "1        1  2617.592153  15.816871  2021-01-18\n",
       "2        1   754.159807   6.232113  2021-04-20\n",
       "3        1  2694.783254  18.511000  2021-08-11\n",
       "4        1  4028.687306  26.265803  2021-08-28\n",
       "5        1  2770.890808  16.650138  2021-10-09\n",
       "6        1  3039.020292  14.927879  2021-10-19\n",
       "7        1  2842.118050  23.117468  2021-11-06\n",
       "8        1  3412.690668  15.238072  2021-11-14\n",
       "9        1   748.690645  15.041884  2021-11-22"
      ]
     },
     "execution_count": 60,
     "metadata": {},
     "output_type": "execute_result"
    }
   ],
   "source": [
    "rides_go.head(10)"
   ]
  },
  {
   "cell_type": "code",
   "execution_count": 61,
   "id": "9ca30691",
   "metadata": {},
   "outputs": [
    {
     "name": "stdout",
     "output_type": "stream",
     "text": [
      "<class 'pandas.core.frame.DataFrame'>\n",
      "RangeIndex: 18068 entries, 0 to 18067\n",
      "Data columns (total 4 columns):\n",
      " #   Column    Non-Null Count  Dtype  \n",
      "---  ------    --------------  -----  \n",
      " 0   user_id   18068 non-null  int64  \n",
      " 1   distance  18068 non-null  float64\n",
      " 2   duration  18068 non-null  float64\n",
      " 3   date      18068 non-null  object \n",
      "dtypes: float64(2), int64(1), object(1)\n",
      "memory usage: 564.8+ KB\n"
     ]
    },
    {
     "data": {
      "text/plain": [
       "None"
      ]
     },
     "metadata": {},
     "output_type": "display_data"
    }
   ],
   "source": [
    "#посмотрим общую информацию о датафрейме rides_go:\n",
    "display(rides_go.info())"
   ]
  },
  {
   "cell_type": "code",
   "execution_count": 62,
   "id": "230bc748",
   "metadata": {},
   "outputs": [
    {
     "data": {
      "text/plain": [
       "user_id              0\n",
       "name                 0\n",
       "age                  0\n",
       "city                 0\n",
       "subscription_type    0\n",
       "dtype: int64"
      ]
     },
     "execution_count": 62,
     "metadata": {},
     "output_type": "execute_result"
    }
   ],
   "source": [
    "#посмотрим количество пропусков:\n",
    "users_go.isna().sum()"
   ]
  },
  {
   "cell_type": "code",
   "execution_count": 63,
   "id": "c4aba645",
   "metadata": {},
   "outputs": [
    {
     "data": {
      "text/plain": [
       "0"
      ]
     },
     "execution_count": 63,
     "metadata": {},
     "output_type": "execute_result"
    }
   ],
   "source": [
    "#посмотрим наличие явных дубликатов:\n",
    "users_go.duplicated().sum()"
   ]
  },
  {
   "cell_type": "markdown",
   "id": "abdd3035",
   "metadata": {},
   "source": [
    "Пропусков и явных дубликатов не обнаружено. Приведем столбец date к типу даты и создадим новый столбец с номером месяца."
   ]
  },
  {
   "cell_type": "code",
   "execution_count": 64,
   "id": "2b1353b2",
   "metadata": {},
   "outputs": [
    {
     "data": {
      "text/plain": [
       "'2021-01-01'"
      ]
     },
     "metadata": {},
     "output_type": "display_data"
    },
    {
     "data": {
      "text/plain": [
       "'2021-12-30'"
      ]
     },
     "metadata": {},
     "output_type": "display_data"
    }
   ],
   "source": [
    "#проверим, за какой период у нас представлены данные, если за один год, то можно просто добавить номера месяца:\n",
    "display(rides_go['date'].min())\n",
    "display(rides_go['date'].max())"
   ]
  },
  {
   "cell_type": "code",
   "execution_count": 65,
   "id": "055df0fd",
   "metadata": {},
   "outputs": [
    {
     "data": {
      "text/html": [
       "<div>\n",
       "<style scoped>\n",
       "    .dataframe tbody tr th:only-of-type {\n",
       "        vertical-align: middle;\n",
       "    }\n",
       "\n",
       "    .dataframe tbody tr th {\n",
       "        vertical-align: top;\n",
       "    }\n",
       "\n",
       "    .dataframe thead th {\n",
       "        text-align: right;\n",
       "    }\n",
       "</style>\n",
       "<table border=\"1\" class=\"dataframe\">\n",
       "  <thead>\n",
       "    <tr style=\"text-align: right;\">\n",
       "      <th></th>\n",
       "      <th>user_id</th>\n",
       "      <th>distance</th>\n",
       "      <th>duration</th>\n",
       "      <th>date</th>\n",
       "      <th>month</th>\n",
       "    </tr>\n",
       "  </thead>\n",
       "  <tbody>\n",
       "    <tr>\n",
       "      <th>0</th>\n",
       "      <td>1</td>\n",
       "      <td>4409.919140</td>\n",
       "      <td>25.599769</td>\n",
       "      <td>2021-01-01</td>\n",
       "      <td>1</td>\n",
       "    </tr>\n",
       "    <tr>\n",
       "      <th>1</th>\n",
       "      <td>1</td>\n",
       "      <td>2617.592153</td>\n",
       "      <td>15.816871</td>\n",
       "      <td>2021-01-18</td>\n",
       "      <td>1</td>\n",
       "    </tr>\n",
       "    <tr>\n",
       "      <th>2</th>\n",
       "      <td>1</td>\n",
       "      <td>754.159807</td>\n",
       "      <td>6.232113</td>\n",
       "      <td>2021-04-20</td>\n",
       "      <td>4</td>\n",
       "    </tr>\n",
       "    <tr>\n",
       "      <th>3</th>\n",
       "      <td>1</td>\n",
       "      <td>2694.783254</td>\n",
       "      <td>18.511000</td>\n",
       "      <td>2021-08-11</td>\n",
       "      <td>8</td>\n",
       "    </tr>\n",
       "    <tr>\n",
       "      <th>4</th>\n",
       "      <td>1</td>\n",
       "      <td>4028.687306</td>\n",
       "      <td>26.265803</td>\n",
       "      <td>2021-08-28</td>\n",
       "      <td>8</td>\n",
       "    </tr>\n",
       "  </tbody>\n",
       "</table>\n",
       "</div>"
      ],
      "text/plain": [
       "   user_id     distance   duration       date  month\n",
       "0        1  4409.919140  25.599769 2021-01-01      1\n",
       "1        1  2617.592153  15.816871 2021-01-18      1\n",
       "2        1   754.159807   6.232113 2021-04-20      4\n",
       "3        1  2694.783254  18.511000 2021-08-11      8\n",
       "4        1  4028.687306  26.265803 2021-08-28      8"
      ]
     },
     "metadata": {},
     "output_type": "display_data"
    }
   ],
   "source": [
    "#так как данные только за 2021 год,то номер месяца можно взять по месяцу из даты:\n",
    "rides_go['date'] = pd.to_datetime(rides_go['date'], format='%Y-%m-%d')\n",
    "rides_go['month'] = rides_go['date'].dt.month\n",
    "display(rides_go.head(5))"
   ]
  },
  {
   "cell_type": "markdown",
   "id": "6740166d",
   "metadata": {},
   "source": [
    "<div class=\"alert alert-warning\">\n",
    "<h2> Комментарий ревьюера V1<a class=\"tocSkip\"> </h2>\n",
    "\n",
    "<b>Некоторые замечания и рекомендации💡:</b> Перед тем, как создать столбец с номером месяца можно было рассмотреть за какой период представлены данные, если там один год, то можно смело создавать столбец, если несколько лет, то возникает вопрос, достаточно ли только столбца с номером месяца или нужно добавить еще столбец с годом."
   ]
  },
  {
   "cell_type": "markdown",
   "id": "835f62b0",
   "metadata": {},
   "source": [
    "Мой комментарий: Добавила."
   ]
  },
  {
   "cell_type": "markdown",
   "id": "c13e3de3",
   "metadata": {},
   "source": [
    "##### Посмотрим информацию по первому датафрейму subscriptions_go, проверим наличие пропусков и явных дубликатов"
   ]
  },
  {
   "cell_type": "code",
   "execution_count": 66,
   "id": "5039f277",
   "metadata": {},
   "outputs": [
    {
     "data": {
      "text/html": [
       "<div>\n",
       "<style scoped>\n",
       "    .dataframe tbody tr th:only-of-type {\n",
       "        vertical-align: middle;\n",
       "    }\n",
       "\n",
       "    .dataframe tbody tr th {\n",
       "        vertical-align: top;\n",
       "    }\n",
       "\n",
       "    .dataframe thead th {\n",
       "        text-align: right;\n",
       "    }\n",
       "</style>\n",
       "<table border=\"1\" class=\"dataframe\">\n",
       "  <thead>\n",
       "    <tr style=\"text-align: right;\">\n",
       "      <th></th>\n",
       "      <th>subscription_type</th>\n",
       "      <th>minute_price</th>\n",
       "      <th>start_ride_price</th>\n",
       "      <th>subscription_fee</th>\n",
       "    </tr>\n",
       "  </thead>\n",
       "  <tbody>\n",
       "    <tr>\n",
       "      <th>0</th>\n",
       "      <td>free</td>\n",
       "      <td>8</td>\n",
       "      <td>50</td>\n",
       "      <td>0</td>\n",
       "    </tr>\n",
       "    <tr>\n",
       "      <th>1</th>\n",
       "      <td>ultra</td>\n",
       "      <td>6</td>\n",
       "      <td>0</td>\n",
       "      <td>199</td>\n",
       "    </tr>\n",
       "  </tbody>\n",
       "</table>\n",
       "</div>"
      ],
      "text/plain": [
       "  subscription_type  minute_price  start_ride_price  subscription_fee\n",
       "0              free             8                50                 0\n",
       "1             ultra             6                 0               199"
      ]
     },
     "execution_count": 66,
     "metadata": {},
     "output_type": "execute_result"
    }
   ],
   "source": [
    "subscriptions_go.head(5)"
   ]
  },
  {
   "cell_type": "code",
   "execution_count": 67,
   "id": "688aea31",
   "metadata": {},
   "outputs": [
    {
     "name": "stdout",
     "output_type": "stream",
     "text": [
      "<class 'pandas.core.frame.DataFrame'>\n",
      "RangeIndex: 2 entries, 0 to 1\n",
      "Data columns (total 4 columns):\n",
      " #   Column             Non-Null Count  Dtype \n",
      "---  ------             --------------  ----- \n",
      " 0   subscription_type  2 non-null      object\n",
      " 1   minute_price       2 non-null      int64 \n",
      " 2   start_ride_price   2 non-null      int64 \n",
      " 3   subscription_fee   2 non-null      int64 \n",
      "dtypes: int64(3), object(1)\n",
      "memory usage: 192.0+ bytes\n"
     ]
    },
    {
     "data": {
      "text/plain": [
       "None"
      ]
     },
     "metadata": {},
     "output_type": "display_data"
    }
   ],
   "source": [
    "#посмотрим общую информацию о датафрейме subscriptions_go:\n",
    "display(subscriptions_go.info())"
   ]
  },
  {
   "cell_type": "code",
   "execution_count": 68,
   "id": "ee73b4a4",
   "metadata": {},
   "outputs": [
    {
     "data": {
      "text/plain": [
       "subscription_type    0\n",
       "minute_price         0\n",
       "start_ride_price     0\n",
       "subscription_fee     0\n",
       "dtype: int64"
      ]
     },
     "execution_count": 68,
     "metadata": {},
     "output_type": "execute_result"
    }
   ],
   "source": [
    "#посмотрим количество пропусков:\n",
    "subscriptions_go.isna().sum()"
   ]
  },
  {
   "cell_type": "code",
   "execution_count": 69,
   "id": "ca07f6a8",
   "metadata": {},
   "outputs": [
    {
     "data": {
      "text/plain": [
       "0"
      ]
     },
     "execution_count": 69,
     "metadata": {},
     "output_type": "execute_result"
    }
   ],
   "source": [
    "#посмотрим наличие явных дубликатов:\n",
    "subscriptions_go.duplicated().sum()"
   ]
  },
  {
   "cell_type": "markdown",
   "id": "10d192b9",
   "metadata": {},
   "source": [
    "В датафрейме subscriptions_go пропусков и дубликатов нет, формат данных правильный."
   ]
  },
  {
   "cell_type": "markdown",
   "id": "9420c941",
   "metadata": {},
   "source": [
    "Итак, на данном этапе мы загрузили данные, посмотрели общую информацию о них, устранили явные дубликаты, проверили наличие пропусков, привели дату в формат datetime и создали столбец с номером месяца."
   ]
  },
  {
   "cell_type": "markdown",
   "id": "1e4fc7b8",
   "metadata": {},
   "source": [
    "<div class=\"alert alert-success\">\n",
    "<h2> Комментарий ревьюера V1<a class=\"tocSkip\"> </h2>\n",
    "\n",
    "<b>Все отлично!👍:</b> Данные рассмотрела и обработала верно, молодец!"
   ]
  },
  {
   "cell_type": "markdown",
   "id": "212593c7",
   "metadata": {},
   "source": [
    "#### Исследовательский анализ данных - опишем и визуализируем общую информацию о пользователях и поездках"
   ]
  },
  {
   "cell_type": "markdown",
   "id": "67f07a4b",
   "metadata": {},
   "source": [
    "##### Частота встречаемости городов"
   ]
  },
  {
   "cell_type": "code",
   "execution_count": 70,
   "id": "e3a4274c",
   "metadata": {},
   "outputs": [
    {
     "data": {
      "image/png": "[encoded data removed]",
      "text/plain": [
       "<Figure size 720x360 with 1 Axes>"
      ]
     },
     "metadata": {
      "needs_background": "light"
     },
     "output_type": "display_data"
    }
   ],
   "source": [
    "cities = users_go['city'].value_counts().sort_values(ascending=True).plot(kind='barh',grid=True, figsize=(10,5))\n",
    "plt.title('Количество пользователей по городам')\n",
    "plt.ylabel('Город')\n",
    "plt.xlabel('Кол-во пользователей')\n",
    "plt.show()"
   ]
  },
  {
   "cell_type": "markdown",
   "id": "fa453977",
   "metadata": {},
   "source": [
    "По графику видим, что максимальное число пользователей сервиса зарегистрировано в Пятигорске, затем Екатеринбург и снова несколько южных городов - Ростов-на-Дону, Краснодар, Сочи. Возможно, это связано с более длинным теплым сезоном в южных городах, а Екатеринбург - быстро развивающийся город с довольно нагруженным трафиком. Москва лишь на 8 месте, это связано, видимо, с тем, что по большому городу не очень удобно передвигаться на самокате, так как расстояния большие."
   ]
  },
  {
   "cell_type": "markdown",
   "id": "924450f7",
   "metadata": {},
   "source": [
    "<div class=\"alert alert-success\">\n",
    "<h2> Комментарий ревьюера V1<a class=\"tocSkip\"> </h2>\n",
    "\n",
    "<b>Все отлично!👍:</b> Правильно построила диаграмму и описала данные."
   ]
  },
  {
   "cell_type": "markdown",
   "id": "cfadfadc",
   "metadata": {},
   "source": [
    "##### Соотношение пользователей с подпиской и без"
   ]
  },
  {
   "cell_type": "code",
   "execution_count": 71,
   "id": "9b3f2b30",
   "metadata": {},
   "outputs": [
    {
     "data": {
      "image/png": "[encoded data removed]",
      "text/plain": [
       "<Figure size 720x360 with 1 Axes>"
      ]
     },
     "metadata": {},
     "output_type": "display_data"
    }
   ],
   "source": [
    "sub = users_go['subscription_type'].value_counts().plot(kind='pie', autopct='%1.2f%%',figsize=(10,5))\n",
    "plt.title('Соотношение пользователей с подпиской и без')\n",
    "plt.show()"
   ]
  },
  {
   "cell_type": "markdown",
   "id": "07abcda5",
   "metadata": {},
   "source": [
    "Мы видим, что пользователей без подписки (free) 54,06%, то есть больше половины. Возможно, это люди, которые пользуются сервисом разово, а не постоянно, либо просто не знают про выгоды подписки."
   ]
  },
  {
   "cell_type": "markdown",
   "id": "bfb4c912",
   "metadata": {},
   "source": [
    "<div class=\"alert alert-success\">\n",
    "<h2> Комментарий ревьюера V1<a class=\"tocSkip\"> </h2>\n",
    "\n",
    "<b>Все отлично!👍:</b> Все так, верно"
   ]
  },
  {
   "cell_type": "markdown",
   "id": "70c68856",
   "metadata": {},
   "source": [
    "##### Возраст пользователей"
   ]
  },
  {
   "cell_type": "code",
   "execution_count": 72,
   "id": "be9919f8",
   "metadata": {},
   "outputs": [
    {
     "data": {
      "text/plain": [
       "24.903520208604956"
      ]
     },
     "metadata": {},
     "output_type": "display_data"
    }
   ],
   "source": [
    "#Посмотрим средний возраст пользователей:\n",
    "display(users_go['age'].mean())"
   ]
  },
  {
   "cell_type": "code",
   "execution_count": 73,
   "id": "e80fdd37",
   "metadata": {},
   "outputs": [
    {
     "data": {
      "image/png": "[encoded data removed]",
      "text/plain": [
       "<Figure size 720x360 with 1 Axes>"
      ]
     },
     "metadata": {
      "needs_background": "light"
     },
     "output_type": "display_data"
    }
   ],
   "source": [
    "age = users_go['age'].hist(figsize=(10,5), grid=True,bins=10)\n",
    "plt.title('Количество пользователей по возрастам')\n",
    "plt.ylabel('Кол-во пользователей')\n",
    "plt.xlabel('Возраст')\n",
    "plt.show()"
   ]
  },
  {
   "cell_type": "markdown",
   "id": "aef7726d",
   "metadata": {},
   "source": [
    "Средний возраст пользователей - 24,9 лет,что видно и на графике тоже, самые большие возрастные группы пользователей от 15 до 35 лет, очевидно, что самокаты очень популярны у молодых людей."
   ]
  },
  {
   "cell_type": "markdown",
   "id": "feda9268",
   "metadata": {},
   "source": [
    "<div class=\"alert alert-success\">\n",
    "<h2> Комментарий ревьюера V1<a class=\"tocSkip\"> </h2>\n",
    "\n",
    "<b>Все отлично!👍:</b> Именно так, средний возраст пользователя почти 25 лет."
   ]
  },
  {
   "cell_type": "markdown",
   "id": "ff91904f",
   "metadata": {},
   "source": [
    "##### Расстояние, которое пользователь преодолел за одну поездку"
   ]
  },
  {
   "cell_type": "code",
   "execution_count": 74,
   "id": "3a62be21",
   "metadata": {},
   "outputs": [
    {
     "data": {
      "image/png": "[encoded data removed]",
      "text/plain": [
       "<Figure size 720x360 with 1 Axes>"
      ]
     },
     "metadata": {
      "needs_background": "light"
     },
     "output_type": "display_data"
    }
   ],
   "source": [
    "distance = rides_go['distance'].hist(figsize=(10,5), grid=True,bins=100)\n",
    "plt.title('Дистанция одной поездки')\n",
    "plt.ylabel('Кол-во поездок')\n",
    "plt.xlabel('Дистанция, м.')\n",
    "plt.show()"
   ]
  },
  {
   "cell_type": "markdown",
   "id": "809c5546",
   "metadata": {},
   "source": [
    "По графику видим, что медиана поездок около 3,1 км. за сеанс. "
   ]
  },
  {
   "cell_type": "markdown",
   "id": "a0ef115b",
   "metadata": {},
   "source": [
    "<div class=\"alert alert-block alert-danger\">\n",
    "<h2> Комментарий ревьюера V1<a class=\"tocSkip\"></h2>\n",
    "\n",
    "\n",
    "<b>На доработку🤔:</b>\n",
    "Некорректно здесь писать \"в среднем\", это пик, не обязательно он будет средним арифметическим. К тому же есть локальный максимум до 1000 метров, ты никак это не отметила, стоит на это обратить внимание. Предположи с чем это может быть связано."
   ]
  },
  {
   "cell_type": "markdown",
   "id": "4d266471",
   "metadata": {},
   "source": [
    "Мой коммпентарий: не понятие \"среднее\", а медиану лучше использовать.\n",
    "Также видим локальный максимум на значении до 1000 м, а пик приходится на значение около 700 метров, что может быть связано с тем, что многие используют самокат, чтобы доехать от работы/дома дло метро, а это как раз до 1000 км, как правило, для дистанции больше удобнее уже пользоваться общественным транспортом."
   ]
  },
  {
   "cell_type": "markdown",
   "id": "2498d510",
   "metadata": {},
   "source": [
    "<div class=\"alert alert-success\">\n",
    "<h2> Комментарий ревьюера V2<a class=\"tocSkip\"> </h2>\n",
    "\n",
    "<b>Все отлично!👍:</b> Да, все верно, молодец!"
   ]
  },
  {
   "cell_type": "markdown",
   "id": "bdd1f5ad",
   "metadata": {},
   "source": [
    "##### Продолжительность поездок"
   ]
  },
  {
   "cell_type": "code",
   "execution_count": 75,
   "id": "2d5efa9c",
   "metadata": {},
   "outputs": [
    {
     "data": {
      "image/png": "[encoded data removed]",
      "text/plain": [
       "<Figure size 720x360 with 1 Axes>"
      ]
     },
     "metadata": {
      "needs_background": "light"
     },
     "output_type": "display_data"
    }
   ],
   "source": [
    "durations = rides_go['duration'].hist(figsize=(10,5), grid=True,bins=50)\n",
    "plt.title('Продолжительность поездок')\n",
    "plt.ylabel('Кол-во поездок')\n",
    "plt.xlabel('Продолжительность поездок, мин.')\n",
    "plt.show()"
   ]
  },
  {
   "cell_type": "markdown",
   "id": "65294644",
   "metadata": {},
   "source": [
    "По графику видим, что среднее время одной поездки 15-25 минут, этого как раз достаточно чтобы проехать около 3 км."
   ]
  },
  {
   "cell_type": "markdown",
   "id": "4925fd93",
   "metadata": {},
   "source": [
    "<div class=\"alert alert-success\">\n",
    "<h2> Комментарий ревьюера V1<a class=\"tocSkip\"> </h2>\n",
    "\n",
    "<b>Все отлично!👍:</b> Здесь все правильно."
   ]
  },
  {
   "cell_type": "markdown",
   "id": "9ff44c16",
   "metadata": {},
   "source": [
    "Вывод. В этом разделе мы провели исследовательский анализ данных - описали и визуализировали общую информацию о пользователях и поездках. \n",
    "А именно, мы посмотрели в каких городах зарегистрировано больше всего пользователей - Пятигорске, Екатеринбурге, Ростове-на-Дону. Москва не в лидирующих позициях, так как по небольшим городам передвигаться на самокатах значительно удобнее.\n",
    "Установили, что пользователей без подписки 54,06%, то есть больше половины. Возможно, это люди, которые пользуются сервисом разово, а не постоянно, либо просто не знают про выгоды подписки.\n",
    "Средний возраст пользователей сервиса - около 25 лет, в целом, больше всего пользователей от 15 до 35 лет, это свзано с тем, что самокатами пользуются молодые люди.\n",
    "Посмотрели дистанцию одной поездки и увидели, что в среднем одна поездка около 3 км. за сеанс.\n",
    "А среднее время одной поездки 15-25 минут, чего как раз достаточно для преодоления средней дистанции в 3 км."
   ]
  },
  {
   "cell_type": "markdown",
   "id": "4ef51331",
   "metadata": {},
   "source": [
    "#### Объединение данных"
   ]
  },
  {
   "cell_type": "markdown",
   "id": "d9770402",
   "metadata": {},
   "source": [
    "##### Объединение трех таблиц с данными"
   ]
  },
  {
   "cell_type": "code",
   "execution_count": 76,
   "id": "6bf288b5",
   "metadata": {},
   "outputs": [
    {
     "data": {
      "text/html": [
       "<div>\n",
       "<style scoped>\n",
       "    .dataframe tbody tr th:only-of-type {\n",
       "        vertical-align: middle;\n",
       "    }\n",
       "\n",
       "    .dataframe tbody tr th {\n",
       "        vertical-align: top;\n",
       "    }\n",
       "\n",
       "    .dataframe thead th {\n",
       "        text-align: right;\n",
       "    }\n",
       "</style>\n",
       "<table border=\"1\" class=\"dataframe\">\n",
       "  <thead>\n",
       "    <tr style=\"text-align: right;\">\n",
       "      <th></th>\n",
       "      <th>user_id</th>\n",
       "      <th>name</th>\n",
       "      <th>age</th>\n",
       "      <th>city</th>\n",
       "      <th>subscription_type</th>\n",
       "      <th>distance</th>\n",
       "      <th>duration</th>\n",
       "      <th>date</th>\n",
       "      <th>month</th>\n",
       "    </tr>\n",
       "  </thead>\n",
       "  <tbody>\n",
       "    <tr>\n",
       "      <th>0</th>\n",
       "      <td>1</td>\n",
       "      <td>Кира</td>\n",
       "      <td>22</td>\n",
       "      <td>Тюмень</td>\n",
       "      <td>ultra</td>\n",
       "      <td>4409.919140</td>\n",
       "      <td>25.599769</td>\n",
       "      <td>2021-01-01</td>\n",
       "      <td>1</td>\n",
       "    </tr>\n",
       "    <tr>\n",
       "      <th>1</th>\n",
       "      <td>1</td>\n",
       "      <td>Кира</td>\n",
       "      <td>22</td>\n",
       "      <td>Тюмень</td>\n",
       "      <td>ultra</td>\n",
       "      <td>2617.592153</td>\n",
       "      <td>15.816871</td>\n",
       "      <td>2021-01-18</td>\n",
       "      <td>1</td>\n",
       "    </tr>\n",
       "    <tr>\n",
       "      <th>2</th>\n",
       "      <td>1</td>\n",
       "      <td>Кира</td>\n",
       "      <td>22</td>\n",
       "      <td>Тюмень</td>\n",
       "      <td>ultra</td>\n",
       "      <td>754.159807</td>\n",
       "      <td>6.232113</td>\n",
       "      <td>2021-04-20</td>\n",
       "      <td>4</td>\n",
       "    </tr>\n",
       "    <tr>\n",
       "      <th>3</th>\n",
       "      <td>1</td>\n",
       "      <td>Кира</td>\n",
       "      <td>22</td>\n",
       "      <td>Тюмень</td>\n",
       "      <td>ultra</td>\n",
       "      <td>2694.783254</td>\n",
       "      <td>18.511000</td>\n",
       "      <td>2021-08-11</td>\n",
       "      <td>8</td>\n",
       "    </tr>\n",
       "    <tr>\n",
       "      <th>4</th>\n",
       "      <td>1</td>\n",
       "      <td>Кира</td>\n",
       "      <td>22</td>\n",
       "      <td>Тюмень</td>\n",
       "      <td>ultra</td>\n",
       "      <td>4028.687306</td>\n",
       "      <td>26.265803</td>\n",
       "      <td>2021-08-28</td>\n",
       "      <td>8</td>\n",
       "    </tr>\n",
       "  </tbody>\n",
       "</table>\n",
       "</div>"
      ],
      "text/plain": [
       "   user_id  name  age    city subscription_type     distance   duration  \\\n",
       "0        1  Кира   22  Тюмень             ultra  4409.919140  25.599769   \n",
       "1        1  Кира   22  Тюмень             ultra  2617.592153  15.816871   \n",
       "2        1  Кира   22  Тюмень             ultra   754.159807   6.232113   \n",
       "3        1  Кира   22  Тюмень             ultra  2694.783254  18.511000   \n",
       "4        1  Кира   22  Тюмень             ultra  4028.687306  26.265803   \n",
       "\n",
       "        date  month  \n",
       "0 2021-01-01      1  \n",
       "1 2021-01-18      1  \n",
       "2 2021-04-20      4  \n",
       "3 2021-08-11      8  \n",
       "4 2021-08-28      8  "
      ]
     },
     "metadata": {},
     "output_type": "display_data"
    }
   ],
   "source": [
    "#объединим наши датафреймы:\n",
    "total = users_go.merge(rides_go)\n",
    "display(total.head(5))"
   ]
  },
  {
   "cell_type": "code",
   "execution_count": 77,
   "id": "86775980",
   "metadata": {},
   "outputs": [
    {
     "data": {
      "text/html": [
       "<div>\n",
       "<style scoped>\n",
       "    .dataframe tbody tr th:only-of-type {\n",
       "        vertical-align: middle;\n",
       "    }\n",
       "\n",
       "    .dataframe tbody tr th {\n",
       "        vertical-align: top;\n",
       "    }\n",
       "\n",
       "    .dataframe thead th {\n",
       "        text-align: right;\n",
       "    }\n",
       "</style>\n",
       "<table border=\"1\" class=\"dataframe\">\n",
       "  <thead>\n",
       "    <tr style=\"text-align: right;\">\n",
       "      <th></th>\n",
       "      <th>user_id</th>\n",
       "      <th>name</th>\n",
       "      <th>age</th>\n",
       "      <th>city</th>\n",
       "      <th>subscription_type</th>\n",
       "      <th>distance</th>\n",
       "      <th>duration</th>\n",
       "      <th>date</th>\n",
       "      <th>month</th>\n",
       "      <th>minute_price</th>\n",
       "      <th>start_ride_price</th>\n",
       "      <th>subscription_fee</th>\n",
       "    </tr>\n",
       "  </thead>\n",
       "  <tbody>\n",
       "    <tr>\n",
       "      <th>0</th>\n",
       "      <td>1</td>\n",
       "      <td>Кира</td>\n",
       "      <td>22</td>\n",
       "      <td>Тюмень</td>\n",
       "      <td>ultra</td>\n",
       "      <td>4409.919140</td>\n",
       "      <td>25.599769</td>\n",
       "      <td>2021-01-01</td>\n",
       "      <td>1</td>\n",
       "      <td>6</td>\n",
       "      <td>0</td>\n",
       "      <td>199</td>\n",
       "    </tr>\n",
       "    <tr>\n",
       "      <th>1</th>\n",
       "      <td>1</td>\n",
       "      <td>Кира</td>\n",
       "      <td>22</td>\n",
       "      <td>Тюмень</td>\n",
       "      <td>ultra</td>\n",
       "      <td>2617.592153</td>\n",
       "      <td>15.816871</td>\n",
       "      <td>2021-01-18</td>\n",
       "      <td>1</td>\n",
       "      <td>6</td>\n",
       "      <td>0</td>\n",
       "      <td>199</td>\n",
       "    </tr>\n",
       "    <tr>\n",
       "      <th>2</th>\n",
       "      <td>1</td>\n",
       "      <td>Кира</td>\n",
       "      <td>22</td>\n",
       "      <td>Тюмень</td>\n",
       "      <td>ultra</td>\n",
       "      <td>754.159807</td>\n",
       "      <td>6.232113</td>\n",
       "      <td>2021-04-20</td>\n",
       "      <td>4</td>\n",
       "      <td>6</td>\n",
       "      <td>0</td>\n",
       "      <td>199</td>\n",
       "    </tr>\n",
       "    <tr>\n",
       "      <th>3</th>\n",
       "      <td>1</td>\n",
       "      <td>Кира</td>\n",
       "      <td>22</td>\n",
       "      <td>Тюмень</td>\n",
       "      <td>ultra</td>\n",
       "      <td>2694.783254</td>\n",
       "      <td>18.511000</td>\n",
       "      <td>2021-08-11</td>\n",
       "      <td>8</td>\n",
       "      <td>6</td>\n",
       "      <td>0</td>\n",
       "      <td>199</td>\n",
       "    </tr>\n",
       "    <tr>\n",
       "      <th>4</th>\n",
       "      <td>1</td>\n",
       "      <td>Кира</td>\n",
       "      <td>22</td>\n",
       "      <td>Тюмень</td>\n",
       "      <td>ultra</td>\n",
       "      <td>4028.687306</td>\n",
       "      <td>26.265803</td>\n",
       "      <td>2021-08-28</td>\n",
       "      <td>8</td>\n",
       "      <td>6</td>\n",
       "      <td>0</td>\n",
       "      <td>199</td>\n",
       "    </tr>\n",
       "  </tbody>\n",
       "</table>\n",
       "</div>"
      ],
      "text/plain": [
       "   user_id  name  age    city subscription_type     distance   duration  \\\n",
       "0        1  Кира   22  Тюмень             ultra  4409.919140  25.599769   \n",
       "1        1  Кира   22  Тюмень             ultra  2617.592153  15.816871   \n",
       "2        1  Кира   22  Тюмень             ultra   754.159807   6.232113   \n",
       "3        1  Кира   22  Тюмень             ultra  2694.783254  18.511000   \n",
       "4        1  Кира   22  Тюмень             ultra  4028.687306  26.265803   \n",
       "\n",
       "        date  month  minute_price  start_ride_price  subscription_fee  \n",
       "0 2021-01-01      1             6                 0               199  \n",
       "1 2021-01-18      1             6                 0               199  \n",
       "2 2021-04-20      4             6                 0               199  \n",
       "3 2021-08-11      8             6                 0               199  \n",
       "4 2021-08-28      8             6                 0               199  "
      ]
     },
     "metadata": {},
     "output_type": "display_data"
    }
   ],
   "source": [
    "total = total.merge(subscriptions_go)\n",
    "display(total.head(5))"
   ]
  },
  {
   "cell_type": "code",
   "execution_count": 78,
   "id": "b5e0793f",
   "metadata": {},
   "outputs": [
    {
     "name": "stdout",
     "output_type": "stream",
     "text": [
      "<class 'pandas.core.frame.DataFrame'>\n",
      "Int64Index: 18068 entries, 0 to 18067\n",
      "Data columns (total 12 columns):\n",
      " #   Column             Non-Null Count  Dtype         \n",
      "---  ------             --------------  -----         \n",
      " 0   user_id            18068 non-null  int64         \n",
      " 1   name               18068 non-null  object        \n",
      " 2   age                18068 non-null  int64         \n",
      " 3   city               18068 non-null  object        \n",
      " 4   subscription_type  18068 non-null  object        \n",
      " 5   distance           18068 non-null  float64       \n",
      " 6   duration           18068 non-null  float64       \n",
      " 7   date               18068 non-null  datetime64[ns]\n",
      " 8   month              18068 non-null  int64         \n",
      " 9   minute_price       18068 non-null  int64         \n",
      " 10  start_ride_price   18068 non-null  int64         \n",
      " 11  subscription_fee   18068 non-null  int64         \n",
      "dtypes: datetime64[ns](1), float64(2), int64(6), object(3)\n",
      "memory usage: 1.8+ MB\n"
     ]
    }
   ],
   "source": [
    "total.info()"
   ]
  },
  {
   "cell_type": "markdown",
   "id": "6e1eb93a",
   "metadata": {},
   "source": [
    "Объединение датафреймов прошло успешно. Создадим еще два датафрейма - данные о пользователях без подписки и данные с пользователями с подпиской, а также проанализируем данные о расстоянии и времени поездок для этих категорий."
   ]
  },
  {
   "cell_type": "markdown",
   "id": "4557060e",
   "metadata": {},
   "source": [
    "##### Данные о пользователях без подписки"
   ]
  },
  {
   "cell_type": "code",
   "execution_count": 79,
   "id": "5f498ca9",
   "metadata": {},
   "outputs": [
    {
     "data": {
      "text/html": [
       "<div>\n",
       "<style scoped>\n",
       "    .dataframe tbody tr th:only-of-type {\n",
       "        vertical-align: middle;\n",
       "    }\n",
       "\n",
       "    .dataframe tbody tr th {\n",
       "        vertical-align: top;\n",
       "    }\n",
       "\n",
       "    .dataframe thead th {\n",
       "        text-align: right;\n",
       "    }\n",
       "</style>\n",
       "<table border=\"1\" class=\"dataframe\">\n",
       "  <thead>\n",
       "    <tr style=\"text-align: right;\">\n",
       "      <th></th>\n",
       "      <th>user_id</th>\n",
       "      <th>name</th>\n",
       "      <th>age</th>\n",
       "      <th>city</th>\n",
       "      <th>subscription_type</th>\n",
       "      <th>distance</th>\n",
       "      <th>duration</th>\n",
       "      <th>date</th>\n",
       "      <th>month</th>\n",
       "      <th>minute_price</th>\n",
       "      <th>start_ride_price</th>\n",
       "      <th>subscription_fee</th>\n",
       "    </tr>\n",
       "  </thead>\n",
       "  <tbody>\n",
       "    <tr>\n",
       "      <th>6500</th>\n",
       "      <td>700</td>\n",
       "      <td>Айдар</td>\n",
       "      <td>22</td>\n",
       "      <td>Омск</td>\n",
       "      <td>free</td>\n",
       "      <td>2515.690719</td>\n",
       "      <td>14.944286</td>\n",
       "      <td>2021-01-02</td>\n",
       "      <td>1</td>\n",
       "      <td>8</td>\n",
       "      <td>50</td>\n",
       "      <td>0</td>\n",
       "    </tr>\n",
       "    <tr>\n",
       "      <th>6501</th>\n",
       "      <td>700</td>\n",
       "      <td>Айдар</td>\n",
       "      <td>22</td>\n",
       "      <td>Омск</td>\n",
       "      <td>free</td>\n",
       "      <td>846.932642</td>\n",
       "      <td>16.234663</td>\n",
       "      <td>2021-02-01</td>\n",
       "      <td>2</td>\n",
       "      <td>8</td>\n",
       "      <td>50</td>\n",
       "      <td>0</td>\n",
       "    </tr>\n",
       "    <tr>\n",
       "      <th>6502</th>\n",
       "      <td>700</td>\n",
       "      <td>Айдар</td>\n",
       "      <td>22</td>\n",
       "      <td>Омск</td>\n",
       "      <td>free</td>\n",
       "      <td>4004.434142</td>\n",
       "      <td>20.016628</td>\n",
       "      <td>2021-02-04</td>\n",
       "      <td>2</td>\n",
       "      <td>8</td>\n",
       "      <td>50</td>\n",
       "      <td>0</td>\n",
       "    </tr>\n",
       "    <tr>\n",
       "      <th>6503</th>\n",
       "      <td>700</td>\n",
       "      <td>Айдар</td>\n",
       "      <td>22</td>\n",
       "      <td>Омск</td>\n",
       "      <td>free</td>\n",
       "      <td>1205.911290</td>\n",
       "      <td>9.782872</td>\n",
       "      <td>2021-02-10</td>\n",
       "      <td>2</td>\n",
       "      <td>8</td>\n",
       "      <td>50</td>\n",
       "      <td>0</td>\n",
       "    </tr>\n",
       "    <tr>\n",
       "      <th>6504</th>\n",
       "      <td>700</td>\n",
       "      <td>Айдар</td>\n",
       "      <td>22</td>\n",
       "      <td>Омск</td>\n",
       "      <td>free</td>\n",
       "      <td>3047.379435</td>\n",
       "      <td>17.427673</td>\n",
       "      <td>2021-02-14</td>\n",
       "      <td>2</td>\n",
       "      <td>8</td>\n",
       "      <td>50</td>\n",
       "      <td>0</td>\n",
       "    </tr>\n",
       "  </tbody>\n",
       "</table>\n",
       "</div>"
      ],
      "text/plain": [
       "      user_id   name  age  city subscription_type     distance   duration  \\\n",
       "6500      700  Айдар   22  Омск              free  2515.690719  14.944286   \n",
       "6501      700  Айдар   22  Омск              free   846.932642  16.234663   \n",
       "6502      700  Айдар   22  Омск              free  4004.434142  20.016628   \n",
       "6503      700  Айдар   22  Омск              free  1205.911290   9.782872   \n",
       "6504      700  Айдар   22  Омск              free  3047.379435  17.427673   \n",
       "\n",
       "           date  month  minute_price  start_ride_price  subscription_fee  \n",
       "6500 2021-01-02      1             8                50                 0  \n",
       "6501 2021-02-01      2             8                50                 0  \n",
       "6502 2021-02-04      2             8                50                 0  \n",
       "6503 2021-02-10      2             8                50                 0  \n",
       "6504 2021-02-14      2             8                50                 0  "
      ]
     },
     "metadata": {},
     "output_type": "display_data"
    }
   ],
   "source": [
    "#датафрейм с данными о пользователях без подписки:\n",
    "without_sub = total.query('subscription_type==\"free\"')\n",
    "display(without_sub.head(5))"
   ]
  },
  {
   "cell_type": "code",
   "execution_count": 80,
   "id": "4649ea4e",
   "metadata": {},
   "outputs": [
    {
     "data": {
      "image/png": "[encoded data removed]",
      "text/plain": [
       "<Figure size 720x360 with 1 Axes>"
      ]
     },
     "metadata": {
      "needs_background": "light"
     },
     "output_type": "display_data"
    }
   ],
   "source": [
    "#посмотрим график зависимости расстояния от числа пользователей без подписки:\n",
    "d_without_s = without_sub.plot(kind='hist', y='distance',figsize=(10,5), grid=True,bins=50)\n",
    "plt.title('Дистанция поездок на бесплатном тарифе')\n",
    "plt.ylabel('Кол-во поездок')\n",
    "plt.xlabel('Дистанция поездок, м.')\n",
    "plt.show()"
   ]
  },
  {
   "cell_type": "code",
   "execution_count": 81,
   "id": "cf745476",
   "metadata": {},
   "outputs": [
    {
     "data": {
      "image/png": "[encoded data removed]",
      "text/plain": [
       "<Figure size 720x360 with 1 Axes>"
      ]
     },
     "metadata": {
      "needs_background": "light"
     },
     "output_type": "display_data"
    }
   ],
   "source": [
    "#посмотрим график зависимости времени поездки от числа пользователей без подписки:\n",
    "d_without_s = without_sub.plot(kind='hist', y='duration',figsize=(10,5), grid=True,bins=50)\n",
    "plt.title('Продолжительность поездок на бесплатном тарифе')\n",
    "plt.ylabel('Кол-во поездок')\n",
    "plt.xlabel('Время поездок, мин.')\n",
    "plt.show()"
   ]
  },
  {
   "cell_type": "markdown",
   "id": "8c72e593",
   "metadata": {},
   "source": [
    "Видим по этим двум графикам, что для бесплатного тарифа наиболее часто встречаются поездки длиной от 2 до 4,5 км, длящиеся от 10 до 25 минут."
   ]
  },
  {
   "cell_type": "markdown",
   "id": "f30ced5b",
   "metadata": {},
   "source": [
    "##### Данные о пользователях с подпиской"
   ]
  },
  {
   "cell_type": "code",
   "execution_count": 82,
   "id": "882e956e",
   "metadata": {},
   "outputs": [
    {
     "data": {
      "text/html": [
       "<div>\n",
       "<style scoped>\n",
       "    .dataframe tbody tr th:only-of-type {\n",
       "        vertical-align: middle;\n",
       "    }\n",
       "\n",
       "    .dataframe tbody tr th {\n",
       "        vertical-align: top;\n",
       "    }\n",
       "\n",
       "    .dataframe thead th {\n",
       "        text-align: right;\n",
       "    }\n",
       "</style>\n",
       "<table border=\"1\" class=\"dataframe\">\n",
       "  <thead>\n",
       "    <tr style=\"text-align: right;\">\n",
       "      <th></th>\n",
       "      <th>user_id</th>\n",
       "      <th>name</th>\n",
       "      <th>age</th>\n",
       "      <th>city</th>\n",
       "      <th>subscription_type</th>\n",
       "      <th>distance</th>\n",
       "      <th>duration</th>\n",
       "      <th>date</th>\n",
       "      <th>month</th>\n",
       "      <th>minute_price</th>\n",
       "      <th>start_ride_price</th>\n",
       "      <th>subscription_fee</th>\n",
       "    </tr>\n",
       "  </thead>\n",
       "  <tbody>\n",
       "    <tr>\n",
       "      <th>0</th>\n",
       "      <td>1</td>\n",
       "      <td>Кира</td>\n",
       "      <td>22</td>\n",
       "      <td>Тюмень</td>\n",
       "      <td>ultra</td>\n",
       "      <td>4409.919140</td>\n",
       "      <td>25.599769</td>\n",
       "      <td>2021-01-01</td>\n",
       "      <td>1</td>\n",
       "      <td>6</td>\n",
       "      <td>0</td>\n",
       "      <td>199</td>\n",
       "    </tr>\n",
       "    <tr>\n",
       "      <th>1</th>\n",
       "      <td>1</td>\n",
       "      <td>Кира</td>\n",
       "      <td>22</td>\n",
       "      <td>Тюмень</td>\n",
       "      <td>ultra</td>\n",
       "      <td>2617.592153</td>\n",
       "      <td>15.816871</td>\n",
       "      <td>2021-01-18</td>\n",
       "      <td>1</td>\n",
       "      <td>6</td>\n",
       "      <td>0</td>\n",
       "      <td>199</td>\n",
       "    </tr>\n",
       "    <tr>\n",
       "      <th>2</th>\n",
       "      <td>1</td>\n",
       "      <td>Кира</td>\n",
       "      <td>22</td>\n",
       "      <td>Тюмень</td>\n",
       "      <td>ultra</td>\n",
       "      <td>754.159807</td>\n",
       "      <td>6.232113</td>\n",
       "      <td>2021-04-20</td>\n",
       "      <td>4</td>\n",
       "      <td>6</td>\n",
       "      <td>0</td>\n",
       "      <td>199</td>\n",
       "    </tr>\n",
       "    <tr>\n",
       "      <th>3</th>\n",
       "      <td>1</td>\n",
       "      <td>Кира</td>\n",
       "      <td>22</td>\n",
       "      <td>Тюмень</td>\n",
       "      <td>ultra</td>\n",
       "      <td>2694.783254</td>\n",
       "      <td>18.511000</td>\n",
       "      <td>2021-08-11</td>\n",
       "      <td>8</td>\n",
       "      <td>6</td>\n",
       "      <td>0</td>\n",
       "      <td>199</td>\n",
       "    </tr>\n",
       "    <tr>\n",
       "      <th>4</th>\n",
       "      <td>1</td>\n",
       "      <td>Кира</td>\n",
       "      <td>22</td>\n",
       "      <td>Тюмень</td>\n",
       "      <td>ultra</td>\n",
       "      <td>4028.687306</td>\n",
       "      <td>26.265803</td>\n",
       "      <td>2021-08-28</td>\n",
       "      <td>8</td>\n",
       "      <td>6</td>\n",
       "      <td>0</td>\n",
       "      <td>199</td>\n",
       "    </tr>\n",
       "  </tbody>\n",
       "</table>\n",
       "</div>"
      ],
      "text/plain": [
       "   user_id  name  age    city subscription_type     distance   duration  \\\n",
       "0        1  Кира   22  Тюмень             ultra  4409.919140  25.599769   \n",
       "1        1  Кира   22  Тюмень             ultra  2617.592153  15.816871   \n",
       "2        1  Кира   22  Тюмень             ultra   754.159807   6.232113   \n",
       "3        1  Кира   22  Тюмень             ultra  2694.783254  18.511000   \n",
       "4        1  Кира   22  Тюмень             ultra  4028.687306  26.265803   \n",
       "\n",
       "        date  month  minute_price  start_ride_price  subscription_fee  \n",
       "0 2021-01-01      1             6                 0               199  \n",
       "1 2021-01-18      1             6                 0               199  \n",
       "2 2021-04-20      4             6                 0               199  \n",
       "3 2021-08-11      8             6                 0               199  \n",
       "4 2021-08-28      8             6                 0               199  "
      ]
     },
     "metadata": {},
     "output_type": "display_data"
    }
   ],
   "source": [
    "#датафрейм с данными о пользователях с подпиской:\n",
    "with_sub = total.query('subscription_type==\"ultra\"')\n",
    "display(with_sub.head(5))"
   ]
  },
  {
   "cell_type": "code",
   "execution_count": 83,
   "id": "342f4074",
   "metadata": {},
   "outputs": [
    {
     "data": {
      "image/png": "[encoded data removed]",
      "text/plain": [
       "<Figure size 720x360 with 1 Axes>"
      ]
     },
     "metadata": {
      "needs_background": "light"
     },
     "output_type": "display_data"
    }
   ],
   "source": [
    "#посмотрим график зависимости расстояния от числа пользователей с подпиской:\n",
    "d_with_s = with_sub.plot(kind='hist', y='distance',figsize=(10,5), grid=True,bins=50)\n",
    "plt.title('Дистанция поездок на платном тарифе')\n",
    "plt.ylabel('Кол-во поездок')\n",
    "plt.xlabel('Дистанция поездок, м.')\n",
    "plt.show()"
   ]
  },
  {
   "cell_type": "code",
   "execution_count": 84,
   "id": "d548197f",
   "metadata": {},
   "outputs": [
    {
     "data": {
      "image/png": "[encoded data removed]",
      "text/plain": [
       "<Figure size 720x360 with 1 Axes>"
      ]
     },
     "metadata": {
      "needs_background": "light"
     },
     "output_type": "display_data"
    }
   ],
   "source": [
    "#посмотрим график зависимости времени поездки от числа пользователей с подпиской:\n",
    "d_with_s = with_sub.plot(kind='hist', y='duration',figsize=(10,5), grid=True,bins=50)\n",
    "plt.title('Продолжительность поездок на платном тарифе')\n",
    "plt.ylabel('Кол-во поездок')\n",
    "plt.xlabel('Время поездок, мин.')\n",
    "plt.show()"
   ]
  },
  {
   "cell_type": "markdown",
   "id": "c6c9f23a",
   "metadata": {},
   "source": [
    "Видим по этим двум графикам, что для бесплатного тарифа наиболее часто встречаются поездки длиной от 2,5 до 3,5 км, длящиеся от 13 до 20 минут."
   ]
  },
  {
   "cell_type": "markdown",
   "id": "5b213180",
   "metadata": {},
   "source": [
    "<div class=\"alert alert-warning\">\n",
    "<h2> Комментарий ревьюера V1<a class=\"tocSkip\"> </h2>\n",
    "\n",
    "<b>Некоторые замечания и рекомендации💡:</b> Можно было совместить графики, на одном вывести распределение расстояния поездок пользователей с подпиской и без разными цветами. Аналогично и гистограммы с временем поездок."
   ]
  },
  {
   "cell_type": "markdown",
   "id": "6e9b889e",
   "metadata": {},
   "source": [
    "Вывод. Мы объединили наши три датафрейма. Создали еще два датафрейма - данные о пользователях без подписки и данные с пользователями с подпиской, а также проанализировали данные о расстоянии и времени поездок для этих категорий. Можно сделать вывод, что пользователи без подписки совершают, в среднем, более долгие поездки на более длинные дистанции, это, возможно, связано с тем, что без подписки разовые поездки, такие как обзорные прогулки по городу, а по подписке регулярные задачи добираться по привычному маршруту."
   ]
  },
  {
   "cell_type": "markdown",
   "id": "61179099",
   "metadata": {},
   "source": [
    "<div class=\"alert alert-success\">\n",
    "<h2> Комментарий ревьюера V1<a class=\"tocSkip\"> </h2>\n",
    "\n",
    "<b>Все отлично!👍:</b> По описанию все хорошо, верно отметила в чем схожи и чем отличаются пользователи."
   ]
  },
  {
   "cell_type": "markdown",
   "id": "402d620f",
   "metadata": {},
   "source": [
    "#### Подсчёт выручки"
   ]
  },
  {
   "cell_type": "markdown",
   "id": "92fde0bd",
   "metadata": {},
   "source": [
    "##### Создадим датафрейм с агрегированными данными о поездках"
   ]
  },
  {
   "cell_type": "markdown",
   "id": "f95eeb23",
   "metadata": {},
   "source": [
    "Создадим датафрейм с агрегированными данными о поездках на основе датафрейма total. Найдем суммарное расстояние, количество поездок и суммарное время для каждого пользователя за каждый месяц."
   ]
  },
  {
   "cell_type": "code",
   "execution_count": 85,
   "id": "5790eca3",
   "metadata": {},
   "outputs": [
    {
     "data": {
      "text/html": [
       "<div>\n",
       "<style scoped>\n",
       "    .dataframe tbody tr th:only-of-type {\n",
       "        vertical-align: middle;\n",
       "    }\n",
       "\n",
       "    .dataframe tbody tr th {\n",
       "        vertical-align: top;\n",
       "    }\n",
       "\n",
       "    .dataframe thead th {\n",
       "        text-align: right;\n",
       "    }\n",
       "</style>\n",
       "<table border=\"1\" class=\"dataframe\">\n",
       "  <thead>\n",
       "    <tr style=\"text-align: right;\">\n",
       "      <th></th>\n",
       "      <th>user_id</th>\n",
       "      <th>name</th>\n",
       "      <th>age</th>\n",
       "      <th>city</th>\n",
       "      <th>subscription_type</th>\n",
       "      <th>distance</th>\n",
       "      <th>duration</th>\n",
       "      <th>date</th>\n",
       "      <th>month</th>\n",
       "      <th>minute_price</th>\n",
       "      <th>start_ride_price</th>\n",
       "      <th>subscription_fee</th>\n",
       "    </tr>\n",
       "  </thead>\n",
       "  <tbody>\n",
       "    <tr>\n",
       "      <th>0</th>\n",
       "      <td>1</td>\n",
       "      <td>Кира</td>\n",
       "      <td>22</td>\n",
       "      <td>Тюмень</td>\n",
       "      <td>ultra</td>\n",
       "      <td>4409.919140</td>\n",
       "      <td>26.0</td>\n",
       "      <td>2021-01-01</td>\n",
       "      <td>1</td>\n",
       "      <td>6</td>\n",
       "      <td>0</td>\n",
       "      <td>199</td>\n",
       "    </tr>\n",
       "    <tr>\n",
       "      <th>16824</th>\n",
       "      <td>1445</td>\n",
       "      <td>Даниил</td>\n",
       "      <td>25</td>\n",
       "      <td>Краснодар</td>\n",
       "      <td>free</td>\n",
       "      <td>2523.138615</td>\n",
       "      <td>16.0</td>\n",
       "      <td>2021-01-10</td>\n",
       "      <td>1</td>\n",
       "      <td>8</td>\n",
       "      <td>50</td>\n",
       "      <td>0</td>\n",
       "    </tr>\n",
       "    <tr>\n",
       "      <th>16825</th>\n",
       "      <td>1445</td>\n",
       "      <td>Даниил</td>\n",
       "      <td>25</td>\n",
       "      <td>Краснодар</td>\n",
       "      <td>free</td>\n",
       "      <td>4399.199954</td>\n",
       "      <td>15.0</td>\n",
       "      <td>2021-01-10</td>\n",
       "      <td>1</td>\n",
       "      <td>8</td>\n",
       "      <td>50</td>\n",
       "      <td>0</td>\n",
       "    </tr>\n",
       "    <tr>\n",
       "      <th>16826</th>\n",
       "      <td>1445</td>\n",
       "      <td>Даниил</td>\n",
       "      <td>25</td>\n",
       "      <td>Краснодар</td>\n",
       "      <td>free</td>\n",
       "      <td>3837.799319</td>\n",
       "      <td>23.0</td>\n",
       "      <td>2021-01-14</td>\n",
       "      <td>1</td>\n",
       "      <td>8</td>\n",
       "      <td>50</td>\n",
       "      <td>0</td>\n",
       "    </tr>\n",
       "    <tr>\n",
       "      <th>13337</th>\n",
       "      <td>1201</td>\n",
       "      <td>Николай</td>\n",
       "      <td>20</td>\n",
       "      <td>Ростов-на-Дону</td>\n",
       "      <td>free</td>\n",
       "      <td>2277.420386</td>\n",
       "      <td>10.0</td>\n",
       "      <td>2021-01-24</td>\n",
       "      <td>1</td>\n",
       "      <td>8</td>\n",
       "      <td>50</td>\n",
       "      <td>0</td>\n",
       "    </tr>\n",
       "  </tbody>\n",
       "</table>\n",
       "</div>"
      ],
      "text/plain": [
       "       user_id     name  age            city subscription_type     distance  \\\n",
       "0            1     Кира   22          Тюмень             ultra  4409.919140   \n",
       "16824     1445   Даниил   25       Краснодар              free  2523.138615   \n",
       "16825     1445   Даниил   25       Краснодар              free  4399.199954   \n",
       "16826     1445   Даниил   25       Краснодар              free  3837.799319   \n",
       "13337     1201  Николай   20  Ростов-на-Дону              free  2277.420386   \n",
       "\n",
       "       duration       date  month  minute_price  start_ride_price  \\\n",
       "0          26.0 2021-01-01      1             6                 0   \n",
       "16824      16.0 2021-01-10      1             8                50   \n",
       "16825      15.0 2021-01-10      1             8                50   \n",
       "16826      23.0 2021-01-14      1             8                50   \n",
       "13337      10.0 2021-01-24      1             8                50   \n",
       "\n",
       "       subscription_fee  \n",
       "0                   199  \n",
       "16824                 0  \n",
       "16825                 0  \n",
       "16826                 0  \n",
       "13337                 0  "
      ]
     },
     "execution_count": 85,
     "metadata": {},
     "output_type": "execute_result"
    }
   ],
   "source": [
    "#продолжительность каждой поездки округлим до следующего целого числа:\n",
    "total['duration']=np.ceil(total['duration'])\n",
    "total.sort_values(by='month').head(5)"
   ]
  },
  {
   "cell_type": "code",
   "execution_count": 51,
   "id": "3b634e17",
   "metadata": {},
   "outputs": [
    {
     "data": {
      "text/html": [
       "<div>\n",
       "<style scoped>\n",
       "    .dataframe tbody tr th:only-of-type {\n",
       "        vertical-align: middle;\n",
       "    }\n",
       "\n",
       "    .dataframe tbody tr th {\n",
       "        vertical-align: top;\n",
       "    }\n",
       "\n",
       "    .dataframe thead th {\n",
       "        text-align: right;\n",
       "    }\n",
       "</style>\n",
       "<table border=\"1\" class=\"dataframe\">\n",
       "  <thead>\n",
       "    <tr style=\"text-align: right;\">\n",
       "      <th></th>\n",
       "      <th></th>\n",
       "      <th>count</th>\n",
       "      <th>distance</th>\n",
       "      <th>duration</th>\n",
       "      <th>minute_price</th>\n",
       "      <th>start_ride_price</th>\n",
       "      <th>subscription_fee</th>\n",
       "    </tr>\n",
       "    <tr>\n",
       "      <th>month</th>\n",
       "      <th>user_id</th>\n",
       "      <th></th>\n",
       "      <th></th>\n",
       "      <th></th>\n",
       "      <th></th>\n",
       "      <th></th>\n",
       "      <th></th>\n",
       "    </tr>\n",
       "  </thead>\n",
       "  <tbody>\n",
       "    <tr>\n",
       "      <th rowspan=\"10\" valign=\"top\">1</th>\n",
       "      <th>1</th>\n",
       "      <td>2</td>\n",
       "      <td>7027.511294</td>\n",
       "      <td>42.0</td>\n",
       "      <td>6</td>\n",
       "      <td>0</td>\n",
       "      <td>199</td>\n",
       "    </tr>\n",
       "    <tr>\n",
       "      <th>3</th>\n",
       "      <td>1</td>\n",
       "      <td>3061.777147</td>\n",
       "      <td>13.0</td>\n",
       "      <td>6</td>\n",
       "      <td>0</td>\n",
       "      <td>199</td>\n",
       "    </tr>\n",
       "    <tr>\n",
       "      <th>5</th>\n",
       "      <td>1</td>\n",
       "      <td>3914.646990</td>\n",
       "      <td>13.0</td>\n",
       "      <td>6</td>\n",
       "      <td>0</td>\n",
       "      <td>199</td>\n",
       "    </tr>\n",
       "    <tr>\n",
       "      <th>7</th>\n",
       "      <td>2</td>\n",
       "      <td>6478.080979</td>\n",
       "      <td>28.0</td>\n",
       "      <td>6</td>\n",
       "      <td>0</td>\n",
       "      <td>199</td>\n",
       "    </tr>\n",
       "    <tr>\n",
       "      <th>12</th>\n",
       "      <td>1</td>\n",
       "      <td>3577.151148</td>\n",
       "      <td>33.0</td>\n",
       "      <td>6</td>\n",
       "      <td>0</td>\n",
       "      <td>199</td>\n",
       "    </tr>\n",
       "    <tr>\n",
       "      <th>13</th>\n",
       "      <td>2</td>\n",
       "      <td>6687.987446</td>\n",
       "      <td>42.0</td>\n",
       "      <td>6</td>\n",
       "      <td>0</td>\n",
       "      <td>199</td>\n",
       "    </tr>\n",
       "    <tr>\n",
       "      <th>14</th>\n",
       "      <td>2</td>\n",
       "      <td>7699.643820</td>\n",
       "      <td>35.0</td>\n",
       "      <td>6</td>\n",
       "      <td>0</td>\n",
       "      <td>199</td>\n",
       "    </tr>\n",
       "    <tr>\n",
       "      <th>15</th>\n",
       "      <td>1</td>\n",
       "      <td>4187.621459</td>\n",
       "      <td>39.0</td>\n",
       "      <td>6</td>\n",
       "      <td>0</td>\n",
       "      <td>199</td>\n",
       "    </tr>\n",
       "    <tr>\n",
       "      <th>20</th>\n",
       "      <td>1</td>\n",
       "      <td>3516.719208</td>\n",
       "      <td>29.0</td>\n",
       "      <td>6</td>\n",
       "      <td>0</td>\n",
       "      <td>199</td>\n",
       "    </tr>\n",
       "    <tr>\n",
       "      <th>22</th>\n",
       "      <td>1</td>\n",
       "      <td>3058.692225</td>\n",
       "      <td>13.0</td>\n",
       "      <td>6</td>\n",
       "      <td>0</td>\n",
       "      <td>199</td>\n",
       "    </tr>\n",
       "  </tbody>\n",
       "</table>\n",
       "</div>"
      ],
      "text/plain": [
       "               count     distance  duration  minute_price  start_ride_price  \\\n",
       "month user_id                                                                 \n",
       "1     1            2  7027.511294      42.0             6                 0   \n",
       "      3            1  3061.777147      13.0             6                 0   \n",
       "      5            1  3914.646990      13.0             6                 0   \n",
       "      7            2  6478.080979      28.0             6                 0   \n",
       "      12           1  3577.151148      33.0             6                 0   \n",
       "      13           2  6687.987446      42.0             6                 0   \n",
       "      14           2  7699.643820      35.0             6                 0   \n",
       "      15           1  4187.621459      39.0             6                 0   \n",
       "      20           1  3516.719208      29.0             6                 0   \n",
       "      22           1  3058.692225      13.0             6                 0   \n",
       "\n",
       "               subscription_fee  \n",
       "month user_id                    \n",
       "1     1                     199  \n",
       "      3                     199  \n",
       "      5                     199  \n",
       "      7                     199  \n",
       "      12                    199  \n",
       "      13                    199  \n",
       "      14                    199  \n",
       "      15                    199  \n",
       "      20                    199  \n",
       "      22                    199  "
      ]
     },
     "execution_count": 51,
     "metadata": {},
     "output_type": "execute_result"
    }
   ],
   "source": [
    "full_data = pd.pivot_table(total, index=['month','user_id'],\n",
    "                           values=['distance','duration','name','minute_price',\n",
    "                                   'subscription_fee', 'start_ride_price'],\n",
    "                                   aggfunc={'distance':{'count','sum'},'duration':'sum',\n",
    "                                            'minute_price':'mean', 'subscription_fee':'mean',\n",
    "                                            'start_ride_price':'mean'})\n",
    "                                   \n",
    "\n",
    "full_data.columns = ['count','distance','duration','minute_price','start_ride_price','subscription_fee']\n",
    "full_data.head(10)"
   ]
  },
  {
   "cell_type": "markdown",
   "id": "f8da2637",
   "metadata": {},
   "source": [
    "<div class=\"alert alert-block alert-danger\">\n",
    "<h2> Комментарий ревьюера V1<a class=\"tocSkip\"></h2>\n",
    "\n",
    "\n",
    "<b>На доработку🤔:</b>\n",
    "Нужно сначала округлить длительность поездок, а потом уже  считать сводную таблицу."
   ]
  },
  {
   "cell_type": "markdown",
   "id": "74187175",
   "metadata": {},
   "source": [
    "Мой комментарий: Поменяла местами."
   ]
  },
  {
   "cell_type": "markdown",
   "id": "c92b11b8",
   "metadata": {},
   "source": [
    "<div class=\"alert alert-success\">\n",
    "<h2> Комментарий ревьюера V2<a class=\"tocSkip\"> </h2>\n",
    "\n",
    "<b>Все отлично!👍:</b> Отлично!"
   ]
  },
  {
   "cell_type": "markdown",
   "id": "8635c2f8",
   "metadata": {},
   "source": [
    "##### Посчитаем помесячную выручку для каждого пользователя"
   ]
  },
  {
   "cell_type": "markdown",
   "id": "671140b3",
   "metadata": {},
   "source": [
    "Добавим столбец с помесячной выручкой, которую принес каждый пользователь. Нужно учитывать наличие подписки."
   ]
  },
  {
   "cell_type": "code",
   "execution_count": 86,
   "id": "84dd376b",
   "metadata": {},
   "outputs": [
    {
     "data": {
      "text/html": [
       "<div>\n",
       "<style scoped>\n",
       "    .dataframe tbody tr th:only-of-type {\n",
       "        vertical-align: middle;\n",
       "    }\n",
       "\n",
       "    .dataframe tbody tr th {\n",
       "        vertical-align: top;\n",
       "    }\n",
       "\n",
       "    .dataframe thead th {\n",
       "        text-align: right;\n",
       "    }\n",
       "</style>\n",
       "<table border=\"1\" class=\"dataframe\">\n",
       "  <thead>\n",
       "    <tr style=\"text-align: right;\">\n",
       "      <th></th>\n",
       "      <th></th>\n",
       "      <th>count</th>\n",
       "      <th>distance</th>\n",
       "      <th>duration</th>\n",
       "      <th>minute_price</th>\n",
       "      <th>start_ride_price</th>\n",
       "      <th>subscription_fee</th>\n",
       "      <th>month_revenue</th>\n",
       "    </tr>\n",
       "    <tr>\n",
       "      <th>month</th>\n",
       "      <th>user_id</th>\n",
       "      <th></th>\n",
       "      <th></th>\n",
       "      <th></th>\n",
       "      <th></th>\n",
       "      <th></th>\n",
       "      <th></th>\n",
       "      <th></th>\n",
       "    </tr>\n",
       "  </thead>\n",
       "  <tbody>\n",
       "    <tr>\n",
       "      <th rowspan=\"5\" valign=\"top\">1</th>\n",
       "      <th>1</th>\n",
       "      <td>2</td>\n",
       "      <td>7027.511294</td>\n",
       "      <td>42.0</td>\n",
       "      <td>6</td>\n",
       "      <td>0</td>\n",
       "      <td>199</td>\n",
       "      <td>451.0</td>\n",
       "    </tr>\n",
       "    <tr>\n",
       "      <th>3</th>\n",
       "      <td>1</td>\n",
       "      <td>3061.777147</td>\n",
       "      <td>13.0</td>\n",
       "      <td>6</td>\n",
       "      <td>0</td>\n",
       "      <td>199</td>\n",
       "      <td>277.0</td>\n",
       "    </tr>\n",
       "    <tr>\n",
       "      <th>5</th>\n",
       "      <td>1</td>\n",
       "      <td>3914.646990</td>\n",
       "      <td>13.0</td>\n",
       "      <td>6</td>\n",
       "      <td>0</td>\n",
       "      <td>199</td>\n",
       "      <td>277.0</td>\n",
       "    </tr>\n",
       "    <tr>\n",
       "      <th>7</th>\n",
       "      <td>2</td>\n",
       "      <td>6478.080979</td>\n",
       "      <td>28.0</td>\n",
       "      <td>6</td>\n",
       "      <td>0</td>\n",
       "      <td>199</td>\n",
       "      <td>367.0</td>\n",
       "    </tr>\n",
       "    <tr>\n",
       "      <th>12</th>\n",
       "      <td>1</td>\n",
       "      <td>3577.151148</td>\n",
       "      <td>33.0</td>\n",
       "      <td>6</td>\n",
       "      <td>0</td>\n",
       "      <td>199</td>\n",
       "      <td>397.0</td>\n",
       "    </tr>\n",
       "  </tbody>\n",
       "</table>\n",
       "</div>"
      ],
      "text/plain": [
       "               count     distance  duration  minute_price  start_ride_price  \\\n",
       "month user_id                                                                 \n",
       "1     1            2  7027.511294      42.0             6                 0   \n",
       "      3            1  3061.777147      13.0             6                 0   \n",
       "      5            1  3914.646990      13.0             6                 0   \n",
       "      7            2  6478.080979      28.0             6                 0   \n",
       "      12           1  3577.151148      33.0             6                 0   \n",
       "\n",
       "               subscription_fee  month_revenue  \n",
       "month user_id                                   \n",
       "1     1                     199          451.0  \n",
       "      3                     199          277.0  \n",
       "      5                     199          277.0  \n",
       "      7                     199          367.0  \n",
       "      12                    199          397.0  "
      ]
     },
     "execution_count": 86,
     "metadata": {},
     "output_type": "execute_result"
    }
   ],
   "source": [
    "full_data['month_revenue'] = (full_data['start_ride_price']*full_data['count']+\n",
    "                             full_data['minute_price']*full_data['duration']+\n",
    "                             full_data['subscription_fee'])\n",
    "full_data.head(5)"
   ]
  },
  {
   "cell_type": "markdown",
   "id": "c83a1685",
   "metadata": {},
   "source": [
    "<div class=\"alert alert-success\">\n",
    "<h2> Комментарий ревьюера V1<a class=\"tocSkip\"> </h2>\n",
    "\n",
    "<b>Все отлично!👍:</b> Правильно рассчитала доход от поездок."
   ]
  },
  {
   "cell_type": "code",
   "execution_count": 36,
   "id": "12011a4b",
   "metadata": {},
   "outputs": [
    {
     "data": {
      "text/plain": [
       "3853677.0"
      ]
     },
     "execution_count": 36,
     "metadata": {},
     "output_type": "execute_result"
    }
   ],
   "source": [
    "#выручка за весь год для всех пользователей:\n",
    "full_data['month_revenue'].sum()"
   ]
  },
  {
   "cell_type": "markdown",
   "id": "f3c4c69c",
   "metadata": {},
   "source": [
    "Вывод. Мы создали датафрейм с агрегированными данными о поездках на основе датафрейма total. Нашли суммарное расстояние, количество поездок и суммарное время для каждого пользователя за каждый месяц, а также вычислили помесячную выручку для каждого пользователя, и в сумме видим, что за год выручка сервиса составила 3,8 млн. руб."
   ]
  },
  {
   "cell_type": "markdown",
   "id": "41545ac0",
   "metadata": {},
   "source": [
    "#### Проверка гипотез"
   ]
  },
  {
   "cell_type": "markdown",
   "id": "2acb4e51",
   "metadata": {},
   "source": [
    "##### Тратят ли пользователи с подпиской больше времени на поездки?"
   ]
  },
  {
   "cell_type": "markdown",
   "id": "a19e7ea8",
   "metadata": {},
   "source": [
    "Необходимо проверить гипотезу о том, что пользователи с подпиской тратят больше времени на поездки, чем пользователи на бесплатном тарифе. \n",
    "Нулевая гипотеза H0: Время поездки пользователей на подписке ultra равно времени поездки пользователей без подписки (free).\n",
    "Тогда альтернативная гипотеза H1: Время поездки пользователей на подписке ultra больше времени поездки пользователей без подписки (free)."
   ]
  },
  {
   "cell_type": "code",
   "execution_count": 37,
   "id": "89cbad30",
   "metadata": {},
   "outputs": [
    {
     "name": "stdout",
     "output_type": "stream",
     "text": [
      "p-значение: 1.2804098316645618e-34\n",
      "Отвергаем нулевую гипотезу\n"
     ]
    }
   ],
   "source": [
    "#уровень статистической значимости примем за альфа равную 0.05, \n",
    "#если p-value окажется меньтше него, то отвергаем нулевую гипотезу\n",
    "\n",
    "alpha = 0.05\n",
    "\n",
    "ultra = with_sub['duration']\n",
    "free = without_sub['duration']\n",
    "\n",
    "results = st.ttest_ind(ultra, free, alternative='greater')\n",
    "print('p-значение:', results.pvalue)\n",
    "\n",
    "if results.pvalue < alpha:\n",
    "    print('Отвергаем нулевую гипотезу')\n",
    "else:\n",
    "    print('Не удалось отвергнуть нулевую гипотезу')"
   ]
  },
  {
   "cell_type": "markdown",
   "id": "d466f104",
   "metadata": {},
   "source": [
    "Значит, отвергнув нулевую гипотезу, мы делаем вывод, что утверждение о том, что время поездки с платной подпиской равно времени поездки без подписки, неверно."
   ]
  },
  {
   "cell_type": "markdown",
   "id": "808b7f51",
   "metadata": {},
   "source": [
    "<div class=\"alert alert-success\">\n",
    "<h2> Комментарий ревьюера V1<a class=\"tocSkip\"> </h2>\n",
    "\n",
    "<b>Все отлично!👍:</b> Правильно сформулировала и проверила гипотезу, все верно."
   ]
  },
  {
   "cell_type": "markdown",
   "id": "c6c524f9",
   "metadata": {},
   "source": [
    "##### Расстояние, которое проезжают пользователи с подпиской, не превышает 3130 м.?"
   ]
  },
  {
   "cell_type": "markdown",
   "id": "bcfe02c5",
   "metadata": {},
   "source": [
    "Расстояние в 3130 метров - оптимальное с точки зрения износа самоката. Проверим нулевую гипотезу H0: Расстояние одной поездки пользователей с подпиской ultra равно 3130 метров. H1: Расстояние пользователей с подпиской меньше 3130 м."
   ]
  },
  {
   "cell_type": "markdown",
   "id": "6db754dd",
   "metadata": {},
   "source": [
    "<div class=\"alert alert-block alert-danger\">\n",
    "<h2> Комментарий ревьюера V1<a class=\"tocSkip\"></h2>\n",
    "\n",
    "\n",
    "<b>На доработку🤔:</b>\n",
    "Неправильно сформулировала альтернативную гипотезу. Мы хотим проверить, что поездки именно превышают оптимальное расстояние, так как это приводит к большему износу самоката. Поэтому альтернативную гипотезу нужно сформулировать так, что пользователи проезжают больше оптимального расстояния."
   ]
  },
  {
   "cell_type": "markdown",
   "id": "cdc4a8d6",
   "metadata": {},
   "source": [
    "Мой комментарий: Да, верно, неправильно написала, Альтернативную гипотезу нужно сформулировать так - H1: Расстояние пользователей с подпиской больше оптимального расстояния 3130 м. Тогда в коде меняем параметр в t-тесте на 'greater'."
   ]
  },
  {
   "cell_type": "code",
   "execution_count": 87,
   "id": "b22c23e7",
   "metadata": {},
   "outputs": [
    {
     "name": "stdout",
     "output_type": "stream",
     "text": [
      "p-значение: 0.9195368847849785\n",
      "Не удалось отвергнуть нулевую гипотезу\n"
     ]
    }
   ],
   "source": [
    "alpha = 0.05\n",
    "\n",
    "ultra_distance = with_sub['distance']\n",
    "interest_dist = 3130\n",
    "\n",
    "results = st.ttest_1samp(ultra_distance, interest_dist, alternative='greater')\n",
    "print('p-значение:', results.pvalue)\n",
    "\n",
    "if results.pvalue < alpha:\n",
    "    print('Отвергаем нулевую гипотезу')\n",
    "else:\n",
    "    print('Не удалось отвергнуть нулевую гипотезу')"
   ]
  },
  {
   "cell_type": "markdown",
   "id": "fe6c92d7",
   "metadata": {},
   "source": [
    "Итак, мы не можем утверждать, что расстояние одной поездки пользователей с подпиской не превышает 3130 метров."
   ]
  },
  {
   "cell_type": "markdown",
   "id": "ee13b4ba",
   "metadata": {},
   "source": [
    "<div class=\"alert alert-warning\">\n",
    "<h2> Комментарий ревьюера V2<a class=\"tocSkip\"> </h2>\n",
    "\n",
    "<b>Некоторые замечания и рекомендации💡:</b> Гипотезу правильно сформулировала, только вывод неправильный, не удалось отвергнуть нулевую гипотезу, значит пользователи меньше оптимального проезжают. А ты пишешь, что они проезжают больше."
   ]
  },
  {
   "cell_type": "markdown",
   "id": "9e7a6fbe",
   "metadata": {},
   "source": [
    "##### Помесячная выручка пользователей с подпиской выше, чем без подписки?"
   ]
  },
  {
   "cell_type": "markdown",
   "id": "496b3bbb",
   "metadata": {},
   "source": [
    "H0: Помесячная средняя выручка пользователей с подпиской равна помесячной средней выручке пользователей без подписки.\n",
    "H1: Помесячная средняя выручка пользователей с подпиской больше помесячной средней выручки пользователей без подписки."
   ]
  },
  {
   "cell_type": "code",
   "execution_count": 39,
   "id": "abf3f155",
   "metadata": {},
   "outputs": [
    {
     "name": "stdout",
     "output_type": "stream",
     "text": [
      "p-значение: 2.8130926188487286e-35\n",
      "Отвергаем нулевую гипотезу\n"
     ]
    }
   ],
   "source": [
    "alpha = 0.05\n",
    "\n",
    "ultra_rev = full_data.loc[full_data['subscription_fee']>0, 'month_revenue']\n",
    "free_rev = full_data.loc[full_data['subscription_fee']==0, 'month_revenue']\n",
    "\n",
    "results = st.ttest_ind(ultra_rev, free_rev, alternative='greater')\n",
    "print('p-значение:', results.pvalue)\n",
    "\n",
    "if results.pvalue < alpha:\n",
    "    print('Отвергаем нулевую гипотезу')\n",
    "else:\n",
    "    print('Не удалось отвергнуть нулевую гипотезу')"
   ]
  },
  {
   "cell_type": "markdown",
   "id": "5ddf8127",
   "metadata": {},
   "source": [
    "Таким образом, отвергнув нулевую гипотезу, мы можем утверждать, что помесячная средняя выручка пользователей с подпиской больше помесячной средней выручки пользователей без подписки."
   ]
  },
  {
   "cell_type": "markdown",
   "id": "eee08a00",
   "metadata": {},
   "source": [
    "<div class=\"alert alert-success\">\n",
    "<h2> Комментарий ревьюера V1<a class=\"tocSkip\"> </h2>\n",
    "\n",
    "<b>Все отлично!👍:</b> Данную гипотезу проверила абсолютно верно, так держать!"
   ]
  },
  {
   "cell_type": "markdown",
   "id": "bc6f4a9a",
   "metadata": {},
   "source": [
    "##### Количество обращений в тех.поддержку до и после обновлений серверов"
   ]
  },
  {
   "cell_type": "markdown",
   "id": "e5ac687c",
   "metadata": {},
   "source": [
    "Представьте такую ситуацию: техническая команда сервиса обновила сервера, с которыми взаимодействует мобильное приложение. Она надеется, что из-за этого количество обращений в техподдержку значимо снизилось. Некоторый файл содержит для каждого пользователя данные о количестве обращений до обновления и после него. Какой тест вам понадобился бы для проверки этой гипотезы?"
   ]
  },
  {
   "cell_type": "markdown",
   "id": "5fc1e426",
   "metadata": {},
   "source": [
    "Здесь нужно использовать двухвыборочный t-тест для двух зависимых выборок: scipy.stats.ttest_rel(). Тут аргументы - два набора данных - парные выборки до и после изменения. И необходимо проверить нулевую гипотезу о равенстве средних значений количества обращений в техническую поддержку до и после обновления сервера."
   ]
  },
  {
   "cell_type": "markdown",
   "id": "24d5773a",
   "metadata": {},
   "source": [
    "<div class=\"alert alert-warning\">\n",
    "<h2> Комментарий ревьюера V1<a class=\"tocSkip\"> </h2>\n",
    "\n",
    "<b>Некоторые замечания и рекомендации💡:</b> А альтернативная гипотеза как сформулирована будет?"
   ]
  },
  {
   "cell_type": "markdown",
   "id": "30a7147e",
   "metadata": {},
   "source": [
    "Мой комментарий: Альтерантивна гипотеза будет сформулирована так: Средние значения количества обращений в тех. поддержку до и после обновления серверов не равны."
   ]
  },
  {
   "cell_type": "markdown",
   "id": "632b2773",
   "metadata": {},
   "source": [
    "<div class=\"alert alert-warning\">\n",
    "<h2> Комментарий ревьюера V2<a class=\"tocSkip\"> </h2>\n",
    "\n",
    "<b>Некоторые замечания и рекомендации💡:</b> Так формулировать гипотезу неправильно, мы просто узнаем равны они или нет, а нам важно понять снизилось ли число обращений."
   ]
  },
  {
   "cell_type": "markdown",
   "id": "70b9592d",
   "metadata": {},
   "source": [
    "#### Общий вывод"
   ]
  },
  {
   "cell_type": "markdown",
   "id": "c7b531ef",
   "metadata": {},
   "source": [
    "Итак, мы исследовали данные о пользователях сервиса аренды самокатов GoFast. Работа была проделана в следующем порядке:\n",
    "<p>\n",
    "<ul>\n",
    "<li>Загрузили данные - три датафрейма users_go, rides_go, subscriptions_go - посмотрели общую информацию о них, устранили явные дубликаты, проверили наличие пропусков, привели дату в формат datetime и создали столбец с номером месяца.</li>\n",
    "<p>\n",
    "<li>Затем провели исследовательский анализ данных - описали и визуализировали общую информацию о пользователях и поездках. \n",
    "    <p>А именно, мы посмотрели в каких городах зарегистрировано больше всего пользователей - Пятигорске, Екатеринбурге, Ростове-на-Дону. Москва не в лидирующих позициях, так как по небольшим городам передвигаться на самокатах значительно удобнее.\n",
    "<p>Установили, что пользователей без подписки 54,06%, то есть больше половины. Возможно, это люди, которые пользуются сервисом разово, а не постоянно, либо просто не знают про выгоды подписки.\n",
    "<p>Средний возраст пользователей сервиса - около 25 лет, в целом, больше всего пользователей от 15 до 35 лет, это свзано с тем, что самокатами пользуются молодые люди.\n",
    "<p>Посмотрели дистанцию одной поездки и увидели, что в среднем одна поездка около 3 км. за сеанс.\n",
    "<p>А среднее время одной поездки 15-25 минут, чего как раз достаточно для преодоления средней дистанции в 3 км.\n",
    "<p>\n",
    "<li>После этого мы объединили наши три датафрейма. Создали еще два датафрейма - данные о пользователях без подписки и данные с пользователями с подпиской, а также проанализировали данные о расстоянии и времени поездок для этих категорий. Можно сделать вывод, что пользователи без подписки совершают, в среднем, более долгие поездки на более длинные дистанции, это, возможно, связано с тем, что без подписки разовые поездки, такие как обзорные прогулки по городу, а по подписке регулярные задачи добираться по привычному маршруту.</li>\n",
    "<p>\n",
    "<li>После, мы создали датафрейм с агрегированными данными о поездках на основе датафрейма total. Нашли суммарное расстояние, количество поездок и суммарное время для каждого пользователя за каждый месяц, а также вычислили помесячную выручку для каждого пользователя, и в сумме видим, что за год выручка сервиса составила 3,8 млн. руб.\n",
    "</li>\n",
    "<p>\n",
    "<li>Затем были проверены некоторые гипотезы, которые могут помочь аналитикам принять решения о дальнейшем развитии сервиса. На их основе делаем выводы, что утверждение о том, что время поездки с платной подпиской равно времени поездки без подписки, неверно. Еще мы не можем утверждать, что расстояние одной поездки пользователей с подпиской не превышает 3130 метров. И проверив третью гипотезу, мы можем утверждать, что помесячная средняя выручка пользователей с подпиской больше помесячной средней выручки пользователей без подписки. После дано объяснение применения двухвыборочного t-теста для двух зависимых выборок: scipy.stats.ttest_rel(). Тут аргументы - два набора данных - парные выборки до и после изменения.</li>\n",
    "<p>\n",
    "<li>На основе всей проделанной работы, хочется дать рекомендации - рекламировать, предлагать платную подписку ultra все большему числу пользователей, так как пользователи с этой подпиской более выгодны для этого сервиса аренды самокатов.</li>"
   ]
  },
  {
   "cell_type": "markdown",
   "id": "e773bacc",
   "metadata": {},
   "source": [
    "<div class=\"alert alert-warning\">\n",
    "<h2> Комментарий ревьюера V1<a class=\"tocSkip\"> </h2>\n",
    "\n",
    "<b>Некоторые замечания и рекомендации💡:</b> В итоговом выводе нужно достаточно подробно написать основные пункты выявленных зависимостей. Стоит доработать вывод с учетом моих комментариев по ходу работы. В итоговом выводе также старайся оставлять рекомендации для последующих шагов. Например рекомендации, что можно обработать и проанализировать другие признаки, на что твоим коллегам стоить обратить внимание.\n",
    "    \n",
    "Важно структурировано писать вывод, разделять его на блоки, абзацы, выделять основные пункты визуально, сейчас сплошной текст, в нем сложно основные выводы увидеть. "
   ]
  },
  {
   "cell_type": "markdown",
   "id": "a1d3eccb",
   "metadata": {},
   "source": [
    "<div class=\"alert alert-success\">\n",
    "<h2> Комментарий ревьюера V2<a class=\"tocSkip\"> </h2>\n",
    "\n",
    "<b>Все отлично!👍:</b> Отличный вывод, все четко, понятно и структурировано. Вывод в полной мере отражает существующие зависимости, и по нему можно принимать дальнейшие решения.\n",
    "</div>"
   ]
  },
  {
   "cell_type": "markdown",
   "id": "a064702b",
   "metadata": {},
   "source": [
    "<div style=\"border:solid Chocolate 2px; padding: 40px\">\n",
    "\n",
    "**Общий вывод по проекту**\n",
    "\n",
    "Спасибо за твой проект! Я уверен, что ты приложила все усилия, чтобы сделать этот проект. Это видно по твоей работе, а сформулированные выводы отражают, насколько успешно ты осваиваешь материал.\n",
    "\n",
    "**Отмечу отдельные положительные моменты проекта🙂**:\n",
    "\n",
    "* Ты полностью следовала всем этапам выполнения задания и справилась почти со всем. Хорошая работа!\n",
    "* Отдельно выделю некоторые выводы, которые ты смогла сформулировать абсолютно точно!\n",
    "* У тебя опрятный и читаемый код. Возможно это звучит банально, однако при работе с чужим кодом это крайне важно)\n",
    "\n",
    "\n",
    "**На что стоит обратить внимание🤓**:\n",
    "\n",
    "* Важно доработать итоговый вывод.\n",
    "* Нужно скорректировать проверку гипотезы.\n",
    "* Остальные рекомендации ты найдешь в моих комментариях!\n",
    "\n",
    "\n",
    "**Желаю удачи и жду твой проект на повторное ревью!**😉"
   ]
  },
  {
   "cell_type": "markdown",
   "id": "ee4e8ff1",
   "metadata": {},
   "source": [
    "<div style=\"border:solid Chocolate 2px; padding: 40px\">\n",
    "\n",
    "Ты отлично справилась с данной работой! Видно, как ты успешно осваиваешь материал, применяешь полученные знания на практике. Мне было очень приятно проверять твою работу, надеюсь, мои комментарии и советы были для тебя полезными.\n",
    "\n",
    "**Желаю удачи в последующем обучении и исследованиях!**😉"
   ]
  },
  {
   "cell_type": "code",
   "execution_count": null,
   "id": "6e9d64c4",
   "metadata": {},
   "outputs": [],
   "source": []
  }
 ],
 "metadata": {
  "ExecuteTimeLog": [
   {
    "duration": 13,
    "start_time": "2024-07-11T16:36:54.424Z"
   },
   {
    "duration": 2,
    "start_time": "2024-07-11T16:37:04.418Z"
   },
   {
    "duration": 2,
    "start_time": "2024-07-11T16:37:06.423Z"
   },
   {
    "duration": 62,
    "start_time": "2024-07-11T16:56:03.834Z"
   },
   {
    "duration": 1320,
    "start_time": "2024-07-11T16:56:32.795Z"
   },
   {
    "duration": 211,
    "start_time": "2024-07-11T16:56:36.394Z"
   },
   {
    "duration": 64,
    "start_time": "2024-07-11T16:56:53.411Z"
   },
   {
    "duration": 3,
    "start_time": "2024-07-11T17:23:52.268Z"
   },
   {
    "duration": 13,
    "start_time": "2024-07-11T17:37:14.010Z"
   },
   {
    "duration": 11,
    "start_time": "2024-07-11T17:37:34.407Z"
   },
   {
    "duration": 12,
    "start_time": "2024-07-11T17:37:50.268Z"
   },
   {
    "duration": 9,
    "start_time": "2024-07-11T17:38:01.163Z"
   },
   {
    "duration": 11,
    "start_time": "2024-07-11T17:38:08.454Z"
   },
   {
    "duration": 7,
    "start_time": "2024-07-11T17:40:05.736Z"
   },
   {
    "duration": 14,
    "start_time": "2024-07-11T17:48:24.965Z"
   },
   {
    "duration": 14,
    "start_time": "2024-07-11T17:50:21.564Z"
   },
   {
    "duration": 5,
    "start_time": "2024-07-11T17:50:56.574Z"
   },
   {
    "duration": 3,
    "start_time": "2024-07-11T17:51:05.669Z"
   },
   {
    "duration": 131,
    "start_time": "2024-07-11T17:51:05.673Z"
   },
   {
    "duration": 8,
    "start_time": "2024-07-11T17:51:05.805Z"
   },
   {
    "duration": 43,
    "start_time": "2024-07-11T17:51:05.815Z"
   },
   {
    "duration": 59,
    "start_time": "2024-07-11T17:51:05.860Z"
   },
   {
    "duration": 6,
    "start_time": "2024-07-11T17:51:09.913Z"
   },
   {
    "duration": 48,
    "start_time": "2024-07-12T09:49:30.897Z"
   },
   {
    "duration": 1218,
    "start_time": "2024-07-12T09:49:41.914Z"
   },
   {
    "duration": 202,
    "start_time": "2024-07-12T09:49:44.855Z"
   },
   {
    "duration": 7,
    "start_time": "2024-07-12T09:52:47.245Z"
   },
   {
    "duration": 8,
    "start_time": "2024-07-12T09:52:50.169Z"
   },
   {
    "duration": 6,
    "start_time": "2024-07-12T09:53:45.241Z"
   },
   {
    "duration": 6,
    "start_time": "2024-07-12T09:55:16.092Z"
   },
   {
    "duration": 4,
    "start_time": "2024-07-12T09:56:56.646Z"
   },
   {
    "duration": 2,
    "start_time": "2024-07-12T10:07:23.298Z"
   },
   {
    "duration": 12,
    "start_time": "2024-07-12T10:08:06.328Z"
   },
   {
    "duration": 13,
    "start_time": "2024-07-12T10:09:34.532Z"
   },
   {
    "duration": 6,
    "start_time": "2024-07-12T10:09:54.628Z"
   },
   {
    "duration": 6,
    "start_time": "2024-07-12T10:10:13.101Z"
   },
   {
    "duration": 10,
    "start_time": "2024-07-12T10:21:53.429Z"
   },
   {
    "duration": 70,
    "start_time": "2024-07-12T10:22:20.456Z"
   },
   {
    "duration": 19,
    "start_time": "2024-07-12T10:22:29.121Z"
   },
   {
    "duration": 3,
    "start_time": "2024-07-12T10:28:15.495Z"
   },
   {
    "duration": 12,
    "start_time": "2024-07-12T10:29:51.941Z"
   },
   {
    "duration": 7,
    "start_time": "2024-07-12T10:30:57.767Z"
   },
   {
    "duration": 8,
    "start_time": "2024-07-12T10:31:08.250Z"
   },
   {
    "duration": 6,
    "start_time": "2024-07-12T10:31:44.160Z"
   },
   {
    "duration": 5,
    "start_time": "2024-07-12T10:32:09.172Z"
   },
   {
    "duration": 83,
    "start_time": "2024-07-12T10:33:00.537Z"
   },
   {
    "duration": 3,
    "start_time": "2024-07-12T10:33:50.647Z"
   },
   {
    "duration": 1278,
    "start_time": "2024-07-12T12:35:23.607Z"
   },
   {
    "duration": 287,
    "start_time": "2024-07-12T12:35:24.888Z"
   },
   {
    "duration": 116,
    "start_time": "2024-07-12T13:11:06.919Z"
   },
   {
    "duration": 9,
    "start_time": "2024-07-12T13:11:18.754Z"
   },
   {
    "duration": 56,
    "start_time": "2024-07-12T13:11:33.544Z"
   },
   {
    "duration": 156,
    "start_time": "2024-07-12T13:11:46.840Z"
   },
   {
    "duration": 132,
    "start_time": "2024-07-12T13:12:54.548Z"
   },
   {
    "duration": 149,
    "start_time": "2024-07-12T13:13:16.730Z"
   },
   {
    "duration": 165,
    "start_time": "2024-07-12T13:14:00.657Z"
   },
   {
    "duration": 150,
    "start_time": "2024-07-12T13:14:57.246Z"
   },
   {
    "duration": 163,
    "start_time": "2024-07-12T13:15:03.006Z"
   },
   {
    "duration": 79,
    "start_time": "2024-07-12T13:23:21.358Z"
   },
   {
    "duration": 77,
    "start_time": "2024-07-12T13:23:45.293Z"
   },
   {
    "duration": 89,
    "start_time": "2024-07-12T13:27:01.214Z"
   },
   {
    "duration": 154,
    "start_time": "2024-07-12T13:27:45.872Z"
   },
   {
    "duration": 94,
    "start_time": "2024-07-12T13:29:14.165Z"
   },
   {
    "duration": 81,
    "start_time": "2024-07-12T13:29:37.783Z"
   },
   {
    "duration": 11,
    "start_time": "2024-07-12T13:33:21.477Z"
   },
   {
    "duration": 168,
    "start_time": "2024-07-12T13:33:30.240Z"
   },
   {
    "duration": 178,
    "start_time": "2024-07-12T13:35:22.748Z"
   },
   {
    "duration": 9,
    "start_time": "2024-07-12T13:37:24.284Z"
   },
   {
    "duration": 4,
    "start_time": "2024-07-12T13:38:09.036Z"
   },
   {
    "duration": 257,
    "start_time": "2024-07-12T13:55:15.502Z"
   },
   {
    "duration": 263,
    "start_time": "2024-07-12T13:57:11.237Z"
   },
   {
    "duration": 285,
    "start_time": "2024-07-12T14:01:15.651Z"
   },
   {
    "duration": 3,
    "start_time": "2024-07-12T14:02:39.431Z"
   },
   {
    "duration": 298,
    "start_time": "2024-07-12T14:06:55.457Z"
   },
   {
    "duration": 200,
    "start_time": "2024-07-12T14:09:04.501Z"
   },
   {
    "duration": 24,
    "start_time": "2024-07-12T14:36:29.026Z"
   },
   {
    "duration": 24,
    "start_time": "2024-07-12T14:36:54.384Z"
   },
   {
    "duration": 20,
    "start_time": "2024-07-12T14:38:50.506Z"
   },
   {
    "duration": 19,
    "start_time": "2024-07-12T14:38:59.315Z"
   },
   {
    "duration": 21,
    "start_time": "2024-07-12T14:48:53.817Z"
   },
   {
    "duration": 19,
    "start_time": "2024-07-12T14:49:12.839Z"
   },
   {
    "duration": 19,
    "start_time": "2024-07-12T14:49:19.534Z"
   },
   {
    "duration": 20,
    "start_time": "2024-07-12T15:04:02.701Z"
   },
   {
    "duration": 26,
    "start_time": "2024-07-12T15:04:33.600Z"
   },
   {
    "duration": 19,
    "start_time": "2024-07-12T15:04:55.532Z"
   },
   {
    "duration": 20,
    "start_time": "2024-07-12T15:09:25.238Z"
   },
   {
    "duration": 20,
    "start_time": "2024-07-12T15:15:27.760Z"
   },
   {
    "duration": 25,
    "start_time": "2024-07-12T15:18:57.299Z"
   },
   {
    "duration": 15,
    "start_time": "2024-07-12T15:19:13.400Z"
   },
   {
    "duration": 22,
    "start_time": "2024-07-12T15:19:33.656Z"
   },
   {
    "duration": 14,
    "start_time": "2024-07-12T15:20:51.450Z"
   },
   {
    "duration": 16,
    "start_time": "2024-07-12T15:20:57.277Z"
   },
   {
    "duration": 1205,
    "start_time": "2024-07-13T10:37:41.179Z"
   },
   {
    "duration": 294,
    "start_time": "2024-07-13T10:37:42.386Z"
   },
   {
    "duration": 11,
    "start_time": "2024-07-13T10:37:42.682Z"
   },
   {
    "duration": 10,
    "start_time": "2024-07-13T10:37:42.695Z"
   },
   {
    "duration": 6,
    "start_time": "2024-07-13T10:37:42.707Z"
   },
   {
    "duration": 16,
    "start_time": "2024-07-13T10:37:42.714Z"
   },
   {
    "duration": 4,
    "start_time": "2024-07-13T10:37:42.732Z"
   },
   {
    "duration": 67,
    "start_time": "2024-07-13T10:37:42.737Z"
   },
   {
    "duration": 17,
    "start_time": "2024-07-13T10:37:42.806Z"
   },
   {
    "duration": 11,
    "start_time": "2024-07-13T10:37:42.825Z"
   },
   {
    "duration": 4,
    "start_time": "2024-07-13T10:37:42.838Z"
   },
   {
    "duration": 9,
    "start_time": "2024-07-13T10:37:42.843Z"
   },
   {
    "duration": 19,
    "start_time": "2024-07-13T10:37:42.853Z"
   },
   {
    "duration": 6,
    "start_time": "2024-07-13T10:37:42.874Z"
   },
   {
    "duration": 34,
    "start_time": "2024-07-13T10:37:42.881Z"
   },
   {
    "duration": 13,
    "start_time": "2024-07-13T10:37:42.916Z"
   },
   {
    "duration": 5,
    "start_time": "2024-07-13T10:37:42.931Z"
   },
   {
    "duration": 160,
    "start_time": "2024-07-13T10:37:42.938Z"
   },
   {
    "duration": 87,
    "start_time": "2024-07-13T10:37:43.100Z"
   },
   {
    "duration": 3,
    "start_time": "2024-07-13T10:37:43.189Z"
   },
   {
    "duration": 140,
    "start_time": "2024-07-13T10:37:45.437Z"
   },
   {
    "duration": 15,
    "start_time": "2024-07-13T10:39:28.444Z"
   },
   {
    "duration": 18,
    "start_time": "2024-07-13T10:39:28.461Z"
   },
   {
    "duration": 11,
    "start_time": "2024-07-13T10:39:28.480Z"
   },
   {
    "duration": 3,
    "start_time": "2024-07-13T10:39:39.074Z"
   },
   {
    "duration": 87,
    "start_time": "2024-07-13T10:39:39.079Z"
   },
   {
    "duration": 7,
    "start_time": "2024-07-13T10:39:39.169Z"
   },
   {
    "duration": 10,
    "start_time": "2024-07-13T10:39:39.178Z"
   },
   {
    "duration": 5,
    "start_time": "2024-07-13T10:39:39.191Z"
   },
   {
    "duration": 7,
    "start_time": "2024-07-13T10:39:39.197Z"
   },
   {
    "duration": 6,
    "start_time": "2024-07-13T10:39:39.205Z"
   },
   {
    "duration": 16,
    "start_time": "2024-07-13T10:39:39.212Z"
   },
   {
    "duration": 7,
    "start_time": "2024-07-13T10:39:39.230Z"
   },
   {
    "duration": 10,
    "start_time": "2024-07-13T10:39:39.238Z"
   },
   {
    "duration": 4,
    "start_time": "2024-07-13T10:39:39.249Z"
   },
   {
    "duration": 7,
    "start_time": "2024-07-13T10:39:39.254Z"
   },
   {
    "duration": 12,
    "start_time": "2024-07-13T10:39:39.262Z"
   },
   {
    "duration": 5,
    "start_time": "2024-07-13T10:39:39.276Z"
   },
   {
    "duration": 38,
    "start_time": "2024-07-13T10:39:39.282Z"
   },
   {
    "duration": 6,
    "start_time": "2024-07-13T10:39:39.323Z"
   },
   {
    "duration": 12,
    "start_time": "2024-07-13T10:39:39.330Z"
   },
   {
    "duration": 149,
    "start_time": "2024-07-13T10:39:39.344Z"
   },
   {
    "duration": 92,
    "start_time": "2024-07-13T10:39:39.494Z"
   },
   {
    "duration": 3,
    "start_time": "2024-07-13T10:39:39.588Z"
   },
   {
    "duration": 153,
    "start_time": "2024-07-13T10:39:39.593Z"
   },
   {
    "duration": 257,
    "start_time": "2024-07-13T10:39:39.747Z"
   },
   {
    "duration": 189,
    "start_time": "2024-07-13T10:39:40.005Z"
   },
   {
    "duration": 24,
    "start_time": "2024-07-13T10:39:51.421Z"
   },
   {
    "duration": 11,
    "start_time": "2024-07-13T10:39:55.343Z"
   },
   {
    "duration": 807,
    "start_time": "2024-07-13T10:46:58.880Z"
   },
   {
    "duration": 5,
    "start_time": "2024-07-13T10:48:00.167Z"
   },
   {
    "duration": 15,
    "start_time": "2024-07-13T10:48:19.576Z"
   },
   {
    "duration": 73,
    "start_time": "2024-07-13T11:03:15.660Z"
   },
   {
    "duration": 6,
    "start_time": "2024-07-13T11:03:42.919Z"
   },
   {
    "duration": 262,
    "start_time": "2024-07-13T11:03:52.938Z"
   },
   {
    "duration": 232,
    "start_time": "2024-07-13T11:04:18.577Z"
   },
   {
    "duration": 243,
    "start_time": "2024-07-13T11:04:45.218Z"
   },
   {
    "duration": 242,
    "start_time": "2024-07-13T11:05:55.609Z"
   },
   {
    "duration": 10,
    "start_time": "2024-07-13T11:10:37.246Z"
   },
   {
    "duration": 13,
    "start_time": "2024-07-13T11:17:15.157Z"
   },
   {
    "duration": 210,
    "start_time": "2024-07-13T11:17:21.554Z"
   },
   {
    "duration": 271,
    "start_time": "2024-07-13T11:17:59.888Z"
   },
   {
    "duration": 224,
    "start_time": "2024-07-13T11:18:41.601Z"
   },
   {
    "duration": 216,
    "start_time": "2024-07-13T11:18:50.425Z"
   },
   {
    "duration": 1230,
    "start_time": "2024-07-13T14:21:22.571Z"
   },
   {
    "duration": 326,
    "start_time": "2024-07-13T14:21:23.803Z"
   },
   {
    "duration": 16,
    "start_time": "2024-07-13T14:21:24.143Z"
   },
   {
    "duration": 14,
    "start_time": "2024-07-13T14:21:24.161Z"
   },
   {
    "duration": 10,
    "start_time": "2024-07-13T14:21:24.177Z"
   },
   {
    "duration": 6,
    "start_time": "2024-07-13T14:21:24.188Z"
   },
   {
    "duration": 32,
    "start_time": "2024-07-13T14:21:24.195Z"
   },
   {
    "duration": 37,
    "start_time": "2024-07-13T14:21:24.228Z"
   },
   {
    "duration": 21,
    "start_time": "2024-07-13T14:21:24.267Z"
   },
   {
    "duration": 11,
    "start_time": "2024-07-13T14:21:24.290Z"
   },
   {
    "duration": 7,
    "start_time": "2024-07-13T14:21:24.303Z"
   },
   {
    "duration": 10,
    "start_time": "2024-07-13T14:21:24.311Z"
   },
   {
    "duration": 32,
    "start_time": "2024-07-13T14:21:24.323Z"
   },
   {
    "duration": 6,
    "start_time": "2024-07-13T14:21:24.359Z"
   },
   {
    "duration": 15,
    "start_time": "2024-07-13T14:21:24.366Z"
   },
   {
    "duration": 5,
    "start_time": "2024-07-13T14:21:24.383Z"
   },
   {
    "duration": 11,
    "start_time": "2024-07-13T14:21:24.390Z"
   },
   {
    "duration": 170,
    "start_time": "2024-07-13T14:21:24.402Z"
   },
   {
    "duration": 88,
    "start_time": "2024-07-13T14:21:24.573Z"
   },
   {
    "duration": 4,
    "start_time": "2024-07-13T14:21:24.662Z"
   },
   {
    "duration": 182,
    "start_time": "2024-07-13T14:21:24.667Z"
   },
   {
    "duration": 250,
    "start_time": "2024-07-13T14:21:24.851Z"
   },
   {
    "duration": 239,
    "start_time": "2024-07-13T14:21:25.106Z"
   },
   {
    "duration": 19,
    "start_time": "2024-07-13T14:21:25.348Z"
   },
   {
    "duration": 18,
    "start_time": "2024-07-13T14:21:25.368Z"
   },
   {
    "duration": 13,
    "start_time": "2024-07-13T14:21:25.387Z"
   },
   {
    "duration": 61,
    "start_time": "2024-07-13T14:21:25.401Z"
   },
   {
    "duration": 265,
    "start_time": "2024-07-13T14:21:25.464Z"
   },
   {
    "duration": 279,
    "start_time": "2024-07-13T14:21:25.730Z"
   },
   {
    "duration": 36,
    "start_time": "2024-07-13T14:21:26.013Z"
   },
   {
    "duration": 222,
    "start_time": "2024-07-13T14:21:26.051Z"
   },
   {
    "duration": 235,
    "start_time": "2024-07-13T14:21:26.275Z"
   },
   {
    "duration": 884,
    "start_time": "2024-07-13T14:32:55.173Z"
   },
   {
    "duration": 48,
    "start_time": "2024-07-13T14:39:20.291Z"
   },
   {
    "duration": 54,
    "start_time": "2024-07-13T14:54:12.840Z"
   },
   {
    "duration": 999,
    "start_time": "2024-07-13T14:54:48.229Z"
   },
   {
    "duration": 4,
    "start_time": "2024-07-13T14:56:05.873Z"
   },
   {
    "duration": 12,
    "start_time": "2024-07-13T14:56:55.304Z"
   },
   {
    "duration": 1050,
    "start_time": "2024-07-13T15:00:59.830Z"
   },
   {
    "duration": 1124,
    "start_time": "2024-07-13T15:01:24.612Z"
   },
   {
    "duration": 36,
    "start_time": "2024-07-13T15:10:19.292Z"
   },
   {
    "duration": 29,
    "start_time": "2024-07-13T15:10:54.724Z"
   },
   {
    "duration": 16,
    "start_time": "2024-07-13T15:11:20.206Z"
   },
   {
    "duration": 11,
    "start_time": "2024-07-13T15:11:40.045Z"
   },
   {
    "duration": 64,
    "start_time": "2024-07-13T15:15:10.367Z"
   },
   {
    "duration": 12,
    "start_time": "2024-07-13T15:17:58.863Z"
   },
   {
    "duration": 56,
    "start_time": "2024-07-13T15:26:33.417Z"
   },
   {
    "duration": 12,
    "start_time": "2024-07-13T15:26:46.965Z"
   },
   {
    "duration": 5,
    "start_time": "2024-07-13T15:30:01.978Z"
   },
   {
    "duration": 12,
    "start_time": "2024-07-13T15:30:24.083Z"
   },
   {
    "duration": 4,
    "start_time": "2024-07-13T15:31:29.258Z"
   },
   {
    "duration": 3,
    "start_time": "2024-07-13T15:37:40.726Z"
   },
   {
    "duration": 71,
    "start_time": "2024-07-13T18:18:03.764Z"
   },
   {
    "duration": 49,
    "start_time": "2024-07-13T18:18:14.497Z"
   },
   {
    "duration": 1314,
    "start_time": "2024-07-13T18:18:22.241Z"
   },
   {
    "duration": 285,
    "start_time": "2024-07-13T18:18:23.557Z"
   },
   {
    "duration": 18,
    "start_time": "2024-07-13T18:18:23.845Z"
   },
   {
    "duration": 15,
    "start_time": "2024-07-13T18:18:23.864Z"
   },
   {
    "duration": 24,
    "start_time": "2024-07-13T18:18:23.881Z"
   },
   {
    "duration": 23,
    "start_time": "2024-07-13T18:18:23.907Z"
   },
   {
    "duration": 40,
    "start_time": "2024-07-13T18:18:23.932Z"
   },
   {
    "duration": 11,
    "start_time": "2024-07-13T18:18:23.974Z"
   },
   {
    "duration": 28,
    "start_time": "2024-07-13T18:18:23.989Z"
   },
   {
    "duration": 13,
    "start_time": "2024-07-13T18:18:24.018Z"
   },
   {
    "duration": 6,
    "start_time": "2024-07-13T18:18:24.033Z"
   },
   {
    "duration": 7,
    "start_time": "2024-07-13T18:18:24.041Z"
   },
   {
    "duration": 37,
    "start_time": "2024-07-13T18:18:24.050Z"
   },
   {
    "duration": 10,
    "start_time": "2024-07-13T18:18:24.091Z"
   },
   {
    "duration": 16,
    "start_time": "2024-07-13T18:18:24.103Z"
   },
   {
    "duration": 9,
    "start_time": "2024-07-13T18:18:24.121Z"
   },
   {
    "duration": 7,
    "start_time": "2024-07-13T18:18:24.132Z"
   },
   {
    "duration": 216,
    "start_time": "2024-07-13T18:18:24.141Z"
   },
   {
    "duration": 120,
    "start_time": "2024-07-13T18:18:24.358Z"
   },
   {
    "duration": 11,
    "start_time": "2024-07-13T18:18:24.483Z"
   },
   {
    "duration": 194,
    "start_time": "2024-07-13T18:18:24.499Z"
   },
   {
    "duration": 301,
    "start_time": "2024-07-13T18:18:24.694Z"
   },
   {
    "duration": 234,
    "start_time": "2024-07-13T18:18:24.996Z"
   },
   {
    "duration": 19,
    "start_time": "2024-07-13T18:18:25.232Z"
   },
   {
    "duration": 43,
    "start_time": "2024-07-13T18:18:25.253Z"
   },
   {
    "duration": 14,
    "start_time": "2024-07-13T18:18:25.297Z"
   },
   {
    "duration": 16,
    "start_time": "2024-07-13T18:18:25.313Z"
   },
   {
    "duration": 318,
    "start_time": "2024-07-13T18:18:25.331Z"
   },
   {
    "duration": 272,
    "start_time": "2024-07-13T18:18:25.651Z"
   },
   {
    "duration": 18,
    "start_time": "2024-07-13T18:18:25.924Z"
   },
   {
    "duration": 269,
    "start_time": "2024-07-13T18:18:25.944Z"
   },
   {
    "duration": 304,
    "start_time": "2024-07-13T18:18:26.215Z"
   },
   {
    "duration": 47,
    "start_time": "2024-07-13T18:18:26.521Z"
   },
   {
    "duration": 38,
    "start_time": "2024-07-13T18:18:26.569Z"
   },
   {
    "duration": 13,
    "start_time": "2024-07-13T18:18:26.608Z"
   },
   {
    "duration": 6,
    "start_time": "2024-07-13T18:18:26.622Z"
   },
   {
    "duration": 23,
    "start_time": "2024-07-13T18:18:26.630Z"
   },
   {
    "duration": 6,
    "start_time": "2024-07-13T18:41:26.532Z"
   },
   {
    "duration": 6,
    "start_time": "2024-07-13T18:41:53.771Z"
   },
   {
    "duration": 4,
    "start_time": "2024-07-13T19:14:10.908Z"
   },
   {
    "duration": 96,
    "start_time": "2024-07-13T19:14:10.914Z"
   },
   {
    "duration": 10,
    "start_time": "2024-07-13T19:14:11.011Z"
   },
   {
    "duration": 47,
    "start_time": "2024-07-13T19:14:11.023Z"
   },
   {
    "duration": 6,
    "start_time": "2024-07-13T19:14:11.072Z"
   },
   {
    "duration": 16,
    "start_time": "2024-07-13T19:14:11.080Z"
   },
   {
    "duration": 5,
    "start_time": "2024-07-13T19:14:11.098Z"
   },
   {
    "duration": 6,
    "start_time": "2024-07-13T19:14:11.104Z"
   },
   {
    "duration": 10,
    "start_time": "2024-07-13T19:14:11.111Z"
   },
   {
    "duration": 16,
    "start_time": "2024-07-13T19:14:11.123Z"
   },
   {
    "duration": 9,
    "start_time": "2024-07-13T19:14:11.140Z"
   },
   {
    "duration": 5,
    "start_time": "2024-07-13T19:14:11.150Z"
   },
   {
    "duration": 41,
    "start_time": "2024-07-13T19:14:11.157Z"
   },
   {
    "duration": 7,
    "start_time": "2024-07-13T19:14:11.201Z"
   },
   {
    "duration": 11,
    "start_time": "2024-07-13T19:14:11.210Z"
   },
   {
    "duration": 7,
    "start_time": "2024-07-13T19:14:11.223Z"
   },
   {
    "duration": 7,
    "start_time": "2024-07-13T19:14:11.232Z"
   },
   {
    "duration": 200,
    "start_time": "2024-07-13T19:14:11.240Z"
   },
   {
    "duration": 94,
    "start_time": "2024-07-13T19:14:11.442Z"
   },
   {
    "duration": 4,
    "start_time": "2024-07-13T19:14:11.538Z"
   },
   {
    "duration": 194,
    "start_time": "2024-07-13T19:14:11.544Z"
   },
   {
    "duration": 422,
    "start_time": "2024-07-13T19:14:11.739Z"
   },
   {
    "duration": 237,
    "start_time": "2024-07-13T19:14:12.163Z"
   },
   {
    "duration": 18,
    "start_time": "2024-07-13T19:14:12.402Z"
   },
   {
    "duration": 17,
    "start_time": "2024-07-13T19:14:12.422Z"
   },
   {
    "duration": 13,
    "start_time": "2024-07-13T19:14:12.441Z"
   },
   {
    "duration": 65,
    "start_time": "2024-07-13T19:14:12.455Z"
   },
   {
    "duration": 282,
    "start_time": "2024-07-13T19:14:12.522Z"
   },
   {
    "duration": 254,
    "start_time": "2024-07-13T19:14:12.809Z"
   },
   {
    "duration": 30,
    "start_time": "2024-07-13T19:14:13.065Z"
   },
   {
    "duration": 243,
    "start_time": "2024-07-13T19:14:13.096Z"
   },
   {
    "duration": 271,
    "start_time": "2024-07-13T19:14:13.340Z"
   },
   {
    "duration": 48,
    "start_time": "2024-07-13T19:14:13.613Z"
   },
   {
    "duration": 35,
    "start_time": "2024-07-13T19:14:13.663Z"
   },
   {
    "duration": 13,
    "start_time": "2024-07-13T19:14:13.699Z"
   },
   {
    "duration": 10,
    "start_time": "2024-07-13T19:14:13.713Z"
   },
   {
    "duration": 26,
    "start_time": "2024-07-13T19:14:13.724Z"
   },
   {
    "duration": 9,
    "start_time": "2024-07-13T19:14:13.752Z"
   },
   {
    "duration": 6,
    "start_time": "2024-07-13T19:24:02.054Z"
   },
   {
    "duration": 70,
    "start_time": "2024-07-13T19:33:29.077Z"
   },
   {
    "duration": 3,
    "start_time": "2024-07-13T19:33:37.419Z"
   },
   {
    "duration": 69,
    "start_time": "2024-07-13T19:33:37.424Z"
   },
   {
    "duration": 9,
    "start_time": "2024-07-13T19:33:37.495Z"
   },
   {
    "duration": 14,
    "start_time": "2024-07-13T19:33:37.505Z"
   },
   {
    "duration": 11,
    "start_time": "2024-07-13T19:33:37.521Z"
   },
   {
    "duration": 7,
    "start_time": "2024-07-13T19:33:37.533Z"
   },
   {
    "duration": 5,
    "start_time": "2024-07-13T19:33:37.542Z"
   },
   {
    "duration": 6,
    "start_time": "2024-07-13T19:33:37.549Z"
   },
   {
    "duration": 27,
    "start_time": "2024-07-13T19:33:37.556Z"
   },
   {
    "duration": 12,
    "start_time": "2024-07-13T19:33:37.585Z"
   },
   {
    "duration": 7,
    "start_time": "2024-07-13T19:33:37.599Z"
   },
   {
    "duration": 133,
    "start_time": "2024-07-13T19:33:37.607Z"
   },
   {
    "duration": 17,
    "start_time": "2024-07-13T19:33:37.742Z"
   },
   {
    "duration": 21,
    "start_time": "2024-07-13T19:33:37.762Z"
   },
   {
    "duration": 18,
    "start_time": "2024-07-13T19:33:37.785Z"
   },
   {
    "duration": 6,
    "start_time": "2024-07-13T19:33:37.805Z"
   },
   {
    "duration": 7,
    "start_time": "2024-07-13T19:33:37.812Z"
   },
   {
    "duration": 189,
    "start_time": "2024-07-13T19:33:37.821Z"
   },
   {
    "duration": 101,
    "start_time": "2024-07-13T19:33:38.012Z"
   },
   {
    "duration": 5,
    "start_time": "2024-07-13T19:33:38.115Z"
   },
   {
    "duration": 189,
    "start_time": "2024-07-13T19:33:38.121Z"
   },
   {
    "duration": 298,
    "start_time": "2024-07-13T19:33:38.312Z"
   },
   {
    "duration": 229,
    "start_time": "2024-07-13T19:33:38.612Z"
   },
   {
    "duration": 19,
    "start_time": "2024-07-13T19:33:38.843Z"
   },
   {
    "duration": 33,
    "start_time": "2024-07-13T19:33:38.865Z"
   },
   {
    "duration": 15,
    "start_time": "2024-07-13T19:33:38.900Z"
   },
   {
    "duration": 17,
    "start_time": "2024-07-13T19:33:38.916Z"
   },
   {
    "duration": 274,
    "start_time": "2024-07-13T19:33:38.934Z"
   },
   {
    "duration": 247,
    "start_time": "2024-07-13T19:33:39.210Z"
   },
   {
    "duration": 29,
    "start_time": "2024-07-13T19:33:39.460Z"
   },
   {
    "duration": 338,
    "start_time": "2024-07-13T19:33:39.492Z"
   },
   {
    "duration": 288,
    "start_time": "2024-07-13T19:33:39.832Z"
   },
   {
    "duration": 45,
    "start_time": "2024-07-13T19:33:40.122Z"
   },
   {
    "duration": 22,
    "start_time": "2024-07-13T19:33:40.169Z"
   },
   {
    "duration": 14,
    "start_time": "2024-07-13T19:33:40.193Z"
   },
   {
    "duration": 12,
    "start_time": "2024-07-13T19:33:40.209Z"
   },
   {
    "duration": 7,
    "start_time": "2024-07-13T19:33:40.223Z"
   },
   {
    "duration": 6,
    "start_time": "2024-07-13T19:33:40.232Z"
   },
   {
    "duration": 81,
    "start_time": "2024-07-13T19:36:01.399Z"
   },
   {
    "duration": 983,
    "start_time": "2024-07-13T19:36:46.104Z"
   },
   {
    "duration": 17,
    "start_time": "2024-07-13T19:40:47.278Z"
   },
   {
    "duration": 4,
    "start_time": "2024-07-13T19:46:00.551Z"
   },
   {
    "duration": 158,
    "start_time": "2024-07-13T19:46:00.557Z"
   },
   {
    "duration": 10,
    "start_time": "2024-07-13T19:46:00.717Z"
   },
   {
    "duration": 82,
    "start_time": "2024-07-13T19:46:00.728Z"
   },
   {
    "duration": 80,
    "start_time": "2024-07-13T19:46:00.812Z"
   },
   {
    "duration": 110,
    "start_time": "2024-07-13T19:46:00.894Z"
   },
   {
    "duration": 49,
    "start_time": "2024-07-13T19:46:01.006Z"
   },
   {
    "duration": 42,
    "start_time": "2024-07-13T19:46:01.057Z"
   },
   {
    "duration": 27,
    "start_time": "2024-07-13T19:46:01.101Z"
   },
   {
    "duration": 31,
    "start_time": "2024-07-13T19:46:01.129Z"
   },
   {
    "duration": 47,
    "start_time": "2024-07-13T19:46:01.163Z"
   },
   {
    "duration": 188,
    "start_time": "2024-07-13T19:46:01.213Z"
   },
   {
    "duration": 74,
    "start_time": "2024-07-13T19:46:01.403Z"
   },
   {
    "duration": 33,
    "start_time": "2024-07-13T19:46:01.479Z"
   },
   {
    "duration": 37,
    "start_time": "2024-07-13T19:46:01.513Z"
   },
   {
    "duration": 39,
    "start_time": "2024-07-13T19:46:01.552Z"
   },
   {
    "duration": 41,
    "start_time": "2024-07-13T19:46:01.593Z"
   },
   {
    "duration": 187,
    "start_time": "2024-07-13T19:46:01.635Z"
   },
   {
    "duration": 95,
    "start_time": "2024-07-13T19:46:01.823Z"
   },
   {
    "duration": 4,
    "start_time": "2024-07-13T19:46:01.920Z"
   },
   {
    "duration": 183,
    "start_time": "2024-07-13T19:46:01.926Z"
   },
   {
    "duration": 286,
    "start_time": "2024-07-13T19:46:02.111Z"
   },
   {
    "duration": 234,
    "start_time": "2024-07-13T19:46:02.398Z"
   },
   {
    "duration": 21,
    "start_time": "2024-07-13T19:46:02.634Z"
   },
   {
    "duration": 35,
    "start_time": "2024-07-13T19:46:02.657Z"
   },
   {
    "duration": 15,
    "start_time": "2024-07-13T19:46:02.694Z"
   },
   {
    "duration": 17,
    "start_time": "2024-07-13T19:46:02.711Z"
   },
   {
    "duration": 285,
    "start_time": "2024-07-13T19:46:02.730Z"
   },
   {
    "duration": 368,
    "start_time": "2024-07-13T19:46:03.018Z"
   },
   {
    "duration": 16,
    "start_time": "2024-07-13T19:46:03.388Z"
   },
   {
    "duration": 265,
    "start_time": "2024-07-13T19:46:03.405Z"
   },
   {
    "duration": 292,
    "start_time": "2024-07-13T19:46:03.672Z"
   },
   {
    "duration": 58,
    "start_time": "2024-07-13T19:46:03.966Z"
   },
   {
    "duration": 12,
    "start_time": "2024-07-13T19:46:04.025Z"
   },
   {
    "duration": 13,
    "start_time": "2024-07-13T19:46:04.038Z"
   },
   {
    "duration": 30,
    "start_time": "2024-07-13T19:46:04.053Z"
   },
   {
    "duration": 6,
    "start_time": "2024-07-13T19:46:04.085Z"
   },
   {
    "duration": 6,
    "start_time": "2024-07-13T19:46:04.093Z"
   },
   {
    "duration": 9,
    "start_time": "2024-07-13T19:46:04.100Z"
   },
   {
    "duration": 3,
    "start_time": "2024-07-13T20:08:36.121Z"
   },
   {
    "duration": 69,
    "start_time": "2024-07-13T20:08:36.127Z"
   },
   {
    "duration": 10,
    "start_time": "2024-07-13T20:08:36.198Z"
   },
   {
    "duration": 12,
    "start_time": "2024-07-13T20:08:36.210Z"
   },
   {
    "duration": 13,
    "start_time": "2024-07-13T20:08:36.224Z"
   },
   {
    "duration": 7,
    "start_time": "2024-07-13T20:08:36.238Z"
   },
   {
    "duration": 10,
    "start_time": "2024-07-13T20:08:36.246Z"
   },
   {
    "duration": 5,
    "start_time": "2024-07-13T20:08:36.257Z"
   },
   {
    "duration": 29,
    "start_time": "2024-07-13T20:08:36.264Z"
   },
   {
    "duration": 13,
    "start_time": "2024-07-13T20:08:36.295Z"
   },
   {
    "duration": 5,
    "start_time": "2024-07-13T20:08:36.309Z"
   },
   {
    "duration": 21,
    "start_time": "2024-07-13T20:08:36.316Z"
   },
   {
    "duration": 22,
    "start_time": "2024-07-13T20:08:36.338Z"
   },
   {
    "duration": 7,
    "start_time": "2024-07-13T20:08:36.362Z"
   },
   {
    "duration": 27,
    "start_time": "2024-07-13T20:08:36.370Z"
   },
   {
    "duration": 11,
    "start_time": "2024-07-13T20:08:36.398Z"
   },
   {
    "duration": 7,
    "start_time": "2024-07-13T20:08:36.410Z"
   },
   {
    "duration": 189,
    "start_time": "2024-07-13T20:08:36.419Z"
   },
   {
    "duration": 102,
    "start_time": "2024-07-13T20:08:36.609Z"
   },
   {
    "duration": 5,
    "start_time": "2024-07-13T20:08:36.713Z"
   },
   {
    "duration": 192,
    "start_time": "2024-07-13T20:08:36.719Z"
   },
   {
    "duration": 305,
    "start_time": "2024-07-13T20:08:36.913Z"
   },
   {
    "duration": 230,
    "start_time": "2024-07-13T20:08:37.220Z"
   },
   {
    "duration": 19,
    "start_time": "2024-07-13T20:08:37.452Z"
   },
   {
    "duration": 55,
    "start_time": "2024-07-13T20:08:37.482Z"
   },
   {
    "duration": 23,
    "start_time": "2024-07-13T20:08:37.539Z"
   },
   {
    "duration": 25,
    "start_time": "2024-07-13T20:08:37.564Z"
   },
   {
    "duration": 428,
    "start_time": "2024-07-13T20:08:37.591Z"
   },
   {
    "duration": 275,
    "start_time": "2024-07-13T20:08:38.022Z"
   },
   {
    "duration": 16,
    "start_time": "2024-07-13T20:08:38.300Z"
   },
   {
    "duration": 273,
    "start_time": "2024-07-13T20:08:38.318Z"
   },
   {
    "duration": 260,
    "start_time": "2024-07-13T20:08:38.593Z"
   },
   {
    "duration": 51,
    "start_time": "2024-07-13T20:08:38.855Z"
   },
   {
    "duration": 11,
    "start_time": "2024-07-13T20:08:38.908Z"
   },
   {
    "duration": 16,
    "start_time": "2024-07-13T20:08:38.921Z"
   },
   {
    "duration": 4,
    "start_time": "2024-07-13T20:08:38.940Z"
   },
   {
    "duration": 12,
    "start_time": "2024-07-13T20:08:38.946Z"
   },
   {
    "duration": 31,
    "start_time": "2024-07-13T20:08:38.960Z"
   },
   {
    "duration": 8,
    "start_time": "2024-07-13T20:08:38.993Z"
   },
   {
    "duration": 1297,
    "start_time": "2024-07-14T07:48:23.154Z"
   },
   {
    "duration": 291,
    "start_time": "2024-07-14T07:48:24.453Z"
   },
   {
    "duration": 13,
    "start_time": "2024-07-14T07:48:24.745Z"
   },
   {
    "duration": 12,
    "start_time": "2024-07-14T07:48:24.759Z"
   },
   {
    "duration": 6,
    "start_time": "2024-07-14T07:48:24.773Z"
   },
   {
    "duration": 7,
    "start_time": "2024-07-14T07:48:24.780Z"
   },
   {
    "duration": 5,
    "start_time": "2024-07-14T07:48:24.788Z"
   },
   {
    "duration": 9,
    "start_time": "2024-07-14T07:48:24.794Z"
   },
   {
    "duration": 13,
    "start_time": "2024-07-14T07:48:24.805Z"
   },
   {
    "duration": 26,
    "start_time": "2024-07-14T07:48:24.819Z"
   },
   {
    "duration": 6,
    "start_time": "2024-07-14T07:48:24.846Z"
   },
   {
    "duration": 14,
    "start_time": "2024-07-14T07:48:24.853Z"
   },
   {
    "duration": 17,
    "start_time": "2024-07-14T07:48:24.882Z"
   },
   {
    "duration": 6,
    "start_time": "2024-07-14T07:48:24.902Z"
   },
   {
    "duration": 13,
    "start_time": "2024-07-14T07:48:24.910Z"
   },
   {
    "duration": 9,
    "start_time": "2024-07-14T07:48:24.924Z"
   },
   {
    "duration": 11,
    "start_time": "2024-07-14T07:48:24.934Z"
   },
   {
    "duration": 203,
    "start_time": "2024-07-14T07:48:24.947Z"
   },
   {
    "duration": 99,
    "start_time": "2024-07-14T07:48:25.153Z"
   },
   {
    "duration": 4,
    "start_time": "2024-07-14T07:48:25.253Z"
   },
   {
    "duration": 173,
    "start_time": "2024-07-14T07:48:25.259Z"
   },
   {
    "duration": 294,
    "start_time": "2024-07-14T07:48:25.433Z"
   },
   {
    "duration": 246,
    "start_time": "2024-07-14T07:48:25.729Z"
   },
   {
    "duration": 19,
    "start_time": "2024-07-14T07:48:25.982Z"
   },
   {
    "duration": 20,
    "start_time": "2024-07-14T07:48:26.003Z"
   },
   {
    "duration": 15,
    "start_time": "2024-07-14T07:48:26.024Z"
   },
   {
    "duration": 43,
    "start_time": "2024-07-14T07:48:26.040Z"
   },
   {
    "duration": 255,
    "start_time": "2024-07-14T07:48:26.085Z"
   },
   {
    "duration": 317,
    "start_time": "2024-07-14T07:48:26.342Z"
   },
   {
    "duration": 22,
    "start_time": "2024-07-14T07:48:26.661Z"
   },
   {
    "duration": 240,
    "start_time": "2024-07-14T07:48:26.684Z"
   },
   {
    "duration": 263,
    "start_time": "2024-07-14T07:48:26.926Z"
   },
   {
    "duration": 46,
    "start_time": "2024-07-14T07:48:27.191Z"
   },
   {
    "duration": 11,
    "start_time": "2024-07-14T07:48:27.239Z"
   },
   {
    "duration": 35,
    "start_time": "2024-07-14T07:48:27.251Z"
   },
   {
    "duration": 5,
    "start_time": "2024-07-14T07:48:27.288Z"
   },
   {
    "duration": 15,
    "start_time": "2024-07-14T07:48:27.294Z"
   },
   {
    "duration": 6,
    "start_time": "2024-07-14T07:48:27.310Z"
   },
   {
    "duration": 9,
    "start_time": "2024-07-14T07:48:27.318Z"
   },
   {
    "duration": 1261,
    "start_time": "2024-07-14T11:29:36.958Z"
   },
   {
    "duration": 366,
    "start_time": "2024-07-14T11:29:38.221Z"
   },
   {
    "duration": 12,
    "start_time": "2024-07-14T11:29:38.589Z"
   },
   {
    "duration": 12,
    "start_time": "2024-07-14T11:29:38.602Z"
   },
   {
    "duration": 6,
    "start_time": "2024-07-14T11:29:38.615Z"
   },
   {
    "duration": 5,
    "start_time": "2024-07-14T11:29:38.622Z"
   },
   {
    "duration": 4,
    "start_time": "2024-07-14T11:29:38.629Z"
   },
   {
    "duration": 5,
    "start_time": "2024-07-14T11:29:38.634Z"
   },
   {
    "duration": 7,
    "start_time": "2024-07-14T11:29:38.641Z"
   },
   {
    "duration": 12,
    "start_time": "2024-07-14T11:29:38.682Z"
   },
   {
    "duration": 16,
    "start_time": "2024-07-14T11:29:38.695Z"
   },
   {
    "duration": 9,
    "start_time": "2024-07-14T11:29:38.712Z"
   },
   {
    "duration": 7,
    "start_time": "2024-07-14T11:29:58.289Z"
   },
   {
    "duration": 7,
    "start_time": "2024-07-14T11:31:05.062Z"
   },
   {
    "duration": 3,
    "start_time": "2024-07-14T11:47:30.330Z"
   },
   {
    "duration": 113,
    "start_time": "2024-07-14T11:47:30.335Z"
   },
   {
    "duration": 8,
    "start_time": "2024-07-14T11:47:30.450Z"
   },
   {
    "duration": 67,
    "start_time": "2024-07-14T11:47:30.459Z"
   },
   {
    "duration": 57,
    "start_time": "2024-07-14T11:47:30.527Z"
   },
   {
    "duration": 57,
    "start_time": "2024-07-14T11:47:30.586Z"
   },
   {
    "duration": 34,
    "start_time": "2024-07-14T11:47:30.644Z"
   },
   {
    "duration": 45,
    "start_time": "2024-07-14T11:47:30.679Z"
   },
   {
    "duration": 45,
    "start_time": "2024-07-14T11:47:30.726Z"
   },
   {
    "duration": 40,
    "start_time": "2024-07-14T11:47:30.773Z"
   },
   {
    "duration": 26,
    "start_time": "2024-07-14T11:47:30.815Z"
   },
   {
    "duration": 37,
    "start_time": "2024-07-14T11:47:30.843Z"
   },
   {
    "duration": 34,
    "start_time": "2024-07-14T11:47:30.882Z"
   },
   {
    "duration": 64,
    "start_time": "2024-07-14T11:47:30.918Z"
   },
   {
    "duration": 59,
    "start_time": "2024-07-14T11:47:30.983Z"
   },
   {
    "duration": 79,
    "start_time": "2024-07-14T11:47:31.043Z"
   },
   {
    "duration": 77,
    "start_time": "2024-07-14T11:47:31.124Z"
   },
   {
    "duration": 66,
    "start_time": "2024-07-14T11:47:31.203Z"
   },
   {
    "duration": 175,
    "start_time": "2024-07-14T11:47:31.270Z"
   },
   {
    "duration": 85,
    "start_time": "2024-07-14T11:47:31.447Z"
   },
   {
    "duration": 4,
    "start_time": "2024-07-14T11:47:31.534Z"
   },
   {
    "duration": 160,
    "start_time": "2024-07-14T11:47:31.539Z"
   },
   {
    "duration": 261,
    "start_time": "2024-07-14T11:47:31.700Z"
   },
   {
    "duration": 195,
    "start_time": "2024-07-14T11:47:31.963Z"
   },
   {
    "duration": 25,
    "start_time": "2024-07-14T11:47:32.159Z"
   },
   {
    "duration": 16,
    "start_time": "2024-07-14T11:47:32.186Z"
   },
   {
    "duration": 12,
    "start_time": "2024-07-14T11:47:32.203Z"
   },
   {
    "duration": 14,
    "start_time": "2024-07-14T11:47:32.216Z"
   },
   {
    "duration": 294,
    "start_time": "2024-07-14T11:47:32.232Z"
   },
   {
    "duration": 225,
    "start_time": "2024-07-14T11:47:32.528Z"
   },
   {
    "duration": 14,
    "start_time": "2024-07-14T11:47:32.754Z"
   },
   {
    "duration": 216,
    "start_time": "2024-07-14T11:47:32.769Z"
   },
   {
    "duration": 232,
    "start_time": "2024-07-14T11:47:32.987Z"
   },
   {
    "duration": 91,
    "start_time": "2024-07-14T11:47:37.101Z"
   },
   {
    "duration": 44,
    "start_time": "2024-07-14T11:47:42.347Z"
   },
   {
    "duration": 20,
    "start_time": "2024-07-14T11:49:54.883Z"
   },
   {
    "duration": 42,
    "start_time": "2024-07-14T11:49:57.925Z"
   },
   {
    "duration": 3,
    "start_time": "2024-07-14T11:50:52.485Z"
   },
   {
    "duration": 72,
    "start_time": "2024-07-14T11:50:52.489Z"
   },
   {
    "duration": 8,
    "start_time": "2024-07-14T11:50:52.562Z"
   },
   {
    "duration": 17,
    "start_time": "2024-07-14T11:50:52.571Z"
   },
   {
    "duration": 13,
    "start_time": "2024-07-14T11:50:52.590Z"
   },
   {
    "duration": 12,
    "start_time": "2024-07-14T11:50:52.604Z"
   },
   {
    "duration": 31,
    "start_time": "2024-07-14T11:50:52.617Z"
   },
   {
    "duration": 6,
    "start_time": "2024-07-14T11:50:52.649Z"
   },
   {
    "duration": 9,
    "start_time": "2024-07-14T11:50:52.656Z"
   },
   {
    "duration": 12,
    "start_time": "2024-07-14T11:50:52.666Z"
   },
   {
    "duration": 13,
    "start_time": "2024-07-14T11:50:52.681Z"
   },
   {
    "duration": 15,
    "start_time": "2024-07-14T11:50:52.696Z"
   },
   {
    "duration": 11,
    "start_time": "2024-07-14T11:50:52.712Z"
   },
   {
    "duration": 13,
    "start_time": "2024-07-14T11:50:52.724Z"
   },
   {
    "duration": 6,
    "start_time": "2024-07-14T11:50:52.739Z"
   },
   {
    "duration": 13,
    "start_time": "2024-07-14T11:50:52.746Z"
   },
   {
    "duration": 12,
    "start_time": "2024-07-14T11:50:52.760Z"
   },
   {
    "duration": 9,
    "start_time": "2024-07-14T11:50:52.773Z"
   },
   {
    "duration": 150,
    "start_time": "2024-07-14T11:50:52.783Z"
   },
   {
    "duration": 87,
    "start_time": "2024-07-14T11:50:52.934Z"
   },
   {
    "duration": 4,
    "start_time": "2024-07-14T11:50:53.022Z"
   },
   {
    "duration": 157,
    "start_time": "2024-07-14T11:50:53.027Z"
   },
   {
    "duration": 336,
    "start_time": "2024-07-14T11:50:53.186Z"
   },
   {
    "duration": 196,
    "start_time": "2024-07-14T11:50:53.524Z"
   },
   {
    "duration": 17,
    "start_time": "2024-07-14T11:50:53.721Z"
   },
   {
    "duration": 17,
    "start_time": "2024-07-14T11:50:53.739Z"
   },
   {
    "duration": 34,
    "start_time": "2024-07-14T11:50:53.757Z"
   },
   {
    "duration": 14,
    "start_time": "2024-07-14T11:50:53.792Z"
   },
   {
    "duration": 231,
    "start_time": "2024-07-14T11:50:53.809Z"
   },
   {
    "duration": 221,
    "start_time": "2024-07-14T11:50:54.041Z"
   },
   {
    "duration": 22,
    "start_time": "2024-07-14T11:50:54.263Z"
   },
   {
    "duration": 203,
    "start_time": "2024-07-14T11:50:54.286Z"
   },
   {
    "duration": 223,
    "start_time": "2024-07-14T11:50:54.490Z"
   },
   {
    "duration": 14,
    "start_time": "2024-07-14T11:50:54.715Z"
   },
   {
    "duration": 12,
    "start_time": "2024-07-14T11:52:17.952Z"
   },
   {
    "duration": 6,
    "start_time": "2024-07-14T11:59:16.392Z"
   }
  ],
  "kernelspec": {
   "display_name": "Python 3 (ipykernel)",
   "language": "python",
   "name": "python3"
  },
  "language_info": {
   "codemirror_mode": {
    "name": "ipython",
    "version": 3
   },
   "file_extension": ".py",
   "mimetype": "text/x-python",
   "name": "python",
   "nbconvert_exporter": "python",
   "pygments_lexer": "ipython3",
   "version": "3.9.5"
  },
  "toc": {
   "base_numbering": 1,
   "nav_menu": {},
   "number_sections": true,
   "sideBar": true,
   "skip_h1_title": true,
   "title_cell": "Table of Contents",
   "title_sidebar": "Contents",
   "toc_cell": false,
   "toc_position": {},
   "toc_section_display": true,
   "toc_window_display": false
  }
 },
 "nbformat": 4,
 "nbformat_minor": 5
}
